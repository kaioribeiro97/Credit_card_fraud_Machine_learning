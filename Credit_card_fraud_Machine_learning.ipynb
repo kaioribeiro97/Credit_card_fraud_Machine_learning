{
  "cells": [
    {
      "cell_type": "markdown",
      "metadata": {
        "id": "view-in-github",
        "colab_type": "text"
      },
      "source": [
        "<a href=\"https://colab.research.google.com/github/kaioribeiro97/Credit_card_fraud_Machine_learning/blob/main/Credit_card_fraud_Machine_learning.ipynb\" target=\"_parent\"><img src=\"https://colab.research.google.com/assets/colab-badge.svg\" alt=\"Open In Colab\"/></a>"
      ]
    },
    {
      "cell_type": "markdown",
      "source": [
        "> # 1. Importando as bibliotecas\n",
        "\n",
        "\n",
        "\n"
      ],
      "metadata": {
        "id": "I92dPq3t_dfz"
      }
    },
    {
      "cell_type": "code",
      "source": [
        "\n",
        "import numpy as np\n",
        "import pandas as pd\n",
        "import seaborn as sns\n",
        "!pip install scikit-plot\n",
        "import scikitplot as skplt\n",
        "from google.colab import drive\n",
        "import matplotlib.pyplot as plt\n",
        "import plotly.express as px\n",
        "\n",
        "\n",
        "from sklearn.metrics import classification_report\n",
        "from sklearn.linear_model import LogisticRegression\n",
        "from sklearn.model_selection import train_test_split\n",
        "from imblearn.under_sampling import RandomUnderSampler\n",
        "from sklearn.metrics import roc_auc_score, roc_curve, accuracy_score\n",
        "from sklearn.metrics import accuracy_score, precision_score, confusion_matrix, recall_score, f1_score\n",
        "\n",
        "# configurar o estilo dos gráficos com o Seaborn\n",
        "sns.set_style('dark')\n",
        "\n",
        "\n",
        "#modelos de machine learning\n",
        "from sklearn import svm\n",
        "from sklearn.svm import SVC\n",
        "from xgboost import XGBClassifier\n",
        "from sklearn.model_selection import KFold\n",
        "from sklearn.tree import DecisionTreeClassifier\n",
        "from sklearn.model_selection import cross_val_score\n",
        "from sklearn.ensemble import RandomForestClassifier\n",
        "from sklearn.linear_model import LogisticRegression\n",
        "\n",
        "\n",
        "#optuna\n",
        "!pip install optuna \n",
        "import optuna\n",
        "import xgboost as xgb\n",
        "import sklearn.datasets"
      ],
      "metadata": {
        "colab": {
          "base_uri": "https://localhost:8080/"
        },
        "id": "zOIv9W4oCu1K",
        "outputId": "f15bfc3d-62be-4da7-c2a2-d826bc419456"
      },
      "execution_count": 1,
      "outputs": [
        {
          "output_type": "stream",
          "name": "stdout",
          "text": [
            "Looking in indexes: https://pypi.org/simple, https://us-python.pkg.dev/colab-wheels/public/simple/\n",
            "Requirement already satisfied: scikit-plot in /usr/local/lib/python3.8/dist-packages (0.3.7)\n",
            "Requirement already satisfied: scipy>=0.9 in /usr/local/lib/python3.8/dist-packages (from scikit-plot) (1.7.3)\n",
            "Requirement already satisfied: matplotlib>=1.4.0 in /usr/local/lib/python3.8/dist-packages (from scikit-plot) (3.2.2)\n",
            "Requirement already satisfied: joblib>=0.10 in /usr/local/lib/python3.8/dist-packages (from scikit-plot) (1.2.0)\n",
            "Requirement already satisfied: scikit-learn>=0.18 in /usr/local/lib/python3.8/dist-packages (from scikit-plot) (1.0.2)\n",
            "Requirement already satisfied: pyparsing!=2.0.4,!=2.1.2,!=2.1.6,>=2.0.1 in /usr/local/lib/python3.8/dist-packages (from matplotlib>=1.4.0->scikit-plot) (3.0.9)\n",
            "Requirement already satisfied: numpy>=1.11 in /usr/local/lib/python3.8/dist-packages (from matplotlib>=1.4.0->scikit-plot) (1.21.6)\n",
            "Requirement already satisfied: python-dateutil>=2.1 in /usr/local/lib/python3.8/dist-packages (from matplotlib>=1.4.0->scikit-plot) (2.8.2)\n",
            "Requirement already satisfied: kiwisolver>=1.0.1 in /usr/local/lib/python3.8/dist-packages (from matplotlib>=1.4.0->scikit-plot) (1.4.4)\n",
            "Requirement already satisfied: cycler>=0.10 in /usr/local/lib/python3.8/dist-packages (from matplotlib>=1.4.0->scikit-plot) (0.11.0)\n",
            "Requirement already satisfied: six>=1.5 in /usr/local/lib/python3.8/dist-packages (from python-dateutil>=2.1->matplotlib>=1.4.0->scikit-plot) (1.15.0)\n",
            "Requirement already satisfied: threadpoolctl>=2.0.0 in /usr/local/lib/python3.8/dist-packages (from scikit-learn>=0.18->scikit-plot) (3.1.0)\n",
            "Looking in indexes: https://pypi.org/simple, https://us-python.pkg.dev/colab-wheels/public/simple/\n",
            "Requirement already satisfied: optuna in /usr/local/lib/python3.8/dist-packages (3.0.5)\n",
            "Requirement already satisfied: sqlalchemy>=1.3.0 in /usr/local/lib/python3.8/dist-packages (from optuna) (1.4.45)\n",
            "Requirement already satisfied: alembic>=1.5.0 in /usr/local/lib/python3.8/dist-packages (from optuna) (1.9.0)\n",
            "Requirement already satisfied: tqdm in /usr/local/lib/python3.8/dist-packages (from optuna) (4.64.1)\n",
            "Requirement already satisfied: PyYAML in /usr/local/lib/python3.8/dist-packages (from optuna) (6.0)\n",
            "Requirement already satisfied: packaging>=20.0 in /usr/local/lib/python3.8/dist-packages (from optuna) (21.3)\n",
            "Requirement already satisfied: cliff in /usr/local/lib/python3.8/dist-packages (from optuna) (4.1.0)\n",
            "Requirement already satisfied: scipy<1.9.0,>=1.7.0 in /usr/local/lib/python3.8/dist-packages (from optuna) (1.7.3)\n",
            "Requirement already satisfied: importlib-metadata<5.0.0 in /usr/local/lib/python3.8/dist-packages (from optuna) (4.13.0)\n",
            "Requirement already satisfied: colorlog in /usr/local/lib/python3.8/dist-packages (from optuna) (6.7.0)\n",
            "Requirement already satisfied: numpy in /usr/local/lib/python3.8/dist-packages (from optuna) (1.21.6)\n",
            "Requirement already satisfied: cmaes>=0.8.2 in /usr/local/lib/python3.8/dist-packages (from optuna) (0.9.0)\n",
            "Requirement already satisfied: importlib-resources in /usr/local/lib/python3.8/dist-packages (from alembic>=1.5.0->optuna) (5.10.1)\n",
            "Requirement already satisfied: Mako in /usr/local/lib/python3.8/dist-packages (from alembic>=1.5.0->optuna) (1.2.4)\n",
            "Requirement already satisfied: zipp>=0.5 in /usr/local/lib/python3.8/dist-packages (from importlib-metadata<5.0.0->optuna) (3.11.0)\n",
            "Requirement already satisfied: pyparsing!=3.0.5,>=2.0.2 in /usr/local/lib/python3.8/dist-packages (from packaging>=20.0->optuna) (3.0.9)\n",
            "Requirement already satisfied: greenlet!=0.4.17 in /usr/local/lib/python3.8/dist-packages (from sqlalchemy>=1.3.0->optuna) (2.0.1)\n",
            "Requirement already satisfied: cmd2>=1.0.0 in /usr/local/lib/python3.8/dist-packages (from cliff->optuna) (2.4.2)\n",
            "Requirement already satisfied: stevedore>=2.0.1 in /usr/local/lib/python3.8/dist-packages (from cliff->optuna) (4.1.1)\n",
            "Requirement already satisfied: autopage>=0.4.0 in /usr/local/lib/python3.8/dist-packages (from cliff->optuna) (0.5.1)\n",
            "Requirement already satisfied: PrettyTable>=0.7.2 in /usr/local/lib/python3.8/dist-packages (from cliff->optuna) (3.5.0)\n",
            "Requirement already satisfied: pyperclip>=1.6 in /usr/local/lib/python3.8/dist-packages (from cmd2>=1.0.0->cliff->optuna) (1.8.2)\n",
            "Requirement already satisfied: attrs>=16.3.0 in /usr/local/lib/python3.8/dist-packages (from cmd2>=1.0.0->cliff->optuna) (22.1.0)\n",
            "Requirement already satisfied: wcwidth>=0.1.7 in /usr/local/lib/python3.8/dist-packages (from cmd2>=1.0.0->cliff->optuna) (0.2.5)\n",
            "Requirement already satisfied: pbr!=2.1.0,>=2.0.0 in /usr/local/lib/python3.8/dist-packages (from stevedore>=2.0.1->cliff->optuna) (5.11.0)\n",
            "Requirement already satisfied: MarkupSafe>=0.9.2 in /usr/local/lib/python3.8/dist-packages (from Mako->alembic>=1.5.0->optuna) (2.0.1)\n"
          ]
        }
      ]
    },
    {
      "cell_type": "markdown",
      "source": [
        "> # Coletando os dados do kaggle\n",
        "\n",
        "Utilizaremos uma api do kaggle para baixar o dataset direto para o drive"
      ],
      "metadata": {
        "id": "lqhXvs53dfAB"
      }
    },
    {
      "cell_type": "code",
      "source": [
        "! pip install kaggle"
      ],
      "metadata": {
        "colab": {
          "base_uri": "https://localhost:8080/"
        },
        "id": "WXlx6R60JH-V",
        "outputId": "2b48e6f3-7110-4ce4-f6e6-d82e5a90a9f0"
      },
      "execution_count": 2,
      "outputs": [
        {
          "output_type": "stream",
          "name": "stdout",
          "text": [
            "Looking in indexes: https://pypi.org/simple, https://us-python.pkg.dev/colab-wheels/public/simple/\n",
            "Requirement already satisfied: kaggle in /usr/local/lib/python3.8/dist-packages (1.5.12)\n",
            "Requirement already satisfied: python-dateutil in /usr/local/lib/python3.8/dist-packages (from kaggle) (2.8.2)\n",
            "Requirement already satisfied: requests in /usr/local/lib/python3.8/dist-packages (from kaggle) (2.23.0)\n",
            "Requirement already satisfied: python-slugify in /usr/local/lib/python3.8/dist-packages (from kaggle) (7.0.0)\n",
            "Requirement already satisfied: urllib3 in /usr/local/lib/python3.8/dist-packages (from kaggle) (1.24.3)\n",
            "Requirement already satisfied: certifi in /usr/local/lib/python3.8/dist-packages (from kaggle) (2022.12.7)\n",
            "Requirement already satisfied: tqdm in /usr/local/lib/python3.8/dist-packages (from kaggle) (4.64.1)\n",
            "Requirement already satisfied: six>=1.10 in /usr/local/lib/python3.8/dist-packages (from kaggle) (1.15.0)\n",
            "Requirement already satisfied: text-unidecode>=1.3 in /usr/local/lib/python3.8/dist-packages (from python-slugify->kaggle) (1.3)\n",
            "Requirement already satisfied: chardet<4,>=3.0.2 in /usr/local/lib/python3.8/dist-packages (from requests->kaggle) (3.0.4)\n",
            "Requirement already satisfied: idna<3,>=2.5 in /usr/local/lib/python3.8/dist-packages (from requests->kaggle) (2.10)\n"
          ]
        }
      ]
    },
    {
      "cell_type": "code",
      "source": [
        "! mkdir ~/.kaggle"
      ],
      "metadata": {
        "id": "h3xLARQIJLSC",
        "colab": {
          "base_uri": "https://localhost:8080/"
        },
        "outputId": "3d9ab4c1-df62-415a-90d9-52c919fe993b"
      },
      "execution_count": 3,
      "outputs": [
        {
          "output_type": "stream",
          "name": "stdout",
          "text": [
            "mkdir: cannot create directory ‘/root/.kaggle’: File exists\n"
          ]
        }
      ]
    },
    {
      "cell_type": "code",
      "source": [
        "drive.mount('/content/drive')\n",
        "\n",
        "!cp /content/drive/MyDrive/kaggle.json ~/.kaggle/kaggle.json"
      ],
      "metadata": {
        "colab": {
          "base_uri": "https://localhost:8080/"
        },
        "id": "vrKr7iCBJRKu",
        "outputId": "9a972039-1bda-4970-f954-84e96df072fb"
      },
      "execution_count": 4,
      "outputs": [
        {
          "output_type": "stream",
          "name": "stdout",
          "text": [
            "Drive already mounted at /content/drive; to attempt to forcibly remount, call drive.mount(\"/content/drive\", force_remount=True).\n"
          ]
        }
      ]
    },
    {
      "cell_type": "code",
      "source": [
        "! chmod 600 ~/.kaggle/kaggle.json"
      ],
      "metadata": {
        "id": "b2jIla5iJXer"
      },
      "execution_count": 5,
      "outputs": []
    },
    {
      "cell_type": "code",
      "source": [
        "! kaggle datasets download -d mlg-ulb/creditcardfraud"
      ],
      "metadata": {
        "colab": {
          "base_uri": "https://localhost:8080/"
        },
        "id": "PNaxDptpJX-A",
        "outputId": "2cd6c9e7-4416-4151-d63b-694937b31b3c"
      },
      "execution_count": 6,
      "outputs": [
        {
          "output_type": "stream",
          "name": "stdout",
          "text": [
            "creditcardfraud.zip: Skipping, found more recently modified local copy (use --force to force download)\n"
          ]
        }
      ]
    },
    {
      "cell_type": "code",
      "source": [
        "! unzip creditcardfraud.zip"
      ],
      "metadata": {
        "colab": {
          "base_uri": "https://localhost:8080/"
        },
        "id": "NhNTkn3OJaJ4",
        "outputId": "fbcf71f4-a7b8-48b8-9aab-3455d587c2be"
      },
      "execution_count": 7,
      "outputs": [
        {
          "output_type": "stream",
          "name": "stdout",
          "text": [
            "Archive:  creditcardfraud.zip\n",
            "replace creditcard.csv? [y]es, [n]o, [A]ll, [N]one, [r]ename: y\n",
            "  inflating: creditcard.csv          \n"
          ]
        }
      ]
    },
    {
      "cell_type": "code",
      "source": [
        "df = pd.read_csv('creditcard.csv')"
      ],
      "metadata": {
        "id": "uUBct8JAJcRp"
      },
      "execution_count": 8,
      "outputs": []
    },
    {
      "cell_type": "code",
      "execution_count": 9,
      "metadata": {
        "id": "n5pHXFe59gKN"
      },
      "outputs": [],
      "source": [
        "#@title\n",
        "# suprimir os warnings\n",
        "from warnings import simplefilter\n",
        "simplefilter(action='ignore', category=FutureWarning)\n",
        "\n",
        "!pip install -q scikit-plot"
      ]
    },
    {
      "cell_type": "markdown",
      "metadata": {
        "id": "DN6TYnhcAzYY"
      },
      "source": [
        "> # Preparando os dados"
      ]
    },
    {
      "cell_type": "code",
      "execution_count": 10,
      "metadata": {
        "colab": {
          "base_uri": "https://localhost:8080/",
          "height": 236
        },
        "id": "c84Kfi8VBAkY",
        "outputId": "8bbd7bcf-1ceb-4be9-9c9d-aca99be407a1"
      },
      "outputs": [
        {
          "output_type": "execute_result",
          "data": {
            "text/plain": [
              "   Time        V1        V2        V3        V4        V5        V6        V7  \\\n",
              "0   0.0 -1.359807 -0.072781  2.536347  1.378155 -0.338321  0.462388  0.239599   \n",
              "1   0.0  1.191857  0.266151  0.166480  0.448154  0.060018 -0.082361 -0.078803   \n",
              "2   1.0 -1.358354 -1.340163  1.773209  0.379780 -0.503198  1.800499  0.791461   \n",
              "3   1.0 -0.966272 -0.185226  1.792993 -0.863291 -0.010309  1.247203  0.237609   \n",
              "4   2.0 -1.158233  0.877737  1.548718  0.403034 -0.407193  0.095921  0.592941   \n",
              "\n",
              "         V8        V9  ...       V21       V22       V23       V24       V25  \\\n",
              "0  0.098698  0.363787  ... -0.018307  0.277838 -0.110474  0.066928  0.128539   \n",
              "1  0.085102 -0.255425  ... -0.225775 -0.638672  0.101288 -0.339846  0.167170   \n",
              "2  0.247676 -1.514654  ...  0.247998  0.771679  0.909412 -0.689281 -0.327642   \n",
              "3  0.377436 -1.387024  ... -0.108300  0.005274 -0.190321 -1.175575  0.647376   \n",
              "4 -0.270533  0.817739  ... -0.009431  0.798278 -0.137458  0.141267 -0.206010   \n",
              "\n",
              "        V26       V27       V28  Amount  Class  \n",
              "0 -0.189115  0.133558 -0.021053  149.62      0  \n",
              "1  0.125895 -0.008983  0.014724    2.69      0  \n",
              "2 -0.139097 -0.055353 -0.059752  378.66      0  \n",
              "3 -0.221929  0.062723  0.061458  123.50      0  \n",
              "4  0.502292  0.219422  0.215153   69.99      0  \n",
              "\n",
              "[5 rows x 31 columns]"
            ],
            "text/html": [
              "\n",
              "  <div id=\"df-1bb80d00-3055-4042-af5c-c5f8f5497999\">\n",
              "    <div class=\"colab-df-container\">\n",
              "      <div>\n",
              "<style scoped>\n",
              "    .dataframe tbody tr th:only-of-type {\n",
              "        vertical-align: middle;\n",
              "    }\n",
              "\n",
              "    .dataframe tbody tr th {\n",
              "        vertical-align: top;\n",
              "    }\n",
              "\n",
              "    .dataframe thead th {\n",
              "        text-align: right;\n",
              "    }\n",
              "</style>\n",
              "<table border=\"1\" class=\"dataframe\">\n",
              "  <thead>\n",
              "    <tr style=\"text-align: right;\">\n",
              "      <th></th>\n",
              "      <th>Time</th>\n",
              "      <th>V1</th>\n",
              "      <th>V2</th>\n",
              "      <th>V3</th>\n",
              "      <th>V4</th>\n",
              "      <th>V5</th>\n",
              "      <th>V6</th>\n",
              "      <th>V7</th>\n",
              "      <th>V8</th>\n",
              "      <th>V9</th>\n",
              "      <th>...</th>\n",
              "      <th>V21</th>\n",
              "      <th>V22</th>\n",
              "      <th>V23</th>\n",
              "      <th>V24</th>\n",
              "      <th>V25</th>\n",
              "      <th>V26</th>\n",
              "      <th>V27</th>\n",
              "      <th>V28</th>\n",
              "      <th>Amount</th>\n",
              "      <th>Class</th>\n",
              "    </tr>\n",
              "  </thead>\n",
              "  <tbody>\n",
              "    <tr>\n",
              "      <th>0</th>\n",
              "      <td>0.0</td>\n",
              "      <td>-1.359807</td>\n",
              "      <td>-0.072781</td>\n",
              "      <td>2.536347</td>\n",
              "      <td>1.378155</td>\n",
              "      <td>-0.338321</td>\n",
              "      <td>0.462388</td>\n",
              "      <td>0.239599</td>\n",
              "      <td>0.098698</td>\n",
              "      <td>0.363787</td>\n",
              "      <td>...</td>\n",
              "      <td>-0.018307</td>\n",
              "      <td>0.277838</td>\n",
              "      <td>-0.110474</td>\n",
              "      <td>0.066928</td>\n",
              "      <td>0.128539</td>\n",
              "      <td>-0.189115</td>\n",
              "      <td>0.133558</td>\n",
              "      <td>-0.021053</td>\n",
              "      <td>149.62</td>\n",
              "      <td>0</td>\n",
              "    </tr>\n",
              "    <tr>\n",
              "      <th>1</th>\n",
              "      <td>0.0</td>\n",
              "      <td>1.191857</td>\n",
              "      <td>0.266151</td>\n",
              "      <td>0.166480</td>\n",
              "      <td>0.448154</td>\n",
              "      <td>0.060018</td>\n",
              "      <td>-0.082361</td>\n",
              "      <td>-0.078803</td>\n",
              "      <td>0.085102</td>\n",
              "      <td>-0.255425</td>\n",
              "      <td>...</td>\n",
              "      <td>-0.225775</td>\n",
              "      <td>-0.638672</td>\n",
              "      <td>0.101288</td>\n",
              "      <td>-0.339846</td>\n",
              "      <td>0.167170</td>\n",
              "      <td>0.125895</td>\n",
              "      <td>-0.008983</td>\n",
              "      <td>0.014724</td>\n",
              "      <td>2.69</td>\n",
              "      <td>0</td>\n",
              "    </tr>\n",
              "    <tr>\n",
              "      <th>2</th>\n",
              "      <td>1.0</td>\n",
              "      <td>-1.358354</td>\n",
              "      <td>-1.340163</td>\n",
              "      <td>1.773209</td>\n",
              "      <td>0.379780</td>\n",
              "      <td>-0.503198</td>\n",
              "      <td>1.800499</td>\n",
              "      <td>0.791461</td>\n",
              "      <td>0.247676</td>\n",
              "      <td>-1.514654</td>\n",
              "      <td>...</td>\n",
              "      <td>0.247998</td>\n",
              "      <td>0.771679</td>\n",
              "      <td>0.909412</td>\n",
              "      <td>-0.689281</td>\n",
              "      <td>-0.327642</td>\n",
              "      <td>-0.139097</td>\n",
              "      <td>-0.055353</td>\n",
              "      <td>-0.059752</td>\n",
              "      <td>378.66</td>\n",
              "      <td>0</td>\n",
              "    </tr>\n",
              "    <tr>\n",
              "      <th>3</th>\n",
              "      <td>1.0</td>\n",
              "      <td>-0.966272</td>\n",
              "      <td>-0.185226</td>\n",
              "      <td>1.792993</td>\n",
              "      <td>-0.863291</td>\n",
              "      <td>-0.010309</td>\n",
              "      <td>1.247203</td>\n",
              "      <td>0.237609</td>\n",
              "      <td>0.377436</td>\n",
              "      <td>-1.387024</td>\n",
              "      <td>...</td>\n",
              "      <td>-0.108300</td>\n",
              "      <td>0.005274</td>\n",
              "      <td>-0.190321</td>\n",
              "      <td>-1.175575</td>\n",
              "      <td>0.647376</td>\n",
              "      <td>-0.221929</td>\n",
              "      <td>0.062723</td>\n",
              "      <td>0.061458</td>\n",
              "      <td>123.50</td>\n",
              "      <td>0</td>\n",
              "    </tr>\n",
              "    <tr>\n",
              "      <th>4</th>\n",
              "      <td>2.0</td>\n",
              "      <td>-1.158233</td>\n",
              "      <td>0.877737</td>\n",
              "      <td>1.548718</td>\n",
              "      <td>0.403034</td>\n",
              "      <td>-0.407193</td>\n",
              "      <td>0.095921</td>\n",
              "      <td>0.592941</td>\n",
              "      <td>-0.270533</td>\n",
              "      <td>0.817739</td>\n",
              "      <td>...</td>\n",
              "      <td>-0.009431</td>\n",
              "      <td>0.798278</td>\n",
              "      <td>-0.137458</td>\n",
              "      <td>0.141267</td>\n",
              "      <td>-0.206010</td>\n",
              "      <td>0.502292</td>\n",
              "      <td>0.219422</td>\n",
              "      <td>0.215153</td>\n",
              "      <td>69.99</td>\n",
              "      <td>0</td>\n",
              "    </tr>\n",
              "  </tbody>\n",
              "</table>\n",
              "<p>5 rows × 31 columns</p>\n",
              "</div>\n",
              "      <button class=\"colab-df-convert\" onclick=\"convertToInteractive('df-1bb80d00-3055-4042-af5c-c5f8f5497999')\"\n",
              "              title=\"Convert this dataframe to an interactive table.\"\n",
              "              style=\"display:none;\">\n",
              "        \n",
              "  <svg xmlns=\"http://www.w3.org/2000/svg\" height=\"24px\"viewBox=\"0 0 24 24\"\n",
              "       width=\"24px\">\n",
              "    <path d=\"M0 0h24v24H0V0z\" fill=\"none\"/>\n",
              "    <path d=\"M18.56 5.44l.94 2.06.94-2.06 2.06-.94-2.06-.94-.94-2.06-.94 2.06-2.06.94zm-11 1L8.5 8.5l.94-2.06 2.06-.94-2.06-.94L8.5 2.5l-.94 2.06-2.06.94zm10 10l.94 2.06.94-2.06 2.06-.94-2.06-.94-.94-2.06-.94 2.06-2.06.94z\"/><path d=\"M17.41 7.96l-1.37-1.37c-.4-.4-.92-.59-1.43-.59-.52 0-1.04.2-1.43.59L10.3 9.45l-7.72 7.72c-.78.78-.78 2.05 0 2.83L4 21.41c.39.39.9.59 1.41.59.51 0 1.02-.2 1.41-.59l7.78-7.78 2.81-2.81c.8-.78.8-2.07 0-2.86zM5.41 20L4 18.59l7.72-7.72 1.47 1.35L5.41 20z\"/>\n",
              "  </svg>\n",
              "      </button>\n",
              "      \n",
              "  <style>\n",
              "    .colab-df-container {\n",
              "      display:flex;\n",
              "      flex-wrap:wrap;\n",
              "      gap: 12px;\n",
              "    }\n",
              "\n",
              "    .colab-df-convert {\n",
              "      background-color: #E8F0FE;\n",
              "      border: none;\n",
              "      border-radius: 50%;\n",
              "      cursor: pointer;\n",
              "      display: none;\n",
              "      fill: #1967D2;\n",
              "      height: 32px;\n",
              "      padding: 0 0 0 0;\n",
              "      width: 32px;\n",
              "    }\n",
              "\n",
              "    .colab-df-convert:hover {\n",
              "      background-color: #E2EBFA;\n",
              "      box-shadow: 0px 1px 2px rgba(60, 64, 67, 0.3), 0px 1px 3px 1px rgba(60, 64, 67, 0.15);\n",
              "      fill: #174EA6;\n",
              "    }\n",
              "\n",
              "    [theme=dark] .colab-df-convert {\n",
              "      background-color: #3B4455;\n",
              "      fill: #D2E3FC;\n",
              "    }\n",
              "\n",
              "    [theme=dark] .colab-df-convert:hover {\n",
              "      background-color: #434B5C;\n",
              "      box-shadow: 0px 1px 3px 1px rgba(0, 0, 0, 0.15);\n",
              "      filter: drop-shadow(0px 1px 2px rgba(0, 0, 0, 0.3));\n",
              "      fill: #FFFFFF;\n",
              "    }\n",
              "  </style>\n",
              "\n",
              "      <script>\n",
              "        const buttonEl =\n",
              "          document.querySelector('#df-1bb80d00-3055-4042-af5c-c5f8f5497999 button.colab-df-convert');\n",
              "        buttonEl.style.display =\n",
              "          google.colab.kernel.accessAllowed ? 'block' : 'none';\n",
              "\n",
              "        async function convertToInteractive(key) {\n",
              "          const element = document.querySelector('#df-1bb80d00-3055-4042-af5c-c5f8f5497999');\n",
              "          const dataTable =\n",
              "            await google.colab.kernel.invokeFunction('convertToInteractive',\n",
              "                                                     [key], {});\n",
              "          if (!dataTable) return;\n",
              "\n",
              "          const docLinkHtml = 'Like what you see? Visit the ' +\n",
              "            '<a target=\"_blank\" href=https://colab.research.google.com/notebooks/data_table.ipynb>data table notebook</a>'\n",
              "            + ' to learn more about interactive tables.';\n",
              "          element.innerHTML = '';\n",
              "          dataTable['output_type'] = 'display_data';\n",
              "          await google.colab.output.renderOutput(dataTable, element);\n",
              "          const docLink = document.createElement('div');\n",
              "          docLink.innerHTML = docLinkHtml;\n",
              "          element.appendChild(docLink);\n",
              "        }\n",
              "      </script>\n",
              "    </div>\n",
              "  </div>\n",
              "  "
            ]
          },
          "metadata": {},
          "execution_count": 10
        }
      ],
      "source": [
        "# importar os dados para um dataframe\n",
        "df.head()"
      ]
    },
    {
      "cell_type": "code",
      "execution_count": 11,
      "metadata": {
        "colab": {
          "base_uri": "https://localhost:8080/"
        },
        "id": "fwP1jS_-QPV3",
        "outputId": "dc0cb0b1-f130-4582-f493-d7bc014e9646"
      },
      "outputs": [
        {
          "output_type": "stream",
          "name": "stdout",
          "text": [
            "<class 'pandas.core.frame.DataFrame'>\n",
            "RangeIndex: 284807 entries, 0 to 284806\n",
            "Data columns (total 31 columns):\n",
            " #   Column  Non-Null Count   Dtype  \n",
            "---  ------  --------------   -----  \n",
            " 0   Time    284807 non-null  float64\n",
            " 1   V1      284807 non-null  float64\n",
            " 2   V2      284807 non-null  float64\n",
            " 3   V3      284807 non-null  float64\n",
            " 4   V4      284807 non-null  float64\n",
            " 5   V5      284807 non-null  float64\n",
            " 6   V6      284807 non-null  float64\n",
            " 7   V7      284807 non-null  float64\n",
            " 8   V8      284807 non-null  float64\n",
            " 9   V9      284807 non-null  float64\n",
            " 10  V10     284807 non-null  float64\n",
            " 11  V11     284807 non-null  float64\n",
            " 12  V12     284807 non-null  float64\n",
            " 13  V13     284807 non-null  float64\n",
            " 14  V14     284807 non-null  float64\n",
            " 15  V15     284807 non-null  float64\n",
            " 16  V16     284807 non-null  float64\n",
            " 17  V17     284807 non-null  float64\n",
            " 18  V18     284807 non-null  float64\n",
            " 19  V19     284807 non-null  float64\n",
            " 20  V20     284807 non-null  float64\n",
            " 21  V21     284807 non-null  float64\n",
            " 22  V22     284807 non-null  float64\n",
            " 23  V23     284807 non-null  float64\n",
            " 24  V24     284807 non-null  float64\n",
            " 25  V25     284807 non-null  float64\n",
            " 26  V26     284807 non-null  float64\n",
            " 27  V27     284807 non-null  float64\n",
            " 28  V28     284807 non-null  float64\n",
            " 29  Amount  284807 non-null  float64\n",
            " 30  Class   284807 non-null  int64  \n",
            "dtypes: float64(30), int64(1)\n",
            "memory usage: 67.4 MB\n"
          ]
        }
      ],
      "source": [
        "df.info()"
      ]
    },
    {
      "cell_type": "code",
      "execution_count": 12,
      "metadata": {
        "colab": {
          "base_uri": "https://localhost:8080/",
          "height": 560
        },
        "id": "hXISDCkABazw",
        "outputId": "fdf7f091-d2f0-45dd-ac95-1bd5de9e789b"
      },
      "outputs": [
        {
          "output_type": "stream",
          "name": "stdout",
          "text": [
            "0    284315\n",
            "1       492\n",
            "Name: Class, dtype: int64\n",
            "\n",
            "Fraudes representam 0.17% do dataset.\n",
            "\n",
            "\n",
            "Transações normais representam 99.83% do dataset.\n",
            "\n"
          ]
        },
        {
          "output_type": "display_data",
          "data": {
            "text/plain": [
              "<Figure size 1296x432 with 2 Axes>"
            ],
            "image/png": "[encoded data removed]"
          },
          "metadata": {}
        }
      ],
      "source": [
        "\n",
        "# ver o balanceamento das classes\n",
        "print(df.Class.value_counts())\n",
        "print(\"\\nFraudes representam {:.2f}% do dataset.\\n\".format((df[df.Class == 1].shape[0] / df.shape[0]) * 100))\n",
        "print(\"\\nTransações normais representam {:.2f}% do dataset.\\n\".format((df[df.Class == 0].shape[0] / df.shape[0]) * 100))\n",
        "# plotar gráfico de barras para as Classes.\n",
        "f,ax=plt.subplots(1,2,figsize=(18,6))\n",
        "df['Class'].value_counts().plot.pie(explode=[0,0.1],autopct='%1.2f%%',ax=ax[0],shadow=True)\n",
        "ax[0].set_title('distribution')\n",
        "ax[0].set_ylabel('')\n",
        "sns.countplot('Class',data=df,ax=ax[1])\n",
        "plt.xticks([0,1],['Não-Fraude','Fraude'])\n",
        "ax[1].set_title('Class')\n",
        "plt.show()\n",
        "\n"
      ]
    },
    {
      "cell_type": "markdown",
      "source": [
        "vamos treinar o modelo com os dados desbalanceados para ver oque isso pode causar."
      ],
      "metadata": {
        "id": "S7PbMJ4I8V7h"
      }
    },
    {
      "cell_type": "code",
      "execution_count": 13,
      "metadata": {
        "id": "5fgPUpbAQDrh"
      },
      "outputs": [],
      "source": [
        "# separar variáveis entre X e y\n",
        "X = df.drop('Class', axis=1)\n",
        "y = df['Class']\n",
        "# dividir o dataset entre treino e teste\n",
        "train_X, test_X, train_y, test_y = train_test_split(X, y, stratify=y, shuffle=True)"
      ]
    },
    {
      "cell_type": "code",
      "source": [
        "model = LogisticRegression()\n",
        "model.fit(train_X, train_y)\n",
        "# fazer as previsões em cima dos dados de teste\n",
        "pred_y = model.predict(test_X)\n",
        "proba_y = model.predict_proba(test_X)\n",
        "# plotar a matrix de confusão\n",
        "skplt.metrics.plot_confusion_matrix(test_y, pred_y, normalize=True)\n",
        "# imprimir relatório de classificação\n",
        "print(\"Relatório de Classificação:\\n\", classification_report(test_y, pred_y, digits=4))\n",
        "# imprimir a acurácia do modelo\n",
        "print(\"Acurácia: {:.4f}\\n\".format(accuracy_score(test_y, pred_y)))\n",
        "# imprimir a área sob a curva\n",
        "print(\"AUC: {:.4f}\\n\".format(roc_auc_score(test_y, pred_y)))"
      ],
      "metadata": {
        "colab": {
          "base_uri": "https://localhost:8080/",
          "height": 677
        },
        "id": "UV7s5ZNA8VhP",
        "outputId": "fbd745cb-dae3-488b-bdb6-53d87cd2ff77"
      },
      "execution_count": 14,
      "outputs": [
        {
          "output_type": "stream",
          "name": "stderr",
          "text": [
            "/usr/local/lib/python3.8/dist-packages/sklearn/linear_model/_logistic.py:814: ConvergenceWarning: lbfgs failed to converge (status=1):\n",
            "STOP: TOTAL NO. of ITERATIONS REACHED LIMIT.\n",
            "\n",
            "Increase the number of iterations (max_iter) or scale the data as shown in:\n",
            "    https://scikit-learn.org/stable/modules/preprocessing.html\n",
            "Please also refer to the documentation for alternative solver options:\n",
            "    https://scikit-learn.org/stable/modules/linear_model.html#logistic-regression\n",
            "  n_iter_i = _check_optimize_result(\n"
          ]
        },
        {
          "output_type": "stream",
          "name": "stdout",
          "text": [
            "Relatório de Classificação:\n",
            "               precision    recall  f1-score   support\n",
            "\n",
            "           0     0.9995    0.9996    0.9995     71079\n",
            "           1     0.7611    0.6992    0.7288       123\n",
            "\n",
            "    accuracy                         0.9991     71202\n",
            "   macro avg     0.8803    0.8494    0.8642     71202\n",
            "weighted avg     0.9991    0.9991    0.9991     71202\n",
            "\n",
            "Acurácia: 0.9991\n",
            "\n",
            "AUC: 0.8494\n",
            "\n"
          ]
        },
        {
          "output_type": "display_data",
          "data": {
            "text/plain": [
              "<Figure size 432x288 with 2 Axes>"
            ],
            "image/png": "[encoded data removed]"
          },
          "metadata": {}
        }
      ]
    },
    {
      "cell_type": "markdown",
      "metadata": {
        "id": "M1dqXbpxP4-a"
      },
      "source": [
        "Nossos dados estão desbalanceados, para isso precisamos balancea-lo, Para balancear os dados, podemos utilizar duas tecnicas:\n",
        "\n",
        "*   **Over-sampling**: cria novas observações da classe minoritária a partir das informações contidas nos dados originais. Essa geração de novas entradas pode ser feita aleatoriamente com o auxílio de técnicas de clustering ou sinteticamente.\n",
        "\n",
        "* **Under-sampling**:  reduz o desbalanceamento do dataset focando na classe majoritária. Ou seja, elimina aleatoriamente entradas da classe com maior número de ocorrências.\n",
        "\n",
        "Neste *dataset* utilizaremos a tecnica **Under-sampling**."
      ]
    },
    {
      "cell_type": "code",
      "execution_count": 15,
      "metadata": {
        "id": "LBgBRwQLRkFL"
      },
      "outputs": [],
      "source": [
        "# create an under-sampled dataset\n",
        "df = df.sample(frac=1)\n",
        "\n",
        "df_fraude = df[df['Class'] == 1]\n",
        "df__no_fraude = df[df['Class'] == 0][:492]\n",
        "\n",
        "new_df = pd.concat([df_fraude, df__no_fraude])\n",
        "new_df = new_df.sample(frac=1)"
      ]
    },
    {
      "cell_type": "code",
      "execution_count": 16,
      "metadata": {
        "colab": {
          "base_uri": "https://localhost:8080/",
          "height": 286
        },
        "id": "PnZO-t46S6WI",
        "outputId": "dff7dbbf-5cba-4bb4-c7fa-116bf8da1052"
      },
      "outputs": [
        {
          "output_type": "display_data",
          "data": {
            "text/plain": [
              "<Figure size 432x288 with 2 Axes>"
            ],
            "image/png": "[encoded data removed]"
          },
          "metadata": {}
        }
      ],
      "source": [
        "ax = sns.heatmap(new_df.corr(), cmap='OrRd')"
      ]
    },
    {
      "cell_type": "markdown",
      "metadata": {
        "id": "GPtKikpuR-jI"
      },
      "source": [
        "A partide de agora nossas variaveis x e y são X_us e y_us pois os dados estarão balanceados"
      ]
    },
    {
      "cell_type": "code",
      "execution_count": 17,
      "metadata": {
        "id": "y5r_fjLNRwM_"
      },
      "outputs": [],
      "source": [
        "X_us = new_df.drop('Class', axis=1)\n",
        "y_us = new_df['Class']"
      ]
    },
    {
      "cell_type": "code",
      "execution_count": 18,
      "metadata": {
        "colab": {
          "base_uri": "https://localhost:8080/",
          "height": 335
        },
        "id": "Dtz1NOmISNVh",
        "outputId": "eec51502-76ab-4361-d3a2-24cb9a29571b"
      },
      "outputs": [
        {
          "output_type": "stream",
          "name": "stdout",
          "text": [
            "Balanceamento da classe\n",
            "1    492\n",
            "0    492\n",
            "Name: Class, dtype: int64\n"
          ]
        },
        {
          "output_type": "execute_result",
          "data": {
            "text/plain": [
              "<matplotlib.axes._subplots.AxesSubplot at 0x7f6a23b16580>"
            ]
          },
          "metadata": {},
          "execution_count": 18
        },
        {
          "output_type": "display_data",
          "data": {
            "text/plain": [
              "<Figure size 432x288 with 1 Axes>"
            ],
            "image/png": "[encoded data removed]"
          },
          "metadata": {}
        }
      ],
      "source": [
        "# ver o balanceamento das classes\n",
        "print('Balanceamento da classe')\n",
        "print(pd.Series(y_us).value_counts())\n",
        "\n",
        "# plotar a nova distribuição de classes\n",
        "y_us.value_counts().plot.pie(autopct='%.2f')"
      ]
    },
    {
      "cell_type": "markdown",
      "source": [
        "> # modelos preditivos\n",
        "\n",
        "Será utilizado 5 modelos preditivos:\n",
        "\n",
        "\n",
        "*   DecisioTreeClassifier\n",
        "*   random_forest\n",
        "*   RegressionLinear\n",
        "*   Supor Vector Machine\n",
        "*   XGBoost"
      ],
      "metadata": {
        "id": "EJUIqdzLNH6p"
      }
    },
    {
      "cell_type": "code",
      "source": [
        "(x_train,x_test,y_train,y_test) = train_test_split(X_us,y_us, test_size=0.2, random_state=42)\n",
        "print(\"x_train size: \", x_train.shape)\n",
        "print(\"x_ test size: \", x_test.shape)"
      ],
      "metadata": {
        "colab": {
          "base_uri": "https://localhost:8080/"
        },
        "id": "nNFoCnfEAAsT",
        "outputId": "cf066e4e-f99b-4a38-8724-9a22a7d9712f"
      },
      "execution_count": 19,
      "outputs": [
        {
          "output_type": "stream",
          "name": "stdout",
          "text": [
            "x_train size:  (787, 30)\n",
            "x_ test size:  (197, 30)\n"
          ]
        }
      ]
    },
    {
      "cell_type": "markdown",
      "metadata": {
        "id": "rkgquTK3ZuzW"
      },
      "source": [
        "> ## RegressionLinear\n",
        "\n"
      ]
    },
    {
      "cell_type": "code",
      "execution_count": 20,
      "metadata": {
        "id": "rj3GEHAXafWb",
        "colab": {
          "base_uri": "https://localhost:8080/"
        },
        "outputId": "2ddc56e3-edde-4e62-993d-f410542b8053"
      },
      "outputs": [
        {
          "output_type": "stream",
          "name": "stderr",
          "text": [
            "/usr/local/lib/python3.8/dist-packages/sklearn/linear_model/_logistic.py:814: ConvergenceWarning: lbfgs failed to converge (status=1):\n",
            "STOP: TOTAL NO. of ITERATIONS REACHED LIMIT.\n",
            "\n",
            "Increase the number of iterations (max_iter) or scale the data as shown in:\n",
            "    https://scikit-learn.org/stable/modules/preprocessing.html\n",
            "Please also refer to the documentation for alternative solver options:\n",
            "    https://scikit-learn.org/stable/modules/linear_model.html#logistic-regression\n",
            "  n_iter_i = _check_optimize_result(\n"
          ]
        }
      ],
      "source": [
        "model = LogisticRegression()\n",
        "model.fit(x_train, y_train)\n",
        "y_pred = model.predict(x_test)"
      ]
    },
    {
      "cell_type": "code",
      "source": [
        "# plotar a matrix de confusão\n",
        "skplt.metrics.plot_confusion_matrix(y_test, y_pred, normalize=True)\n",
        "# imprimir relatório de classificação\n",
        "print(\"Relatório de Classificação:\\n\", classification_report(y_test, y_pred, digits=4))\n",
        "# imprimir a acurácia do modelo\n",
        "print(\"Acurácia: {:.4f}\\n\".format(accuracy_score(y_test, y_pred)))\n",
        "# imprimir a área sob a curva\n",
        "print(\"AUC: {:.4f}\\n\".format(roc_auc_score(y_test, y_pred)))"
      ],
      "metadata": {
        "colab": {
          "base_uri": "https://localhost:8080/",
          "height": 538
        },
        "id": "TIG1tkoEAIBF",
        "outputId": "8df273f0-c895-4277-deef-6a3f46a4ee1c"
      },
      "execution_count": 21,
      "outputs": [
        {
          "output_type": "stream",
          "name": "stdout",
          "text": [
            "Relatório de Classificação:\n",
            "               precision    recall  f1-score   support\n",
            "\n",
            "           0     0.9592    0.9495    0.9543        99\n",
            "           1     0.9495    0.9592    0.9543        98\n",
            "\n",
            "    accuracy                         0.9543       197\n",
            "   macro avg     0.9543    0.9543    0.9543       197\n",
            "weighted avg     0.9544    0.9543    0.9543       197\n",
            "\n",
            "Acurácia: 0.9543\n",
            "\n",
            "AUC: 0.9543\n",
            "\n"
          ]
        },
        {
          "output_type": "display_data",
          "data": {
            "text/plain": [
              "<Figure size 432x288 with 2 Axes>"
            ],
            "image/png": "[encoded data removed]"
          },
          "metadata": {}
        }
      ]
    },
    {
      "cell_type": "markdown",
      "source": [
        "A primeira coisa que podemos observar é que apesar da acuracia ter dados uma diminuida, as outras métricas como F1-score, Precision, recall e a areá sobre a curva(AUC) aumentaram."
      ],
      "metadata": {
        "id": "29L0pt2Z_3WT"
      }
    },
    {
      "cell_type": "markdown",
      "source": [
        "### Cross-validation"
      ],
      "metadata": {
        "id": "nkjn93YmNuzZ"
      }
    },
    {
      "cell_type": "code",
      "source": [
        "\n",
        "model = LogisticRegression()\n",
        "kfold_validation=KFold(10)\n",
        "results=cross_val_score(model,X_us,y_us,cv=kfold_validation)\n"
      ],
      "metadata": {
        "id": "it7tTwdkKH7S",
        "colab": {
          "base_uri": "https://localhost:8080/"
        },
        "outputId": "bbad9bfe-b09e-4b0d-b6a9-ff70669c3a5f"
      },
      "execution_count": 22,
      "outputs": [
        {
          "output_type": "stream",
          "name": "stderr",
          "text": [
            "/usr/local/lib/python3.8/dist-packages/sklearn/linear_model/_logistic.py:814: ConvergenceWarning: lbfgs failed to converge (status=1):\n",
            "STOP: TOTAL NO. of ITERATIONS REACHED LIMIT.\n",
            "\n",
            "Increase the number of iterations (max_iter) or scale the data as shown in:\n",
            "    https://scikit-learn.org/stable/modules/preprocessing.html\n",
            "Please also refer to the documentation for alternative solver options:\n",
            "    https://scikit-learn.org/stable/modules/linear_model.html#logistic-regression\n",
            "  n_iter_i = _check_optimize_result(\n",
            "/usr/local/lib/python3.8/dist-packages/sklearn/linear_model/_logistic.py:814: ConvergenceWarning: lbfgs failed to converge (status=1):\n",
            "STOP: TOTAL NO. of ITERATIONS REACHED LIMIT.\n",
            "\n",
            "Increase the number of iterations (max_iter) or scale the data as shown in:\n",
            "    https://scikit-learn.org/stable/modules/preprocessing.html\n",
            "Please also refer to the documentation for alternative solver options:\n",
            "    https://scikit-learn.org/stable/modules/linear_model.html#logistic-regression\n",
            "  n_iter_i = _check_optimize_result(\n"
          ]
        }
      ]
    },
    {
      "cell_type": "code",
      "source": [
        "print(results)\n",
        "print(np.mean(results))"
      ],
      "metadata": {
        "colab": {
          "base_uri": "https://localhost:8080/"
        },
        "id": "lsTjPus0N_5p",
        "outputId": "ab0fdc2e-49e6-43d4-cffe-95865c3b6ac2"
      },
      "execution_count": 23,
      "outputs": [
        {
          "output_type": "stream",
          "name": "stdout",
          "text": [
            "[0.90909091 0.8989899  0.92929293 0.88888889 0.95918367 0.95918367\n",
            " 0.91836735 0.93877551 0.95918367 0.92857143]\n",
            "0.9289527932385075\n"
          ]
        }
      ]
    },
    {
      "cell_type": "markdown",
      "metadata": {
        "id": "U0oF8-f9TKFT"
      },
      "source": [
        "\n",
        "\n",
        "> ## Modelo DecisionTreeClassifier\n",
        "\n",
        "\n",
        "\n",
        "\n"
      ]
    },
    {
      "cell_type": "code",
      "execution_count": 24,
      "metadata": {
        "colab": {
          "base_uri": "https://localhost:8080/"
        },
        "id": "EPkCpog5THkR",
        "outputId": "352695b5-2021-472d-ffd5-fbc8cbb0357b"
      },
      "outputs": [
        {
          "output_type": "stream",
          "name": "stdout",
          "text": [
            "              precision    recall  f1-score   support\n",
            "\n",
            "           0       0.93      0.91      0.92        99\n",
            "           1       0.91      0.93      0.92        98\n",
            "\n",
            "    accuracy                           0.92       197\n",
            "   macro avg       0.92      0.92      0.92       197\n",
            "weighted avg       0.92      0.92      0.92       197\n",
            "\n"
          ]
        }
      ],
      "source": [
        "\n",
        "model = DecisionTreeClassifier()\n",
        "model.fit(x_train,y_train)\n",
        "y_pred = model.predict(x_test)\n",
        "print(classification_report(y_test, y_pred))"
      ]
    },
    {
      "cell_type": "code",
      "execution_count": 25,
      "metadata": {
        "colab": {
          "base_uri": "https://localhost:8080/",
          "height": 312
        },
        "id": "Te0_gdThWd6d",
        "outputId": "289d5733-5ed0-42a2-909e-6055539f6ca9"
      },
      "outputs": [
        {
          "output_type": "execute_result",
          "data": {
            "text/plain": [
              "<matplotlib.axes._subplots.AxesSubplot at 0x7f6a23a61c10>"
            ]
          },
          "metadata": {},
          "execution_count": 25
        },
        {
          "output_type": "display_data",
          "data": {
            "text/plain": [
              "<Figure size 432x288 with 2 Axes>"
            ],
            "image/png": "[encoded data removed]"
          },
          "metadata": {}
        }
      ],
      "source": [
        "# plotar a matrix de confusão\n",
        "skplt.metrics.plot_confusion_matrix(y_test, y_pred, normalize=True)"
      ]
    },
    {
      "cell_type": "markdown",
      "source": [
        "### Cross validation"
      ],
      "metadata": {
        "id": "OX4mt5o-M_kY"
      }
    },
    {
      "cell_type": "code",
      "source": [
        "\n",
        "model =  DecisionTreeClassifier()\n",
        "kfold_validation=KFold(10)\n",
        "results=cross_val_score(model,X_us,y_us,cv=kfold_validation)\n",
        "print(results)\n",
        "print(np.mean(results))"
      ],
      "metadata": {
        "colab": {
          "base_uri": "https://localhost:8080/"
        },
        "id": "T42eKKAIM995",
        "outputId": "1646f571-89f7-401d-df14-cfe13a7300da"
      },
      "execution_count": 26,
      "outputs": [
        {
          "output_type": "stream",
          "name": "stdout",
          "text": [
            "[0.88888889 0.90909091 0.91919192 0.84848485 0.90816327 0.8877551\n",
            " 0.93877551 0.90816327 0.90816327 0.86734694]\n",
            "0.8984023912595342\n"
          ]
        }
      ]
    },
    {
      "cell_type": "markdown",
      "metadata": {
        "id": "e-iEOoP4V8-l"
      },
      "source": [
        "----------"
      ]
    },
    {
      "cell_type": "markdown",
      "metadata": {
        "id": "EZC6m8RVXq9p"
      },
      "source": [
        "> ## Modelo random_forest"
      ]
    },
    {
      "cell_type": "code",
      "execution_count": 27,
      "metadata": {
        "id": "HYBn6P6DWYaE"
      },
      "outputs": [],
      "source": [
        "model = RandomForestClassifier(n_estimators=100)"
      ]
    },
    {
      "cell_type": "code",
      "execution_count": 28,
      "metadata": {
        "id": "IeYKxSOdXDd7"
      },
      "outputs": [],
      "source": [
        "model.fit(x_train,y_train)\n",
        "y_pred = model.predict(x_test)"
      ]
    },
    {
      "cell_type": "code",
      "execution_count": 29,
      "metadata": {
        "colab": {
          "base_uri": "https://localhost:8080/"
        },
        "id": "BPhQUVRTXIzs",
        "outputId": "dc214d35-5524-475c-9b40-aa2038717946"
      },
      "outputs": [
        {
          "output_type": "stream",
          "name": "stdout",
          "text": [
            "              precision    recall  f1-score   support\n",
            "\n",
            "           0       0.91      0.97      0.94        99\n",
            "           1       0.97      0.90      0.93        98\n",
            "\n",
            "    accuracy                           0.93       197\n",
            "   macro avg       0.94      0.93      0.93       197\n",
            "weighted avg       0.94      0.93      0.93       197\n",
            "\n"
          ]
        }
      ],
      "source": [
        "print(classification_report(y_test, y_pred))"
      ]
    },
    {
      "cell_type": "code",
      "execution_count": 30,
      "metadata": {
        "colab": {
          "base_uri": "https://localhost:8080/",
          "height": 312
        },
        "id": "-ax9-vmeZoaj",
        "outputId": "5b682f77-664f-4fa7-a29d-33ab0b12abf4"
      },
      "outputs": [
        {
          "output_type": "execute_result",
          "data": {
            "text/plain": [
              "<matplotlib.axes._subplots.AxesSubplot at 0x7f6a2398ac10>"
            ]
          },
          "metadata": {},
          "execution_count": 30
        },
        {
          "output_type": "display_data",
          "data": {
            "text/plain": [
              "<Figure size 432x288 with 2 Axes>"
            ],
            "image/png": "[encoded data removed]"
          },
          "metadata": {}
        }
      ],
      "source": [
        "# plotar a matrix de confusão\n",
        "skplt.metrics.plot_confusion_matrix(y_test, y_pred, normalize=True)"
      ]
    },
    {
      "cell_type": "markdown",
      "source": [
        "### Cross_validation\n"
      ],
      "metadata": {
        "id": "biRF3mJhNWJy"
      }
    },
    {
      "cell_type": "code",
      "source": [
        "model =  RandomForestClassifier(n_estimators=100)\n",
        "kfold_validation=KFold(10)\n",
        "results=cross_val_score(model,X_us,y_us,cv=kfold_validation)\n",
        "print(results)\n",
        "print(np.mean(results))"
      ],
      "metadata": {
        "colab": {
          "base_uri": "https://localhost:8080/"
        },
        "id": "KcrZZQEpNYQ2",
        "outputId": "8daca363-92f2-4aba-fb75-24dbda178872"
      },
      "execution_count": 31,
      "outputs": [
        {
          "output_type": "stream",
          "name": "stdout",
          "text": [
            "[0.92929293 0.93939394 0.8989899  0.88888889 0.96938776 0.95918367\n",
            " 0.93877551 0.95918367 0.93877551 0.93877551]\n",
            "0.9360647289218716\n"
          ]
        }
      ]
    },
    {
      "cell_type": "markdown",
      "source": [
        "> ##  Support Vector Machines"
      ],
      "metadata": {
        "id": "IdkchD6DMtkR"
      }
    },
    {
      "cell_type": "code",
      "execution_count": 32,
      "metadata": {
        "id": "J93oOro31Bk1"
      },
      "outputs": [],
      "source": [
        "from sklearn.svm import SVC\n",
        "from sklearn import svm\n",
        "model = svm.SVC() #select the algorithm\n",
        "model.fit(x_train,y_train) # we train the algorithm with the training data and the training output\n",
        "y_pred=model.predict(x_test)"
      ]
    },
    {
      "cell_type": "code",
      "execution_count": 33,
      "metadata": {
        "colab": {
          "base_uri": "https://localhost:8080/"
        },
        "id": "chloSzIV6gcb",
        "outputId": "ab34f603-908a-40fc-8e55-f81ac0d27baf"
      },
      "outputs": [
        {
          "output_type": "stream",
          "name": "stdout",
          "text": [
            "              precision    recall  f1-score   support\n",
            "\n",
            "           0       0.47      0.35      0.40        99\n",
            "           1       0.48      0.60      0.53        98\n",
            "\n",
            "    accuracy                           0.48       197\n",
            "   macro avg       0.48      0.48      0.47       197\n",
            "weighted avg       0.48      0.48      0.47       197\n",
            "\n"
          ]
        }
      ],
      "source": [
        "print(classification_report(y_test, y_pred))\n"
      ]
    },
    {
      "cell_type": "markdown",
      "source": [
        "### cross validation\n"
      ],
      "metadata": {
        "id": "fWUnD24uPbAh"
      }
    },
    {
      "cell_type": "code",
      "source": [
        "\n",
        "model =  svm.SVC()\n",
        "kfold_validation=KFold(10)\n",
        "results=cross_val_score(model,X_us,y_us,cv=kfold_validation)"
      ],
      "metadata": {
        "id": "Br0C8GTTPaUf"
      },
      "execution_count": 34,
      "outputs": []
    },
    {
      "cell_type": "code",
      "source": [
        "print(results)\n",
        "print(np.mean(results))"
      ],
      "metadata": {
        "colab": {
          "base_uri": "https://localhost:8080/"
        },
        "id": "5ju5UL14PhDW",
        "outputId": "1196c3f5-ca2a-4d29-ea93-2e0bc9ea08c2"
      },
      "execution_count": 35,
      "outputs": [
        {
          "output_type": "stream",
          "name": "stdout",
          "text": [
            "[0.48484848 0.50505051 0.47474747 0.49494949 0.52040816 0.47959184\n",
            " 0.55102041 0.58163265 0.51020408 0.53061224]\n",
            "0.5133065347351062\n"
          ]
        }
      ]
    },
    {
      "cell_type": "markdown",
      "metadata": {
        "id": "suUs26w9borA"
      },
      "source": [
        "> ## XGBoost"
      ]
    },
    {
      "cell_type": "code",
      "source": [
        "import pandas as pd\n",
        "model = XGBClassifier(n_jobs=-1)\n",
        "# training\n",
        "model.fit(x_train, y_train)\n",
        "y_pred=model.predict(x_test)"
      ],
      "metadata": {
        "id": "woRodo_HFwmZ"
      },
      "execution_count": 36,
      "outputs": []
    },
    {
      "cell_type": "code",
      "source": [
        "print(classification_report(y_test, y_pred))"
      ],
      "metadata": {
        "colab": {
          "base_uri": "https://localhost:8080/"
        },
        "id": "EUWPiSZoF0Cf",
        "outputId": "55e85db8-fe6d-4646-f737-586e9a93ad4f"
      },
      "execution_count": 37,
      "outputs": [
        {
          "output_type": "stream",
          "name": "stdout",
          "text": [
            "              precision    recall  f1-score   support\n",
            "\n",
            "           0       0.92      0.97      0.95        99\n",
            "           1       0.97      0.92      0.94        98\n",
            "\n",
            "    accuracy                           0.94       197\n",
            "   macro avg       0.95      0.94      0.94       197\n",
            "weighted avg       0.95      0.94      0.94       197\n",
            "\n"
          ]
        }
      ]
    },
    {
      "cell_type": "markdown",
      "source": [
        "-----"
      ],
      "metadata": {
        "id": "cDWPHE9xKLJz"
      }
    },
    {
      "cell_type": "markdown",
      "source": [
        "### Cross-validation\n"
      ],
      "metadata": {
        "id": "3jZKQ66VPFcQ"
      }
    },
    {
      "cell_type": "code",
      "source": [
        "model = XGBClassifier(n_jobs=-1)\n",
        "kfold_validation=KFold(10)\n",
        "results=cross_val_score(model,X_us,y_us,cv=kfold_validation)\n"
      ],
      "metadata": {
        "id": "HI5puRdbPHdn"
      },
      "execution_count": 38,
      "outputs": []
    },
    {
      "cell_type": "code",
      "source": [
        "print(results)\n",
        "print(np.mean(results))"
      ],
      "metadata": {
        "colab": {
          "base_uri": "https://localhost:8080/"
        },
        "id": "ty5hMTilPQwX",
        "outputId": "9be8d269-0832-4d5a-b27f-279d90e9340f"
      },
      "execution_count": 39,
      "outputs": [
        {
          "output_type": "stream",
          "name": "stdout",
          "text": [
            "[0.94949495 0.94949495 0.90909091 0.87878788 0.96938776 0.94897959\n",
            " 0.93877551 0.94897959 0.92857143 0.93877551]\n",
            "0.9360338074623789\n"
          ]
        }
      ]
    },
    {
      "cell_type": "markdown",
      "source": [
        "\n",
        "\n",
        "># Testanto com o dados de test original\n",
        "\n"
      ],
      "metadata": {
        "id": "ZyxDSGgqF_fH"
      }
    },
    {
      "cell_type": "code",
      "source": [
        "(x_train,x_test,y_train,y_test) = train_test_split(X_us,y_us, test_size=0.2, random_state=42)\n",
        "print(\"x_train size: \", x_train.shape)\n",
        "print(\"x_ test size: \", x_test.shape)\n"
      ],
      "metadata": {
        "colab": {
          "base_uri": "https://localhost:8080/"
        },
        "id": "nIKl0JlbGEBj",
        "outputId": "1c92c0d7-5da6-4f76-ee9f-7fba031b43da"
      },
      "execution_count": 40,
      "outputs": [
        {
          "output_type": "stream",
          "name": "stdout",
          "text": [
            "x_train size:  (787, 30)\n",
            "x_ test size:  (197, 30)\n"
          ]
        }
      ]
    },
    {
      "cell_type": "code",
      "source": [
        "import pandas as pd\n",
        "model = XGBClassifier(n_jobs=-1)\n",
        "# training\n",
        "model.fit(x_train, y_train)\n"
      ],
      "metadata": {
        "colab": {
          "base_uri": "https://localhost:8080/"
        },
        "id": "wSqb9YVcGSAG",
        "outputId": "bf211307-b51c-4a5e-a681-db05dba4437a"
      },
      "execution_count": 41,
      "outputs": [
        {
          "output_type": "execute_result",
          "data": {
            "text/plain": [
              "XGBClassifier(n_jobs=-1)"
            ]
          },
          "metadata": {},
          "execution_count": 41
        }
      ]
    },
    {
      "cell_type": "code",
      "source": [
        "#x_test y_test concantena\n",
        "df = df[df['Class'] == 0][492:]"
      ],
      "metadata": {
        "id": "soogXSVrGUXu"
      },
      "execution_count": 42,
      "outputs": []
    },
    {
      "cell_type": "code",
      "source": [
        "X_novo = df.drop('Class', axis=1)\n",
        "y_novo = df['Class']\n",
        "x_test = x_test.append(X_novo)\n",
        "y_test = y_test.append(y_novo)\n",
        "# testing\n",
        "y_pred = model.predict(x_test)\n"
      ],
      "metadata": {
        "id": "zs8VkYGHGXiK"
      },
      "execution_count": 43,
      "outputs": []
    },
    {
      "cell_type": "code",
      "source": [
        "print(\"x_train size: \", x_train.shape)\n",
        "print(\"x_ test size: \", x_test.shape)\n",
        "print(\"y_train size: \", y_train.shape)\n",
        "print(\"y_ test size: \", y_test.shape)\n"
      ],
      "metadata": {
        "colab": {
          "base_uri": "https://localhost:8080/"
        },
        "id": "mGriEAceGYjR",
        "outputId": "ed9fe601-59c8-4b3a-fd59-e03c3f67a23b"
      },
      "execution_count": 44,
      "outputs": [
        {
          "output_type": "stream",
          "name": "stdout",
          "text": [
            "x_train size:  (787, 30)\n",
            "x_ test size:  (284020, 30)\n",
            "y_train size:  (787,)\n",
            "y_ test size:  (284020,)\n"
          ]
        }
      ]
    },
    {
      "cell_type": "code",
      "source": [
        "print(classification_report(y_test, y_pred))\n",
        "skplt.metrics.plot_confusion_matrix(y_test, y_pred, normalize=True)\n"
      ],
      "metadata": {
        "colab": {
          "base_uri": "https://localhost:8080/",
          "height": 0
        },
        "id": "2_e6vWYcGZiY",
        "outputId": "0c72834b-4480-4508-fb0a-f66ef27d4630"
      },
      "execution_count": 45,
      "outputs": [
        {
          "output_type": "stream",
          "name": "stdout",
          "text": [
            "              precision    recall  f1-score   support\n",
            "\n",
            "           0       1.00      0.96      0.98    283922\n",
            "           1       0.01      0.92      0.02        98\n",
            "\n",
            "    accuracy                           0.96    284020\n",
            "   macro avg       0.50      0.94      0.50    284020\n",
            "weighted avg       1.00      0.96      0.98    284020\n",
            "\n"
          ]
        },
        {
          "output_type": "execute_result",
          "data": {
            "text/plain": [
              "<matplotlib.axes._subplots.AxesSubplot at 0x7f6a238bf610>"
            ]
          },
          "metadata": {},
          "execution_count": 45
        },
        {
          "output_type": "display_data",
          "data": {
            "text/plain": [
              "<Figure size 432x288 with 2 Axes>"
            ],
            "image/png": "[encoded data removed]"
          },
          "metadata": {}
        }
      ]
    },
    {
      "cell_type": "markdown",
      "source": [
        "Podemos observar que a precisão só obteve 1% para os valores 1, e o macro avg do f1-score ficou em 51%, oque não é um bom resultado, isso nos mostra que não foi muito bem generalizado. a melhor forma é lidar com o desbalanceamento com o próprio modelo."
      ],
      "metadata": {
        "id": "hGeK0YI9LZG3"
      }
    },
    {
      "cell_type": "markdown",
      "source": [
        "> # Optuna\n",
        "\n",
        "O processo de hyperparametrização será utilizando o modelo xgboost que obteve a maior acurácia. O optuna é um software de otimização automatica de hiperparametros."
      ],
      "metadata": {
        "id": "tGEGI7a5ScjX"
      }
    },
    {
      "cell_type": "code",
      "source": [
        "\n",
        "\"\"\"\n",
        "Optuna example that demonstrates a pruner for XGBoost.cv.\n",
        "In this example, we optimize the validation auc of cancer detection using XGBoost.\n",
        "We optimize both the choice of booster model and their hyperparameters. Throughout\n",
        "training of models, a pruner observes intermediate results and stop unpromising trials.\n",
        "You can run this example as follows:\n",
        "    $ python xgboost_cv_integration.py\n",
        "\"\"\"\n",
        "\n",
        "\n",
        "\n",
        "def objective(trial):\n",
        "    train_x, train_y = sklearn.datasets.load_breast_cancer(return_X_y=True)\n",
        "    dtrain = xgb.DMatrix(train_x, label=train_y)\n",
        "\n",
        "    param = {\n",
        "        \"verbosity\": 0,\n",
        "        \"objective\": \"binary:logistic\",\n",
        "        \"eval_metric\": \"auc\",\n",
        "        \"booster\": trial.suggest_categorical(\"booster\", [\"gbtree\", \"gblinear\", \"dart\"]),\n",
        "        \"lambda\": trial.suggest_float(\"lambda\", 1e-8, 1.0, log=True),\n",
        "        \"alpha\": trial.suggest_float(\"alpha\", 1e-8, 1.0, log=True),\n",
        "         \"subsample\": trial.suggest_float(\"subsample\", 0.2, 1.0),\n",
        "        # sampling according to each tree.\n",
        "        \"colsample_bytree\": trial.suggest_float(\"colsample_bytree\", 0.2, 1.0),  \n",
        "        'learning_rate': trial.suggest_categorical('learning_rate', [0.008,0.01,0.012,0.014,0.016,0.018, 0.02]),\n",
        "        \n",
        "      \n",
        "\n",
        "        \n",
        "    }\n",
        "\n",
        "    if param[\"booster\"] == \"gbtree\" or param[\"booster\"] == \"dart\":\n",
        "        param[\"max_depth\"] = trial.suggest_int(\"max_depth\", 1, 9)\n",
        "        param[\"eta\"] = trial.suggest_float(\"eta\", 1e-8, 1.0, log=True)\n",
        "        param[\"gamma\"] = trial.suggest_float(\"gamma\", 1e-8, 1.0, log=True)\n",
        "        param[\"grow_policy\"] = trial.suggest_categorical(\"grow_policy\", [\"depthwise\", \"lossguide\"])\n",
        "    if param[\"booster\"] == \"dart\":\n",
        "        param[\"sample_type\"] = trial.suggest_categorical(\"sample_type\", [\"uniform\", \"weighted\"])\n",
        "        param[\"normalize_type\"] = trial.suggest_categorical(\"normalize_type\", [\"tree\", \"forest\"])\n",
        "        param[\"rate_drop\"] = trial.suggest_float(\"rate_drop\", 1e-8, 1.0, log=True)\n",
        "        param[\"skip_drop\"] = trial.suggest_float(\"skip_drop\", 1e-8, 1.0, log=True)\n",
        "\n",
        "    pruning_callback = optuna.integration.XGBoostPruningCallback(trial, \"test-auc\")\n",
        "    history = xgb.cv(param, dtrain, num_boost_round=100, callbacks=[pruning_callback])\n",
        "\n",
        "    mean_auc = history[\"test-auc-mean\"].values[-1]\n",
        "    return mean_auc\n"
      ],
      "metadata": {
        "id": "lITGpdIcWnRh"
      },
      "execution_count": 46,
      "outputs": []
    },
    {
      "cell_type": "code",
      "source": [
        " pruner = optuna.pruners.MedianPruner(n_warmup_steps=5)\n",
        " study = optuna.create_study(pruner=pruner, direction=\"maximize\")\n",
        " study.optimize(objective, n_trials=100)"
      ],
      "metadata": {
        "colab": {
          "base_uri": "https://localhost:8080/"
        },
        "id": "hIsrUB3fam3I",
        "outputId": "3601ffe2-0e2c-4f62-8d64-0546c222d6e9"
      },
      "execution_count": 47,
      "outputs": [
        {
          "output_type": "stream",
          "name": "stderr",
          "text": [
            "\u001b[32m[I 2022-12-19 15:58:41,688]\u001b[0m A new study created in memory with name: no-name-018db20a-4f41-4509-a88f-29ddc4eeae99\u001b[0m\n",
            "\u001b[32m[I 2022-12-19 15:58:41,984]\u001b[0m Trial 0 finished with value: 0.9862226666666666 and parameters: {'booster': 'dart', 'lambda': 0.00011038703379941387, 'alpha': 6.270015413521986e-08, 'subsample': 0.3239431735989189, 'colsample_bytree': 0.26012971136773155, 'learning_rate': 0.018, 'max_depth': 1, 'eta': 3.990049826423768e-05, 'gamma': 0.5825259673233513, 'grow_policy': 'depthwise', 'sample_type': 'uniform', 'normalize_type': 'tree', 'rate_drop': 0.00025961319264600696, 'skip_drop': 0.6889688023024302}. Best is trial 0 with value: 0.9862226666666666.\u001b[0m\n",
            "\u001b[32m[I 2022-12-19 15:58:42,169]\u001b[0m Trial 1 finished with value: 0.9745699999999999 and parameters: {'booster': 'gblinear', 'lambda': 1.2671437300968853e-06, 'alpha': 0.0008473060092161206, 'subsample': 0.972329773803706, 'colsample_bytree': 0.2489509464378169, 'learning_rate': 0.014}. Best is trial 0 with value: 0.9862226666666666.\u001b[0m\n",
            "\u001b[32m[I 2022-12-19 15:58:42,347]\u001b[0m Trial 2 finished with value: 0.9427416666666666 and parameters: {'booster': 'gblinear', 'lambda': 0.00037430489013562043, 'alpha': 0.015124661633493727, 'subsample': 0.7386301159430446, 'colsample_bytree': 0.7520614212619754, 'learning_rate': 0.008}. Best is trial 0 with value: 0.9862226666666666.\u001b[0m\n",
            "\u001b[32m[I 2022-12-19 15:58:42,803]\u001b[0m Trial 3 finished with value: 0.9894476666666666 and parameters: {'booster': 'gbtree', 'lambda': 0.0015830432599886438, 'alpha': 0.0040286934835291775, 'subsample': 0.6448616984489259, 'colsample_bytree': 0.8951977400982669, 'learning_rate': 0.014, 'max_depth': 7, 'eta': 0.0006281447750171083, 'gamma': 0.007656603624454739, 'grow_policy': 'depthwise'}. Best is trial 3 with value: 0.9894476666666666.\u001b[0m\n",
            "\u001b[32m[I 2022-12-19 15:58:43,045]\u001b[0m Trial 4 finished with value: 0.9908726666666666 and parameters: {'booster': 'gbtree', 'lambda': 0.015536854479981427, 'alpha': 0.2648777573168587, 'subsample': 0.8304352487190685, 'colsample_bytree': 0.2531990300617262, 'learning_rate': 0.008, 'max_depth': 8, 'eta': 2.6358282898397076e-06, 'gamma': 0.009803818619050981, 'grow_policy': 'lossguide'}. Best is trial 4 with value: 0.9908726666666666.\u001b[0m\n",
            "\u001b[32m[I 2022-12-19 15:58:43,659]\u001b[0m Trial 5 finished with value: 0.990733 and parameters: {'booster': 'dart', 'lambda': 3.154298463778811e-08, 'alpha': 0.08216452585843464, 'subsample': 0.31642562603021473, 'colsample_bytree': 0.9747342432280852, 'learning_rate': 0.02, 'max_depth': 7, 'eta': 7.523022577689795e-07, 'gamma': 0.00028107903817846023, 'grow_policy': 'lossguide', 'sample_type': 'weighted', 'normalize_type': 'tree', 'rate_drop': 0.0046960416821297795, 'skip_drop': 0.00014963894299903932}. Best is trial 4 with value: 0.9908726666666666.\u001b[0m\n",
            "\u001b[32m[I 2022-12-19 15:58:43,707]\u001b[0m Trial 6 pruned. Trial was pruned at iteration 6.\u001b[0m\n",
            "\u001b[32m[I 2022-12-19 15:58:43,752]\u001b[0m Trial 7 pruned. Trial was pruned at iteration 5.\u001b[0m\n",
            "\u001b[32m[I 2022-12-19 15:58:44,502]\u001b[0m Trial 8 finished with value: 0.9899089999999999 and parameters: {'booster': 'dart', 'lambda': 1.720213493277346e-07, 'alpha': 0.0240957983237103, 'subsample': 0.9549734020374134, 'colsample_bytree': 0.49164285386492995, 'learning_rate': 0.018, 'max_depth': 9, 'eta': 5.5623968717270556e-05, 'gamma': 0.00043893459305701044, 'grow_policy': 'depthwise', 'sample_type': 'weighted', 'normalize_type': 'tree', 'rate_drop': 0.020899311429965463, 'skip_drop': 3.2228559947320457e-07}. Best is trial 4 with value: 0.9908726666666666.\u001b[0m\n",
            "\u001b[32m[I 2022-12-19 15:58:44,547]\u001b[0m Trial 9 pruned. Trial was pruned at iteration 5.\u001b[0m\n",
            "\u001b[32m[I 2022-12-19 15:58:44,628]\u001b[0m Trial 10 pruned. Trial was pruned at iteration 5.\u001b[0m\n",
            "\u001b[32m[I 2022-12-19 15:58:44,717]\u001b[0m Trial 11 pruned. Trial was pruned at iteration 5.\u001b[0m\n",
            "\u001b[32m[I 2022-12-19 15:58:44,793]\u001b[0m Trial 12 pruned. Trial was pruned at iteration 5.\u001b[0m\n",
            "\u001b[32m[I 2022-12-19 15:58:44,880]\u001b[0m Trial 13 pruned. Trial was pruned at iteration 5.\u001b[0m\n",
            "\u001b[32m[I 2022-12-19 15:58:45,590]\u001b[0m Trial 14 finished with value: 0.9903716666666668 and parameters: {'booster': 'dart', 'lambda': 6.6747276671618954e-06, 'alpha': 2.7066079933968584e-06, 'subsample': 0.8686300278005226, 'colsample_bytree': 0.41617159748503907, 'learning_rate': 0.008, 'max_depth': 4, 'eta': 2.242594694788764e-06, 'gamma': 0.0042227143492543735, 'grow_policy': 'lossguide', 'sample_type': 'uniform', 'normalize_type': 'forest', 'rate_drop': 6.349600471180949e-06, 'skip_drop': 1.1855924223492198e-08}. Best is trial 4 with value: 0.9908726666666666.\u001b[0m\n",
            "\u001b[32m[I 2022-12-19 15:58:45,674]\u001b[0m Trial 15 pruned. Trial was pruned at iteration 5.\u001b[0m\n",
            "\u001b[32m[I 2022-12-19 15:58:46,311]\u001b[0m Trial 16 pruned. Trial was pruned at iteration 99.\u001b[0m\n",
            "\u001b[32m[I 2022-12-19 15:58:46,400]\u001b[0m Trial 17 pruned. Trial was pruned at iteration 5.\u001b[0m\n",
            "\u001b[32m[I 2022-12-19 15:58:46,490]\u001b[0m Trial 18 pruned. Trial was pruned at iteration 5.\u001b[0m\n",
            "\u001b[32m[I 2022-12-19 15:58:46,590]\u001b[0m Trial 19 pruned. Trial was pruned at iteration 7.\u001b[0m\n",
            "\u001b[32m[I 2022-12-19 15:58:46,682]\u001b[0m Trial 20 pruned. Trial was pruned at iteration 5.\u001b[0m\n",
            "\u001b[32m[I 2022-12-19 15:58:47,264]\u001b[0m Trial 21 pruned. Trial was pruned at iteration 99.\u001b[0m\n",
            "\u001b[32m[I 2022-12-19 15:58:47,808]\u001b[0m Trial 22 finished with value: 0.9902233333333332 and parameters: {'booster': 'dart', 'lambda': 1.193698278621001e-07, 'alpha': 9.782987888867032e-07, 'subsample': 0.9263642250039416, 'colsample_bytree': 0.3349518252424382, 'learning_rate': 0.008, 'max_depth': 3, 'eta': 6.218301189084437e-07, 'gamma': 0.09384429879390474, 'grow_policy': 'lossguide', 'sample_type': 'uniform', 'normalize_type': 'forest', 'rate_drop': 0.0019287358919439237, 'skip_drop': 5.8257495637580406e-06}. Best is trial 4 with value: 0.9908726666666666.\u001b[0m\n",
            "\u001b[32m[I 2022-12-19 15:58:47,901]\u001b[0m Trial 23 pruned. Trial was pruned at iteration 8.\u001b[0m\n",
            "\u001b[32m[I 2022-12-19 15:58:48,000]\u001b[0m Trial 24 pruned. Trial was pruned at iteration 7.\u001b[0m\n",
            "\u001b[32m[I 2022-12-19 15:58:48,100]\u001b[0m Trial 25 pruned. Trial was pruned at iteration 7.\u001b[0m\n",
            "\u001b[32m[I 2022-12-19 15:58:48,182]\u001b[0m Trial 26 pruned. Trial was pruned at iteration 5.\u001b[0m\n",
            "\u001b[32m[I 2022-12-19 15:58:48,258]\u001b[0m Trial 27 pruned. Trial was pruned at iteration 5.\u001b[0m\n",
            "\u001b[32m[I 2022-12-19 15:58:48,318]\u001b[0m Trial 28 pruned. Trial was pruned at iteration 5.\u001b[0m\n",
            "\u001b[32m[I 2022-12-19 15:58:48,440]\u001b[0m Trial 29 pruned. Trial was pruned at iteration 8.\u001b[0m\n",
            "\u001b[32m[I 2022-12-19 15:58:48,527]\u001b[0m Trial 30 pruned. Trial was pruned at iteration 5.\u001b[0m\n",
            "\u001b[32m[I 2022-12-19 15:58:49,056]\u001b[0m Trial 31 finished with value: 0.9901023333333333 and parameters: {'booster': 'dart', 'lambda': 5.523899836338884e-08, 'alpha': 8.147338449166518e-07, 'subsample': 0.9328861707113386, 'colsample_bytree': 0.35477301546455187, 'learning_rate': 0.008, 'max_depth': 3, 'eta': 7.134385228429594e-07, 'gamma': 0.10255668815040775, 'grow_policy': 'lossguide', 'sample_type': 'uniform', 'normalize_type': 'forest', 'rate_drop': 0.00110106879345392, 'skip_drop': 7.340208288058297e-06}. Best is trial 4 with value: 0.9908726666666666.\u001b[0m\n",
            "\u001b[32m[I 2022-12-19 15:58:49,141]\u001b[0m Trial 32 pruned. Trial was pruned at iteration 5.\u001b[0m\n",
            "\u001b[32m[I 2022-12-19 15:58:49,236]\u001b[0m Trial 33 pruned. Trial was pruned at iteration 7.\u001b[0m\n",
            "\u001b[32m[I 2022-12-19 15:58:49,324]\u001b[0m Trial 34 pruned. Trial was pruned at iteration 5.\u001b[0m\n",
            "\u001b[32m[I 2022-12-19 15:58:49,398]\u001b[0m Trial 35 pruned. Trial was pruned at iteration 5.\u001b[0m\n",
            "\u001b[32m[I 2022-12-19 15:58:49,514]\u001b[0m Trial 36 pruned. Trial was pruned at iteration 8.\u001b[0m\n",
            "\u001b[32m[I 2022-12-19 15:58:49,800]\u001b[0m Trial 37 finished with value: 0.9900013333333333 and parameters: {'booster': 'gbtree', 'lambda': 1.9603731050410632e-07, 'alpha': 0.2772661062363744, 'subsample': 0.78455412619023, 'colsample_bytree': 0.2796156172655661, 'learning_rate': 0.008, 'max_depth': 9, 'eta': 4.147315134557294e-06, 'gamma': 0.03348343166891151, 'grow_policy': 'lossguide'}. Best is trial 4 with value: 0.9908726666666666.\u001b[0m\n",
            "\u001b[32m[I 2022-12-19 15:58:49,862]\u001b[0m Trial 38 pruned. Trial was pruned at iteration 5.\u001b[0m\n",
            "\u001b[32m[I 2022-12-19 15:58:50,758]\u001b[0m Trial 39 finished with value: 0.9915636666666666 and parameters: {'booster': 'dart', 'lambda': 2.367273788578569e-08, 'alpha': 8.252686375073838e-07, 'subsample': 0.3923285435940439, 'colsample_bytree': 0.817752003462419, 'learning_rate': 0.02, 'max_depth': 7, 'eta': 4.870604525668627e-07, 'gamma': 0.005219629350927371, 'grow_policy': 'depthwise', 'sample_type': 'weighted', 'normalize_type': 'tree', 'rate_drop': 4.0153376620950525e-05, 'skip_drop': 0.02482156265805745}. Best is trial 39 with value: 0.9915636666666666.\u001b[0m\n",
            "\u001b[32m[I 2022-12-19 15:58:50,844]\u001b[0m Trial 40 pruned. Trial was pruned at iteration 5.\u001b[0m\n",
            "\u001b[32m[I 2022-12-19 15:58:50,936]\u001b[0m Trial 41 pruned. Trial was pruned at iteration 5.\u001b[0m\n",
            "\u001b[32m[I 2022-12-19 15:58:51,030]\u001b[0m Trial 42 pruned. Trial was pruned at iteration 5.\u001b[0m\n",
            "\u001b[32m[I 2022-12-19 15:58:51,124]\u001b[0m Trial 43 pruned. Trial was pruned at iteration 5.\u001b[0m\n",
            "\u001b[32m[I 2022-12-19 15:58:51,228]\u001b[0m Trial 44 pruned. Trial was pruned at iteration 6.\u001b[0m\n",
            "\u001b[32m[I 2022-12-19 15:58:51,319]\u001b[0m Trial 45 pruned. Trial was pruned at iteration 5.\u001b[0m\n",
            "\u001b[32m[I 2022-12-19 15:58:51,383]\u001b[0m Trial 46 pruned. Trial was pruned at iteration 5.\u001b[0m\n",
            "\u001b[32m[I 2022-12-19 15:58:51,496]\u001b[0m Trial 47 pruned. Trial was pruned at iteration 5.\u001b[0m\n",
            "\u001b[32m[I 2022-12-19 15:58:51,592]\u001b[0m Trial 48 pruned. Trial was pruned at iteration 5.\u001b[0m\n",
            "\u001b[32m[I 2022-12-19 15:58:51,700]\u001b[0m Trial 49 pruned. Trial was pruned at iteration 5.\u001b[0m\n",
            "\u001b[32m[I 2022-12-19 15:58:51,785]\u001b[0m Trial 50 pruned. Trial was pruned at iteration 5.\u001b[0m\n",
            "\u001b[32m[I 2022-12-19 15:58:51,892]\u001b[0m Trial 51 pruned. Trial was pruned at iteration 7.\u001b[0m\n",
            "\u001b[32m[I 2022-12-19 15:58:52,073]\u001b[0m Trial 52 pruned. Trial was pruned at iteration 35.\u001b[0m\n",
            "\u001b[32m[I 2022-12-19 15:58:52,165]\u001b[0m Trial 53 pruned. Trial was pruned at iteration 5.\u001b[0m\n",
            "\u001b[32m[I 2022-12-19 15:58:52,268]\u001b[0m Trial 54 pruned. Trial was pruned at iteration 6.\u001b[0m\n",
            "\u001b[32m[I 2022-12-19 15:58:53,015]\u001b[0m Trial 55 finished with value: 0.990657 and parameters: {'booster': 'dart', 'lambda': 0.01450558850525437, 'alpha': 1.3907157990059833e-06, 'subsample': 0.8377476995566178, 'colsample_bytree': 0.7249361408869706, 'learning_rate': 0.02, 'max_depth': 8, 'eta': 5.401850852620104e-07, 'gamma': 0.7346888945377883, 'grow_policy': 'lossguide', 'sample_type': 'uniform', 'normalize_type': 'forest', 'rate_drop': 0.014116827749418057, 'skip_drop': 7.483216692382074e-08}. Best is trial 39 with value: 0.9915636666666666.\u001b[0m\n",
            "\u001b[32m[I 2022-12-19 15:58:53,114]\u001b[0m Trial 56 pruned. Trial was pruned at iteration 5.\u001b[0m\n",
            "\u001b[32m[I 2022-12-19 15:58:53,198]\u001b[0m Trial 57 pruned. Trial was pruned at iteration 5.\u001b[0m\n",
            "\u001b[32m[I 2022-12-19 15:58:53,300]\u001b[0m Trial 58 pruned. Trial was pruned at iteration 5.\u001b[0m\n",
            "\u001b[32m[I 2022-12-19 15:58:53,360]\u001b[0m Trial 59 pruned. Trial was pruned at iteration 5.\u001b[0m\n",
            "\u001b[32m[I 2022-12-19 15:58:53,460]\u001b[0m Trial 60 pruned. Trial was pruned at iteration 5.\u001b[0m\n",
            "\u001b[32m[I 2022-12-19 15:58:53,575]\u001b[0m Trial 61 pruned. Trial was pruned at iteration 5.\u001b[0m\n",
            "\u001b[32m[I 2022-12-19 15:58:53,774]\u001b[0m Trial 62 pruned. Trial was pruned at iteration 27.\u001b[0m\n",
            "\u001b[32m[I 2022-12-19 15:58:53,862]\u001b[0m Trial 63 pruned. Trial was pruned at iteration 5.\u001b[0m\n",
            "\u001b[32m[I 2022-12-19 15:58:53,953]\u001b[0m Trial 64 pruned. Trial was pruned at iteration 5.\u001b[0m\n",
            "\u001b[32m[I 2022-12-19 15:58:54,051]\u001b[0m Trial 65 pruned. Trial was pruned at iteration 5.\u001b[0m\n",
            "\u001b[32m[I 2022-12-19 15:58:54,134]\u001b[0m Trial 66 pruned. Trial was pruned at iteration 5.\u001b[0m\n",
            "\u001b[32m[I 2022-12-19 15:58:54,319]\u001b[0m Trial 67 pruned. Trial was pruned at iteration 31.\u001b[0m\n",
            "\u001b[32m[I 2022-12-19 15:58:54,419]\u001b[0m Trial 68 pruned. Trial was pruned at iteration 5.\u001b[0m\n",
            "\u001b[32m[I 2022-12-19 15:58:54,512]\u001b[0m Trial 69 pruned. Trial was pruned at iteration 5.\u001b[0m\n",
            "\u001b[32m[I 2022-12-19 15:58:54,606]\u001b[0m Trial 70 pruned. Trial was pruned at iteration 5.\u001b[0m\n",
            "\u001b[32m[I 2022-12-19 15:58:54,932]\u001b[0m Trial 71 finished with value: 0.9910313333333333 and parameters: {'booster': 'gbtree', 'lambda': 2.05526409126604e-07, 'alpha': 0.18948342880430177, 'subsample': 0.7871024561970354, 'colsample_bytree': 0.3019168749051813, 'learning_rate': 0.008, 'max_depth': 9, 'eta': 2.419966550149676e-06, 'gamma': 0.041734573058826906, 'grow_policy': 'lossguide'}. Best is trial 39 with value: 0.9915636666666666.\u001b[0m\n",
            "\u001b[32m[I 2022-12-19 15:58:55,051]\u001b[0m Trial 72 pruned. Trial was pruned at iteration 20.\u001b[0m\n",
            "\u001b[32m[I 2022-12-19 15:58:55,142]\u001b[0m Trial 73 pruned. Trial was pruned at iteration 5.\u001b[0m\n",
            "\u001b[32m[I 2022-12-19 15:58:55,445]\u001b[0m Trial 74 finished with value: 0.9914673333333334 and parameters: {'booster': 'gbtree', 'lambda': 2.504511145678613e-08, 'alpha': 0.035044766180520354, 'subsample': 0.8303518026195416, 'colsample_bytree': 0.25869355275594913, 'learning_rate': 0.008, 'max_depth': 7, 'eta': 4.2751719785814375e-07, 'gamma': 0.12291538509591739, 'grow_policy': 'lossguide'}. Best is trial 39 with value: 0.9915636666666666.\u001b[0m\n",
            "\u001b[32m[I 2022-12-19 15:58:55,762]\u001b[0m Trial 75 finished with value: 0.9908720000000001 and parameters: {'booster': 'gbtree', 'lambda': 2.3552207365525982e-08, 'alpha': 0.04064831249737678, 'subsample': 0.7951722409936574, 'colsample_bytree': 0.22089666620762177, 'learning_rate': 0.008, 'max_depth': 7, 'eta': 1.1092033788438351e-08, 'gamma': 0.02603584571289228, 'grow_policy': 'lossguide'}. Best is trial 39 with value: 0.9915636666666666.\u001b[0m\n",
            "\u001b[32m[I 2022-12-19 15:58:56,042]\u001b[0m Trial 76 finished with value: 0.9909153333333333 and parameters: {'booster': 'gbtree', 'lambda': 2.1626919021425883e-08, 'alpha': 0.032592555830349125, 'subsample': 0.7456498774530597, 'colsample_bytree': 0.22362866938004333, 'learning_rate': 0.02, 'max_depth': 7, 'eta': 1.3059682666620065e-08, 'gamma': 0.02486156534709269, 'grow_policy': 'lossguide'}. Best is trial 39 with value: 0.9915636666666666.\u001b[0m\n",
            "\u001b[32m[I 2022-12-19 15:58:56,330]\u001b[0m Trial 77 finished with value: 0.99171 and parameters: {'booster': 'gbtree', 'lambda': 3.2293631435650786e-08, 'alpha': 0.027818281305548153, 'subsample': 0.7519396887631676, 'colsample_bytree': 0.21627318087195904, 'learning_rate': 0.02, 'max_depth': 7, 'eta': 1.0464846120687559e-08, 'gamma': 0.030465668413471546, 'grow_policy': 'lossguide'}. Best is trial 77 with value: 0.99171.\u001b[0m\n",
            "\u001b[32m[I 2022-12-19 15:58:56,573]\u001b[0m Trial 78 pruned. Trial was pruned at iteration 76.\u001b[0m\n",
            "\u001b[32m[I 2022-12-19 15:58:56,699]\u001b[0m Trial 79 pruned. Trial was pruned at iteration 19.\u001b[0m\n",
            "\u001b[32m[I 2022-12-19 15:58:57,012]\u001b[0m Trial 80 finished with value: 0.9913109999999999 and parameters: {'booster': 'gbtree', 'lambda': 2.6152695146798514e-08, 'alpha': 0.007352731438120307, 'subsample': 0.7421437173854555, 'colsample_bytree': 0.25109604039457845, 'learning_rate': 0.02, 'max_depth': 7, 'eta': 1.0134764945559832e-08, 'gamma': 0.044340173678059265, 'grow_policy': 'lossguide'}. Best is trial 77 with value: 0.99171.\u001b[0m\n",
            "\u001b[32m[I 2022-12-19 15:58:57,329]\u001b[0m Trial 81 finished with value: 0.992066 and parameters: {'booster': 'gbtree', 'lambda': 2.9844074287010864e-08, 'alpha': 0.0070221660770141215, 'subsample': 0.7531092369354141, 'colsample_bytree': 0.26109597375698124, 'learning_rate': 0.02, 'max_depth': 7, 'eta': 1.9887289621820744e-08, 'gamma': 0.04713994241939373, 'grow_policy': 'lossguide'}. Best is trial 81 with value: 0.992066.\u001b[0m\n",
            "\u001b[32m[I 2022-12-19 15:58:57,655]\u001b[0m Trial 82 finished with value: 0.991908 and parameters: {'booster': 'gbtree', 'lambda': 4.2962043187684794e-08, 'alpha': 0.006640902547582162, 'subsample': 0.749206509051589, 'colsample_bytree': 0.2568042293920567, 'learning_rate': 0.02, 'max_depth': 7, 'eta': 1.2052020863964632e-08, 'gamma': 0.041791823188585396, 'grow_policy': 'lossguide'}. Best is trial 81 with value: 0.992066.\u001b[0m\n",
            "\u001b[32m[I 2022-12-19 15:58:57,976]\u001b[0m Trial 83 finished with value: 0.9911530000000001 and parameters: {'booster': 'gbtree', 'lambda': 4.179087587518977e-08, 'alpha': 0.0019461843647360644, 'subsample': 0.7423505221506942, 'colsample_bytree': 0.2560572465841556, 'learning_rate': 0.02, 'max_depth': 6, 'eta': 2.263768510363083e-08, 'gamma': 0.04867091654735104, 'grow_policy': 'lossguide'}. Best is trial 81 with value: 0.992066.\u001b[0m\n",
            "\u001b[32m[I 2022-12-19 15:58:58,296]\u001b[0m Trial 84 finished with value: 0.9917483333333333 and parameters: {'booster': 'gbtree', 'lambda': 3.6843320754782963e-08, 'alpha': 0.0014816231174242472, 'subsample': 0.7488980818789784, 'colsample_bytree': 0.2578354953762055, 'learning_rate': 0.02, 'max_depth': 6, 'eta': 2.10899339249921e-08, 'gamma': 0.06472729230593098, 'grow_policy': 'lossguide'}. Best is trial 81 with value: 0.992066.\u001b[0m\n",
            "\u001b[32m[I 2022-12-19 15:58:58,618]\u001b[0m Trial 85 finished with value: 0.9923859999999999 and parameters: {'booster': 'gbtree', 'lambda': 4.036977975800345e-08, 'alpha': 0.0014838092148401476, 'subsample': 0.7589447688306541, 'colsample_bytree': 0.25911478062628773, 'learning_rate': 0.02, 'max_depth': 6, 'eta': 2.0660616639254007e-08, 'gamma': 0.05265599995519301, 'grow_policy': 'lossguide'}. Best is trial 85 with value: 0.9923859999999999.\u001b[0m\n",
            "\u001b[32m[I 2022-12-19 15:58:58,948]\u001b[0m Trial 86 finished with value: 0.9922646666666667 and parameters: {'booster': 'gbtree', 'lambda': 5.137938520038241e-08, 'alpha': 0.0016288021225418906, 'subsample': 0.754219915270893, 'colsample_bytree': 0.25968801130119257, 'learning_rate': 0.02, 'max_depth': 6, 'eta': 4.8227996880482324e-08, 'gamma': 0.06757548448849945, 'grow_policy': 'lossguide'}. Best is trial 85 with value: 0.9923859999999999.\u001b[0m\n",
            "\u001b[32m[I 2022-12-19 15:58:59,059]\u001b[0m Trial 87 pruned. Trial was pruned at iteration 18.\u001b[0m\n",
            "\u001b[32m[I 2022-12-19 15:58:59,245]\u001b[0m Trial 88 pruned. Trial was pruned at iteration 43.\u001b[0m\n",
            "\u001b[32m[I 2022-12-19 15:58:59,559]\u001b[0m Trial 89 finished with value: 0.9920256666666667 and parameters: {'booster': 'gbtree', 'lambda': 1.2880374122054143e-08, 'alpha': 0.004129054384768548, 'subsample': 0.7647057497118057, 'colsample_bytree': 0.23928259553358266, 'learning_rate': 0.02, 'max_depth': 6, 'eta': 1.7282065823716486e-08, 'gamma': 0.08337551512921333, 'grow_policy': 'lossguide'}. Best is trial 85 with value: 0.9923859999999999.\u001b[0m\n",
            "\u001b[32m[I 2022-12-19 15:58:59,902]\u001b[0m Trial 90 finished with value: 0.990846 and parameters: {'booster': 'gbtree', 'lambda': 1.0717563305072285e-08, 'alpha': 0.000501033645384585, 'subsample': 0.7624339756019642, 'colsample_bytree': 0.2825974531855092, 'learning_rate': 0.02, 'max_depth': 6, 'eta': 8.47168988137453e-08, 'gamma': 0.06613553822011593, 'grow_policy': 'lossguide'}. Best is trial 85 with value: 0.9923859999999999.\u001b[0m\n",
            "\u001b[32m[I 2022-12-19 15:58:59,995]\u001b[0m Trial 91 pruned. Trial was pruned at iteration 10.\u001b[0m\n",
            "\u001b[32m[I 2022-12-19 15:59:00,284]\u001b[0m Trial 92 finished with value: 0.9923053333333333 and parameters: {'booster': 'gbtree', 'lambda': 1.5080616211177173e-08, 'alpha': 0.01129731027363533, 'subsample': 0.6331913877397457, 'colsample_bytree': 0.25729806501551133, 'learning_rate': 0.02, 'max_depth': 7, 'eta': 4.981574626620798e-08, 'gamma': 0.06628280755967025, 'grow_policy': 'lossguide'}. Best is trial 85 with value: 0.9923859999999999.\u001b[0m\n",
            "\u001b[32m[I 2022-12-19 15:59:00,372]\u001b[0m Trial 93 pruned. Trial was pruned at iteration 5.\u001b[0m\n",
            "\u001b[32m[I 2022-12-19 15:59:00,458]\u001b[0m Trial 94 pruned. Trial was pruned at iteration 5.\u001b[0m\n",
            "\u001b[32m[I 2022-12-19 15:59:00,768]\u001b[0m Trial 95 finished with value: 0.9913116666666667 and parameters: {'booster': 'gbtree', 'lambda': 8.66315550942378e-08, 'alpha': 0.014629304558379564, 'subsample': 0.7575835810673732, 'colsample_bytree': 0.23036645571939532, 'learning_rate': 0.02, 'max_depth': 6, 'eta': 1.9923699667614518e-08, 'gamma': 0.23316871386697452, 'grow_policy': 'lossguide'}. Best is trial 85 with value: 0.9923859999999999.\u001b[0m\n",
            "\u001b[32m[I 2022-12-19 15:59:01,069]\u001b[0m Trial 96 finished with value: 0.9915873333333334 and parameters: {'booster': 'gbtree', 'lambda': 1.0182902136370744e-08, 'alpha': 0.0017474382856147552, 'subsample': 0.8017575107601645, 'colsample_bytree': 0.2088405151074247, 'learning_rate': 0.02, 'max_depth': 6, 'eta': 4.6779074573795704e-08, 'gamma': 0.09015881836542324, 'grow_policy': 'depthwise'}. Best is trial 85 with value: 0.9923859999999999.\u001b[0m\n",
            "\u001b[32m[I 2022-12-19 15:59:01,154]\u001b[0m Trial 97 pruned. Trial was pruned at iteration 5.\u001b[0m\n",
            "\u001b[32m[I 2022-12-19 15:59:01,236]\u001b[0m Trial 98 pruned. Trial was pruned at iteration 5.\u001b[0m\n",
            "\u001b[32m[I 2022-12-19 15:59:01,343]\u001b[0m Trial 99 pruned. Trial was pruned at iteration 5.\u001b[0m\n"
          ]
        }
      ]
    },
    {
      "cell_type": "code",
      "source": [
        "print(\"Number of finished trials: {}\".format(len(study.trials)))"
      ],
      "metadata": {
        "colab": {
          "base_uri": "https://localhost:8080/"
        },
        "id": "H-Y8AmiTa_fc",
        "outputId": "d2546204-5a27-4e76-a8e6-96cf21ea58ba"
      },
      "execution_count": 48,
      "outputs": [
        {
          "output_type": "stream",
          "name": "stdout",
          "text": [
            "Number of finished trials: 100\n"
          ]
        }
      ]
    },
    {
      "cell_type": "code",
      "source": [
        "#Retornando o melhor teste do estudo\n",
        "trial = study.best_trial\n",
        "print(\"Best trial:\",trial)\n"
      ],
      "metadata": {
        "colab": {
          "base_uri": "https://localhost:8080/"
        },
        "id": "gEAeCjLhcLsq",
        "outputId": "923352e5-0a81-4668-c964-31dbbf164c01"
      },
      "execution_count": 49,
      "outputs": [
        {
          "output_type": "stream",
          "name": "stdout",
          "text": [
            "Best trial: FrozenTrial(number=85, values=[0.9923859999999999], datetime_start=datetime.datetime(2022, 12, 19, 15, 58, 58, 299026), datetime_complete=datetime.datetime(2022, 12, 19, 15, 58, 58, 617804), params={'booster': 'gbtree', 'lambda': 4.036977975800345e-08, 'alpha': 0.0014838092148401476, 'subsample': 0.7589447688306541, 'colsample_bytree': 0.25911478062628773, 'learning_rate': 0.02, 'max_depth': 6, 'eta': 2.0660616639254007e-08, 'gamma': 0.05265599995519301, 'grow_policy': 'lossguide'}, distributions={'booster': CategoricalDistribution(choices=('gbtree', 'gblinear', 'dart')), 'lambda': FloatDistribution(high=1.0, log=True, low=1e-08, step=None), 'alpha': FloatDistribution(high=1.0, log=True, low=1e-08, step=None), 'subsample': FloatDistribution(high=1.0, log=False, low=0.2, step=None), 'colsample_bytree': FloatDistribution(high=1.0, log=False, low=0.2, step=None), 'learning_rate': CategoricalDistribution(choices=(0.008, 0.01, 0.012, 0.014, 0.016, 0.018, 0.02)), 'max_depth': IntDistribution(high=9, log=False, low=1, step=1), 'eta': FloatDistribution(high=1.0, log=True, low=1e-08, step=None), 'gamma': FloatDistribution(high=1.0, log=True, low=1e-08, step=None), 'grow_policy': CategoricalDistribution(choices=('depthwise', 'lossguide'))}, user_attrs={}, system_attrs={}, intermediate_values={0: 0.9384926666666668, 1: 0.9686089999999999, 2: 0.9804653333333334, 3: 0.9900143333333333, 4: 0.9918773333333334, 5: 0.9937026666666666, 6: 0.9932236666666666, 7: 0.9941749999999999, 8: 0.9938626666666667, 9: 0.993366, 10: 0.9928713333333333, 11: 0.9919193333333333, 12: 0.9915586666666667, 13: 0.9918673333333334, 14: 0.991548, 15: 0.9908769999999999, 16: 0.9912366666666667, 17: 0.9916356666666667, 18: 0.9913543333333333, 19: 0.9912733333333333, 20: 0.99155, 21: 0.9914703333333333, 22: 0.9916323333333333, 23: 0.9915116666666667, 24: 0.9919873333333333, 25: 0.9918286666666667, 26: 0.9918693333333333, 27: 0.9917073333333333, 28: 0.9915889999999999, 29: 0.9915873333333334, 30: 0.9917090000000001, 31: 0.991867, 32: 0.991826, 33: 0.991826, 34: 0.9919043333333333, 35: 0.992303, 36: 0.9921833333333333, 37: 0.9919846666666666, 38: 0.9918646666666667, 39: 0.9918626666666667, 40: 0.9917036666666667, 41: 0.9917029999999999, 42: 0.9916636666666667, 43: 0.9916663333333333, 44: 0.9914679999999999, 45: 0.9914266666666668, 46: 0.991348, 47: 0.9913896666666666, 48: 0.9914679999999999, 49: 0.9916273333333333, 50: 0.9914303333333333, 51: 0.99147, 52: 0.9914296666666665, 53: 0.99155, 54: 0.991549, 55: 0.9915483333333333, 56: 0.9915886666666666, 57: 0.9915886666666666, 58: 0.9914693333333333, 59: 0.9913903333333333, 60: 0.9913886666666666, 61: 0.991508, 62: 0.9917456666666666, 63: 0.9915463333333333, 64: 0.9915066666666666, 65: 0.9913073333333333, 66: 0.9912273333333333, 67: 0.9912293333333334, 68: 0.9912313333333334, 69: 0.9911113333333335, 70: 0.9911913333333334, 71: 0.9912703333333334, 72: 0.9913500000000001, 73: 0.9915506666666666, 74: 0.9914716666666666, 75: 0.991432, 76: 0.9915106666666667, 77: 0.9915896666666667, 78: 0.9916699999999999, 79: 0.9916303333333333, 80: 0.9917096666666666, 81: 0.9920249999999999, 82: 0.9919853333333334, 83: 0.9918279999999999, 84: 0.9919863333333333, 85: 0.99175, 86: 0.9916706666666667, 87: 0.9919483333333333, 88: 0.9920286666666667, 89: 0.9919899999999999, 90: 0.9920299999999999, 91: 0.9920293333333333, 92: 0.9921083333333333, 93: 0.9921886666666667, 94: 0.9923069999999999, 95: 0.9923466666666666, 96: 0.9923069999999999, 97: 0.9922269999999999, 98: 0.992306, 99: 0.9923859999999999}, trial_id=85, state=TrialState.COMPLETE, value=None)\n"
          ]
        }
      ]
    },
    {
      "cell_type": "code",
      "source": [
        "#Retorna o valor no estudo.\n",
        "print(\"  Value: {}\".format(trial.value))"
      ],
      "metadata": {
        "colab": {
          "base_uri": "https://localhost:8080/"
        },
        "id": "c0p77FdmcTAR",
        "outputId": "b711e66b-7f5a-4e8e-b291-3ea9c9c13db8"
      },
      "execution_count": 50,
      "outputs": [
        {
          "output_type": "stream",
          "name": "stdout",
          "text": [
            "  Value: 0.9923859999999999\n"
          ]
        }
      ]
    },
    {
      "cell_type": "code",
      "source": [
        "#Retorna os melhores parametros obtidos\n",
        "print(\"  Params: \")\n",
        "for key, value in trial.params.items():\n",
        "      print(\"    {}: {}\".format(key, value))"
      ],
      "metadata": {
        "colab": {
          "base_uri": "https://localhost:8080/"
        },
        "id": "aw63MzQ4ceG5",
        "outputId": "6986095f-6f2a-4d33-a0aa-7de554985795"
      },
      "execution_count": 51,
      "outputs": [
        {
          "output_type": "stream",
          "name": "stdout",
          "text": [
            "  Params: \n",
            "    booster: gbtree\n",
            "    lambda: 4.036977975800345e-08\n",
            "    alpha: 0.0014838092148401476\n",
            "    subsample: 0.7589447688306541\n",
            "    colsample_bytree: 0.25911478062628773\n",
            "    learning_rate: 0.02\n",
            "    max_depth: 6\n",
            "    eta: 2.0660616639254007e-08\n",
            "    gamma: 0.05265599995519301\n",
            "    grow_policy: lossguide\n"
          ]
        }
      ]
    },
    {
      "cell_type": "code",
      "source": [
        "#cria um dataset\n",
        "hist = study.trials_dataframe()\n",
        "hist.head()\n"
      ],
      "metadata": {
        "colab": {
          "base_uri": "https://localhost:8080/",
          "height": 357
        },
        "id": "Au4AXo3OeOPp",
        "outputId": "b3ece2b9-23e3-495c-bae0-e3092a41dc0f"
      },
      "execution_count": 52,
      "outputs": [
        {
          "output_type": "execute_result",
          "data": {
            "text/plain": [
              "   number     value             datetime_start          datetime_complete  \\\n",
              "0       0  0.986223 2022-12-19 15:58:41.692431 2022-12-19 15:58:41.983672   \n",
              "1       1  0.974570 2022-12-19 15:58:41.993358 2022-12-19 15:58:42.168607   \n",
              "2       2  0.942742 2022-12-19 15:58:42.174206 2022-12-19 15:58:42.347063   \n",
              "3       3  0.989448 2022-12-19 15:58:42.352671 2022-12-19 15:58:42.802614   \n",
              "4       4  0.990873 2022-12-19 15:58:42.808075 2022-12-19 15:58:43.044461   \n",
              "\n",
              "                duration  params_alpha params_booster  \\\n",
              "0 0 days 00:00:00.291241  6.270015e-08           dart   \n",
              "1 0 days 00:00:00.175249  8.473060e-04       gblinear   \n",
              "2 0 days 00:00:00.172857  1.512466e-02       gblinear   \n",
              "3 0 days 00:00:00.449943  4.028693e-03         gbtree   \n",
              "4 0 days 00:00:00.236386  2.648778e-01         gbtree   \n",
              "\n",
              "   params_colsample_bytree  params_eta  params_gamma params_grow_policy  \\\n",
              "0                 0.260130    0.000040      0.582526          depthwise   \n",
              "1                 0.248951         NaN           NaN                NaN   \n",
              "2                 0.752061         NaN           NaN                NaN   \n",
              "3                 0.895198    0.000628      0.007657          depthwise   \n",
              "4                 0.253199    0.000003      0.009804          lossguide   \n",
              "\n",
              "   params_lambda  params_learning_rate  params_max_depth  \\\n",
              "0       0.000110                 0.018               1.0   \n",
              "1       0.000001                 0.014               NaN   \n",
              "2       0.000374                 0.008               NaN   \n",
              "3       0.001583                 0.014               7.0   \n",
              "4       0.015537                 0.008               8.0   \n",
              "\n",
              "  params_normalize_type  params_rate_drop params_sample_type  \\\n",
              "0                  tree           0.00026            uniform   \n",
              "1                   NaN               NaN                NaN   \n",
              "2                   NaN               NaN                NaN   \n",
              "3                   NaN               NaN                NaN   \n",
              "4                   NaN               NaN                NaN   \n",
              "\n",
              "   params_skip_drop  params_subsample     state  \n",
              "0          0.688969          0.323943  COMPLETE  \n",
              "1               NaN          0.972330  COMPLETE  \n",
              "2               NaN          0.738630  COMPLETE  \n",
              "3               NaN          0.644862  COMPLETE  \n",
              "4               NaN          0.830435  COMPLETE  "
            ],
            "text/html": [
              "\n",
              "  <div id=\"df-1a01130f-5c26-4495-8e04-f477c3ca4644\">\n",
              "    <div class=\"colab-df-container\">\n",
              "      <div>\n",
              "<style scoped>\n",
              "    .dataframe tbody tr th:only-of-type {\n",
              "        vertical-align: middle;\n",
              "    }\n",
              "\n",
              "    .dataframe tbody tr th {\n",
              "        vertical-align: top;\n",
              "    }\n",
              "\n",
              "    .dataframe thead th {\n",
              "        text-align: right;\n",
              "    }\n",
              "</style>\n",
              "<table border=\"1\" class=\"dataframe\">\n",
              "  <thead>\n",
              "    <tr style=\"text-align: right;\">\n",
              "      <th></th>\n",
              "      <th>number</th>\n",
              "      <th>value</th>\n",
              "      <th>datetime_start</th>\n",
              "      <th>datetime_complete</th>\n",
              "      <th>duration</th>\n",
              "      <th>params_alpha</th>\n",
              "      <th>params_booster</th>\n",
              "      <th>params_colsample_bytree</th>\n",
              "      <th>params_eta</th>\n",
              "      <th>params_gamma</th>\n",
              "      <th>params_grow_policy</th>\n",
              "      <th>params_lambda</th>\n",
              "      <th>params_learning_rate</th>\n",
              "      <th>params_max_depth</th>\n",
              "      <th>params_normalize_type</th>\n",
              "      <th>params_rate_drop</th>\n",
              "      <th>params_sample_type</th>\n",
              "      <th>params_skip_drop</th>\n",
              "      <th>params_subsample</th>\n",
              "      <th>state</th>\n",
              "    </tr>\n",
              "  </thead>\n",
              "  <tbody>\n",
              "    <tr>\n",
              "      <th>0</th>\n",
              "      <td>0</td>\n",
              "      <td>0.986223</td>\n",
              "      <td>2022-12-19 15:58:41.692431</td>\n",
              "      <td>2022-12-19 15:58:41.983672</td>\n",
              "      <td>0 days 00:00:00.291241</td>\n",
              "      <td>6.270015e-08</td>\n",
              "      <td>dart</td>\n",
              "      <td>0.260130</td>\n",
              "      <td>0.000040</td>\n",
              "      <td>0.582526</td>\n",
              "      <td>depthwise</td>\n",
              "      <td>0.000110</td>\n",
              "      <td>0.018</td>\n",
              "      <td>1.0</td>\n",
              "      <td>tree</td>\n",
              "      <td>0.00026</td>\n",
              "      <td>uniform</td>\n",
              "      <td>0.688969</td>\n",
              "      <td>0.323943</td>\n",
              "      <td>COMPLETE</td>\n",
              "    </tr>\n",
              "    <tr>\n",
              "      <th>1</th>\n",
              "      <td>1</td>\n",
              "      <td>0.974570</td>\n",
              "      <td>2022-12-19 15:58:41.993358</td>\n",
              "      <td>2022-12-19 15:58:42.168607</td>\n",
              "      <td>0 days 00:00:00.175249</td>\n",
              "      <td>8.473060e-04</td>\n",
              "      <td>gblinear</td>\n",
              "      <td>0.248951</td>\n",
              "      <td>NaN</td>\n",
              "      <td>NaN</td>\n",
              "      <td>NaN</td>\n",
              "      <td>0.000001</td>\n",
              "      <td>0.014</td>\n",
              "      <td>NaN</td>\n",
              "      <td>NaN</td>\n",
              "      <td>NaN</td>\n",
              "      <td>NaN</td>\n",
              "      <td>NaN</td>\n",
              "      <td>0.972330</td>\n",
              "      <td>COMPLETE</td>\n",
              "    </tr>\n",
              "    <tr>\n",
              "      <th>2</th>\n",
              "      <td>2</td>\n",
              "      <td>0.942742</td>\n",
              "      <td>2022-12-19 15:58:42.174206</td>\n",
              "      <td>2022-12-19 15:58:42.347063</td>\n",
              "      <td>0 days 00:00:00.172857</td>\n",
              "      <td>1.512466e-02</td>\n",
              "      <td>gblinear</td>\n",
              "      <td>0.752061</td>\n",
              "      <td>NaN</td>\n",
              "      <td>NaN</td>\n",
              "      <td>NaN</td>\n",
              "      <td>0.000374</td>\n",
              "      <td>0.008</td>\n",
              "      <td>NaN</td>\n",
              "      <td>NaN</td>\n",
              "      <td>NaN</td>\n",
              "      <td>NaN</td>\n",
              "      <td>NaN</td>\n",
              "      <td>0.738630</td>\n",
              "      <td>COMPLETE</td>\n",
              "    </tr>\n",
              "    <tr>\n",
              "      <th>3</th>\n",
              "      <td>3</td>\n",
              "      <td>0.989448</td>\n",
              "      <td>2022-12-19 15:58:42.352671</td>\n",
              "      <td>2022-12-19 15:58:42.802614</td>\n",
              "      <td>0 days 00:00:00.449943</td>\n",
              "      <td>4.028693e-03</td>\n",
              "      <td>gbtree</td>\n",
              "      <td>0.895198</td>\n",
              "      <td>0.000628</td>\n",
              "      <td>0.007657</td>\n",
              "      <td>depthwise</td>\n",
              "      <td>0.001583</td>\n",
              "      <td>0.014</td>\n",
              "      <td>7.0</td>\n",
              "      <td>NaN</td>\n",
              "      <td>NaN</td>\n",
              "      <td>NaN</td>\n",
              "      <td>NaN</td>\n",
              "      <td>0.644862</td>\n",
              "      <td>COMPLETE</td>\n",
              "    </tr>\n",
              "    <tr>\n",
              "      <th>4</th>\n",
              "      <td>4</td>\n",
              "      <td>0.990873</td>\n",
              "      <td>2022-12-19 15:58:42.808075</td>\n",
              "      <td>2022-12-19 15:58:43.044461</td>\n",
              "      <td>0 days 00:00:00.236386</td>\n",
              "      <td>2.648778e-01</td>\n",
              "      <td>gbtree</td>\n",
              "      <td>0.253199</td>\n",
              "      <td>0.000003</td>\n",
              "      <td>0.009804</td>\n",
              "      <td>lossguide</td>\n",
              "      <td>0.015537</td>\n",
              "      <td>0.008</td>\n",
              "      <td>8.0</td>\n",
              "      <td>NaN</td>\n",
              "      <td>NaN</td>\n",
              "      <td>NaN</td>\n",
              "      <td>NaN</td>\n",
              "      <td>0.830435</td>\n",
              "      <td>COMPLETE</td>\n",
              "    </tr>\n",
              "  </tbody>\n",
              "</table>\n",
              "</div>\n",
              "      <button class=\"colab-df-convert\" onclick=\"convertToInteractive('df-1a01130f-5c26-4495-8e04-f477c3ca4644')\"\n",
              "              title=\"Convert this dataframe to an interactive table.\"\n",
              "              style=\"display:none;\">\n",
              "        \n",
              "  <svg xmlns=\"http://www.w3.org/2000/svg\" height=\"24px\"viewBox=\"0 0 24 24\"\n",
              "       width=\"24px\">\n",
              "    <path d=\"M0 0h24v24H0V0z\" fill=\"none\"/>\n",
              "    <path d=\"M18.56 5.44l.94 2.06.94-2.06 2.06-.94-2.06-.94-.94-2.06-.94 2.06-2.06.94zm-11 1L8.5 8.5l.94-2.06 2.06-.94-2.06-.94L8.5 2.5l-.94 2.06-2.06.94zm10 10l.94 2.06.94-2.06 2.06-.94-2.06-.94-.94-2.06-.94 2.06-2.06.94z\"/><path d=\"M17.41 7.96l-1.37-1.37c-.4-.4-.92-.59-1.43-.59-.52 0-1.04.2-1.43.59L10.3 9.45l-7.72 7.72c-.78.78-.78 2.05 0 2.83L4 21.41c.39.39.9.59 1.41.59.51 0 1.02-.2 1.41-.59l7.78-7.78 2.81-2.81c.8-.78.8-2.07 0-2.86zM5.41 20L4 18.59l7.72-7.72 1.47 1.35L5.41 20z\"/>\n",
              "  </svg>\n",
              "      </button>\n",
              "      \n",
              "  <style>\n",
              "    .colab-df-container {\n",
              "      display:flex;\n",
              "      flex-wrap:wrap;\n",
              "      gap: 12px;\n",
              "    }\n",
              "\n",
              "    .colab-df-convert {\n",
              "      background-color: #E8F0FE;\n",
              "      border: none;\n",
              "      border-radius: 50%;\n",
              "      cursor: pointer;\n",
              "      display: none;\n",
              "      fill: #1967D2;\n",
              "      height: 32px;\n",
              "      padding: 0 0 0 0;\n",
              "      width: 32px;\n",
              "    }\n",
              "\n",
              "    .colab-df-convert:hover {\n",
              "      background-color: #E2EBFA;\n",
              "      box-shadow: 0px 1px 2px rgba(60, 64, 67, 0.3), 0px 1px 3px 1px rgba(60, 64, 67, 0.15);\n",
              "      fill: #174EA6;\n",
              "    }\n",
              "\n",
              "    [theme=dark] .colab-df-convert {\n",
              "      background-color: #3B4455;\n",
              "      fill: #D2E3FC;\n",
              "    }\n",
              "\n",
              "    [theme=dark] .colab-df-convert:hover {\n",
              "      background-color: #434B5C;\n",
              "      box-shadow: 0px 1px 3px 1px rgba(0, 0, 0, 0.15);\n",
              "      filter: drop-shadow(0px 1px 2px rgba(0, 0, 0, 0.3));\n",
              "      fill: #FFFFFF;\n",
              "    }\n",
              "  </style>\n",
              "\n",
              "      <script>\n",
              "        const buttonEl =\n",
              "          document.querySelector('#df-1a01130f-5c26-4495-8e04-f477c3ca4644 button.colab-df-convert');\n",
              "        buttonEl.style.display =\n",
              "          google.colab.kernel.accessAllowed ? 'block' : 'none';\n",
              "\n",
              "        async function convertToInteractive(key) {\n",
              "          const element = document.querySelector('#df-1a01130f-5c26-4495-8e04-f477c3ca4644');\n",
              "          const dataTable =\n",
              "            await google.colab.kernel.invokeFunction('convertToInteractive',\n",
              "                                                     [key], {});\n",
              "          if (!dataTable) return;\n",
              "\n",
              "          const docLinkHtml = 'Like what you see? Visit the ' +\n",
              "            '<a target=\"_blank\" href=https://colab.research.google.com/notebooks/data_table.ipynb>data table notebook</a>'\n",
              "            + ' to learn more about interactive tables.';\n",
              "          element.innerHTML = '';\n",
              "          dataTable['output_type'] = 'display_data';\n",
              "          await google.colab.output.renderOutput(dataTable, element);\n",
              "          const docLink = document.createElement('div');\n",
              "          docLink.innerHTML = docLinkHtml;\n",
              "          element.appendChild(docLink);\n",
              "        }\n",
              "      </script>\n",
              "    </div>\n",
              "  </div>\n",
              "  "
            ]
          },
          "metadata": {},
          "execution_count": 52
        }
      ]
    },
    {
      "cell_type": "code",
      "source": [
        "# histórico de otimização\n",
        "#É o histórico de uma melhor pontuação, o ponto azul é a pontuação desta tentativa e a linha vermelha mostra a melhor pontuação.\n",
        "fig = optuna.visualization.plot_optimization_history(study)\n",
        "fig.show();"
      ],
      "metadata": {
        "colab": {
          "base_uri": "https://localhost:8080/",
          "height": 542
        },
        "id": "h9LO9VfkeycD",
        "outputId": "0c153f1e-e0e1-437d-b46c-645bbc673a1c"
      },
      "execution_count": 53,
      "outputs": [
        {
          "output_type": "display_data",
          "data": {
            "text/html": [
              "<html>\n",
              "<head><meta charset=\"utf-8\" /></head>\n",
              "<body>\n",
              "    <div>            <script src=\"https://cdnjs.cloudflare.com/ajax/libs/mathjax/2.7.5/MathJax.js?config=TeX-AMS-MML_SVG\"></script><script type=\"text/javascript\">if (window.MathJax) {MathJax.Hub.Config({SVG: {font: \"STIX-Web\"}});}</script>                <script type=\"text/javascript\">window.PlotlyConfig = {MathJaxConfig: 'local'};</script>\n",
              "        <script src=\"https://cdn.plot.ly/plotly-2.8.3.min.js\"></script>                <div id=\"007b2fc2-bd59-4b71-b2ad-f97a2fdf79ac\" class=\"plotly-graph-div\" style=\"height:525px; width:100%;\"></div>            <script type=\"text/javascript\">                                    window.PLOTLYENV=window.PLOTLYENV || {};                                    if (document.getElementById(\"007b2fc2-bd59-4b71-b2ad-f97a2fdf79ac\")) {                    Plotly.newPlot(                        \"007b2fc2-bd59-4b71-b2ad-f97a2fdf79ac\",                        [{\"mode\":\"markers\",\"name\":\"Objective Value\",\"x\":[0,1,2,3,4,5,8,14,22,31,37,39,55,71,74,75,76,77,80,81,82,83,84,85,86,89,90,92,95,96],\"y\":[0.9862226666666666,0.9745699999999999,0.9427416666666666,0.9894476666666666,0.9908726666666666,0.990733,0.9899089999999999,0.9903716666666668,0.9902233333333332,0.9901023333333333,0.9900013333333333,0.9915636666666666,0.990657,0.9910313333333333,0.9914673333333334,0.9908720000000001,0.9909153333333333,0.99171,0.9913109999999999,0.992066,0.991908,0.9911530000000001,0.9917483333333333,0.9923859999999999,0.9922646666666667,0.9920256666666667,0.990846,0.9923053333333333,0.9913116666666667,0.9915873333333334],\"type\":\"scatter\"},{\"name\":\"Best Value\",\"x\":[0,1,2,3,4,5,8,14,22,31,37,39,55,71,74,75,76,77,80,81,82,83,84,85,86,89,90,92,95,96],\"y\":[0.9862226666666666,0.9862226666666666,0.9862226666666666,0.9894476666666666,0.9908726666666666,0.9908726666666666,0.9908726666666666,0.9908726666666666,0.9908726666666666,0.9908726666666666,0.9908726666666666,0.9915636666666666,0.9915636666666666,0.9915636666666666,0.9915636666666666,0.9915636666666666,0.9915636666666666,0.99171,0.99171,0.992066,0.992066,0.992066,0.992066,0.9923859999999999,0.9923859999999999,0.9923859999999999,0.9923859999999999,0.9923859999999999,0.9923859999999999,0.9923859999999999],\"type\":\"scatter\"}],                        {\"title\":{\"text\":\"Optimization History Plot\"},\"xaxis\":{\"title\":{\"text\":\"Trial\"}},\"yaxis\":{\"title\":{\"text\":\"Objective Value\"}},\"template\":{\"data\":{\"bar\":[{\"error_x\":{\"color\":\"#2a3f5f\"},\"error_y\":{\"color\":\"#2a3f5f\"},\"marker\":{\"line\":{\"color\":\"#E5ECF6\",\"width\":0.5},\"pattern\":{\"fillmode\":\"overlay\",\"size\":10,\"solidity\":0.2}},\"type\":\"bar\"}],\"barpolar\":[{\"marker\":{\"line\":{\"color\":\"#E5ECF6\",\"width\":0.5},\"pattern\":{\"fillmode\":\"overlay\",\"size\":10,\"solidity\":0.2}},\"type\":\"barpolar\"}],\"carpet\":[{\"aaxis\":{\"endlinecolor\":\"#2a3f5f\",\"gridcolor\":\"white\",\"linecolor\":\"white\",\"minorgridcolor\":\"white\",\"startlinecolor\":\"#2a3f5f\"},\"baxis\":{\"endlinecolor\":\"#2a3f5f\",\"gridcolor\":\"white\",\"linecolor\":\"white\",\"minorgridcolor\":\"white\",\"startlinecolor\":\"#2a3f5f\"},\"type\":\"carpet\"}],\"choropleth\":[{\"colorbar\":{\"outlinewidth\":0,\"ticks\":\"\"},\"type\":\"choropleth\"}],\"contour\":[{\"colorbar\":{\"outlinewidth\":0,\"ticks\":\"\"},\"colorscale\":[[0.0,\"#0d0887\"],[0.1111111111111111,\"#46039f\"],[0.2222222222222222,\"#7201a8\"],[0.3333333333333333,\"#9c179e\"],[0.4444444444444444,\"#bd3786\"],[0.5555555555555556,\"#d8576b\"],[0.6666666666666666,\"#ed7953\"],[0.7777777777777778,\"#fb9f3a\"],[0.8888888888888888,\"#fdca26\"],[1.0,\"#f0f921\"]],\"type\":\"contour\"}],\"contourcarpet\":[{\"colorbar\":{\"outlinewidth\":0,\"ticks\":\"\"},\"type\":\"contourcarpet\"}],\"heatmap\":[{\"colorbar\":{\"outlinewidth\":0,\"ticks\":\"\"},\"colorscale\":[[0.0,\"#0d0887\"],[0.1111111111111111,\"#46039f\"],[0.2222222222222222,\"#7201a8\"],[0.3333333333333333,\"#9c179e\"],[0.4444444444444444,\"#bd3786\"],[0.5555555555555556,\"#d8576b\"],[0.6666666666666666,\"#ed7953\"],[0.7777777777777778,\"#fb9f3a\"],[0.8888888888888888,\"#fdca26\"],[1.0,\"#f0f921\"]],\"type\":\"heatmap\"}],\"heatmapgl\":[{\"colorbar\":{\"outlinewidth\":0,\"ticks\":\"\"},\"colorscale\":[[0.0,\"#0d0887\"],[0.1111111111111111,\"#46039f\"],[0.2222222222222222,\"#7201a8\"],[0.3333333333333333,\"#9c179e\"],[0.4444444444444444,\"#bd3786\"],[0.5555555555555556,\"#d8576b\"],[0.6666666666666666,\"#ed7953\"],[0.7777777777777778,\"#fb9f3a\"],[0.8888888888888888,\"#fdca26\"],[1.0,\"#f0f921\"]],\"type\":\"heatmapgl\"}],\"histogram\":[{\"marker\":{\"pattern\":{\"fillmode\":\"overlay\",\"size\":10,\"solidity\":0.2}},\"type\":\"histogram\"}],\"histogram2d\":[{\"colorbar\":{\"outlinewidth\":0,\"ticks\":\"\"},\"colorscale\":[[0.0,\"#0d0887\"],[0.1111111111111111,\"#46039f\"],[0.2222222222222222,\"#7201a8\"],[0.3333333333333333,\"#9c179e\"],[0.4444444444444444,\"#bd3786\"],[0.5555555555555556,\"#d8576b\"],[0.6666666666666666,\"#ed7953\"],[0.7777777777777778,\"#fb9f3a\"],[0.8888888888888888,\"#fdca26\"],[1.0,\"#f0f921\"]],\"type\":\"histogram2d\"}],\"histogram2dcontour\":[{\"colorbar\":{\"outlinewidth\":0,\"ticks\":\"\"},\"colorscale\":[[0.0,\"#0d0887\"],[0.1111111111111111,\"#46039f\"],[0.2222222222222222,\"#7201a8\"],[0.3333333333333333,\"#9c179e\"],[0.4444444444444444,\"#bd3786\"],[0.5555555555555556,\"#d8576b\"],[0.6666666666666666,\"#ed7953\"],[0.7777777777777778,\"#fb9f3a\"],[0.8888888888888888,\"#fdca26\"],[1.0,\"#f0f921\"]],\"type\":\"histogram2dcontour\"}],\"mesh3d\":[{\"colorbar\":{\"outlinewidth\":0,\"ticks\":\"\"},\"type\":\"mesh3d\"}],\"parcoords\":[{\"line\":{\"colorbar\":{\"outlinewidth\":0,\"ticks\":\"\"}},\"type\":\"parcoords\"}],\"pie\":[{\"automargin\":true,\"type\":\"pie\"}],\"scatter\":[{\"marker\":{\"colorbar\":{\"outlinewidth\":0,\"ticks\":\"\"}},\"type\":\"scatter\"}],\"scatter3d\":[{\"line\":{\"colorbar\":{\"outlinewidth\":0,\"ticks\":\"\"}},\"marker\":{\"colorbar\":{\"outlinewidth\":0,\"ticks\":\"\"}},\"type\":\"scatter3d\"}],\"scattercarpet\":[{\"marker\":{\"colorbar\":{\"outlinewidth\":0,\"ticks\":\"\"}},\"type\":\"scattercarpet\"}],\"scattergeo\":[{\"marker\":{\"colorbar\":{\"outlinewidth\":0,\"ticks\":\"\"}},\"type\":\"scattergeo\"}],\"scattergl\":[{\"marker\":{\"colorbar\":{\"outlinewidth\":0,\"ticks\":\"\"}},\"type\":\"scattergl\"}],\"scattermapbox\":[{\"marker\":{\"colorbar\":{\"outlinewidth\":0,\"ticks\":\"\"}},\"type\":\"scattermapbox\"}],\"scatterpolar\":[{\"marker\":{\"colorbar\":{\"outlinewidth\":0,\"ticks\":\"\"}},\"type\":\"scatterpolar\"}],\"scatterpolargl\":[{\"marker\":{\"colorbar\":{\"outlinewidth\":0,\"ticks\":\"\"}},\"type\":\"scatterpolargl\"}],\"scatterternary\":[{\"marker\":{\"colorbar\":{\"outlinewidth\":0,\"ticks\":\"\"}},\"type\":\"scatterternary\"}],\"surface\":[{\"colorbar\":{\"outlinewidth\":0,\"ticks\":\"\"},\"colorscale\":[[0.0,\"#0d0887\"],[0.1111111111111111,\"#46039f\"],[0.2222222222222222,\"#7201a8\"],[0.3333333333333333,\"#9c179e\"],[0.4444444444444444,\"#bd3786\"],[0.5555555555555556,\"#d8576b\"],[0.6666666666666666,\"#ed7953\"],[0.7777777777777778,\"#fb9f3a\"],[0.8888888888888888,\"#fdca26\"],[1.0,\"#f0f921\"]],\"type\":\"surface\"}],\"table\":[{\"cells\":{\"fill\":{\"color\":\"#EBF0F8\"},\"line\":{\"color\":\"white\"}},\"header\":{\"fill\":{\"color\":\"#C8D4E3\"},\"line\":{\"color\":\"white\"}},\"type\":\"table\"}]},\"layout\":{\"annotationdefaults\":{\"arrowcolor\":\"#2a3f5f\",\"arrowhead\":0,\"arrowwidth\":1},\"autotypenumbers\":\"strict\",\"coloraxis\":{\"colorbar\":{\"outlinewidth\":0,\"ticks\":\"\"}},\"colorscale\":{\"diverging\":[[0,\"#8e0152\"],[0.1,\"#c51b7d\"],[0.2,\"#de77ae\"],[0.3,\"#f1b6da\"],[0.4,\"#fde0ef\"],[0.5,\"#f7f7f7\"],[0.6,\"#e6f5d0\"],[0.7,\"#b8e186\"],[0.8,\"#7fbc41\"],[0.9,\"#4d9221\"],[1,\"#276419\"]],\"sequential\":[[0.0,\"#0d0887\"],[0.1111111111111111,\"#46039f\"],[0.2222222222222222,\"#7201a8\"],[0.3333333333333333,\"#9c179e\"],[0.4444444444444444,\"#bd3786\"],[0.5555555555555556,\"#d8576b\"],[0.6666666666666666,\"#ed7953\"],[0.7777777777777778,\"#fb9f3a\"],[0.8888888888888888,\"#fdca26\"],[1.0,\"#f0f921\"]],\"sequentialminus\":[[0.0,\"#0d0887\"],[0.1111111111111111,\"#46039f\"],[0.2222222222222222,\"#7201a8\"],[0.3333333333333333,\"#9c179e\"],[0.4444444444444444,\"#bd3786\"],[0.5555555555555556,\"#d8576b\"],[0.6666666666666666,\"#ed7953\"],[0.7777777777777778,\"#fb9f3a\"],[0.8888888888888888,\"#fdca26\"],[1.0,\"#f0f921\"]]},\"colorway\":[\"#636efa\",\"#EF553B\",\"#00cc96\",\"#ab63fa\",\"#FFA15A\",\"#19d3f3\",\"#FF6692\",\"#B6E880\",\"#FF97FF\",\"#FECB52\"],\"font\":{\"color\":\"#2a3f5f\"},\"geo\":{\"bgcolor\":\"white\",\"lakecolor\":\"white\",\"landcolor\":\"#E5ECF6\",\"showlakes\":true,\"showland\":true,\"subunitcolor\":\"white\"},\"hoverlabel\":{\"align\":\"left\"},\"hovermode\":\"closest\",\"mapbox\":{\"style\":\"light\"},\"paper_bgcolor\":\"white\",\"plot_bgcolor\":\"#E5ECF6\",\"polar\":{\"angularaxis\":{\"gridcolor\":\"white\",\"linecolor\":\"white\",\"ticks\":\"\"},\"bgcolor\":\"#E5ECF6\",\"radialaxis\":{\"gridcolor\":\"white\",\"linecolor\":\"white\",\"ticks\":\"\"}},\"scene\":{\"xaxis\":{\"backgroundcolor\":\"#E5ECF6\",\"gridcolor\":\"white\",\"gridwidth\":2,\"linecolor\":\"white\",\"showbackground\":true,\"ticks\":\"\",\"zerolinecolor\":\"white\"},\"yaxis\":{\"backgroundcolor\":\"#E5ECF6\",\"gridcolor\":\"white\",\"gridwidth\":2,\"linecolor\":\"white\",\"showbackground\":true,\"ticks\":\"\",\"zerolinecolor\":\"white\"},\"zaxis\":{\"backgroundcolor\":\"#E5ECF6\",\"gridcolor\":\"white\",\"gridwidth\":2,\"linecolor\":\"white\",\"showbackground\":true,\"ticks\":\"\",\"zerolinecolor\":\"white\"}},\"shapedefaults\":{\"line\":{\"color\":\"#2a3f5f\"}},\"ternary\":{\"aaxis\":{\"gridcolor\":\"white\",\"linecolor\":\"white\",\"ticks\":\"\"},\"baxis\":{\"gridcolor\":\"white\",\"linecolor\":\"white\",\"ticks\":\"\"},\"bgcolor\":\"#E5ECF6\",\"caxis\":{\"gridcolor\":\"white\",\"linecolor\":\"white\",\"ticks\":\"\"}},\"title\":{\"x\":0.05},\"xaxis\":{\"automargin\":true,\"gridcolor\":\"white\",\"linecolor\":\"white\",\"ticks\":\"\",\"title\":{\"standoff\":15},\"zerolinecolor\":\"white\",\"zerolinewidth\":2},\"yaxis\":{\"automargin\":true,\"gridcolor\":\"white\",\"linecolor\":\"white\",\"ticks\":\"\",\"title\":{\"standoff\":15},\"zerolinecolor\":\"white\",\"zerolinewidth\":2}}}},                        {\"responsive\": true}                    ).then(function(){\n",
              "                            \n",
              "var gd = document.getElementById('007b2fc2-bd59-4b71-b2ad-f97a2fdf79ac');\n",
              "var x = new MutationObserver(function (mutations, observer) {{\n",
              "        var display = window.getComputedStyle(gd).display;\n",
              "        if (!display || display === 'none') {{\n",
              "            console.log([gd, 'removed!']);\n",
              "            Plotly.purge(gd);\n",
              "            observer.disconnect();\n",
              "        }}\n",
              "}});\n",
              "\n",
              "// Listen for the removal of the full notebook cells\n",
              "var notebookContainer = gd.closest('#notebook-container');\n",
              "if (notebookContainer) {{\n",
              "    x.observe(notebookContainer, {childList: true});\n",
              "}}\n",
              "\n",
              "// Listen for the clearing of the current output cell\n",
              "var outputEl = gd.closest('.output');\n",
              "if (outputEl) {{\n",
              "    x.observe(outputEl, {childList: true});\n",
              "}}\n",
              "\n",
              "                        })                };                            </script>        </div>\n",
              "</body>\n",
              "</html>"
            ]
          },
          "metadata": {}
        }
      ]
    },
    {
      "cell_type": "code",
      "source": [
        "#Cada cor mostra a curva de perda de cada tentativa.\n",
        "\n",
        "optuna.visualization.plot_intermediate_values(study)"
      ],
      "metadata": {
        "colab": {
          "base_uri": "https://localhost:8080/",
          "height": 542
        },
        "id": "MnlVyYA_gqPK",
        "outputId": "bb324ddb-240a-4569-d8ab-2ae4e0c2f667"
      },
      "execution_count": 54,
      "outputs": [
        {
          "output_type": "display_data",
          "data": {
            "text/html": [
              "<html>\n",
              "<head><meta charset=\"utf-8\" /></head>\n",
              "<body>\n",
              "    <div>            <script src=\"https://cdnjs.cloudflare.com/ajax/libs/mathjax/2.7.5/MathJax.js?config=TeX-AMS-MML_SVG\"></script><script type=\"text/javascript\">if (window.MathJax) {MathJax.Hub.Config({SVG: {font: \"STIX-Web\"}});}</script>                <script type=\"text/javascript\">window.PlotlyConfig = {MathJaxConfig: 'local'};</script>\n",
              "        <script src=\"https://cdn.plot.ly/plotly-2.8.3.min.js\"></script>                <div id=\"bb67bc6b-6559-4b69-89af-26546a6bda9f\" class=\"plotly-graph-div\" style=\"height:525px; width:100%;\"></div>            <script type=\"text/javascript\">                                    window.PLOTLYENV=window.PLOTLYENV || {};                                    if (document.getElementById(\"bb67bc6b-6559-4b69-89af-26546a6bda9f\")) {                    Plotly.newPlot(                        \"bb67bc6b-6559-4b69-89af-26546a6bda9f\",                        [{\"marker\":{\"maxdisplayed\":10},\"mode\":\"lines+markers\",\"name\":\"Trial0\",\"x\":[0,1,2,3,4,5,6,7,8,9,10,11,12,13,14,15,16,17,18,19,20,21,22,23,24,25,26,27,28,29,30,31,32,33,34,35,36,37,38,39,40,41,42,43,44,45,46,47,48,49,50,51,52,53,54,55,56,57,58,59,60,61,62,63,64,65,66,67,68,69,70,71,72,73,74,75,76,77,78,79,80,81,82,83,84,85,86,87,88,89,90,91,92,93,94,95,96,97,98,99],\"y\":[0.852057,0.9461263333333334,0.9518876666666666,0.966835,0.967207,0.9709236666666667,0.9744576666666666,0.975728,0.9777853333333333,0.9773466666666666,0.977186,0.9783069999999999,0.9814106666666667,0.9810536666666666,0.9818086666666668,0.9818786666666667,0.9820756666666667,0.982041,0.9815866666666667,0.9819816666666666,0.9811336666666667,0.9808186666666666,0.9808179999999999,0.9804170000000001,0.9804123333333333,0.9800626666666666,0.9799813333333333,0.9801403333333333,0.9799256666666668,0.980574,0.9803790000000001,0.9802603333333334,0.9805743333333333,0.9840490000000001,0.9838146666666668,0.9845323333333335,0.9849256666666667,0.9848849999999999,0.9857146666666666,0.985713,0.9853946666666666,0.985373,0.985252,0.9850926666666667,0.9847743333333333,0.9847363333333333,0.984975,0.9852516666666666,0.98521,0.9850896666666666,0.9848910000000001,0.9853680000000001,0.9849916666666667,0.9849519999999999,0.9849536666666667,0.9852123333333332,0.985469,0.9857079999999999,0.9857893333333334,0.9858703333333333,0.9858703333333333,0.9859113333333333,0.9859119999999999,0.9857513333333333,0.985794,0.9856333333333334,0.9855546666666667,0.9855143333333333,0.9856733333333333,0.985712,0.9857903333333334,0.9859093333333333,0.985869,0.9859096666666667,0.9859876666666666,0.9859076666666667,0.985948,0.9857903333333334,0.9858293333333333,0.985948,0.9858676666666667,0.9858673333333333,0.9857876666666666,0.9859076666666667,0.985947,0.9857480000000001,0.9855896666666667,0.9857079999999999,0.9858263333333334,0.9857463333333333,0.985826,0.9857863333333333,0.9858656666666668,0.985982,0.9859843333333335,0.9860233333333334,0.9859443333333333,0.9859056666666667,0.986024,0.9862226666666666],\"type\":\"scatter\"},{\"marker\":{\"maxdisplayed\":10},\"mode\":\"lines+markers\",\"name\":\"Trial1\",\"x\":[0,1,2,3,4,5,6,7,8,9,10,11,12,13,14,15,16,17,18,19,20,21,22,23,24,25,26,27,28,29,30,31,32,33,34,35,36,37,38,39,40,41,42,43,44,45,46,47,48,49,50,51,52,53,54,55,56,57,58,59,60,61,62,63,64,65,66,67,68,69,70,71,72,73,74,75,76,77,78,79,80,81,82,83,84,85,86,87,88,89,90,91,92,93,94,95,96,97,98,99],\"y\":[0.9617463333333335,0.963437,0.9646993333333334,0.9655643333333334,0.9665880000000001,0.9673763333333333,0.9681243333333334,0.9687906666666666,0.9691446666666668,0.9694986666666666,0.9697343333333334,0.9699316666666666,0.9700886666666667,0.9702863333333333,0.9704056666666667,0.9706416666666667,0.970799,0.970957,0.9710366666666667,0.9711153333333334,0.9712336666666667,0.9712336666666667,0.9713126666666666,0.9713516666666667,0.971391,0.971391,0.971391,0.9714700000000001,0.9715103333333334,0.9715893333333333,0.9716679999999999,0.9717873333333333,0.9717873333333333,0.9717873333333333,0.9719456666666666,0.9719850000000001,0.9720653333333334,0.9720653333333334,0.9721446666666665,0.9721446666666665,0.9721446666666665,0.9721446666666665,0.972185,0.9722636666666666,0.972264,0.9723033333333334,0.972423,0.972423,0.972463,0.972502,0.9725426666666667,0.972662,0.972702,0.972702,0.9727813333333333,0.9727813333333333,0.9727813333333333,0.972821,0.9728606666666666,0.9729,0.9729,0.9729396666666666,0.9729396666666666,0.9730586666666666,0.9730979999999999,0.9732163333333333,0.9732556666666667,0.9732563333333334,0.9732956666666667,0.9733353333333333,0.973375,0.973455,0.9734950000000001,0.9734950000000001,0.9735753333333333,0.9736546666666667,0.9738146666666666,0.9738146666666666,0.9738546666666666,0.9738950000000001,0.9738950000000001,0.9739346666666666,0.9739743333333334,0.9739940000000001,0.9740136666666667,0.9740536666666667,0.9740933333333334,0.9740933333333334,0.9741336666666668,0.974174,0.974214,0.9742536666666667,0.9742536666666667,0.974333,0.9743723333333333,0.9744113333333333,0.9744906666666666,0.9744510000000001,0.9745296666666666,0.9745699999999999],\"type\":\"scatter\"},{\"marker\":{\"maxdisplayed\":10},\"mode\":\"lines+markers\",\"name\":\"Trial2\",\"x\":[0,1,2,3,4,5,6,7,8,9,10,11,12,13,14,15,16,17,18,19,20,21,22,23,24,25,26,27,28,29,30,31,32,33,34,35,36,37,38,39,40,41,42,43,44,45,46,47,48,49,50,51,52,53,54,55,56,57,58,59,60,61,62,63,64,65,66,67,68,69,70,71,72,73,74,75,76,77,78,79,80,81,82,83,84,85,86,87,88,89,90,91,92,93,94,95,96,97,98,99],\"y\":[0.8959446666666667,0.899524,0.90275,0.9055813333333335,0.907822,0.9100239999999999,0.9125366666666667,0.9141856666666667,0.916227,0.9174483333333333,0.9189456666666667,0.9200860000000001,0.921304,0.9225653333333333,0.9234713333333334,0.924496,0.9256743333333333,0.9266236666666666,0.92745,0.9280006666666667,0.9284743333333333,0.9290280000000001,0.9296593333333334,0.9301323333333333,0.9307233333333333,0.9311166666666667,0.9315509999999999,0.9320266666666667,0.9323046666666667,0.9326206666666667,0.932818,0.9331333333333335,0.9334493333333334,0.9339246666666666,0.9342783333333333,0.934516,0.9346743333333333,0.9347526666666667,0.935067,0.9352659999999999,0.9355036666666666,0.9357796666666666,0.9359766666666666,0.936134,0.93641,0.9366076666666667,0.936725,0.9369613333333334,0.9372376666666665,0.9375953333333333,0.9377133333333333,0.9378699999999999,0.937909,0.9379876666666666,0.9381463333333334,0.938344,0.9385436666666666,0.9386226666666667,0.9387406666666666,0.93878,0.9389403333333334,0.939059,0.939059,0.9391769999999999,0.9392553333333332,0.939295,0.9393346666666668,0.939492,0.9395709999999999,0.9396910000000002,0.9398496666666668,0.9398886666666667,0.9400066666666667,0.9401646666666666,0.9402443333333333,0.9404413333333334,0.9406006666666666,0.9406403333333334,0.9407800000000001,0.9409186666666667,0.940998,0.9410780000000001,0.941356,0.9415526666666666,0.9416720000000001,0.9417893333333334,0.9418676666666667,0.9419073333333333,0.9420663333333333,0.9421456666666667,0.9423050000000001,0.9424243333333333,0.9425043333333333,0.9425433333333334,0.942662,0.942662,0.942662,0.942662,0.9427016666666667,0.9427416666666666],\"type\":\"scatter\"},{\"marker\":{\"maxdisplayed\":10},\"mode\":\"lines+markers\",\"name\":\"Trial3\",\"x\":[0,1,2,3,4,5,6,7,8,9,10,11,12,13,14,15,16,17,18,19,20,21,22,23,24,25,26,27,28,29,30,31,32,33,34,35,36,37,38,39,40,41,42,43,44,45,46,47,48,49,50,51,52,53,54,55,56,57,58,59,60,61,62,63,64,65,66,67,68,69,70,71,72,73,74,75,76,77,78,79,80,81,82,83,84,85,86,87,88,89,90,91,92,93,94,95,96,97,98,99],\"y\":[0.9576403333333333,0.9740723333333333,0.9816823333333334,0.9823336666666668,0.9837256666666666,0.9829453333333333,0.984868,0.9851693333333333,0.986692,0.9866246666666667,0.9866486666666666,0.986726,0.986802,0.9870039999999999,0.9867873333333333,0.9868273333333333,0.987102,0.987102,0.9872983333333333,0.9874996666666666,0.9875006666666666,0.9873016666666666,0.9872623333333332,0.986946,0.9867046666666667,0.9867063333333332,0.9866263333333333,0.9866653333333333,0.9864473333333333,0.9860723333333333,0.9847596666666667,0.9845216666666666,0.9846816666666666,0.984581,0.9831493333333333,0.9832306666666667,0.9831913333333334,0.9829530000000001,0.9828353333333334,0.9827543333333334,0.9827956666666666,0.9831523333333333,0.9832300000000002,0.9832693333333333,0.9831496666666667,0.985741,0.9858623333333334,0.986021,0.9865283333333333,0.986449,0.9863283333333334,0.9862100000000001,0.9863303333333334,0.9863313333333333,0.9863316666666667,0.9860936666666666,0.9866090000000001,0.986511,0.9864313333333333,0.9864716666666666,0.9865523333333334,0.9864726666666667,0.9863926666666667,0.986513,0.9864726666666667,0.9863543333333333,0.986274,0.9867113333333334,0.9867903333333333,0.9869096666666667,0.9869499999999999,0.9869519999999999,0.9869116666666667,0.987031,0.9868733333333334,0.9868353333333334,0.9870696666666666,0.986951,0.98699,0.987226,0.9871469999999999,0.9871073333333333,0.9870663333333334,0.987227,0.9872646666666668,0.9873839999999999,0.987265,0.9873443333333333,0.9873046666666667,0.9872656666666666,0.9871873333333333,0.987227,0.9896073333333334,0.9895276666666666,0.9894876666666667,0.9895273333333333,0.9897269999999999,0.9896066666666666,0.9893683333333333,0.9894476666666666],\"type\":\"scatter\"},{\"marker\":{\"maxdisplayed\":10},\"mode\":\"lines+markers\",\"name\":\"Trial4\",\"x\":[0,1,2,3,4,5,6,7,8,9,10,11,12,13,14,15,16,17,18,19,20,21,22,23,24,25,26,27,28,29,30,31,32,33,34,35,36,37,38,39,40,41,42,43,44,45,46,47,48,49,50,51,52,53,54,55,56,57,58,59,60,61,62,63,64,65,66,67,68,69,70,71,72,73,74,75,76,77,78,79,80,81,82,83,84,85,86,87,88,89,90,91,92,93,94,95,96,97,98,99],\"y\":[0.8872453333333334,0.9759739999999999,0.981935,0.986564,0.9875116666666667,0.9889883333333334,0.9890713333333333,0.989506,0.9890746666666667,0.9906406666666667,0.9911153333333332,0.9902793333333334,0.9904423333333333,0.9906299999999999,0.990587,0.9901956666666667,0.9905133333333334,0.9905956666666667,0.9901969999999999,0.9901163333333334,0.9899593333333333,0.9897966666666668,0.98988,0.9900013333333333,0.9897239999999999,0.9896816666666667,0.9897216666666666,0.9897213333333333,0.989643,0.9895243333333333,0.9895253333333334,0.989446,0.9894463333333333,0.9893673333333334,0.9891706666666668,0.9893673333333334,0.9896236666666667,0.9897203333333334,0.9897603333333334,0.9896410000000001,0.98964,0.989523,0.989325,0.9892456666666667,0.9892463333333333,0.9893243333333333,0.9892466666666667,0.9891273333333334,0.9890476666666667,0.9891673333333334,0.9892469999999999,0.9891673333333334,0.9893643333333332,0.989443,0.9894029999999999,0.9893633333333334,0.9893233333333332,0.9893226666666667,0.9892836666666667,0.9892853333333332,0.9893643333333334,0.989324,0.9893606666666667,0.989242,0.9892030000000002,0.9893216666666667,0.9892026666666668,0.9892043333333334,0.9892839999999999,0.989602,0.9896013333333333,0.9896806666666667,0.9899193333333333,0.9899206666666668,0.9899196666666666,0.9898403333333334,0.9899606666666667,0.990634,0.9907119999999999,0.990673,0.9905940000000001,0.9909123333333333,0.990992,0.9909523333333333,0.9909523333333333,0.9907926666666667,0.9907523333333333,0.9908343333333333,0.990714,0.9907539999999999,0.9907533333333333,0.9908336666666666,0.9908736666666665,0.9907543333333333,0.9907940000000001,0.990834,0.9907943333333332,0.9907543333333333,0.9907943333333332,0.9908726666666666],\"type\":\"scatter\"},{\"marker\":{\"maxdisplayed\":10},\"mode\":\"lines+markers\",\"name\":\"Trial5\",\"x\":[0,1,2,3,4,5,6,7,8,9,10,11,12,13,14,15,16,17,18,19,20,21,22,23,24,25,26,27,28,29,30,31,32,33,34,35,36,37,38,39,40,41,42,43,44,45,46,47,48,49,50,51,52,53,54,55,56,57,58,59,60,61,62,63,64,65,66,67,68,69,70,71,72,73,74,75,76,77,78,79,80,81,82,83,84,85,86,87,88,89,90,91,92,93,94,95,96,97,98,99],\"y\":[0.9426726666666667,0.9663210000000001,0.9723163333333334,0.9788346666666666,0.9828709999999999,0.984146,0.9839833333333333,0.9842913333333333,0.9848596666666666,0.9846750000000001,0.9841099999999999,0.9846879999999999,0.9843313333333334,0.9839290000000002,0.983132,0.9855043333333332,0.9848703333333333,0.98541,0.9852113333333333,0.9851583333333332,0.985435,0.9841026666666667,0.9853999999999999,0.985543,0.9856630000000001,0.9859443333333333,0.9858616666666666,0.9870960000000001,0.9870156666666666,0.9868959999999999,0.987364,0.9881509999999999,0.9882306666666668,0.9883116666666666,0.9882719999999999,0.989135,0.9888556666666667,0.9890143333333333,0.989011,0.9890513333333333,0.9891296666666666,0.9891679999999999,0.9894086666666667,0.989564,0.9896056666666667,0.9894853333333332,0.9894443333333333,0.9899403333333333,0.9898226666666666,0.9897453333333334,0.9895853333333333,0.9895436666666667,0.9896626666666667,0.9896236666666667,0.9891883333333333,0.9893053333333334,0.9895816666666667,0.9895023333333333,0.9896193333333333,0.9898196666666667,0.9897793333333333,0.9898586666666667,0.9895033333333334,0.9895813333333333,0.9896206666666667,0.98974,0.9897806666666668,0.989861,0.9902163333333333,0.9901766666666667,0.9902563333333333,0.990059,0.9901369999999999,0.990136,0.9900523333333333,0.9900536666666667,0.9902123333333334,0.9904890000000001,0.9904503333333333,0.9906476666666667,0.9907663333333333,0.990727,0.9909246666666666,0.9907666666666667,0.9908853333333333,0.9908056666666667,0.9913633333333333,0.9911253333333333,0.9912453333333332,0.9910856666666666,0.9910056666666667,0.9910873333333333,0.9911639999999999,0.9907686666666667,0.9910063333333333,0.9907693333333333,0.9910079999999999,0.991086,0.991208,0.990733],\"type\":\"scatter\"},{\"marker\":{\"maxdisplayed\":10},\"mode\":\"lines+markers\",\"name\":\"Trial6\",\"x\":[0,1,2,3,4,5,6],\"y\":[0.8541993333333333,0.9239290000000001,0.9468866666666668,0.962849,0.966396,0.9775086666666667,0.9780623333333334],\"type\":\"scatter\"},{\"marker\":{\"maxdisplayed\":10},\"mode\":\"lines+markers\",\"name\":\"Trial7\",\"x\":[0,1,2,3,4,5],\"y\":[0.9563733333333332,0.9578880000000001,0.9591643333333333,0.9601479999999999,0.9607373333333333,0.9614073333333333],\"type\":\"scatter\"},{\"marker\":{\"maxdisplayed\":10},\"mode\":\"lines+markers\",\"name\":\"Trial8\",\"x\":[0,1,2,3,4,5,6,7,8,9,10,11,12,13,14,15,16,17,18,19,20,21,22,23,24,25,26,27,28,29,30,31,32,33,34,35,36,37,38,39,40,41,42,43,44,45,46,47,48,49,50,51,52,53,54,55,56,57,58,59,60,61,62,63,64,65,66,67,68,69,70,71,72,73,74,75,76,77,78,79,80,81,82,83,84,85,86,87,88,89,90,91,92,93,94,95,96,97,98,99],\"y\":[0.9710286666666667,0.9819686666666666,0.9792313333333333,0.981148,0.983759,0.984016,0.9836033333333333,0.987964,0.9881209999999999,0.987904,0.985109,0.984587,0.9850303333333333,0.985128,0.984775,0.9848966666666668,0.9846010000000001,0.9850720000000001,0.9850706666666667,0.9849713333333333,0.9846143333333334,0.9836026666666666,0.9834873333333333,0.9836686666666666,0.9833896666666667,0.983155,0.9837853333333334,0.9838233333333334,0.9843416666666666,0.9842623333333332,0.9845003333333334,0.9846993333333334,0.9845,0.9845813333333333,0.9843806666666667,0.984302,0.9842813333333332,0.9841989999999999,0.9842413333333333,0.9844006666666667,0.9845600000000001,0.9842813333333332,0.9843803333333333,0.9845196666666668,0.98448,0.9843233333333333,0.9866739999999999,0.9866736666666668,0.9870333333333333,0.9866743333333333,0.986955,0.9872299999999999,0.9870516666666668,0.9872700000000001,0.9872673333333334,0.9873883333333334,0.9872303333333333,0.9873106666666667,0.9872723333333333,0.98739,0.9873096666666666,0.9873896666666666,0.9875883333333334,0.9875883333333334,0.9876676666666667,0.987628,0.9876269999999999,0.9875073333333333,0.9876670000000001,0.9875083333333333,0.9877063333333332,0.9875889999999999,0.9876680000000001,0.9874686666666667,0.9876300000000001,0.9874900000000001,0.9875306666666667,0.9874113333333333,0.987351,0.987569,0.9876079999999999,0.9875286666666666,0.987488,0.98733,0.9875293333333334,0.9874903333333332,0.9874490000000001,0.9873703333333333,0.9874893333333333,0.987491,0.9875283333333332,0.9874493333333333,0.987409,0.9873696666666666,0.9876063333333334,0.9875259999999999,0.9876459999999999,0.9872900000000001,0.9872899999999999,0.9899089999999999],\"type\":\"scatter\"},{\"marker\":{\"maxdisplayed\":10},\"mode\":\"lines+markers\",\"name\":\"Trial9\",\"x\":[0,1,2,3,4,5],\"y\":[0.8832809999999999,0.885322,0.886698,0.8877203333333333,0.8891376666666666,0.8902186666666667],\"type\":\"scatter\"},{\"marker\":{\"maxdisplayed\":10},\"mode\":\"lines+markers\",\"name\":\"Trial10\",\"x\":[0,1,2,3,4,5],\"y\":[0.944286,0.9738206666666667,0.9781323333333333,0.9806126666666666,0.9813896666666667,0.981169],\"type\":\"scatter\"},{\"marker\":{\"maxdisplayed\":10},\"mode\":\"lines+markers\",\"name\":\"Trial11\",\"x\":[0,1,2,3,4,5],\"y\":[0.9406256666666666,0.9610256666666667,0.9649916666666667,0.9698563333333333,0.9737563333333333,0.9799996666666667],\"type\":\"scatter\"},{\"marker\":{\"maxdisplayed\":10},\"mode\":\"lines+markers\",\"name\":\"Trial12\",\"x\":[0,1,2,3,4,5],\"y\":[0.9246146666666667,0.9627893333333333,0.9738776666666666,0.9802943333333333,0.9788916666666667,0.9815140000000001],\"type\":\"scatter\"},{\"marker\":{\"maxdisplayed\":10},\"mode\":\"lines+markers\",\"name\":\"Trial13\",\"x\":[0,1,2,3,4,5],\"y\":[0.8014873333333332,0.8046096666666668,0.8066576666666666,0.8154866666666667,0.9658906666666667,0.973162],\"type\":\"scatter\"},{\"marker\":{\"maxdisplayed\":10},\"mode\":\"lines+markers\",\"name\":\"Trial14\",\"x\":[0,1,2,3,4,5,6,7,8,9,10,11,12,13,14,15,16,17,18,19,20,21,22,23,24,25,26,27,28,29,30,31,32,33,34,35,36,37,38,39,40,41,42,43,44,45,46,47,48,49,50,51,52,53,54,55,56,57,58,59,60,61,62,63,64,65,66,67,68,69,70,71,72,73,74,75,76,77,78,79,80,81,82,83,84,85,86,87,88,89,90,91,92,93,94,95,96,97,98,99],\"y\":[0.957811,0.975072,0.9818696666666668,0.9870353333333334,0.9872443333333333,0.9865033333333333,0.9873846666666667,0.9867493333333334,0.9866686666666666,0.98629,0.9868436666666667,0.9868836666666666,0.987912,0.9879093333333334,0.9876320000000001,0.9875906666666667,0.9873946666666668,0.9877886666666665,0.9876683333333333,0.9875106666666666,0.9872706666666667,0.9894950000000001,0.9898533333333334,0.9894943333333334,0.989772,0.989893,0.9902486666666667,0.9902883333333333,0.9903663333333332,0.9902886666666667,0.9901300000000001,0.9899319999999999,0.990132,0.9902920000000001,0.9902136666666667,0.9902123333333334,0.990255,0.990414,0.990725,0.9908449999999999,0.991003,0.991162,0.9909643333333333,0.9910456666666666,0.9912043333333335,0.9912036666666667,0.9913223333333333,0.9913606666666667,0.9914806666666666,0.9914013333333332,0.9914013333333332,0.9912420000000001,0.9912803333333332,0.9913606666666667,0.9912413333333333,0.9912816666666666,0.991241,0.99132,0.991281,0.9911213333333334,0.9910816666666666,0.9908830000000001,0.9910023333333333,0.9910019999999999,0.9909643333333333,0.9909626666666668,0.990922,0.990882,0.9908039999999999,0.9906056666666666,0.9907256666666666,0.9907256666666666,0.9907663333333333,0.9908450000000001,0.9907656666666665,0.9908846666666666,0.9908450000000001,0.9908463333333334,0.9907666666666667,0.9906860000000001,0.9907663333333333,0.9906480000000001,0.990649,0.9905706666666667,0.9904510000000001,0.9904120000000001,0.9904106666666667,0.990371,0.990332,0.9903716666666668,0.9903726666666667,0.9902933333333334,0.9902933333333334,0.990294,0.9904129999999999,0.9904123333333333,0.9905716666666667,0.9905303333333334,0.99049,0.9903716666666668],\"type\":\"scatter\"},{\"marker\":{\"maxdisplayed\":10},\"mode\":\"lines+markers\",\"name\":\"Trial15\",\"x\":[0,1,2,3,4,5],\"y\":[0.9219343333333333,0.968314,0.9744516666666666,0.9746386666666668,0.97974,0.9812193333333333],\"type\":\"scatter\"},{\"marker\":{\"maxdisplayed\":10},\"mode\":\"lines+markers\",\"name\":\"Trial16\",\"x\":[0,1,2,3,4,5,6,7,8,9,10,11,12,13,14,15,16,17,18,19,20,21,22,23,24,25,26,27,28,29,30,31,32,33,34,35,36,37,38,39,40,41,42,43,44,45,46,47,48,49,50,51,52,53,54,55,56,57,58,59,60,61,62,63,64,65,66,67,68,69,70,71,72,73,74,75,76,77,78,79,80,81,82,83,84,85,86,87,88,89,90,91,92,93,94,95,96,97,98,99],\"y\":[0.9424256666666667,0.9705066666666666,0.981091,0.9828816666666667,0.9853316666666667,0.9864706666666666,0.986635,0.9880716666666666,0.9872086666666666,0.986965,0.9868273333333333,0.9884756666666666,0.9888963333333334,0.9885386666666666,0.988458,0.9877429999999999,0.987585,0.9876033333333334,0.9855433333333333,0.9854856666666666,0.985681,0.9858396666666667,0.985578,0.9858536666666667,0.9855163333333333,0.985201,0.9855183333333334,0.986214,0.986453,0.9863933333333333,0.9863943333333333,0.9865936666666667,0.9863133333333334,0.987917,0.9878796666666666,0.9877603333333332,0.9877216666666667,0.9874826666666667,0.987765,0.9879396666666667,0.987899,0.9881776666666667,0.988219,0.9881013333333334,0.9882596666666666,0.9881823333333334,0.9881833333333333,0.9884533333333333,0.9886086666666666,0.9886103333333333,0.9884106666666667,0.9882126666666666,0.9882136666666668,0.9883323333333333,0.98853,0.9883700000000001,0.9884123333333333,0.9882546666666667,0.9881346666666667,0.9883730000000001,0.9882529999999999,0.9882136666666667,0.9880553333333334,0.9880566666666667,0.988057,0.9881756666666667,0.9882156666666667,0.9882156666666667,0.9882166666666666,0.9880970000000001,0.9882573333333333,0.9881773333333334,0.9880570000000001,0.9879776666666666,0.9878996666666667,0.987622,0.9877030000000001,0.987705,0.987743,0.9877823333333332,0.9877813333333334,0.9876613333333334,0.987583,0.9877026666666667,0.987783,0.9877426666666667,0.9877426666666667,0.9878223333333334,0.9877630000000001,0.9876456666666668,0.9876856666666667,0.987764,0.9875646666666666,0.9877246666666667,0.9877253333333332,0.9877249999999999,0.987764,0.987723,0.987764,0.9878056666666666],\"type\":\"scatter\"},{\"marker\":{\"maxdisplayed\":10},\"mode\":\"lines+markers\",\"name\":\"Trial17\",\"x\":[0,1,2,3,4,5],\"y\":[0.9379233333333333,0.9698946666666667,0.9759903333333334,0.976778,0.979167,0.9794943333333334],\"type\":\"scatter\"},{\"marker\":{\"maxdisplayed\":10},\"mode\":\"lines+markers\",\"name\":\"Trial18\",\"x\":[0,1,2,3,4,5],\"y\":[0.961058,0.978776,0.9801166666666666,0.9827696666666667,0.9830886666666666,0.9825336666666665],\"type\":\"scatter\"},{\"marker\":{\"maxdisplayed\":10},\"mode\":\"lines+markers\",\"name\":\"Trial19\",\"x\":[0,1,2,3,4,5,6,7],\"y\":[0.9533936666666666,0.9734213333333334,0.9820973333333333,0.9829236666666666,0.984479,0.9836066666666667,0.9832709999999999,0.9836016666666666],\"type\":\"scatter\"},{\"marker\":{\"maxdisplayed\":10},\"mode\":\"lines+markers\",\"name\":\"Trial20\",\"x\":[0,1,2,3,4,5],\"y\":[0.9513583333333333,0.9719543333333335,0.975601,0.978373,0.9823733333333333,0.9831276666666667],\"type\":\"scatter\"},{\"marker\":{\"maxdisplayed\":10},\"mode\":\"lines+markers\",\"name\":\"Trial21\",\"x\":[0,1,2,3,4,5,6,7,8,9,10,11,12,13,14,15,16,17,18,19,20,21,22,23,24,25,26,27,28,29,30,31,32,33,34,35,36,37,38,39,40,41,42,43,44,45,46,47,48,49,50,51,52,53,54,55,56,57,58,59,60,61,62,63,64,65,66,67,68,69,70,71,72,73,74,75,76,77,78,79,80,81,82,83,84,85,86,87,88,89,90,91,92,93,94,95,96,97,98,99],\"y\":[0.9606753333333334,0.9722433333333335,0.981754,0.9853893333333333,0.986511,0.9861106666666667,0.9865143333333334,0.9864266666666667,0.9864876666666667,0.9866533333333334,0.986436,0.9864783333333333,0.98671,0.9868666666666667,0.9867313333333333,0.9866086666666667,0.9867319999999999,0.9871650000000001,0.9873656666666667,0.9871246666666668,0.9870803333333334,0.9882723333333333,0.9884696666666667,0.9881716666666667,0.9883493333333333,0.9882316666666666,0.9883913333333334,0.9885116666666667,0.988552,0.988435,0.9884356666666667,0.988555,0.988556,0.9885156666666667,0.9883973333333333,0.9883976666666667,0.9885173333333332,0.9887326666666666,0.9886536666666667,0.9884946666666666,0.9887713333333333,0.989013,0.988895,0.9887366666666667,0.9887753333333333,0.9886566666666666,0.9887746666666667,0.9888143333333334,0.9887750000000001,0.9888159999999999,0.9889346666666666,0.9888553333333334,0.9888166666666667,0.9887753333333333,0.988854,0.9886573333333333,0.988736,0.9886576666666667,0.9886176666666667,0.9884203333333333,0.9883816666666667,0.9883836666666667,0.988363,0.9883236666666667,0.9882836666666667,0.9884016666666667,0.9885206666666666,0.9886776666666667,0.9885999999999999,0.9885603333333334,0.9886793333333334,0.9888776666666667,0.988877,0.9891920000000001,0.9891899999999999,0.9893493333333333,0.9893890000000001,0.9893486666666668,0.989271,0.9893873333333333,0.9893486666666668,0.98935,0.9894693333333334,0.9894693333333334,0.9893109999999999,0.9893506666666667,0.989429,0.9895073333333334,0.9895066666666666,0.989506,0.9895463333333333,0.9895473333333333,0.9896256666666666,0.9896243333333333,0.9896463333333333,0.989607,0.9894473333333332,0.989331,0.9894473333333332,0.9894076666666667],\"type\":\"scatter\"},{\"marker\":{\"maxdisplayed\":10},\"mode\":\"lines+markers\",\"name\":\"Trial22\",\"x\":[0,1,2,3,4,5,6,7,8,9,10,11,12,13,14,15,16,17,18,19,20,21,22,23,24,25,26,27,28,29,30,31,32,33,34,35,36,37,38,39,40,41,42,43,44,45,46,47,48,49,50,51,52,53,54,55,56,57,58,59,60,61,62,63,64,65,66,67,68,69,70,71,72,73,74,75,76,77,78,79,80,81,82,83,84,85,86,87,88,89,90,91,92,93,94,95,96,97,98,99],\"y\":[0.89636,0.9565770000000001,0.9783606666666667,0.9831086666666667,0.984451,0.9864669999999999,0.9866593333333333,0.9868563333333333,0.986516,0.9862989999999999,0.9861786666666666,0.9862236666666666,0.9864813333333333,0.9867633333333333,0.986641,0.9863613333333333,0.9880093333333333,0.9882453333333333,0.98789,0.988661,0.988575,0.9889556666666667,0.989274,0.9891743333333333,0.9894126666666666,0.9889783333333333,0.9890583333333334,0.98938,0.989416,0.9895756666666666,0.9897733333333334,0.9894543333333333,0.9892963333333333,0.9893766666666667,0.9894966666666667,0.989258,0.9898126666666668,0.9901283333333333,0.9906389999999999,0.9905976666666666,0.9905180000000001,0.9905983333333334,0.990678,0.9907596666666666,0.9906389999999999,0.9905196666666667,0.9905573333333333,0.9903596666666666,0.9902026666666667,0.990364,0.9903236666666667,0.9902823333333334,0.9902026666666667,0.9902023333333333,0.9902036666666666,0.9901636666666667,0.989907,0.990025,0.9900253333333332,0.9897079999999999,0.9896686666666666,0.9898256666666666,0.9896686666666668,0.989589,0.9895886666666667,0.989906,0.9898669999999999,0.989985,0.9899856666666667,0.9899063333333333,0.9899063333333333,0.9898263333333333,0.9898669999999999,0.9899463333333333,0.990066,0.9904246666666667,0.9904246666666667,0.9905413333333333,0.9905413333333333,0.990382,0.9903413333333333,0.990382,0.9904606666666668,0.9904206666666666,0.9904206666666666,0.9900639999999999,0.990421,0.9905006666666667,0.9905406666666666,0.990383,0.9904633333333334,0.9903426666666667,0.9903019999999999,0.9902223333333334,0.9902616666666667,0.9902623333333334,0.9904223333333334,0.9902223333333334,0.9905403333333332,0.9902233333333332],\"type\":\"scatter\"},{\"marker\":{\"maxdisplayed\":10},\"mode\":\"lines+markers\",\"name\":\"Trial23\",\"x\":[0,1,2,3,4,5,6,7,8],\"y\":[0.9626046666666667,0.9711979999999999,0.9799219999999998,0.9838143333333332,0.9861566666666667,0.9864683333333334,0.9863593333333333,0.9856409999999999,0.9860583333333334],\"type\":\"scatter\"},{\"marker\":{\"maxdisplayed\":10},\"mode\":\"lines+markers\",\"name\":\"Trial24\",\"x\":[0,1,2,3,4,5,6,7],\"y\":[0.9576500000000001,0.9663396666666667,0.9786266666666666,0.979672,0.98393,0.98402,0.9840123333333333,0.98493],\"type\":\"scatter\"},{\"marker\":{\"maxdisplayed\":10},\"mode\":\"lines+markers\",\"name\":\"Trial25\",\"x\":[0,1,2,3,4,5,6,7],\"y\":[0.9720113333333332,0.9657176666666666,0.9842523333333334,0.9825613333333333,0.9830549999999999,0.9814803333333333,0.9813013333333332,0.9811603333333333],\"type\":\"scatter\"},{\"marker\":{\"maxdisplayed\":10},\"mode\":\"lines+markers\",\"name\":\"Trial26\",\"x\":[0,1,2,3,4,5],\"y\":[0.9158436666666666,0.9615153333333334,0.9760620000000001,0.9805106666666666,0.981849,0.9818633333333334],\"type\":\"scatter\"},{\"marker\":{\"maxdisplayed\":10},\"mode\":\"lines+markers\",\"name\":\"Trial27\",\"x\":[0,1,2,3,4,5],\"y\":[0.8983493333333334,0.9707216666666666,0.9802266666666667,0.9801989999999999,0.9819716666666668,0.9835486666666666],\"type\":\"scatter\"},{\"marker\":{\"maxdisplayed\":10},\"mode\":\"lines+markers\",\"name\":\"Trial28\",\"x\":[0,1,2,3,4,5],\"y\":[0.8511533333333333,0.856201,0.8598626666666668,0.8636793333333334,0.8663993333333334,0.8693196666666667],\"type\":\"scatter\"},{\"marker\":{\"maxdisplayed\":10},\"mode\":\"lines+markers\",\"name\":\"Trial29\",\"x\":[0,1,2,3,4,5,6,7,8],\"y\":[0.9503073333333334,0.965973,0.9741420000000001,0.9839030000000001,0.9850666666666666,0.9845063333333334,0.9847146666666666,0.9851893333333334,0.9855153333333333],\"type\":\"scatter\"},{\"marker\":{\"maxdisplayed\":10},\"mode\":\"lines+markers\",\"name\":\"Trial30\",\"x\":[0,1,2,3,4,5],\"y\":[0.9204400000000001,0.9579913333333333,0.9689466666666666,0.967963,0.9783696666666667,0.9809073333333332],\"type\":\"scatter\"},{\"marker\":{\"maxdisplayed\":10},\"mode\":\"lines+markers\",\"name\":\"Trial31\",\"x\":[0,1,2,3,4,5,6,7,8,9,10,11,12,13,14,15,16,17,18,19,20,21,22,23,24,25,26,27,28,29,30,31,32,33,34,35,36,37,38,39,40,41,42,43,44,45,46,47,48,49,50,51,52,53,54,55,56,57,58,59,60,61,62,63,64,65,66,67,68,69,70,71,72,73,74,75,76,77,78,79,80,81,82,83,84,85,86,87,88,89,90,91,92,93,94,95,96,97,98,99],\"y\":[0.89636,0.95634,0.9784796666666667,0.9832673333333334,0.9844906666666665,0.986546,0.9865399999999999,0.9862553333333333,0.9863576666666667,0.9860593333333334,0.98598,0.985866,0.985843,0.9861236666666667,0.9860386666666666,0.986241,0.9878903333333332,0.9878876666666666,0.9876126666666667,0.9883813333333333,0.9884573333333333,0.9888763333333334,0.9891573333333333,0.9888966666666668,0.989056,0.988819,0.9888986666666666,0.9891800000000001,0.9891000000000001,0.989378,0.9897756666666667,0.9895766666666667,0.9893793333333334,0.9894596666666667,0.9895390000000001,0.9894193333333333,0.9894966666666667,0.9897936666666666,0.9903433333333332,0.9902623333333334,0.9900643333333333,0.9901426666666667,0.9901826666666667,0.9900636666666666,0.9901430000000001,0.9901836666666667,0.9900826666666666,0.9900033333333332,0.9899266666666667,0.9899273333333333,0.9902056666666667,0.9901253333333333,0.9899249999999999,0.9899653333333333,0.989887,0.9898466666666667,0.9897859999999999,0.989826,0.9897873333333332,0.9896276666666667,0.9895886666666667,0.989669,0.9895096666666667,0.9896276666666667,0.989627,0.9896656666666667,0.9897839999999999,0.9897043333333334,0.9899453333333333,0.9896263333333333,0.989626,0.9895873333333333,0.9895486666666665,0.989629,0.9897876666666666,0.9900263333333333,0.9897893333333334,0.9898256666666666,0.9899443333333333,0.9899446666666667,0.9901423333333333,0.9900643333333333,0.990183,0.9901033333333333,0.9900633333333334,0.990023,0.9901013333333334,0.9901836666666667,0.9901046666666667,0.9899460000000001,0.989985,0.9901823333333333,0.9900623333333334,0.9900233333333333,0.9900220000000001,0.9900633333333334,0.990024,0.9901033333333333,0.9901019999999999,0.9901023333333333],\"type\":\"scatter\"},{\"marker\":{\"maxdisplayed\":10},\"mode\":\"lines+markers\",\"name\":\"Trial32\",\"x\":[0,1,2,3,4,5],\"y\":[0.8835099999999999,0.9486926666666666,0.9678396666666668,0.9726033333333334,0.9777603333333333,0.9779756666666667],\"type\":\"scatter\"},{\"marker\":{\"maxdisplayed\":10},\"mode\":\"lines+markers\",\"name\":\"Trial33\",\"x\":[0,1,2,3,4,5,6,7],\"y\":[0.9034423333333333,0.9612310000000001,0.9651613333333334,0.9824679999999999,0.983308,0.9844363333333334,0.9835593333333333,0.9846363333333334],\"type\":\"scatter\"},{\"marker\":{\"maxdisplayed\":10},\"mode\":\"lines+markers\",\"name\":\"Trial34\",\"x\":[0,1,2,3,4,5],\"y\":[0.9063476666666667,0.9574773333333333,0.9775056666666666,0.9804186666666667,0.9803863333333332,0.9802749999999999],\"type\":\"scatter\"},{\"marker\":{\"maxdisplayed\":10},\"mode\":\"lines+markers\",\"name\":\"Trial35\",\"x\":[0,1,2,3,4,5],\"y\":[0.9573946666666666,0.9623656666666666,0.9653583333333334,0.9672533333333333,0.968283,0.968875],\"type\":\"scatter\"},{\"marker\":{\"maxdisplayed\":10},\"mode\":\"lines+markers\",\"name\":\"Trial36\",\"x\":[0,1,2,3,4,5,6,7,8],\"y\":[0.9730153333333332,0.9842656666666666,0.9863766666666667,0.98619,0.985005,0.9841053333333333,0.9843313333333333,0.9845296666666666,0.9846476666666666],\"type\":\"scatter\"},{\"marker\":{\"maxdisplayed\":10},\"mode\":\"lines+markers\",\"name\":\"Trial37\",\"x\":[0,1,2,3,4,5,6,7,8,9,10,11,12,13,14,15,16,17,18,19,20,21,22,23,24,25,26,27,28,29,30,31,32,33,34,35,36,37,38,39,40,41,42,43,44,45,46,47,48,49,50,51,52,53,54,55,56,57,58,59,60,61,62,63,64,65,66,67,68,69,70,71,72,73,74,75,76,77,78,79,80,81,82,83,84,85,86,87,88,89,90,91,92,93,94,95,96,97,98,99],\"y\":[0.9153836666666666,0.970317,0.9769483333333334,0.9779126666666667,0.978805,0.9853169999999999,0.98642,0.9884136666666667,0.9880153333333334,0.9883153333333334,0.9878006666666667,0.9870793333333333,0.9868413333333335,0.9869179999999999,0.9864783333333333,0.9868359999999999,0.9886906666666667,0.9886133333333333,0.9885356666666666,0.988895,0.9891909999999999,0.988914,0.9889156666666666,0.988918,0.9891893333333334,0.9890703333333333,0.989068,0.9888263333333334,0.9886713333333333,0.9887096666666667,0.98875,0.9890676666666667,0.9891893333333334,0.9893473333333334,0.989268,0.9895446666666666,0.9892666666666666,0.9889906666666667,0.9889906666666667,0.9889113333333333,0.9886733333333333,0.9889899999999999,0.9889916666666666,0.9886333333333334,0.988673,0.9885946666666667,0.9886763333333333,0.9887959999999999,0.9886563333333332,0.9884986666666666,0.9884203333333333,0.9884993333333334,0.988737,0.9891333333333333,0.9888143333333334,0.988735,0.9888543333333333,0.9887746666666666,0.9886546666666667,0.9886936666666667,0.9890516666666667,0.988972,0.9891306666666666,0.989011,0.9889696666666666,0.9889703333333334,0.9890093333333333,0.9890103333333333,0.9888496666666667,0.9890886666666666,0.989129,0.9891676666666666,0.9894456666666667,0.9894456666666667,0.9894466666666667,0.9894056666666667,0.989648,0.9899236666666665,0.9898436666666667,0.9899643333333333,0.9900056666666667,0.990043,0.990043,0.990161,0.9899626666666667,0.9900013333333333,0.9900023333333333,0.9900826666666666,0.990082,0.990082,0.9900823333333334,0.9900443333333332,0.990084,0.9901239999999999,0.9900446666666666,0.9900843333333333,0.9898846666666667,0.9898436666666667,0.989922,0.9900013333333333],\"type\":\"scatter\"},{\"marker\":{\"maxdisplayed\":10},\"mode\":\"lines+markers\",\"name\":\"Trial38\",\"x\":[0,1,2,3,4,5],\"y\":[0.9541433333333332,0.9597433333333334,0.9634886666666667,0.9661399999999999,0.9676033333333334,0.968429],\"type\":\"scatter\"},{\"marker\":{\"maxdisplayed\":10},\"mode\":\"lines+markers\",\"name\":\"Trial39\",\"x\":[0,1,2,3,4,5,6,7,8,9,10,11,12,13,14,15,16,17,18,19,20,21,22,23,24,25,26,27,28,29,30,31,32,33,34,35,36,37,38,39,40,41,42,43,44,45,46,47,48,49,50,51,52,53,54,55,56,57,58,59,60,61,62,63,64,65,66,67,68,69,70,71,72,73,74,75,76,77,78,79,80,81,82,83,84,85,86,87,88,89,90,91,92,93,94,95,96,97,98,99],\"y\":[0.9368696666666668,0.9680563333333333,0.9818320000000001,0.9830216666666667,0.985737,0.9860976666666668,0.9859613333333334,0.98807,0.989799,0.9891953333333333,0.9894183333333334,0.9886466666666668,0.9889496666666666,0.9887476666666667,0.9889866666666666,0.98833,0.9879883333333334,0.987635,0.9874776666666668,0.9877946666666665,0.9880703333333334,0.9879893333333333,0.9878309999999999,0.9879106666666667,0.9875933333333333,0.9871976666666665,0.987673,0.9884296666666668,0.9885090000000001,0.988431,0.9884313333333333,0.9893326666666667,0.9893333333333333,0.9894503333333334,0.9893716666666666,0.9893326666666665,0.9891770000000001,0.989258,0.9894206666666667,0.989261,0.9891803333333332,0.9892989999999999,0.989338,0.9890213333333334,0.9893016666666666,0.989302,0.9890639999999999,0.9890630000000001,0.9890639999999999,0.9891033333333333,0.9888663333333333,0.9889873333333333,0.9890676666666667,0.9891070000000001,0.9892656666666667,0.989777,0.9897763333333334,0.990094,0.9899753333333333,0.9903323333333334,0.990135,0.9902953333333334,0.9904903333333334,0.9906103333333333,0.9906103333333333,0.9906486666666666,0.9906486666666666,0.990808,0.990887,0.990887,0.9912843333333333,0.9912049999999999,0.9913996666666667,0.9913223333333333,0.9912836666666666,0.9914,0.9913216666666665,0.9912423333333332,0.9914013333333332,0.991441,0.9914413333333334,0.9915216666666667,0.9914423333333332,0.9915223333333333,0.9915223333333333,0.9914033333333333,0.9914833333333334,0.9916013333333332,0.9917593333333333,0.9917199999999999,0.99168,0.9915206666666667,0.991599,0.9915213333333334,0.99168,0.9915616666666667,0.9915603333333333,0.9915226666666667,0.9914446666666666,0.9915636666666666],\"type\":\"scatter\"},{\"marker\":{\"maxdisplayed\":10},\"mode\":\"lines+markers\",\"name\":\"Trial40\",\"x\":[0,1,2,3,4,5],\"y\":[0.9392166666666667,0.9711916666666668,0.9797353333333333,0.982403,0.9816263333333334,0.9841796666666668],\"type\":\"scatter\"},{\"marker\":{\"maxdisplayed\":10},\"mode\":\"lines+markers\",\"name\":\"Trial41\",\"x\":[0,1,2,3,4,5],\"y\":[0.9374723333333334,0.9615966666666668,0.9731856666666667,0.9756923333333334,0.9832386666666667,0.9841263333333333],\"type\":\"scatter\"},{\"marker\":{\"maxdisplayed\":10},\"mode\":\"lines+markers\",\"name\":\"Trial42\",\"x\":[0,1,2,3,4,5],\"y\":[0.9352283333333333,0.9593993333333334,0.9712316666666667,0.9758773333333334,0.9779043333333334,0.9802323333333334],\"type\":\"scatter\"},{\"marker\":{\"maxdisplayed\":10},\"mode\":\"lines+markers\",\"name\":\"Trial43\",\"x\":[0,1,2,3,4,5],\"y\":[0.9415766666666666,0.96549,0.9718643333333333,0.9787163333333333,0.9820493333333333,0.9822603333333334],\"type\":\"scatter\"},{\"marker\":{\"maxdisplayed\":10},\"mode\":\"lines+markers\",\"name\":\"Trial44\",\"x\":[0,1,2,3,4,5,6],\"y\":[0.9381576666666667,0.968822,0.9740843333333333,0.9800193333333334,0.9841363333333334,0.9850706666666668,0.9839656666666666],\"type\":\"scatter\"},{\"marker\":{\"maxdisplayed\":10},\"mode\":\"lines+markers\",\"name\":\"Trial45\",\"x\":[0,1,2,3,4,5],\"y\":[0.8920309999999999,0.9319416666666668,0.9406406666666666,0.9571406666666666,0.958005,0.957958],\"type\":\"scatter\"},{\"marker\":{\"maxdisplayed\":10},\"mode\":\"lines+markers\",\"name\":\"Trial46\",\"x\":[0,1,2,3,4,5],\"y\":[0.892912,0.8939323333333333,0.895384,0.8964046666666667,0.8975036666666667,0.8983676666666667],\"type\":\"scatter\"},{\"marker\":{\"maxdisplayed\":10},\"mode\":\"lines+markers\",\"name\":\"Trial47\",\"x\":[0,1,2,3,4,5],\"y\":[0.9391820000000001,0.9647093333333333,0.9762156666666666,0.9800446666666667,0.9780806666666667,0.9817246666666666],\"type\":\"scatter\"},{\"marker\":{\"maxdisplayed\":10},\"mode\":\"lines+markers\",\"name\":\"Trial48\",\"x\":[0,1,2,3,4,5],\"y\":[0.9556186666666667,0.9714096666666666,0.9733973333333333,0.9790253333333334,0.9780000000000001,0.9784743333333333],\"type\":\"scatter\"},{\"marker\":{\"maxdisplayed\":10},\"mode\":\"lines+markers\",\"name\":\"Trial49\",\"x\":[0,1,2,3,4,5],\"y\":[0.9650093333333333,0.9560413333333333,0.979675,0.978005,0.981182,0.98093],\"type\":\"scatter\"},{\"marker\":{\"maxdisplayed\":10},\"mode\":\"lines+markers\",\"name\":\"Trial50\",\"x\":[0,1,2,3,4,5],\"y\":[0.9451009999999999,0.966987,0.9739436666666667,0.9799986666666666,0.9769076666666666,0.9837543333333333],\"type\":\"scatter\"},{\"marker\":{\"maxdisplayed\":10},\"mode\":\"lines+markers\",\"name\":\"Trial51\",\"x\":[0,1,2,3,4,5,6,7],\"y\":[0.896319,0.9620273333333333,0.9796076666666665,0.9848690000000001,0.9856813333333334,0.9857696666666667,0.9864816666666667,0.9863019999999999],\"type\":\"scatter\"},{\"marker\":{\"maxdisplayed\":10},\"mode\":\"lines+markers\",\"name\":\"Trial52\",\"x\":[0,1,2,3,4,5,6,7,8,9,10,11,12,13,14,15,16,17,18,19,20,21,22,23,24,25,26,27,28,29,30,31,32,33,34,35],\"y\":[0.891401,0.9525823333333333,0.980448,0.9827703333333333,0.9854156666666668,0.986504,0.9870176666666667,0.9870963333333332,0.9869340000000001,0.9871139999999999,0.9883656666666667,0.98841,0.9882923333333333,0.9886533333333333,0.9886703333333333,0.9882523333333334,0.9880316666666666,0.9876973333333333,0.987658,0.9876236666666666,0.9874226666666667,0.9883730000000001,0.9887323333333334,0.9883736666666666,0.9880563333333333,0.9884173333333334,0.988579,0.9886613333333333,0.988937,0.9888953333333333,0.9889766666666667,0.988895,0.9888953333333333,0.9888563333333332,0.988857,0.9887373333333334],\"type\":\"scatter\"},{\"marker\":{\"maxdisplayed\":10},\"mode\":\"lines+markers\",\"name\":\"Trial53\",\"x\":[0,1,2,3,4,5],\"y\":[0.8825896666666667,0.943511,0.9616133333333333,0.9660676666666665,0.9716070000000001,0.9717953333333332],\"type\":\"scatter\"},{\"marker\":{\"maxdisplayed\":10},\"mode\":\"lines+markers\",\"name\":\"Trial54\",\"x\":[0,1,2,3,4,5,6],\"y\":[0.9272613333333334,0.9579433333333333,0.9755746666666667,0.981363,0.9853903333333333,0.9850383333333333,0.9850086666666665],\"type\":\"scatter\"},{\"marker\":{\"maxdisplayed\":10},\"mode\":\"lines+markers\",\"name\":\"Trial55\",\"x\":[0,1,2,3,4,5,6,7,8,9,10,11,12,13,14,15,16,17,18,19,20,21,22,23,24,25,26,27,28,29,30,31,32,33,34,35,36,37,38,39,40,41,42,43,44,45,46,47,48,49,50,51,52,53,54,55,56,57,58,59,60,61,62,63,64,65,66,67,68,69,70,71,72,73,74,75,76,77,78,79,80,81,82,83,84,85,86,87,88,89,90,91,92,93,94,95,96,97,98,99],\"y\":[0.9647113333333334,0.9734966666666667,0.9768706666666667,0.9833346666666666,0.9836313333333333,0.9854653333333333,0.9855673333333334,0.9869676666666667,0.9866233333333333,0.9863426666666667,0.9866983333333333,0.9868199999999999,0.9863903333333334,0.9868263333333332,0.9869876666666667,0.986885,0.9877216666666667,0.9880553333333334,0.9892073333333333,0.9892856666666666,0.9896060000000001,0.9892660000000001,0.9891053333333334,0.9893040000000001,0.9892223333333333,0.9887883333333334,0.9889086666666667,0.9892266666666667,0.98907,0.989108,0.9895046666666666,0.9892266666666667,0.9891896666666667,0.9891856666666667,0.988985,0.9891900000000001,0.9891920000000001,0.9891086666666666,0.9893516666666667,0.989312,0.989392,0.9894296666666667,0.9894280000000001,0.9895470000000001,0.9894693333333334,0.9894696666666668,0.989866,0.9897856666666667,0.9900646666666667,0.990024,0.9899446666666667,0.990024,0.9902816666666667,0.9896246666666667,0.9896243333333333,0.9900626666666666,0.9900216666666667,0.9900216666666667,0.9899809999999999,0.9897806666666668,0.9895839999999999,0.989742,0.9900613333333333,0.989902,0.989903,0.9901796666666667,0.9902206666666666,0.9902593333333334,0.9903386666666667,0.99046,0.990341,0.9906163333333332,0.99026,0.9903786666666666,0.9902013333333333,0.9903776666666667,0.9901800000000001,0.9901403333333333,0.9901403333333333,0.9902206666666666,0.990339,0.9902989999999999,0.9903786666666666,0.9902596666666666,0.9901813333333332,0.9902993333333333,0.990221,0.9902986666666665,0.9899436666666667,0.9901416666666667,0.9902596666666666,0.9903003333333333,0.9903773333333333,0.9903383333333333,0.9904583333333333,0.9906969999999999,0.9904986666666667,0.9905386666666667,0.9906186666666666,0.990657],\"type\":\"scatter\"},{\"marker\":{\"maxdisplayed\":10},\"mode\":\"lines+markers\",\"name\":\"Trial56\",\"x\":[0,1,2,3,4,5],\"y\":[0.9696060000000001,0.9766699999999999,0.9793243333333334,0.9791203333333334,0.9787659999999999,0.9799086666666668],\"type\":\"scatter\"},{\"marker\":{\"maxdisplayed\":10},\"mode\":\"lines+markers\",\"name\":\"Trial57\",\"x\":[0,1,2,3,4,5],\"y\":[0.9644726666666666,0.9754459999999999,0.978633,0.9801566666666667,0.9816776666666667,0.9820086666666666],\"type\":\"scatter\"},{\"marker\":{\"maxdisplayed\":10},\"mode\":\"lines+markers\",\"name\":\"Trial58\",\"x\":[0,1,2,3,4,5],\"y\":[0.9635656666666668,0.963181,0.9740126666666667,0.9763296666666667,0.9753193333333333,0.98368],\"type\":\"scatter\"},{\"marker\":{\"maxdisplayed\":10},\"mode\":\"lines+markers\",\"name\":\"Trial59\",\"x\":[0,1,2,3,4,5],\"y\":[0.8859413333333332,0.8915280000000001,0.8960180000000001,0.8989259999999999,0.9022333333333333,0.9047923333333334],\"type\":\"scatter\"},{\"marker\":{\"maxdisplayed\":10},\"mode\":\"lines+markers\",\"name\":\"Trial60\",\"x\":[0,1,2,3,4,5],\"y\":[0.9412316666666666,0.9494516666666666,0.9681293333333333,0.9783906666666667,0.9834869999999999,0.9837416666666666],\"type\":\"scatter\"},{\"marker\":{\"maxdisplayed\":10},\"mode\":\"lines+markers\",\"name\":\"Trial61\",\"x\":[0,1,2,3,4,5],\"y\":[0.9584646666666666,0.966096,0.9656916666666667,0.9695323333333334,0.9699066666666667,0.9801166666666666],\"type\":\"scatter\"},{\"marker\":{\"maxdisplayed\":10},\"mode\":\"lines+markers\",\"name\":\"Trial62\",\"x\":[0,1,2,3,4,5,6,7,8,9,10,11,12,13,14,15,16,17,18,19,20,21,22,23,24,25,26,27],\"y\":[0.9629810000000001,0.9648123333333333,0.9739153333333334,0.9755316666666668,0.9758239999999999,0.9879060000000001,0.987956,0.9876636666666667,0.9876566666666666,0.987162,0.987002,0.9864886666666667,0.98659,0.9865943333333332,0.987332,0.9869896666666667,0.9870136666666666,0.9870519999999999,0.9880623333333333,0.9880216666666667,0.9881026666666667,0.9873083333333333,0.9872053333333333,0.9873059999999999,0.987426,0.9872673333333334,0.9874269999999999,0.987587],\"type\":\"scatter\"},{\"marker\":{\"maxdisplayed\":10},\"mode\":\"lines+markers\",\"name\":\"Trial63\",\"x\":[0,1,2,3,4,5],\"y\":[0.885062,0.9549286666666666,0.9756196666666667,0.9821513333333334,0.9828663333333333,0.9836109999999999],\"type\":\"scatter\"},{\"marker\":{\"maxdisplayed\":10},\"mode\":\"lines+markers\",\"name\":\"Trial64\",\"x\":[0,1,2,3,4,5],\"y\":[0.9114,0.959282,0.9762583333333333,0.982205,0.982453,0.9829516666666667],\"type\":\"scatter\"},{\"marker\":{\"maxdisplayed\":10},\"mode\":\"lines+markers\",\"name\":\"Trial65\",\"x\":[0,1,2,3,4,5],\"y\":[0.9360689999999999,0.9709426666666667,0.9826246666666667,0.9822436666666666,0.9840046666666665,0.9846103333333334],\"type\":\"scatter\"},{\"marker\":{\"maxdisplayed\":10},\"mode\":\"lines+markers\",\"name\":\"Trial66\",\"x\":[0,1,2,3,4,5],\"y\":[0.9454126666666666,0.960823,0.967116,0.9691933333333335,0.9737463333333335,0.9813046666666668],\"type\":\"scatter\"},{\"marker\":{\"maxdisplayed\":10},\"mode\":\"lines+markers\",\"name\":\"Trial67\",\"x\":[0,1,2,3,4,5,6,7,8,9,10,11,12,13,14,15,16,17,18,19,20,21,22,23,24,25,26,27,28,29,30,31],\"y\":[0.9548220000000001,0.9806956666666666,0.9863666666666666,0.9879493333333333,0.9869906666666667,0.9871810000000001,0.9863643333333334,0.98637,0.9862693333333333,0.9865510000000001,0.9865543333333333,0.9869530000000001,0.9864163333333332,0.985309,0.9863256666666667,0.9865223333333333,0.9869576666666666,0.9865593333333335,0.9864833333333333,0.9862816666666667,0.986282,0.9883660000000001,0.988454,0.9887056666666667,0.9886086666666666,0.9886543333333333,0.9884943333333333,0.9890506666666666,0.9890493333333333,0.9883936666666666,0.9886553333333333,0.9884529999999999],\"type\":\"scatter\"},{\"marker\":{\"maxdisplayed\":10},\"mode\":\"lines+markers\",\"name\":\"Trial68\",\"x\":[0,1,2,3,4,5],\"y\":[0.9659663333333334,0.9776073333333333,0.978563,0.981224,0.984556,0.9851266666666666],\"type\":\"scatter\"},{\"marker\":{\"maxdisplayed\":10},\"mode\":\"lines+markers\",\"name\":\"Trial69\",\"x\":[0,1,2,3,4,5],\"y\":[0.9400836666666667,0.967454,0.975937,0.9820663333333334,0.9846413333333333,0.9853056666666666],\"type\":\"scatter\"},{\"marker\":{\"maxdisplayed\":10},\"mode\":\"lines+markers\",\"name\":\"Trial70\",\"x\":[0,1,2,3,4,5],\"y\":[0.917156,0.9773156666666667,0.9820290000000002,0.9827383333333333,0.9840206666666665,0.9851696666666667],\"type\":\"scatter\"},{\"marker\":{\"maxdisplayed\":10},\"mode\":\"lines+markers\",\"name\":\"Trial71\",\"x\":[0,1,2,3,4,5,6,7,8,9,10,11,12,13,14,15,16,17,18,19,20,21,22,23,24,25,26,27,28,29,30,31,32,33,34,35,36,37,38,39,40,41,42,43,44,45,46,47,48,49,50,51,52,53,54,55,56,57,58,59,60,61,62,63,64,65,66,67,68,69,70,71,72,73,74,75,76,77,78,79,80,81,82,83,84,85,86,87,88,89,90,91,92,93,94,95,96,97,98,99],\"y\":[0.9245186666666667,0.9747243333333334,0.9809013333333333,0.9795356666666667,0.9811523333333333,0.9873390000000001,0.9880033333333333,0.9882770000000001,0.9883609999999999,0.9885830000000001,0.9889009999999999,0.9882606666666667,0.9879276666666666,0.987924,0.9877246666666667,0.9873673333333333,0.9892936666666667,0.989096,0.9893363333333333,0.989254,0.9897603333333334,0.9896433333333334,0.9898823333333334,0.9896836666666666,0.9895636666666666,0.989325,0.9893656666666667,0.9895233333333334,0.9896056666666667,0.9896039999999999,0.989526,0.9893256666666667,0.9893246666666666,0.9892473333333333,0.9891283333333334,0.9892859999999999,0.9891673333333334,0.9892246666666665,0.9893839999999999,0.9892660000000001,0.9891843333333333,0.9890643333333333,0.989105,0.9892233333333333,0.989026,0.989026,0.9892253333333333,0.9892646666666667,0.9892253333333333,0.9891473333333334,0.9899026666666666,0.989863,0.9899403333333333,0.990059,0.990139,0.99002,0.9899413333333333,0.9899403333333333,0.989901,0.9900596666666667,0.9901779999999999,0.9901793333333333,0.9906153333333333,0.9904556666666666,0.9904953333333334,0.9905349999999999,0.990536,0.9906553333333333,0.9904953333333334,0.990656,0.9906953333333334,0.990736,0.990815,0.9906546666666666,0.9909343333333333,0.9909743333333333,0.9910143333333333,0.9910926666666667,0.9912113333333333,0.9912523333333333,0.9912523333333333,0.9912116666666666,0.9910926666666667,0.9910519999999999,0.9910126666666667,0.991171,0.991171,0.991211,0.9910916666666666,0.9910926666666667,0.991092,0.9909736666666666,0.9909336666666667,0.9910336666666666,0.9909536666666666,0.9909536666666666,0.9909153333333333,0.9908356666666666,0.9909533333333332,0.9910313333333333],\"type\":\"scatter\"},{\"marker\":{\"maxdisplayed\":10},\"mode\":\"lines+markers\",\"name\":\"Trial72\",\"x\":[0,1,2,3,4,5,6,7,8,9,10,11,12,13,14,15,16,17,18,19,20],\"y\":[0.9169866666666667,0.9688393333333334,0.9782699999999999,0.9782763333333334,0.9806013333333333,0.9870760000000001,0.9870716666666667,0.9876653333333333,0.9867926666666667,0.9867720000000001,0.987098,0.9869376666666666,0.9868613333333333,0.9873343333333334,0.986815,0.986655,0.9875470000000001,0.9877456666666667,0.9876646666666667,0.9874653333333333,0.9873839999999999],\"type\":\"scatter\"},{\"marker\":{\"maxdisplayed\":10},\"mode\":\"lines+markers\",\"name\":\"Trial73\",\"x\":[0,1,2,3,4,5],\"y\":[0.9101363333333333,0.9705136666666666,0.978819,0.97783,0.9793050000000001,0.9853053333333334],\"type\":\"scatter\"},{\"marker\":{\"maxdisplayed\":10},\"mode\":\"lines+markers\",\"name\":\"Trial74\",\"x\":[0,1,2,3,4,5,6,7,8,9,10,11,12,13,14,15,16,17,18,19,20,21,22,23,24,25,26,27,28,29,30,31,32,33,34,35,36,37,38,39,40,41,42,43,44,45,46,47,48,49,50,51,52,53,54,55,56,57,58,59,60,61,62,63,64,65,66,67,68,69,70,71,72,73,74,75,76,77,78,79,80,81,82,83,84,85,86,87,88,89,90,91,92,93,94,95,96,97,98,99],\"y\":[0.9268466666666666,0.975962,0.9859809999999999,0.9904129999999999,0.9932263333333333,0.993672,0.9933506666666666,0.9936916666666668,0.9930223333333332,0.9930186666666666,0.9928593333333334,0.992105,0.9921483333333333,0.9924560000000001,0.9922956666666667,0.9920633333333333,0.9921036666666666,0.9918673333333333,0.9916679999999999,0.991747,0.9915473333333332,0.9914246666666667,0.9914709999999999,0.9913926666666666,0.9911553333333334,0.990876,0.990914,0.991032,0.9909516666666667,0.9909533333333332,0.9909946666666666,0.9910733333333334,0.9906353333333332,0.9905546666666667,0.9904743333333332,0.9906346666666668,0.991092,0.9909106666666666,0.9909083333333334,0.9907879999999999,0.9905096666666666,0.9907496666666665,0.9905096666666666,0.9903916666666667,0.9903543333333333,0.9905133333333334,0.9905943333333335,0.9906753333333334,0.9905970000000001,0.9906363333333332,0.9904776666666666,0.9905553333333333,0.9905543333333333,0.9904766666666666,0.9903556666666665,0.9901983333333333,0.9901180000000002,0.9900773333333334,0.9899573333333334,0.9899586666666668,0.9901956666666667,0.9900366666666667,0.990315,0.9902353333333332,0.9900776666666666,0.9900783333333333,0.9899993333333333,0.9900393333333333,0.9900393333333333,0.98992,0.9899993333333333,0.9900776666666666,0.9901166666666666,0.9902766666666666,0.9901976666666666,0.9901583333333335,0.990357,0.9911483333333333,0.9911879999999998,0.991189,0.991189,0.991229,0.9912686666666666,0.9913099999999999,0.9913496666666667,0.9913496666666667,0.9913099999999999,0.9914299999999999,0.9913500000000001,0.9913096666666666,0.9914306666666667,0.9915096666666666,0.99147,0.9916283333333333,0.9917076666666667,0.9916679999999999,0.9915483333333333,0.991548,0.9915483333333333,0.9914673333333334],\"type\":\"scatter\"},{\"marker\":{\"maxdisplayed\":10},\"mode\":\"lines+markers\",\"name\":\"Trial75\",\"x\":[0,1,2,3,4,5,6,7,8,9,10,11,12,13,14,15,16,17,18,19,20,21,22,23,24,25,26,27,28,29,30,31,32,33,34,35,36,37,38,39,40,41,42,43,44,45,46,47,48,49,50,51,52,53,54,55,56,57,58,59,60,61,62,63,64,65,66,67,68,69,70,71,72,73,74,75,76,77,78,79,80,81,82,83,84,85,86,87,88,89,90,91,92,93,94,95,96,97,98,99],\"y\":[0.9285696666666666,0.9723833333333333,0.979946,0.9863066666666667,0.9899673333333334,0.9905396666666667,0.9903323333333333,0.9915583333333333,0.9912396666666666,0.9913996666666667,0.9912009999999999,0.9913576666666666,0.9908823333333333,0.9907586666666667,0.9904036666666666,0.990598,0.9910373333333333,0.9912386666666667,0.9911993333333333,0.9909193333333333,0.990703,0.9903453333333333,0.9906253333333334,0.9902673333333333,0.990344,0.9900686666666667,0.9901063333333333,0.990382,0.9900653333333334,0.9897489999999999,0.9898286666666666,0.9897513333333333,0.989436,0.9896726666666668,0.9895493333333333,0.9897116666666667,0.9897489999999999,0.9899056666666666,0.989866,0.9905366666666667,0.990336,0.9905333333333335,0.9902953333333334,0.9909316666666665,0.990849,0.9908523333333333,0.9907749999999999,0.9907343333333333,0.9905736666666667,0.990654,0.9905369999999999,0.9905736666666667,0.990495,0.99085,0.9906510000000001,0.9905529999999999,0.990713,0.9905936666666667,0.990633,0.990633,0.990672,0.9905923333333333,0.9907503333333333,0.99079,0.9906716666666666,0.9905916666666666,0.9905913333333333,0.9905916666666666,0.990473,0.9903529999999999,0.9903933333333333,0.9904320000000001,0.99067,0.9907513333333334,0.9907503333333333,0.9904716666666666,0.9905523333333334,0.9909893333333333,0.9909876666666667,0.991068,0.9910686666666667,0.991067,0.9911470000000001,0.9909879999999999,0.9909493333333333,0.99079,0.9907496666666665,0.9909103333333333,0.9909116666666667,0.9907529999999999,0.9908333333333333,0.9907529999999999,0.9906726666666666,0.9908316666666667,0.990872,0.991072,0.990992,0.9910303333333333,0.9911110000000001,0.9908720000000001],\"type\":\"scatter\"},{\"marker\":{\"maxdisplayed\":10},\"mode\":\"lines+markers\",\"name\":\"Trial76\",\"x\":[0,1,2,3,4,5,6,7,8,9,10,11,12,13,14,15,16,17,18,19,20,21,22,23,24,25,26,27,28,29,30,31,32,33,34,35,36,37,38,39,40,41,42,43,44,45,46,47,48,49,50,51,52,53,54,55,56,57,58,59,60,61,62,63,64,65,66,67,68,69,70,71,72,73,74,75,76,77,78,79,80,81,82,83,84,85,86,87,88,89,90,91,92,93,94,95,96,97,98,99],\"y\":[0.935742,0.9751466666666667,0.9797463333333333,0.9860753333333333,0.9875210000000001,0.987644,0.9883933333333332,0.9887090000000001,0.9882766666666667,0.9887143333333333,0.989016,0.9901263333333333,0.98913,0.9891263333333334,0.9877416666666666,0.987835,0.9885896666666666,0.9887133333333332,0.9884746666666667,0.988515,0.988161,0.9881603333333334,0.988597,0.9882826666666666,0.9885160000000001,0.9883983333333334,0.9884759999999999,0.988712,0.9885156666666667,0.9883943333333334,0.988355,0.9883149999999999,0.9880386666666666,0.9882770000000001,0.9881966666666667,0.9881976666666666,0.9884766666666667,0.9885336666666666,0.9884153333333333,0.9884530000000001,0.9883736666666666,0.9884510000000001,0.9882926666666667,0.9906366666666666,0.9905973333333332,0.9905556666666667,0.990437,0.9905193333333333,0.9902799999999999,0.990361,0.9903213333333333,0.990081,0.9901209999999999,0.9903589999999999,0.9902793333333334,0.9902799999999999,0.9906,0.9903976666666666,0.9901976666666666,0.9906353333333334,0.990437,0.9903563333333333,0.9903526666666668,0.9903526666666668,0.990274,0.9901566666666667,0.9902356666666666,0.9902356666666666,0.9902353333333332,0.9902366666666667,0.9902366666666667,0.9903963333333333,0.9904769999999999,0.990317,0.9904363333333334,0.9904766666666666,0.9905163333333333,0.9908736666666665,0.9908736666666665,0.9908336666666666,0.990834,0.9908746666666667,0.9908353333333334,0.9908746666666667,0.990835,0.9907156666666667,0.9905956666666667,0.990955,0.9909153333333333,0.9908756666666667,0.9908363333333333,0.9907966666666667,0.9908756666666667,0.9909953333333333,0.990837,0.9908769999999999,0.9907966666666667,0.9907956666666667,0.9907566666666666,0.9909153333333333],\"type\":\"scatter\"},{\"marker\":{\"maxdisplayed\":10},\"mode\":\"lines+markers\",\"name\":\"Trial77\",\"x\":[0,1,2,3,4,5,6,7,8,9,10,11,12,13,14,15,16,17,18,19,20,21,22,23,24,25,26,27,28,29,30,31,32,33,34,35,36,37,38,39,40,41,42,43,44,45,46,47,48,49,50,51,52,53,54,55,56,57,58,59,60,61,62,63,64,65,66,67,68,69,70,71,72,73,74,75,76,77,78,79,80,81,82,83,84,85,86,87,88,89,90,91,92,93,94,95,96,97,98,99],\"y\":[0.9424943333333333,0.9791676666666667,0.982834,0.989512,0.99009,0.9901943333333333,0.9906603333333334,0.9914553333333332,0.9912186666666667,0.9903050000000001,0.9906656666666667,0.9917773333333333,0.9913793333333333,0.9912986666666667,0.9908203333333333,0.9905156666666667,0.9916293333333334,0.9917493333333334,0.9915919999999999,0.9916699999999999,0.9912186666666667,0.9908626666666667,0.991298,0.9910206666666667,0.9911783333333334,0.9911406666666666,0.9911803333333333,0.9913793333333333,0.991101,0.9910203333333333,0.9910609999999999,0.9909,0.9906643333333333,0.9909823333333333,0.9909406666666666,0.9911786666666665,0.9913753333333334,0.991155,0.991156,0.9912723333333334,0.9912700000000001,0.9911123333333333,0.9908726666666666,0.9920236666666667,0.9919053333333333,0.9920243333333335,0.9919460000000001,0.9918290000000001,0.9916686666666666,0.9918279999999999,0.9917493333333334,0.9917086666666667,0.9915483333333333,0.9919863333333333,0.9918256666666666,0.9917863333333333,0.9918263333333334,0.9916656666666667,0.9916256666666667,0.991625,0.9915453333333334,0.9917043333333334,0.9917833333333332,0.9918616666666668,0.9916226666666667,0.9915436666666667,0.9915853333333334,0.991507,0.9913103333333333,0.9912680000000001,0.9912293333333334,0.991229,0.9912706666666667,0.9914303333333333,0.9914303333333333,0.9914303333333333,0.9914306666666667,0.9915099999999999,0.9914303333333333,0.9915503333333332,0.9913916666666666,0.9915473333333334,0.9915886666666666,0.9915476666666666,0.9915476666666666,0.99147,0.9913113333333333,0.99155,0.9914710000000001,0.9914313333333334,0.9914323333333334,0.9913926666666667,0.991551,0.9915926666666666,0.9913933333333333,0.991553,0.991473,0.9914336666666665,0.9913523333333333,0.99171],\"type\":\"scatter\"},{\"marker\":{\"maxdisplayed\":10},\"mode\":\"lines+markers\",\"name\":\"Trial78\",\"x\":[0,1,2,3,4,5,6,7,8,9,10,11,12,13,14,15,16,17,18,19,20,21,22,23,24,25,26,27,28,29,30,31,32,33,34,35,36,37,38,39,40,41,42,43,44,45,46,47,48,49,50,51,52,53,54,55,56,57,58,59,60,61,62,63,64,65,66,67,68,69,70,71,72,73,74,75,76],\"y\":[0.9329689999999999,0.973322,0.9788366666666667,0.985718,0.9879953333333334,0.987942,0.988632,0.9894440000000001,0.9886926666666667,0.9885906666666666,0.9889890000000001,0.9899006666666667,0.9896623333333333,0.9897006666666668,0.98954,0.9893009999999999,0.9898986666666666,0.9897813333333333,0.9897836666666667,0.9896240000000001,0.9896643333333333,0.9893846666666667,0.989903,0.9897459999999999,0.989785,0.989668,0.9899833333333333,0.9901033333333333,0.9896263333333333,0.9896653333333333,0.9896276666666667,0.9895889999999999,0.9893516666666667,0.9891146666666666,0.9890740000000001,0.989233,0.9895886666666667,0.9894886666666668,0.989529,0.9898043333333334,0.9897656666666667,0.9898440000000001,0.9894853333333332,0.9896039999999999,0.9895666666666667,0.9896853333333334,0.989645,0.9897260000000001,0.9895663333333333,0.9894866666666666,0.989408,0.9893679999999999,0.9892873333333333,0.9894850000000001,0.989486,0.9894866666666666,0.9896463333333333,0.989449,0.9893689999999999,0.9898826666666668,0.9898436666666667,0.9899233333333334,0.9901196666666666,0.99004,0.9898816666666667,0.9898416666666666,0.9897223333333334,0.989683,0.9896443333333332,0.989683,0.9896039999999999,0.9898039999999999,0.989687,0.9896853333333332,0.9897266666666668,0.9897663333333333,0.9898056666666667],\"type\":\"scatter\"},{\"marker\":{\"maxdisplayed\":10},\"mode\":\"lines+markers\",\"name\":\"Trial79\",\"x\":[0,1,2,3,4,5,6,7,8,9,10,11,12,13,14,15,16,17,18,19],\"y\":[0.9407013333333333,0.9730416666666667,0.9787686666666667,0.9813143333333333,0.9869333333333333,0.9871983333333333,0.9873673333333333,0.9882766666666667,0.9878416666666666,0.9879976666666667,0.9882376666666667,0.9881186666666667,0.9877213333333333,0.9878376666666666,0.987477,0.9877203333333333,0.9876823333333333,0.9878413333333333,0.9874046666666668,0.9872426666666666],\"type\":\"scatter\"},{\"marker\":{\"maxdisplayed\":10},\"mode\":\"lines+markers\",\"name\":\"Trial80\",\"x\":[0,1,2,3,4,5,6,7,8,9,10,11,12,13,14,15,16,17,18,19,20,21,22,23,24,25,26,27,28,29,30,31,32,33,34,35,36,37,38,39,40,41,42,43,44,45,46,47,48,49,50,51,52,53,54,55,56,57,58,59,60,61,62,63,64,65,66,67,68,69,70,71,72,73,74,75,76,77,78,79,80,81,82,83,84,85,86,87,88,89,90,91,92,93,94,95,96,97,98,99],\"y\":[0.9313746666666667,0.9745763333333333,0.97953,0.9866736666666668,0.9887993333333333,0.9922763333333334,0.991564,0.9923563333333333,0.9917233333333334,0.991288,0.9911143333333333,0.9906776666666666,0.9905586666666667,0.99051,0.9902296666666667,0.9897593333333333,0.9902000000000001,0.9902016666666666,0.990161,0.990079,0.990039,0.9901956666666667,0.9904006666666666,0.9904003333333332,0.9905166666666667,0.9903573333333333,0.9905183333333333,0.990358,0.990316,0.990274,0.9903953333333333,0.9903150000000002,0.9903123333333332,0.990314,0.9902729999999998,0.9906309999999999,0.99071,0.9905496666666666,0.9905903333333334,0.990748,0.9904693333333334,0.9907086666666668,0.9905893333333333,0.9905916666666666,0.9906323333333332,0.9904723333333333,0.9903943333333333,0.9903559999999999,0.990276,0.9904753333333334,0.9905543333333334,0.9905543333333334,0.9906723333333334,0.9905919999999999,0.9906309999999999,0.9905513333333333,0.9906323333333332,0.990471,0.9905506666666666,0.9909103333333333,0.990831,0.9907523333333333,0.9907906666666667,0.9907906666666667,0.9906320000000001,0.9905526666666665,0.9906320000000001,0.990593,0.9905546666666667,0.9905140000000001,0.9907149999999999,0.9907936666666667,0.9905563333333333,0.9905953333333333,0.9905583333333334,0.9904780000000001,0.9906776666666666,0.9906763333333334,0.990795,0.9907940000000001,0.9906366666666667,0.9909136666666667,0.9910333333333333,0.990954,0.990993,0.9909943333333334,0.9908756666666667,0.9909146666666667,0.9911533333333334,0.9911936666666666,0.9911946666666666,0.991155,0.991314,0.9913919999999999,0.9913126666666666,0.9913926666666667,0.9913126666666666,0.991353,0.9912316666666667,0.9913109999999999],\"type\":\"scatter\"},{\"marker\":{\"maxdisplayed\":10},\"mode\":\"lines+markers\",\"name\":\"Trial81\",\"x\":[0,1,2,3,4,5,6,7,8,9,10,11,12,13,14,15,16,17,18,19,20,21,22,23,24,25,26,27,28,29,30,31,32,33,34,35,36,37,38,39,40,41,42,43,44,45,46,47,48,49,50,51,52,53,54,55,56,57,58,59,60,61,62,63,64,65,66,67,68,69,70,71,72,73,74,75,76,77,78,79,80,81,82,83,84,85,86,87,88,89,90,91,92,93,94,95,96,97,98,99],\"y\":[0.937696,0.9777556666666666,0.9827210000000001,0.9900196666666666,0.9920456666666667,0.9934946666666665,0.9928206666666667,0.9937710000000001,0.993459,0.9928416666666666,0.9927066666666667,0.992468,0.9921876666666667,0.9924593333333332,0.9920979999999999,0.991822,0.9919836666666666,0.9920269999999999,0.991708,0.9916663333333333,0.9920623333333333,0.992141,0.992104,0.991946,0.9921433333333333,0.9920256666666667,0.9920256666666667,0.9918279999999999,0.991826,0.9918256666666667,0.991946,0.991825,0.9918650000000001,0.9917456666666666,0.9921009999999999,0.9922619999999999,0.9921810000000001,0.9920203333333334,0.9920193333333334,0.9920583333333334,0.9917803333333334,0.9917826666666666,0.9917026666666665,0.9914656666666666,0.9915063333333333,0.9915463333333333,0.991587,0.9915876666666668,0.9916266666666665,0.9916276666666667,0.9915483333333333,0.9916676666666667,0.9916266666666665,0.9917466666666668,0.9915476666666666,0.991508,0.9915486666666666,0.9915086666666667,0.9913886666666668,0.9915086666666667,0.9915853333333334,0.9918243333333333,0.991943,0.9918230000000001,0.9917433333333333,0.9916656666666667,0.9915473333333332,0.9914686666666667,0.9914296666666665,0.9913913333333334,0.9913113333333333,0.9913516666666666,0.9914296666666665,0.9913489999999999,0.9913503333333334,0.99139,0.99155,0.9915893333333333,0.9916680000000001,0.9916680000000001,0.9916689999999999,0.9916269999999999,0.9917476666666666,0.9917883333333334,0.9918276666666666,0.9917086666666668,0.9917086666666668,0.9916299999999999,0.9916709999999999,0.9919086666666667,0.9919086666666667,0.9918296666666667,0.9919493333333333,0.9920286666666667,0.9921479999999999,0.9921476666666665,0.9921470000000001,0.9921470000000001,0.9919866666666666,0.992066],\"type\":\"scatter\"},{\"marker\":{\"maxdisplayed\":10},\"mode\":\"lines+markers\",\"name\":\"Trial82\",\"x\":[0,1,2,3,4,5,6,7,8,9,10,11,12,13,14,15,16,17,18,19,20,21,22,23,24,25,26,27,28,29,30,31,32,33,34,35,36,37,38,39,40,41,42,43,44,45,46,47,48,49,50,51,52,53,54,55,56,57,58,59,60,61,62,63,64,65,66,67,68,69,70,71,72,73,74,75,76,77,78,79,80,81,82,83,84,85,86,87,88,89,90,91,92,93,94,95,96,97,98,99],\"y\":[0.937696,0.9777556666666666,0.9827210000000001,0.9900196666666666,0.9922806666666667,0.9935729999999999,0.9925403333333334,0.993772,0.9931436666666666,0.9926853333333333,0.99255,0.9923896666666666,0.9919913333333333,0.9924196666666667,0.9919836666666666,0.9917496666666666,0.9917936666666667,0.9916776666666666,0.991594,0.9916316666666667,0.9916686666666666,0.9917876666666667,0.9919106666666666,0.9917106666666666,0.9919066666666666,0.9919096666666666,0.9920286666666667,0.9919073333333334,0.9916303333333333,0.9915896666666666,0.9916699999999999,0.9916286666666666,0.9916280000000001,0.9917063333333335,0.9919033333333332,0.9921023333333333,0.9919826666666666,0.991823,0.9917833333333332,0.9917429999999999,0.9917020000000001,0.9916226666666667,0.991464,0.9912660000000001,0.9913073333333333,0.991388,0.9911879999999998,0.991269,0.9914676666666665,0.9915459999999999,0.9913883333333332,0.991229,0.991428,0.9915056666666665,0.9915050000000001,0.9913873333333333,0.9914679999999999,0.9915470000000001,0.991467,0.9916653333333333,0.9918243333333333,0.991944,0.9920629999999999,0.9919816666666668,0.9918619999999999,0.9918243333333333,0.9917453333333333,0.9915473333333334,0.99139,0.9914296666666665,0.9913906666666666,0.991429,0.9912299999999999,0.9913103333333334,0.991391,0.99155,0.9916293333333334,0.9915900000000001,0.9917486666666667,0.9918673333333334,0.9917076666666667,0.9915486666666666,0.9915889999999999,0.9915889999999999,0.9916286666666666,0.9916689999999999,0.99147,0.9916699999999999,0.9917503333333334,0.9918290000000001,0.9918686666666666,0.9918683333333332,0.9919086666666667,0.9919493333333333,0.9918693333333333,0.9919486666666666,0.9918689999999999,0.9918693333333333,0.9917493333333334,0.991908],\"type\":\"scatter\"},{\"marker\":{\"maxdisplayed\":10},\"mode\":\"lines+markers\",\"name\":\"Trial83\",\"x\":[0,1,2,3,4,5,6,7,8,9,10,11,12,13,14,15,16,17,18,19,20,21,22,23,24,25,26,27,28,29,30,31,32,33,34,35,36,37,38,39,40,41,42,43,44,45,46,47,48,49,50,51,52,53,54,55,56,57,58,59,60,61,62,63,64,65,66,67,68,69,70,71,72,73,74,75,76,77,78,79,80,81,82,83,84,85,86,87,88,89,90,91,92,93,94,95,96,97,98,99],\"y\":[0.9313746666666667,0.9672336666666667,0.979529,0.9863966666666667,0.9885609999999999,0.9922763333333334,0.991564,0.9925946666666666,0.992001,0.9915663333333332,0.991273,0.990876,0.9907173333333333,0.9906686666666666,0.9903883333333333,0.9898383333333333,0.9903976666666666,0.9904396666666667,0.9903586666666667,0.9902773333333332,0.990198,0.9902746666666666,0.99044,0.9903996666666667,0.990476,0.990358,0.9905576666666667,0.9904766666666668,0.9903970000000001,0.9903930000000001,0.9905146666666665,0.9903546666666667,0.990512,0.9904346666666667,0.9905526666666665,0.9907106666666666,0.9907886666666667,0.9907469999999999,0.9906283333333334,0.9907073333333333,0.9905483333333333,0.990708,0.99059,0.9906313333333333,0.990592,0.9906306666666667,0.9903926666666667,0.9903559999999999,0.9902366666666667,0.990436,0.990475,0.9904746666666666,0.9906713333333332,0.9906316666666667,0.9905496666666668,0.9905113333333334,0.9906323333333332,0.9904339999999999,0.9905523333333334,0.9909896666666667,0.9907909999999999,0.990593,0.9907110000000001,0.9907113333333334,0.9906316666666667,0.9905126666666666,0.990512,0.990552,0.9905533333333333,0.9905533333333333,0.9905126666666666,0.9905536666666667,0.9904363333333333,0.9905153333333333,0.9905573333333333,0.9904769999999999,0.990636,0.9905563333333335,0.9907543333333333,0.9908733333333334,0.9907156666666667,0.9910326666666668,0.9911513333333333,0.9911110000000001,0.9911110000000001,0.9910323333333334,0.9909136666666667,0.9908356666666666,0.9910346666666666,0.9910756666666667,0.9909956666666666,0.9909556666666667,0.9910343333333334,0.9911146666666667,0.9909946666666668,0.9910356666666665,0.9910350000000001,0.9908756666666667,0.9909553333333333,0.9911530000000001],\"type\":\"scatter\"},{\"marker\":{\"maxdisplayed\":10},\"mode\":\"lines+markers\",\"name\":\"Trial84\",\"x\":[0,1,2,3,4,5,6,7,8,9,10,11,12,13,14,15,16,17,18,19,20,21,22,23,24,25,26,27,28,29,30,31,32,33,34,35,36,37,38,39,40,41,42,43,44,45,46,47,48,49,50,51,52,53,54,55,56,57,58,59,60,61,62,63,64,65,66,67,68,69,70,71,72,73,74,75,76,77,78,79,80,81,82,83,84,85,86,87,88,89,90,91,92,93,94,95,96,97,98,99],\"y\":[0.937696,0.9688853333333333,0.98272,0.9901403333333333,0.9924816666666666,0.9936533333333332,0.9925403333333334,0.9938926666666666,0.9932643333333333,0.992806,0.9926693333333333,0.9925103333333333,0.992112,0.9925,0.9920236666666667,0.99167,0.991834,0.9917176666666667,0.9916743333333334,0.9916716666666666,0.9918293333333333,0.9919083333333334,0.9920313333333333,0.9918710000000001,0.991987,0.9917903333333333,0.9918290000000001,0.991867,0.99159,0.9916293333333334,0.9916296666666667,0.9916679999999999,0.9915880000000001,0.9917063333333335,0.9918256666666666,0.9919823333333332,0.9919816666666667,0.9917029999999999,0.991584,0.9918213333333332,0.9916613333333334,0.9916626666666666,0.991464,0.9912266666666666,0.9911483333333333,0.991308,0.991348,0.9912693333333333,0.9914676666666665,0.9916263333333334,0.9913876666666667,0.9912680000000001,0.9914266666666668,0.991585,0.9914650000000002,0.9913069999999999,0.9914666666666666,0.9915443333333332,0.991386,0.9916643333333331,0.9917436666666667,0.991705,0.9917833333333332,0.991823,0.9918239999999999,0.9915873333333334,0.9914679999999999,0.9914286666666667,0.9913103333333334,0.9911916666666668,0.9911516666666667,0.9911496666666667,0.9911513333333333,0.9912703333333334,0.9911913333333334,0.9913503333333334,0.9913506666666668,0.99147,0.9915883333333332,0.9916276666666666,0.9915083333333333,0.9914676666666665,0.9914670000000001,0.991507,0.9917063333333335,0.9917076666666667,0.9915086666666667,0.9916689999999999,0.99175,0.99175,0.9917890000000001,0.9917886666666665,0.9918676666666667,0.991909,0.9918689999999999,0.9918296666666665,0.9918296666666665,0.9917493333333333,0.991788,0.9917483333333333],\"type\":\"scatter\"},{\"marker\":{\"maxdisplayed\":10},\"mode\":\"lines+markers\",\"name\":\"Trial85\",\"x\":[0,1,2,3,4,5,6,7,8,9,10,11,12,13,14,15,16,17,18,19,20,21,22,23,24,25,26,27,28,29,30,31,32,33,34,35,36,37,38,39,40,41,42,43,44,45,46,47,48,49,50,51,52,53,54,55,56,57,58,59,60,61,62,63,64,65,66,67,68,69,70,71,72,73,74,75,76,77,78,79,80,81,82,83,84,85,86,87,88,89,90,91,92,93,94,95,96,97,98,99],\"y\":[0.9384926666666668,0.9686089999999999,0.9804653333333334,0.9900143333333333,0.9918773333333334,0.9937026666666666,0.9932236666666666,0.9941749999999999,0.9938626666666667,0.993366,0.9928713333333333,0.9919193333333333,0.9915586666666667,0.9918673333333334,0.991548,0.9908769999999999,0.9912366666666667,0.9916356666666667,0.9913543333333333,0.9912733333333333,0.99155,0.9914703333333333,0.9916323333333333,0.9915116666666667,0.9919873333333333,0.9918286666666667,0.9918693333333333,0.9917073333333333,0.9915889999999999,0.9915873333333334,0.9917090000000001,0.991867,0.991826,0.991826,0.9919043333333333,0.992303,0.9921833333333333,0.9919846666666666,0.9918646666666667,0.9918626666666667,0.9917036666666667,0.9917029999999999,0.9916636666666667,0.9916663333333333,0.9914679999999999,0.9914266666666668,0.991348,0.9913896666666666,0.9914679999999999,0.9916273333333333,0.9914303333333333,0.99147,0.9914296666666665,0.99155,0.991549,0.9915483333333333,0.9915886666666666,0.9915886666666666,0.9914693333333333,0.9913903333333333,0.9913886666666666,0.991508,0.9917456666666666,0.9915463333333333,0.9915066666666666,0.9913073333333333,0.9912273333333333,0.9912293333333334,0.9912313333333334,0.9911113333333335,0.9911913333333334,0.9912703333333334,0.9913500000000001,0.9915506666666666,0.9914716666666666,0.991432,0.9915106666666667,0.9915896666666667,0.9916699999999999,0.9916303333333333,0.9917096666666666,0.9920249999999999,0.9919853333333334,0.9918279999999999,0.9919863333333333,0.99175,0.9916706666666667,0.9919483333333333,0.9920286666666667,0.9919899999999999,0.9920299999999999,0.9920293333333333,0.9921083333333333,0.9921886666666667,0.9923069999999999,0.9923466666666666,0.9923069999999999,0.9922269999999999,0.992306,0.9923859999999999],\"type\":\"scatter\"},{\"marker\":{\"maxdisplayed\":10},\"mode\":\"lines+markers\",\"name\":\"Trial86\",\"x\":[0,1,2,3,4,5,6,7,8,9,10,11,12,13,14,15,16,17,18,19,20,21,22,23,24,25,26,27,28,29,30,31,32,33,34,35,36,37,38,39,40,41,42,43,44,45,46,47,48,49,50,51,52,53,54,55,56,57,58,59,60,61,62,63,64,65,66,67,68,69,70,71,72,73,74,75,76,77,78,79,80,81,82,83,84,85,86,87,88,89,90,91,92,93,94,95,96,97,98,99],\"y\":[0.937696,0.9689053333333333,0.98272,0.9901403333333333,0.9922466666666666,0.9935749999999999,0.9929383333333334,0.993811,0.9935796666666666,0.9929629999999999,0.9927076666666667,0.9925093333333334,0.9923496666666667,0.9924593333333332,0.9921786666666668,0.9919046666666667,0.9920646666666667,0.9921876666666667,0.991749,0.9917073333333333,0.9918246666666667,0.9919826666666666,0.9920650000000001,0.9918680000000001,0.992104,0.9919063333333332,0.992105,0.9919056666666668,0.9918656666666666,0.9918633333333334,0.9920646666666667,0.9919836666666666,0.9920640000000001,0.9918266666666665,0.99222,0.99234,0.9923000000000001,0.9921783333333334,0.9921389999999999,0.9922179999999999,0.9918986666666667,0.9918210000000002,0.9918616666666665,0.9916646666666665,0.9915056666666665,0.9915050000000001,0.991585,0.9915050000000001,0.9914246666666667,0.9916256666666667,0.991507,0.9913863333333333,0.9914656666666666,0.9916653333333333,0.9915463333333333,0.9914673333333334,0.991586,0.9916659999999999,0.991548,0.991587,0.9916256666666666,0.9916649999999999,0.9919023333333333,0.9919013333333334,0.9918236666666665,0.991625,0.9916253333333334,0.9913476666666666,0.9914283333333334,0.9913500000000001,0.9913903333333334,0.9914293333333334,0.9915476666666666,0.9915876666666666,0.9916689999999999,0.9915090000000001,0.9916689999999999,0.991708,0.9917863333333333,0.9918663333333333,0.9918253333333333,0.9919043333333333,0.9919046666666667,0.9920649999999999,0.9920649999999999,0.9919059999999998,0.991787,0.9918273333333333,0.9920260000000001,0.9919863333333333,0.992066,0.9921449999999999,0.9921456666666666,0.992106,0.992106,0.9921456666666666,0.9920669999999999,0.9921066666666668,0.9920263333333335,0.9922646666666667],\"type\":\"scatter\"},{\"marker\":{\"maxdisplayed\":10},\"mode\":\"lines+markers\",\"name\":\"Trial87\",\"x\":[0,1,2,3,4,5,6,7,8,9,10,11,12,13,14,15,16,17,18],\"y\":[0.9337556666666668,0.9666946666666667,0.979463,0.9848396666666668,0.989205,0.9863893333333333,0.9864463333333333,0.986949,0.9868169999999999,0.9866496666666666,0.9874926666666667,0.9873323333333334,0.9871279999999999,0.9871433333333334,0.9867476666666667,0.987006,0.9870723333333333,0.9868743333333333,0.9865966666666667],\"type\":\"scatter\"},{\"marker\":{\"maxdisplayed\":10},\"mode\":\"lines+markers\",\"name\":\"Trial88\",\"x\":[0,1,2,3,4,5,6,7,8,9,10,11,12,13,14,15,16,17,18,19,20,21,22,23,24,25,26,27,28,29,30,31,32,33,34,35,36,37,38,39,40,41,42,43],\"y\":[0.93447,0.9664936666666667,0.9797593333333333,0.9866886666666667,0.9903516666666667,0.9894166666666666,0.9888003333333333,0.988393,0.9877630000000001,0.9873603333333333,0.9880403333333333,0.9881156666666667,0.9877539999999999,0.9875153333333332,0.9873949999999999,0.9875166666666666,0.9876983333333333,0.9875796666666666,0.9869863333333333,0.9872613333333334,0.98718,0.9871026666666666,0.987229,0.987148,0.9875016666666667,0.9875416666666667,0.9878983333333333,0.9879749999999999,0.9877773333333333,0.987893,0.9881726666666667,0.9878173333333332,0.988057,0.9878593333333333,0.9877756666666667,0.988051,0.9884076666666667,0.9880886666666667,0.988128,0.9881306666666667,0.987891,0.9881676666666666,0.9881663333333334,0.9878926666666666],\"type\":\"scatter\"},{\"marker\":{\"maxdisplayed\":10},\"mode\":\"lines+markers\",\"name\":\"Trial89\",\"x\":[0,1,2,3,4,5,6,7,8,9,10,11,12,13,14,15,16,17,18,19,20,21,22,23,24,25,26,27,28,29,30,31,32,33,34,35,36,37,38,39,40,41,42,43,44,45,46,47,48,49,50,51,52,53,54,55,56,57,58,59,60,61,62,63,64,65,66,67,68,69,70,71,72,73,74,75,76,77,78,79,80,81,82,83,84,85,86,87,88,89,90,91,92,93,94,95,96,97,98,99],\"y\":[0.9384926666666668,0.9679833333333333,0.9823583333333333,0.988635,0.9919006666666667,0.99371,0.9931536666666667,0.9934363333333334,0.9930016666666667,0.9923473333333334,0.9920103333333333,0.991373,0.9908143333333334,0.9913976666666667,0.9911216666666666,0.9908856666666667,0.9912453333333334,0.9914023333333333,0.9908843333333334,0.991081,0.9913959999999999,0.9912756666666667,0.9913986666666667,0.991556,0.9914363333333333,0.991356,0.9915546666666666,0.9916320000000001,0.991393,0.9914693333333333,0.9915106666666667,0.9914286666666666,0.9915503333333332,0.9914323333333334,0.9916283333333333,0.9917476666666666,0.991788,0.9916253333333334,0.9917440000000001,0.991742,0.9915036666666667,0.9916613333333334,0.991663,0.9914263333333332,0.991308,0.9913866666666667,0.9911476666666665,0.991029,0.9910686666666666,0.991149,0.9911886666666666,0.9909909999999998,0.9912293333333334,0.991269,0.9914650000000002,0.9914266666666668,0.9915073333333333,0.9913876666666667,0.9913483333333334,0.9914679999999999,0.9913876666666667,0.9913876666666667,0.991705,0.991704,0.991507,0.9915066666666666,0.9914273333333332,0.9913489999999999,0.9911503333333332,0.9911896666666667,0.9913493333333333,0.9913486666666667,0.9913886666666666,0.9915876666666666,0.9915486666666666,0.9915076666666667,0.9915880000000001,0.9917069999999999,0.9917853333333332,0.9917850000000001,0.9916656666666667,0.9916653333333333,0.9915466666666667,0.9915466666666667,0.9916260000000001,0.9916656666666667,0.9914683333333333,0.9917856666666666,0.9917870000000001,0.9919456666666667,0.9918663333333333,0.9918266666666667,0.9918663333333333,0.9919446666666666,0.9920640000000001,0.9921046666666666,0.991867,0.9919053333333334,0.9919456666666667,0.9920256666666667],\"type\":\"scatter\"},{\"marker\":{\"maxdisplayed\":10},\"mode\":\"lines+markers\",\"name\":\"Trial90\",\"x\":[0,1,2,3,4,5,6,7,8,9,10,11,12,13,14,15,16,17,18,19,20,21,22,23,24,25,26,27,28,29,30,31,32,33,34,35,36,37,38,39,40,41,42,43,44,45,46,47,48,49,50,51,52,53,54,55,56,57,58,59,60,61,62,63,64,65,66,67,68,69,70,71,72,73,74,75,76,77,78,79,80,81,82,83,84,85,86,87,88,89,90,91,92,93,94,95,96,97,98,99],\"y\":[0.9313003333333333,0.9651503333333333,0.9716626666666667,0.9751676666666667,0.9804033333333333,0.990582,0.9900180000000001,0.9907573333333333,0.9903243333333333,0.9893896666666667,0.9896713333333333,0.989551,0.9889536666666667,0.988992,0.9882016666666665,0.9882433333333333,0.9889566666666667,0.9891186666666666,0.988681,0.988639,0.9900503333333334,0.989814,0.9898176666666667,0.9900546666666666,0.9902519999999999,0.9906133333333332,0.9901723333333333,0.990171,0.9903306666666666,0.9902890000000001,0.9904903333333333,0.9906493333333333,0.9905306666666666,0.9906083333333333,0.9903326666666666,0.9905326666666667,0.9903746666666667,0.9903323333333334,0.990135,0.9904936666666666,0.9900966666666666,0.9902936666666666,0.9904116666666667,0.990253,0.9902143333333333,0.9902526666666667,0.9903733333333333,0.9903343333333333,0.9901753333333333,0.9901756666666667,0.9900976666666667,0.9900566666666667,0.9900963333333334,0.9903336666666666,0.9904906666666666,0.990333,0.9904116666666667,0.9905693333333333,0.99037,0.9906069999999999,0.9907273333333334,0.9906480000000001,0.9910843333333333,0.9912016666666666,0.990964,0.9910036666666667,0.9910433333333334,0.9908846666666666,0.990926,0.9908049999999999,0.9906076666666667,0.9907263333333333,0.9908056666666667,0.9909636666666667,0.9908456666666666,0.990767,0.990885,0.99144,0.991441,0.9914416666666667,0.9913616666666667,0.9915996666666667,0.991442,0.9912043333333332,0.9912836666666666,0.9910843333333333,0.9909253333333333,0.9908466666666667,0.9908863333333334,0.990806,0.9908069999999999,0.9907673333333333,0.9908066666666667,0.9908466666666667,0.9907676666666667,0.9908466666666667,0.9908069999999999,0.990846,0.9908063333333333,0.990846],\"type\":\"scatter\"},{\"marker\":{\"maxdisplayed\":10},\"mode\":\"lines+markers\",\"name\":\"Trial91\",\"x\":[0,1,2,3,4,5,6,7,8,9,10],\"y\":[0.9284646666666666,0.971794,0.9782839999999999,0.9843583333333333,0.987961,0.9892750000000001,0.988864,0.9892223333333332,0.9885906666666666,0.9885056666666666,0.988432],\"type\":\"scatter\"},{\"marker\":{\"maxdisplayed\":10},\"mode\":\"lines+markers\",\"name\":\"Trial92\",\"x\":[0,1,2,3,4,5,6,7,8,9,10,11,12,13,14,15,16,17,18,19,20,21,22,23,24,25,26,27,28,29,30,31,32,33,34,35,36,37,38,39,40,41,42,43,44,45,46,47,48,49,50,51,52,53,54,55,56,57,58,59,60,61,62,63,64,65,66,67,68,69,70,71,72,73,74,75,76,77,78,79,80,81,82,83,84,85,86,87,88,89,90,91,92,93,94,95,96,97,98,99],\"y\":[0.9326886666666666,0.9739743333333334,0.985135,0.9909169999999999,0.9920436666666667,0.9921866666666667,0.9915716666666666,0.9919549999999999,0.9917966666666667,0.9917493333333334,0.9916333333333333,0.9917113333333333,0.990997,0.9909483333333333,0.9904723333333334,0.9906343333333334,0.9910306666666666,0.9909539999999999,0.990755,0.9905163333333333,0.9907166666666667,0.9907156666666667,0.9907616666666667,0.9911183333333332,0.9913133333333333,0.99159,0.9918679999999999,0.9918293333333333,0.99159,0.9917066666666666,0.9915503333333334,0.9914303333333333,0.9913919999999999,0.9913103333333334,0.991466,0.9915033333333332,0.9916623333333332,0.991464,0.9913843333333334,0.9912266666666666,0.9909089999999999,0.990869,0.9909083333333334,0.9907106666666667,0.9907916666666666,0.9906716666666666,0.9906320000000001,0.9906336666666666,0.9905543333333333,0.9904763333333332,0.9905573333333333,0.9904773333333333,0.9905566666666666,0.9904766666666666,0.9903183333333333,0.9903973333333332,0.990438,0.9905976666666666,0.9905970000000001,0.9910743333333333,0.9911123333333333,0.9913109999999999,0.9916676666666667,0.9919066666666666,0.9917863333333333,0.991669,0.9916683333333335,0.9916683333333333,0.9916689999999999,0.9917483333333333,0.991987,0.9919463333333333,0.9918666666666667,0.9920640000000001,0.9921046666666667,0.9920256666666667,0.9920653333333332,0.992105,0.992146,0.9922639999999999,0.9923036666666668,0.9921449999999999,0.9923436666666667,0.9922243333333333,0.9921856666666665,0.9921063333333332,0.9920666666666667,0.9920656666666666,0.9921056666666667,0.9920269999999999,0.992066,0.9920269999999999,0.9921063333333332,0.992146,0.9921066666666668,0.9920676666666667,0.9921463333333334,0.9922656666666666,0.9922656666666666,0.9923053333333333],\"type\":\"scatter\"},{\"marker\":{\"maxdisplayed\":10},\"mode\":\"lines+markers\",\"name\":\"Trial93\",\"x\":[0,1,2,3,4,5],\"y\":[0.9357506666666667,0.9677623333333334,0.9772896666666666,0.9775663333333333,0.9831536666666666,0.985451],\"type\":\"scatter\"},{\"marker\":{\"maxdisplayed\":10},\"mode\":\"lines+markers\",\"name\":\"Trial94\",\"x\":[0,1,2,3,4,5],\"y\":[0.9326886666666666,0.9658726666666667,0.976003,0.9833173333333334,0.9842913333333333,0.9839579999999999],\"type\":\"scatter\"},{\"marker\":{\"maxdisplayed\":10},\"mode\":\"lines+markers\",\"name\":\"Trial95\",\"x\":[0,1,2,3,4,5,6,7,8,9,10,11,12,13,14,15,16,17,18,19,20,21,22,23,24,25,26,27,28,29,30,31,32,33,34,35,36,37,38,39,40,41,42,43,44,45,46,47,48,49,50,51,52,53,54,55,56,57,58,59,60,61,62,63,64,65,66,67,68,69,70,71,72,73,74,75,76,77,78,79,80,81,82,83,84,85,86,87,88,89,90,91,92,93,94,95,96,97,98,99],\"y\":[0.9425746666666667,0.9786923333333334,0.9829926666666667,0.989312,0.989812,0.9899766666666667,0.99064,0.9913946666666665,0.9909586666666668,0.9903219999999999,0.9906623333333334,0.9916546666666667,0.9915563333333334,0.9917923333333333,0.9911963333333333,0.9909916666666666,0.9917883333333334,0.9918686666666666,0.9917906666666667,0.9915136666666666,0.9910623333333333,0.9909403333333334,0.9910963333333332,0.9909393333333333,0.9910956666666667,0.9909363333333333,0.9908966666666666,0.990977,0.99078,0.990698,0.9905796666666666,0.9905400000000001,0.9905026666666666,0.9906616666666667,0.9905816666666666,0.9906993333333333,0.9908573333333334,0.9907973333333334,0.9909153333333333,0.9908763333333334,0.990714,0.990834,0.9906733333333332,0.9916693333333333,0.9916276666666666,0.9914303333333333,0.9912706666666667,0.9911916666666668,0.9911903333333334,0.9911916666666668,0.9912323333333334,0.9911119999999999,0.9909533333333332,0.990993,0.990992,0.9908736666666665,0.9909936666666667,0.9909526666666667,0.9909113333333334,0.9910693333333334,0.9909910000000001,0.9912283333333333,0.9914649999999999,0.991384,0.9912256666666668,0.9911866666666667,0.991029,0.9910293333333332,0.9910316666666666,0.99103,0.9910293333333334,0.9910703333333334,0.9911499999999999,0.9911896666666667,0.990993,0.9911926666666666,0.9910733333333335,0.9912320000000001,0.9913116666666667,0.9913913333333334,0.9913113333333333,0.9912696666666667,0.9911516666666668,0.9911096666666667,0.9912296666666666,0.9911503333333332,0.9909916666666666,0.9911516666666667,0.9910336666666666,0.990994,0.9909946666666668,0.9910343333333334,0.9911136666666667,0.9913123333333332,0.9912333333333333,0.991234,0.9913129999999999,0.9912723333333334,0.9911526666666667,0.9913116666666667],\"type\":\"scatter\"},{\"marker\":{\"maxdisplayed\":10},\"mode\":\"lines+markers\",\"name\":\"Trial96\",\"x\":[0,1,2,3,4,5,6,7,8,9,10,11,12,13,14,15,16,17,18,19,20,21,22,23,24,25,26,27,28,29,30,31,32,33,34,35,36,37,38,39,40,41,42,43,44,45,46,47,48,49,50,51,52,53,54,55,56,57,58,59,60,61,62,63,64,65,66,67,68,69,70,71,72,73,74,75,76,77,78,79,80,81,82,83,84,85,86,87,88,89,90,91,92,93,94,95,96,97,98,99],\"y\":[0.9299523333333335,0.9747846666666667,0.9799823333333334,0.9874406666666666,0.9897253333333333,0.989966,0.9901353333333334,0.9907689999999999,0.9906506666666667,0.9907646666666666,0.9906843333333333,0.9904846666666667,0.9898496666666666,0.9900456666666666,0.9896493333333334,0.989804,0.9904426666666667,0.9902846666666667,0.9903686666666666,0.990684,0.9903693333333333,0.9900500000000001,0.9904063333333334,0.9908456666666666,0.9909216666666666,0.990841,0.99096,0.99096,0.9907633333333333,0.990764,0.9908433333333333,0.9906450000000001,0.9905293333333333,0.9905273333333332,0.9905633333333332,0.9906836666666666,0.991038,0.9911526666666667,0.9910356666666665,0.9915496666666668,0.991388,0.9916236666666666,0.9911866666666667,0.9920203333333332,0.9917823333333334,0.9918210000000002,0.991861,0.991585,0.9915446666666666,0.9915459999999999,0.9915076666666667,0.9912286666666666,0.9911876666666667,0.9918243333333333,0.9916626666666666,0.9916233333333334,0.991625,0.9915843333333333,0.991663,0.991979,0.9919383333333333,0.9917396666666667,0.9916606666666666,0.9916606666666666,0.9913816666666667,0.9915416666666667,0.9913836666666667,0.9915416666666667,0.9916626666666666,0.9916233333333334,0.9914653333333333,0.9915056666666667,0.991546,0.9915056666666667,0.9915050000000001,0.9913469999999999,0.9914263333333334,0.9917440000000001,0.9917843333333334,0.9919036666666666,0.991864,0.9917436666666667,0.9916649999999999,0.991704,0.991864,0.9917440000000001,0.9915853333333334,0.991587,0.9915466666666667,0.9913886666666668,0.9914283333333334,0.991428,0.9915896666666667,0.9914303333333333,0.9913493333333333,0.991469,0.991469,0.991548,0.9915086666666667,0.9915873333333334],\"type\":\"scatter\"},{\"marker\":{\"maxdisplayed\":10},\"mode\":\"lines+markers\",\"name\":\"Trial97\",\"x\":[0,1,2,3,4,5],\"y\":[0.9201846666666667,0.971219,0.9781156666666666,0.977436,0.9811956666666667,0.9824976666666667],\"type\":\"scatter\"},{\"marker\":{\"maxdisplayed\":10},\"mode\":\"lines+markers\",\"name\":\"Trial98\",\"x\":[0,1,2,3,4,5],\"y\":[0.9283206666666667,0.9737596666666667,0.9795809999999999,0.9846763333333334,0.9860026666666667,0.986204],\"type\":\"scatter\"},{\"marker\":{\"maxdisplayed\":10},\"mode\":\"lines+markers\",\"name\":\"Trial99\",\"x\":[0,1,2,3,4,5],\"y\":[0.924527,0.9694383333333333,0.9713470000000001,0.9771049999999999,0.9813533333333334,0.98778],\"type\":\"scatter\"}],                        {\"showlegend\":false,\"title\":{\"text\":\"Intermediate Values Plot\"},\"xaxis\":{\"title\":{\"text\":\"Step\"}},\"yaxis\":{\"title\":{\"text\":\"Intermediate Value\"}},\"template\":{\"data\":{\"bar\":[{\"error_x\":{\"color\":\"#2a3f5f\"},\"error_y\":{\"color\":\"#2a3f5f\"},\"marker\":{\"line\":{\"color\":\"#E5ECF6\",\"width\":0.5},\"pattern\":{\"fillmode\":\"overlay\",\"size\":10,\"solidity\":0.2}},\"type\":\"bar\"}],\"barpolar\":[{\"marker\":{\"line\":{\"color\":\"#E5ECF6\",\"width\":0.5},\"pattern\":{\"fillmode\":\"overlay\",\"size\":10,\"solidity\":0.2}},\"type\":\"barpolar\"}],\"carpet\":[{\"aaxis\":{\"endlinecolor\":\"#2a3f5f\",\"gridcolor\":\"white\",\"linecolor\":\"white\",\"minorgridcolor\":\"white\",\"startlinecolor\":\"#2a3f5f\"},\"baxis\":{\"endlinecolor\":\"#2a3f5f\",\"gridcolor\":\"white\",\"linecolor\":\"white\",\"minorgridcolor\":\"white\",\"startlinecolor\":\"#2a3f5f\"},\"type\":\"carpet\"}],\"choropleth\":[{\"colorbar\":{\"outlinewidth\":0,\"ticks\":\"\"},\"type\":\"choropleth\"}],\"contour\":[{\"colorbar\":{\"outlinewidth\":0,\"ticks\":\"\"},\"colorscale\":[[0.0,\"#0d0887\"],[0.1111111111111111,\"#46039f\"],[0.2222222222222222,\"#7201a8\"],[0.3333333333333333,\"#9c179e\"],[0.4444444444444444,\"#bd3786\"],[0.5555555555555556,\"#d8576b\"],[0.6666666666666666,\"#ed7953\"],[0.7777777777777778,\"#fb9f3a\"],[0.8888888888888888,\"#fdca26\"],[1.0,\"#f0f921\"]],\"type\":\"contour\"}],\"contourcarpet\":[{\"colorbar\":{\"outlinewidth\":0,\"ticks\":\"\"},\"type\":\"contourcarpet\"}],\"heatmap\":[{\"colorbar\":{\"outlinewidth\":0,\"ticks\":\"\"},\"colorscale\":[[0.0,\"#0d0887\"],[0.1111111111111111,\"#46039f\"],[0.2222222222222222,\"#7201a8\"],[0.3333333333333333,\"#9c179e\"],[0.4444444444444444,\"#bd3786\"],[0.5555555555555556,\"#d8576b\"],[0.6666666666666666,\"#ed7953\"],[0.7777777777777778,\"#fb9f3a\"],[0.8888888888888888,\"#fdca26\"],[1.0,\"#f0f921\"]],\"type\":\"heatmap\"}],\"heatmapgl\":[{\"colorbar\":{\"outlinewidth\":0,\"ticks\":\"\"},\"colorscale\":[[0.0,\"#0d0887\"],[0.1111111111111111,\"#46039f\"],[0.2222222222222222,\"#7201a8\"],[0.3333333333333333,\"#9c179e\"],[0.4444444444444444,\"#bd3786\"],[0.5555555555555556,\"#d8576b\"],[0.6666666666666666,\"#ed7953\"],[0.7777777777777778,\"#fb9f3a\"],[0.8888888888888888,\"#fdca26\"],[1.0,\"#f0f921\"]],\"type\":\"heatmapgl\"}],\"histogram\":[{\"marker\":{\"pattern\":{\"fillmode\":\"overlay\",\"size\":10,\"solidity\":0.2}},\"type\":\"histogram\"}],\"histogram2d\":[{\"colorbar\":{\"outlinewidth\":0,\"ticks\":\"\"},\"colorscale\":[[0.0,\"#0d0887\"],[0.1111111111111111,\"#46039f\"],[0.2222222222222222,\"#7201a8\"],[0.3333333333333333,\"#9c179e\"],[0.4444444444444444,\"#bd3786\"],[0.5555555555555556,\"#d8576b\"],[0.6666666666666666,\"#ed7953\"],[0.7777777777777778,\"#fb9f3a\"],[0.8888888888888888,\"#fdca26\"],[1.0,\"#f0f921\"]],\"type\":\"histogram2d\"}],\"histogram2dcontour\":[{\"colorbar\":{\"outlinewidth\":0,\"ticks\":\"\"},\"colorscale\":[[0.0,\"#0d0887\"],[0.1111111111111111,\"#46039f\"],[0.2222222222222222,\"#7201a8\"],[0.3333333333333333,\"#9c179e\"],[0.4444444444444444,\"#bd3786\"],[0.5555555555555556,\"#d8576b\"],[0.6666666666666666,\"#ed7953\"],[0.7777777777777778,\"#fb9f3a\"],[0.8888888888888888,\"#fdca26\"],[1.0,\"#f0f921\"]],\"type\":\"histogram2dcontour\"}],\"mesh3d\":[{\"colorbar\":{\"outlinewidth\":0,\"ticks\":\"\"},\"type\":\"mesh3d\"}],\"parcoords\":[{\"line\":{\"colorbar\":{\"outlinewidth\":0,\"ticks\":\"\"}},\"type\":\"parcoords\"}],\"pie\":[{\"automargin\":true,\"type\":\"pie\"}],\"scatter\":[{\"marker\":{\"colorbar\":{\"outlinewidth\":0,\"ticks\":\"\"}},\"type\":\"scatter\"}],\"scatter3d\":[{\"line\":{\"colorbar\":{\"outlinewidth\":0,\"ticks\":\"\"}},\"marker\":{\"colorbar\":{\"outlinewidth\":0,\"ticks\":\"\"}},\"type\":\"scatter3d\"}],\"scattercarpet\":[{\"marker\":{\"colorbar\":{\"outlinewidth\":0,\"ticks\":\"\"}},\"type\":\"scattercarpet\"}],\"scattergeo\":[{\"marker\":{\"colorbar\":{\"outlinewidth\":0,\"ticks\":\"\"}},\"type\":\"scattergeo\"}],\"scattergl\":[{\"marker\":{\"colorbar\":{\"outlinewidth\":0,\"ticks\":\"\"}},\"type\":\"scattergl\"}],\"scattermapbox\":[{\"marker\":{\"colorbar\":{\"outlinewidth\":0,\"ticks\":\"\"}},\"type\":\"scattermapbox\"}],\"scatterpolar\":[{\"marker\":{\"colorbar\":{\"outlinewidth\":0,\"ticks\":\"\"}},\"type\":\"scatterpolar\"}],\"scatterpolargl\":[{\"marker\":{\"colorbar\":{\"outlinewidth\":0,\"ticks\":\"\"}},\"type\":\"scatterpolargl\"}],\"scatterternary\":[{\"marker\":{\"colorbar\":{\"outlinewidth\":0,\"ticks\":\"\"}},\"type\":\"scatterternary\"}],\"surface\":[{\"colorbar\":{\"outlinewidth\":0,\"ticks\":\"\"},\"colorscale\":[[0.0,\"#0d0887\"],[0.1111111111111111,\"#46039f\"],[0.2222222222222222,\"#7201a8\"],[0.3333333333333333,\"#9c179e\"],[0.4444444444444444,\"#bd3786\"],[0.5555555555555556,\"#d8576b\"],[0.6666666666666666,\"#ed7953\"],[0.7777777777777778,\"#fb9f3a\"],[0.8888888888888888,\"#fdca26\"],[1.0,\"#f0f921\"]],\"type\":\"surface\"}],\"table\":[{\"cells\":{\"fill\":{\"color\":\"#EBF0F8\"},\"line\":{\"color\":\"white\"}},\"header\":{\"fill\":{\"color\":\"#C8D4E3\"},\"line\":{\"color\":\"white\"}},\"type\":\"table\"}]},\"layout\":{\"annotationdefaults\":{\"arrowcolor\":\"#2a3f5f\",\"arrowhead\":0,\"arrowwidth\":1},\"autotypenumbers\":\"strict\",\"coloraxis\":{\"colorbar\":{\"outlinewidth\":0,\"ticks\":\"\"}},\"colorscale\":{\"diverging\":[[0,\"#8e0152\"],[0.1,\"#c51b7d\"],[0.2,\"#de77ae\"],[0.3,\"#f1b6da\"],[0.4,\"#fde0ef\"],[0.5,\"#f7f7f7\"],[0.6,\"#e6f5d0\"],[0.7,\"#b8e186\"],[0.8,\"#7fbc41\"],[0.9,\"#4d9221\"],[1,\"#276419\"]],\"sequential\":[[0.0,\"#0d0887\"],[0.1111111111111111,\"#46039f\"],[0.2222222222222222,\"#7201a8\"],[0.3333333333333333,\"#9c179e\"],[0.4444444444444444,\"#bd3786\"],[0.5555555555555556,\"#d8576b\"],[0.6666666666666666,\"#ed7953\"],[0.7777777777777778,\"#fb9f3a\"],[0.8888888888888888,\"#fdca26\"],[1.0,\"#f0f921\"]],\"sequentialminus\":[[0.0,\"#0d0887\"],[0.1111111111111111,\"#46039f\"],[0.2222222222222222,\"#7201a8\"],[0.3333333333333333,\"#9c179e\"],[0.4444444444444444,\"#bd3786\"],[0.5555555555555556,\"#d8576b\"],[0.6666666666666666,\"#ed7953\"],[0.7777777777777778,\"#fb9f3a\"],[0.8888888888888888,\"#fdca26\"],[1.0,\"#f0f921\"]]},\"colorway\":[\"#636efa\",\"#EF553B\",\"#00cc96\",\"#ab63fa\",\"#FFA15A\",\"#19d3f3\",\"#FF6692\",\"#B6E880\",\"#FF97FF\",\"#FECB52\"],\"font\":{\"color\":\"#2a3f5f\"},\"geo\":{\"bgcolor\":\"white\",\"lakecolor\":\"white\",\"landcolor\":\"#E5ECF6\",\"showlakes\":true,\"showland\":true,\"subunitcolor\":\"white\"},\"hoverlabel\":{\"align\":\"left\"},\"hovermode\":\"closest\",\"mapbox\":{\"style\":\"light\"},\"paper_bgcolor\":\"white\",\"plot_bgcolor\":\"#E5ECF6\",\"polar\":{\"angularaxis\":{\"gridcolor\":\"white\",\"linecolor\":\"white\",\"ticks\":\"\"},\"bgcolor\":\"#E5ECF6\",\"radialaxis\":{\"gridcolor\":\"white\",\"linecolor\":\"white\",\"ticks\":\"\"}},\"scene\":{\"xaxis\":{\"backgroundcolor\":\"#E5ECF6\",\"gridcolor\":\"white\",\"gridwidth\":2,\"linecolor\":\"white\",\"showbackground\":true,\"ticks\":\"\",\"zerolinecolor\":\"white\"},\"yaxis\":{\"backgroundcolor\":\"#E5ECF6\",\"gridcolor\":\"white\",\"gridwidth\":2,\"linecolor\":\"white\",\"showbackground\":true,\"ticks\":\"\",\"zerolinecolor\":\"white\"},\"zaxis\":{\"backgroundcolor\":\"#E5ECF6\",\"gridcolor\":\"white\",\"gridwidth\":2,\"linecolor\":\"white\",\"showbackground\":true,\"ticks\":\"\",\"zerolinecolor\":\"white\"}},\"shapedefaults\":{\"line\":{\"color\":\"#2a3f5f\"}},\"ternary\":{\"aaxis\":{\"gridcolor\":\"white\",\"linecolor\":\"white\",\"ticks\":\"\"},\"baxis\":{\"gridcolor\":\"white\",\"linecolor\":\"white\",\"ticks\":\"\"},\"bgcolor\":\"#E5ECF6\",\"caxis\":{\"gridcolor\":\"white\",\"linecolor\":\"white\",\"ticks\":\"\"}},\"title\":{\"x\":0.05},\"xaxis\":{\"automargin\":true,\"gridcolor\":\"white\",\"linecolor\":\"white\",\"ticks\":\"\",\"title\":{\"standoff\":15},\"zerolinecolor\":\"white\",\"zerolinewidth\":2},\"yaxis\":{\"automargin\":true,\"gridcolor\":\"white\",\"linecolor\":\"white\",\"ticks\":\"\",\"title\":{\"standoff\":15},\"zerolinecolor\":\"white\",\"zerolinewidth\":2}}}},                        {\"responsive\": true}                    ).then(function(){\n",
              "                            \n",
              "var gd = document.getElementById('bb67bc6b-6559-4b69-89af-26546a6bda9f');\n",
              "var x = new MutationObserver(function (mutations, observer) {{\n",
              "        var display = window.getComputedStyle(gd).display;\n",
              "        if (!display || display === 'none') {{\n",
              "            console.log([gd, 'removed!']);\n",
              "            Plotly.purge(gd);\n",
              "            observer.disconnect();\n",
              "        }}\n",
              "}});\n",
              "\n",
              "// Listen for the removal of the full notebook cells\n",
              "var notebookContainer = gd.closest('#notebook-container');\n",
              "if (notebookContainer) {{\n",
              "    x.observe(notebookContainer, {childList: true});\n",
              "}}\n",
              "\n",
              "// Listen for the clearing of the current output cell\n",
              "var outputEl = gd.closest('.output');\n",
              "if (outputEl) {{\n",
              "    x.observe(outputEl, {childList: true});\n",
              "}}\n",
              "\n",
              "                        })                };                            </script>        </div>\n",
              "</body>\n",
              "</html>"
            ]
          },
          "metadata": {}
        }
      ]
    },
    {
      "cell_type": "code",
      "source": [
        "#mostra a importancia de cada parametro\n",
        "fig = optuna.visualization.plot_param_importances(study)\n",
        "fig.show();"
      ],
      "metadata": {
        "colab": {
          "base_uri": "https://localhost:8080/",
          "height": 542
        },
        "id": "lgF00_1ueYqX",
        "outputId": "19d4457c-055d-4ae0-9de0-61bdfe5fca69"
      },
      "execution_count": 55,
      "outputs": [
        {
          "output_type": "display_data",
          "data": {
            "text/html": [
              "<html>\n",
              "<head><meta charset=\"utf-8\" /></head>\n",
              "<body>\n",
              "    <div>            <script src=\"https://cdnjs.cloudflare.com/ajax/libs/mathjax/2.7.5/MathJax.js?config=TeX-AMS-MML_SVG\"></script><script type=\"text/javascript\">if (window.MathJax) {MathJax.Hub.Config({SVG: {font: \"STIX-Web\"}});}</script>                <script type=\"text/javascript\">window.PlotlyConfig = {MathJaxConfig: 'local'};</script>\n",
              "        <script src=\"https://cdn.plot.ly/plotly-2.8.3.min.js\"></script>                <div id=\"c57dc91f-77b0-4c3e-86f7-b73e00f010bf\" class=\"plotly-graph-div\" style=\"height:525px; width:100%;\"></div>            <script type=\"text/javascript\">                                    window.PLOTLYENV=window.PLOTLYENV || {};                                    if (document.getElementById(\"c57dc91f-77b0-4c3e-86f7-b73e00f010bf\")) {                    Plotly.newPlot(                        \"c57dc91f-77b0-4c3e-86f7-b73e00f010bf\",                        [{\"cliponaxis\":false,\"hovertemplate\":[\"lambda (FloatDistribution): 0.0002858324962409198<extra></extra>\",\"alpha (FloatDistribution): 0.0010973847090611562<extra></extra>\",\"colsample_bytree (FloatDistribution): 0.05661473234421049<extra></extra>\",\"learning_rate (CategoricalDistribution): 0.16829745440070312<extra></extra>\",\"subsample (FloatDistribution): 0.1843582361524886<extra></extra>\",\"booster (CategoricalDistribution): 0.5893463598972956<extra></extra>\"],\"marker\":{\"color\":\"rgb(66,146,198)\"},\"orientation\":\"h\",\"text\":[\"<0.01\",\"<0.01\",\"0.06\",\"0.17\",\"0.18\",\"0.59\"],\"textposition\":\"outside\",\"x\":[0.0002858324962409198,0.0010973847090611562,0.05661473234421049,0.16829745440070312,0.1843582361524886,0.5893463598972956],\"y\":[\"lambda\",\"alpha\",\"colsample_bytree\",\"learning_rate\",\"subsample\",\"booster\"],\"type\":\"bar\"}],                        {\"showlegend\":false,\"title\":{\"text\":\"Hyperparameter Importances\"},\"xaxis\":{\"title\":{\"text\":\"Importance for Objective Value\"}},\"yaxis\":{\"title\":{\"text\":\"Hyperparameter\"}},\"template\":{\"data\":{\"bar\":[{\"error_x\":{\"color\":\"#2a3f5f\"},\"error_y\":{\"color\":\"#2a3f5f\"},\"marker\":{\"line\":{\"color\":\"#E5ECF6\",\"width\":0.5},\"pattern\":{\"fillmode\":\"overlay\",\"size\":10,\"solidity\":0.2}},\"type\":\"bar\"}],\"barpolar\":[{\"marker\":{\"line\":{\"color\":\"#E5ECF6\",\"width\":0.5},\"pattern\":{\"fillmode\":\"overlay\",\"size\":10,\"solidity\":0.2}},\"type\":\"barpolar\"}],\"carpet\":[{\"aaxis\":{\"endlinecolor\":\"#2a3f5f\",\"gridcolor\":\"white\",\"linecolor\":\"white\",\"minorgridcolor\":\"white\",\"startlinecolor\":\"#2a3f5f\"},\"baxis\":{\"endlinecolor\":\"#2a3f5f\",\"gridcolor\":\"white\",\"linecolor\":\"white\",\"minorgridcolor\":\"white\",\"startlinecolor\":\"#2a3f5f\"},\"type\":\"carpet\"}],\"choropleth\":[{\"colorbar\":{\"outlinewidth\":0,\"ticks\":\"\"},\"type\":\"choropleth\"}],\"contour\":[{\"colorbar\":{\"outlinewidth\":0,\"ticks\":\"\"},\"colorscale\":[[0.0,\"#0d0887\"],[0.1111111111111111,\"#46039f\"],[0.2222222222222222,\"#7201a8\"],[0.3333333333333333,\"#9c179e\"],[0.4444444444444444,\"#bd3786\"],[0.5555555555555556,\"#d8576b\"],[0.6666666666666666,\"#ed7953\"],[0.7777777777777778,\"#fb9f3a\"],[0.8888888888888888,\"#fdca26\"],[1.0,\"#f0f921\"]],\"type\":\"contour\"}],\"contourcarpet\":[{\"colorbar\":{\"outlinewidth\":0,\"ticks\":\"\"},\"type\":\"contourcarpet\"}],\"heatmap\":[{\"colorbar\":{\"outlinewidth\":0,\"ticks\":\"\"},\"colorscale\":[[0.0,\"#0d0887\"],[0.1111111111111111,\"#46039f\"],[0.2222222222222222,\"#7201a8\"],[0.3333333333333333,\"#9c179e\"],[0.4444444444444444,\"#bd3786\"],[0.5555555555555556,\"#d8576b\"],[0.6666666666666666,\"#ed7953\"],[0.7777777777777778,\"#fb9f3a\"],[0.8888888888888888,\"#fdca26\"],[1.0,\"#f0f921\"]],\"type\":\"heatmap\"}],\"heatmapgl\":[{\"colorbar\":{\"outlinewidth\":0,\"ticks\":\"\"},\"colorscale\":[[0.0,\"#0d0887\"],[0.1111111111111111,\"#46039f\"],[0.2222222222222222,\"#7201a8\"],[0.3333333333333333,\"#9c179e\"],[0.4444444444444444,\"#bd3786\"],[0.5555555555555556,\"#d8576b\"],[0.6666666666666666,\"#ed7953\"],[0.7777777777777778,\"#fb9f3a\"],[0.8888888888888888,\"#fdca26\"],[1.0,\"#f0f921\"]],\"type\":\"heatmapgl\"}],\"histogram\":[{\"marker\":{\"pattern\":{\"fillmode\":\"overlay\",\"size\":10,\"solidity\":0.2}},\"type\":\"histogram\"}],\"histogram2d\":[{\"colorbar\":{\"outlinewidth\":0,\"ticks\":\"\"},\"colorscale\":[[0.0,\"#0d0887\"],[0.1111111111111111,\"#46039f\"],[0.2222222222222222,\"#7201a8\"],[0.3333333333333333,\"#9c179e\"],[0.4444444444444444,\"#bd3786\"],[0.5555555555555556,\"#d8576b\"],[0.6666666666666666,\"#ed7953\"],[0.7777777777777778,\"#fb9f3a\"],[0.8888888888888888,\"#fdca26\"],[1.0,\"#f0f921\"]],\"type\":\"histogram2d\"}],\"histogram2dcontour\":[{\"colorbar\":{\"outlinewidth\":0,\"ticks\":\"\"},\"colorscale\":[[0.0,\"#0d0887\"],[0.1111111111111111,\"#46039f\"],[0.2222222222222222,\"#7201a8\"],[0.3333333333333333,\"#9c179e\"],[0.4444444444444444,\"#bd3786\"],[0.5555555555555556,\"#d8576b\"],[0.6666666666666666,\"#ed7953\"],[0.7777777777777778,\"#fb9f3a\"],[0.8888888888888888,\"#fdca26\"],[1.0,\"#f0f921\"]],\"type\":\"histogram2dcontour\"}],\"mesh3d\":[{\"colorbar\":{\"outlinewidth\":0,\"ticks\":\"\"},\"type\":\"mesh3d\"}],\"parcoords\":[{\"line\":{\"colorbar\":{\"outlinewidth\":0,\"ticks\":\"\"}},\"type\":\"parcoords\"}],\"pie\":[{\"automargin\":true,\"type\":\"pie\"}],\"scatter\":[{\"marker\":{\"colorbar\":{\"outlinewidth\":0,\"ticks\":\"\"}},\"type\":\"scatter\"}],\"scatter3d\":[{\"line\":{\"colorbar\":{\"outlinewidth\":0,\"ticks\":\"\"}},\"marker\":{\"colorbar\":{\"outlinewidth\":0,\"ticks\":\"\"}},\"type\":\"scatter3d\"}],\"scattercarpet\":[{\"marker\":{\"colorbar\":{\"outlinewidth\":0,\"ticks\":\"\"}},\"type\":\"scattercarpet\"}],\"scattergeo\":[{\"marker\":{\"colorbar\":{\"outlinewidth\":0,\"ticks\":\"\"}},\"type\":\"scattergeo\"}],\"scattergl\":[{\"marker\":{\"colorbar\":{\"outlinewidth\":0,\"ticks\":\"\"}},\"type\":\"scattergl\"}],\"scattermapbox\":[{\"marker\":{\"colorbar\":{\"outlinewidth\":0,\"ticks\":\"\"}},\"type\":\"scattermapbox\"}],\"scatterpolar\":[{\"marker\":{\"colorbar\":{\"outlinewidth\":0,\"ticks\":\"\"}},\"type\":\"scatterpolar\"}],\"scatterpolargl\":[{\"marker\":{\"colorbar\":{\"outlinewidth\":0,\"ticks\":\"\"}},\"type\":\"scatterpolargl\"}],\"scatterternary\":[{\"marker\":{\"colorbar\":{\"outlinewidth\":0,\"ticks\":\"\"}},\"type\":\"scatterternary\"}],\"surface\":[{\"colorbar\":{\"outlinewidth\":0,\"ticks\":\"\"},\"colorscale\":[[0.0,\"#0d0887\"],[0.1111111111111111,\"#46039f\"],[0.2222222222222222,\"#7201a8\"],[0.3333333333333333,\"#9c179e\"],[0.4444444444444444,\"#bd3786\"],[0.5555555555555556,\"#d8576b\"],[0.6666666666666666,\"#ed7953\"],[0.7777777777777778,\"#fb9f3a\"],[0.8888888888888888,\"#fdca26\"],[1.0,\"#f0f921\"]],\"type\":\"surface\"}],\"table\":[{\"cells\":{\"fill\":{\"color\":\"#EBF0F8\"},\"line\":{\"color\":\"white\"}},\"header\":{\"fill\":{\"color\":\"#C8D4E3\"},\"line\":{\"color\":\"white\"}},\"type\":\"table\"}]},\"layout\":{\"annotationdefaults\":{\"arrowcolor\":\"#2a3f5f\",\"arrowhead\":0,\"arrowwidth\":1},\"autotypenumbers\":\"strict\",\"coloraxis\":{\"colorbar\":{\"outlinewidth\":0,\"ticks\":\"\"}},\"colorscale\":{\"diverging\":[[0,\"#8e0152\"],[0.1,\"#c51b7d\"],[0.2,\"#de77ae\"],[0.3,\"#f1b6da\"],[0.4,\"#fde0ef\"],[0.5,\"#f7f7f7\"],[0.6,\"#e6f5d0\"],[0.7,\"#b8e186\"],[0.8,\"#7fbc41\"],[0.9,\"#4d9221\"],[1,\"#276419\"]],\"sequential\":[[0.0,\"#0d0887\"],[0.1111111111111111,\"#46039f\"],[0.2222222222222222,\"#7201a8\"],[0.3333333333333333,\"#9c179e\"],[0.4444444444444444,\"#bd3786\"],[0.5555555555555556,\"#d8576b\"],[0.6666666666666666,\"#ed7953\"],[0.7777777777777778,\"#fb9f3a\"],[0.8888888888888888,\"#fdca26\"],[1.0,\"#f0f921\"]],\"sequentialminus\":[[0.0,\"#0d0887\"],[0.1111111111111111,\"#46039f\"],[0.2222222222222222,\"#7201a8\"],[0.3333333333333333,\"#9c179e\"],[0.4444444444444444,\"#bd3786\"],[0.5555555555555556,\"#d8576b\"],[0.6666666666666666,\"#ed7953\"],[0.7777777777777778,\"#fb9f3a\"],[0.8888888888888888,\"#fdca26\"],[1.0,\"#f0f921\"]]},\"colorway\":[\"#636efa\",\"#EF553B\",\"#00cc96\",\"#ab63fa\",\"#FFA15A\",\"#19d3f3\",\"#FF6692\",\"#B6E880\",\"#FF97FF\",\"#FECB52\"],\"font\":{\"color\":\"#2a3f5f\"},\"geo\":{\"bgcolor\":\"white\",\"lakecolor\":\"white\",\"landcolor\":\"#E5ECF6\",\"showlakes\":true,\"showland\":true,\"subunitcolor\":\"white\"},\"hoverlabel\":{\"align\":\"left\"},\"hovermode\":\"closest\",\"mapbox\":{\"style\":\"light\"},\"paper_bgcolor\":\"white\",\"plot_bgcolor\":\"#E5ECF6\",\"polar\":{\"angularaxis\":{\"gridcolor\":\"white\",\"linecolor\":\"white\",\"ticks\":\"\"},\"bgcolor\":\"#E5ECF6\",\"radialaxis\":{\"gridcolor\":\"white\",\"linecolor\":\"white\",\"ticks\":\"\"}},\"scene\":{\"xaxis\":{\"backgroundcolor\":\"#E5ECF6\",\"gridcolor\":\"white\",\"gridwidth\":2,\"linecolor\":\"white\",\"showbackground\":true,\"ticks\":\"\",\"zerolinecolor\":\"white\"},\"yaxis\":{\"backgroundcolor\":\"#E5ECF6\",\"gridcolor\":\"white\",\"gridwidth\":2,\"linecolor\":\"white\",\"showbackground\":true,\"ticks\":\"\",\"zerolinecolor\":\"white\"},\"zaxis\":{\"backgroundcolor\":\"#E5ECF6\",\"gridcolor\":\"white\",\"gridwidth\":2,\"linecolor\":\"white\",\"showbackground\":true,\"ticks\":\"\",\"zerolinecolor\":\"white\"}},\"shapedefaults\":{\"line\":{\"color\":\"#2a3f5f\"}},\"ternary\":{\"aaxis\":{\"gridcolor\":\"white\",\"linecolor\":\"white\",\"ticks\":\"\"},\"baxis\":{\"gridcolor\":\"white\",\"linecolor\":\"white\",\"ticks\":\"\"},\"bgcolor\":\"#E5ECF6\",\"caxis\":{\"gridcolor\":\"white\",\"linecolor\":\"white\",\"ticks\":\"\"}},\"title\":{\"x\":0.05},\"xaxis\":{\"automargin\":true,\"gridcolor\":\"white\",\"linecolor\":\"white\",\"ticks\":\"\",\"title\":{\"standoff\":15},\"zerolinecolor\":\"white\",\"zerolinewidth\":2},\"yaxis\":{\"automargin\":true,\"gridcolor\":\"white\",\"linecolor\":\"white\",\"ticks\":\"\",\"title\":{\"standoff\":15},\"zerolinecolor\":\"white\",\"zerolinewidth\":2}}}},                        {\"responsive\": true}                    ).then(function(){\n",
              "                            \n",
              "var gd = document.getElementById('c57dc91f-77b0-4c3e-86f7-b73e00f010bf');\n",
              "var x = new MutationObserver(function (mutations, observer) {{\n",
              "        var display = window.getComputedStyle(gd).display;\n",
              "        if (!display || display === 'none') {{\n",
              "            console.log([gd, 'removed!']);\n",
              "            Plotly.purge(gd);\n",
              "            observer.disconnect();\n",
              "        }}\n",
              "}});\n",
              "\n",
              "// Listen for the removal of the full notebook cells\n",
              "var notebookContainer = gd.closest('#notebook-container');\n",
              "if (notebookContainer) {{\n",
              "    x.observe(notebookContainer, {childList: true});\n",
              "}}\n",
              "\n",
              "// Listen for the clearing of the current output cell\n",
              "var outputEl = gd.closest('.output');\n",
              "if (outputEl) {{\n",
              "    x.observe(outputEl, {childList: true});\n",
              "}}\n",
              "\n",
              "                        })                };                            </script>        </div>\n",
              "</body>\n",
              "</html>"
            ]
          },
          "metadata": {}
        }
      ]
    },
    {
      "cell_type": "code",
      "source": [
        "#visualizando os melhores valores dos parametros\n",
        "Best_trial = study.best_trial.params\n",
        "Best_trial[\"n_estimators\"], Best_trial[\"tree_method\"] = 10000, 'gpu_hist'\n",
        "Best_trial"
      ],
      "metadata": {
        "colab": {
          "base_uri": "https://localhost:8080/"
        },
        "id": "gETI5v8HhXCQ",
        "outputId": "d71160cb-8b8b-409e-96c1-764928f70e44"
      },
      "execution_count": 56,
      "outputs": [
        {
          "output_type": "execute_result",
          "data": {
            "text/plain": [
              "{'booster': 'gbtree',\n",
              " 'lambda': 4.036977975800345e-08,\n",
              " 'alpha': 0.0014838092148401476,\n",
              " 'subsample': 0.7589447688306541,\n",
              " 'colsample_bytree': 0.25911478062628773,\n",
              " 'learning_rate': 0.02,\n",
              " 'max_depth': 6,\n",
              " 'eta': 2.0660616639254007e-08,\n",
              " 'gamma': 0.05265599995519301,\n",
              " 'grow_policy': 'lossguide',\n",
              " 'n_estimators': 10000,\n",
              " 'tree_method': 'gpu_hist'}"
            ]
          },
          "metadata": {},
          "execution_count": 56
        }
      ]
    },
    {
      "cell_type": "markdown",
      "source": [
        "------"
      ],
      "metadata": {
        "id": "ojFAwbgLX-Y7"
      }
    },
    {
      "cell_type": "code",
      "source": [
        "# utilizando no modelo"
      ],
      "metadata": {
        "id": "YEbGLoQYC0Bx"
      },
      "execution_count": 57,
      "outputs": []
    },
    {
      "cell_type": "code",
      "source": [
        "(x_train,x_test,y_train,y_test) = train_test_split(X_us,y_us, test_size=0.2, random_state=42)"
      ],
      "metadata": {
        "id": "aoi3u3bJKZ4E"
      },
      "execution_count": 58,
      "outputs": []
    },
    {
      "cell_type": "code",
      "source": [
        "\n",
        "print(\"x_train size: \", x_train.shape)\n",
        "print(\"x_ test size: \", x_test.shape)"
      ],
      "metadata": {
        "colab": {
          "base_uri": "https://localhost:8080/"
        },
        "id": "R98bdjFaKYQU",
        "outputId": "f9b34049-578e-4a2b-df68-3cb31661747a"
      },
      "execution_count": 59,
      "outputs": [
        {
          "output_type": "stream",
          "name": "stdout",
          "text": [
            "x_train size:  (787, 30)\n",
            "x_ test size:  (197, 30)\n"
          ]
        }
      ]
    },
    {
      "cell_type": "code",
      "source": [
        "import pandas as pd\n",
        "model = XGBClassifier(booster = 'gbtree',colsample_bytree= 0.4933533504645762, eta = 0.0005013621400898083, gamma =  0.000026032460514886794 ,learning_rate =  0.018, max_depth= 4,\n",
        "                      n_estimators = 10000, subsample = 0.8285445812511041, alpha = 0.000002457826265173811)\n",
        "# training\n",
        "model.fit(x_train, y_train)\n",
        "y_pred=model.predict(x_test)\n",
        "print(classification_report(y_test, y_pred))\n",
        "\n"
      ],
      "metadata": {
        "colab": {
          "base_uri": "https://localhost:8080/"
        },
        "id": "3OX1zEBgC2DC",
        "outputId": "8ea7f211-194a-47a8-f37a-d4e8a8995c6f"
      },
      "execution_count": 60,
      "outputs": [
        {
          "output_type": "stream",
          "name": "stdout",
          "text": [
            "              precision    recall  f1-score   support\n",
            "\n",
            "           0       0.93      0.96      0.95        99\n",
            "           1       0.96      0.93      0.94        98\n",
            "\n",
            "    accuracy                           0.94       197\n",
            "   macro avg       0.94      0.94      0.94       197\n",
            "weighted avg       0.94      0.94      0.94       197\n",
            "\n"
          ]
        }
      ]
    }
  ],
  "metadata": {
    "colab": {
      "collapsed_sections": [
        "lqhXvs53dfAB",
        "EJUIqdzLNH6p",
        "U0oF8-f9TKFT",
        "EZC6m8RVXq9p",
        "rkgquTK3ZuzW",
        "IdkchD6DMtkR",
        "suUs26w9borA"
      ],
      "provenance": [],
      "authorship_tag": "ABX9TyMh14UFQ6icckRPXbzyE1OK",
      "include_colab_link": true
    },
    "kernelspec": {
      "display_name": "Python 3",
      "name": "python3"
    },
    "language_info": {
      "name": "python"
    }
  },
  "nbformat": 4,
  "nbformat_minor": 0
}