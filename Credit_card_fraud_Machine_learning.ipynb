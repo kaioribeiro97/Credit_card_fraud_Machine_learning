{
  "cells": [
    {
      "cell_type": "markdown",
      "metadata": {
        "id": "view-in-github",
        "colab_type": "text"
      },
      "source": [
        "<a href=\"https://colab.research.google.com/github/kaioribeiro97/Credit_card_fraud_Machine_learning/blob/main/Credit_card_fraud_Machine_learning.ipynb\" target=\"_parent\"><img src=\"https://colab.research.google.com/assets/colab-badge.svg\" alt=\"Open In Colab\"/></a>"
      ]
    },
    {
      "cell_type": "markdown",
      "source": [
        "> # 1. Importando as bibliotecas\n",
        "\n",
        "\n",
        "\n"
      ],
      "metadata": {
        "id": "I92dPq3t_dfz"
      }
    },
    {
      "cell_type": "code",
      "source": [
        "\n",
        "import numpy as np\n",
        "import pandas as pd\n",
        "import seaborn as sns\n",
        "!pip install scikit-plot\n",
        "import scikitplot as skplt\n",
        "from google.colab import drive\n",
        "import matplotlib.pyplot as plt\n",
        "import plotly.express as px\n",
        "\n",
        "\n",
        "from sklearn.metrics import classification_report\n",
        "from sklearn.linear_model import LogisticRegression\n",
        "from sklearn.model_selection import train_test_split\n",
        "from imblearn.under_sampling import RandomUnderSampler\n",
        "from sklearn.metrics import roc_auc_score, roc_curve, accuracy_score\n",
        "from sklearn.metrics import accuracy_score, precision_score, confusion_matrix, recall_score, f1_score\n",
        "\n",
        "# configurar o estilo dos gráficos com o Seaborn\n",
        "sns.set_style('dark')\n",
        "\n",
        "\n",
        "#modelos de machine learning\n",
        "from sklearn import svm\n",
        "from sklearn.svm import SVC\n",
        "from xgboost import XGBClassifier\n",
        "from sklearn.model_selection import KFold\n",
        "from sklearn.tree import DecisionTreeClassifier\n",
        "from sklearn.model_selection import cross_val_score\n",
        "from sklearn.ensemble import RandomForestClassifier\n",
        "from sklearn.linear_model import LogisticRegression\n",
        "\n",
        "\n",
        "#optuna\n",
        "!pip install optuna \n",
        "import optuna\n",
        "import xgboost as xgb\n",
        "import sklearn.datasets"
      ],
      "metadata": {
        "colab": {
          "base_uri": "https://localhost:8080/"
        },
        "id": "zOIv9W4oCu1K",
        "outputId": "cf948e19-96d5-46f1-a16a-ab562a581dfd"
      },
      "execution_count": 1,
      "outputs": [
        {
          "output_type": "stream",
          "name": "stdout",
          "text": [
            "Looking in indexes: https://pypi.org/simple, https://us-python.pkg.dev/colab-wheels/public/simple/\n",
            "Requirement already satisfied: scikit-plot in /usr/local/lib/python3.8/dist-packages (0.3.7)\n",
            "Requirement already satisfied: scipy>=0.9 in /usr/local/lib/python3.8/dist-packages (from scikit-plot) (1.7.3)\n",
            "Requirement already satisfied: matplotlib>=1.4.0 in /usr/local/lib/python3.8/dist-packages (from scikit-plot) (3.2.2)\n",
            "Requirement already satisfied: joblib>=0.10 in /usr/local/lib/python3.8/dist-packages (from scikit-plot) (1.2.0)\n",
            "Requirement already satisfied: scikit-learn>=0.18 in /usr/local/lib/python3.8/dist-packages (from scikit-plot) (1.0.2)\n",
            "Requirement already satisfied: numpy>=1.11 in /usr/local/lib/python3.8/dist-packages (from matplotlib>=1.4.0->scikit-plot) (1.21.6)\n",
            "Requirement already satisfied: python-dateutil>=2.1 in /usr/local/lib/python3.8/dist-packages (from matplotlib>=1.4.0->scikit-plot) (2.8.2)\n",
            "Requirement already satisfied: kiwisolver>=1.0.1 in /usr/local/lib/python3.8/dist-packages (from matplotlib>=1.4.0->scikit-plot) (1.4.4)\n",
            "Requirement already satisfied: pyparsing!=2.0.4,!=2.1.2,!=2.1.6,>=2.0.1 in /usr/local/lib/python3.8/dist-packages (from matplotlib>=1.4.0->scikit-plot) (3.0.9)\n",
            "Requirement already satisfied: cycler>=0.10 in /usr/local/lib/python3.8/dist-packages (from matplotlib>=1.4.0->scikit-plot) (0.11.0)\n",
            "Requirement already satisfied: six>=1.5 in /usr/local/lib/python3.8/dist-packages (from python-dateutil>=2.1->matplotlib>=1.4.0->scikit-plot) (1.15.0)\n",
            "Requirement already satisfied: threadpoolctl>=2.0.0 in /usr/local/lib/python3.8/dist-packages (from scikit-learn>=0.18->scikit-plot) (3.1.0)\n",
            "Looking in indexes: https://pypi.org/simple, https://us-python.pkg.dev/colab-wheels/public/simple/\n",
            "Requirement already satisfied: optuna in /usr/local/lib/python3.8/dist-packages (3.0.5)\n",
            "Requirement already satisfied: cliff in /usr/local/lib/python3.8/dist-packages (from optuna) (4.1.0)\n",
            "Requirement already satisfied: scipy<1.9.0,>=1.7.0 in /usr/local/lib/python3.8/dist-packages (from optuna) (1.7.3)\n",
            "Requirement already satisfied: packaging>=20.0 in /usr/local/lib/python3.8/dist-packages (from optuna) (21.3)\n",
            "Requirement already satisfied: cmaes>=0.8.2 in /usr/local/lib/python3.8/dist-packages (from optuna) (0.9.0)\n",
            "Requirement already satisfied: importlib-metadata<5.0.0 in /usr/local/lib/python3.8/dist-packages (from optuna) (4.13.0)\n",
            "Requirement already satisfied: tqdm in /usr/local/lib/python3.8/dist-packages (from optuna) (4.64.1)\n",
            "Requirement already satisfied: numpy in /usr/local/lib/python3.8/dist-packages (from optuna) (1.21.6)\n",
            "Requirement already satisfied: alembic>=1.5.0 in /usr/local/lib/python3.8/dist-packages (from optuna) (1.9.0)\n",
            "Requirement already satisfied: colorlog in /usr/local/lib/python3.8/dist-packages (from optuna) (6.7.0)\n",
            "Requirement already satisfied: sqlalchemy>=1.3.0 in /usr/local/lib/python3.8/dist-packages (from optuna) (1.4.45)\n",
            "Requirement already satisfied: PyYAML in /usr/local/lib/python3.8/dist-packages (from optuna) (6.0)\n",
            "Requirement already satisfied: importlib-resources in /usr/local/lib/python3.8/dist-packages (from alembic>=1.5.0->optuna) (5.10.1)\n",
            "Requirement already satisfied: Mako in /usr/local/lib/python3.8/dist-packages (from alembic>=1.5.0->optuna) (1.2.4)\n",
            "Requirement already satisfied: zipp>=0.5 in /usr/local/lib/python3.8/dist-packages (from importlib-metadata<5.0.0->optuna) (3.11.0)\n",
            "Requirement already satisfied: pyparsing!=3.0.5,>=2.0.2 in /usr/local/lib/python3.8/dist-packages (from packaging>=20.0->optuna) (3.0.9)\n",
            "Requirement already satisfied: greenlet!=0.4.17 in /usr/local/lib/python3.8/dist-packages (from sqlalchemy>=1.3.0->optuna) (2.0.1)\n",
            "Requirement already satisfied: PrettyTable>=0.7.2 in /usr/local/lib/python3.8/dist-packages (from cliff->optuna) (3.5.0)\n",
            "Requirement already satisfied: autopage>=0.4.0 in /usr/local/lib/python3.8/dist-packages (from cliff->optuna) (0.5.1)\n",
            "Requirement already satisfied: stevedore>=2.0.1 in /usr/local/lib/python3.8/dist-packages (from cliff->optuna) (4.1.1)\n",
            "Requirement already satisfied: cmd2>=1.0.0 in /usr/local/lib/python3.8/dist-packages (from cliff->optuna) (2.4.2)\n",
            "Requirement already satisfied: attrs>=16.3.0 in /usr/local/lib/python3.8/dist-packages (from cmd2>=1.0.0->cliff->optuna) (22.1.0)\n",
            "Requirement already satisfied: wcwidth>=0.1.7 in /usr/local/lib/python3.8/dist-packages (from cmd2>=1.0.0->cliff->optuna) (0.2.5)\n",
            "Requirement already satisfied: pyperclip>=1.6 in /usr/local/lib/python3.8/dist-packages (from cmd2>=1.0.0->cliff->optuna) (1.8.2)\n",
            "Requirement already satisfied: pbr!=2.1.0,>=2.0.0 in /usr/local/lib/python3.8/dist-packages (from stevedore>=2.0.1->cliff->optuna) (5.11.0)\n",
            "Requirement already satisfied: MarkupSafe>=0.9.2 in /usr/local/lib/python3.8/dist-packages (from Mako->alembic>=1.5.0->optuna) (2.0.1)\n"
          ]
        }
      ]
    },
    {
      "cell_type": "markdown",
      "source": [
        "> # Coletando os dados do kaggle\n",
        "\n",
        "Utilizaremos uma api do kaggle para baixar o dataset direto para o drive"
      ],
      "metadata": {
        "id": "lqhXvs53dfAB"
      }
    },
    {
      "cell_type": "code",
      "source": [
        "! pip install kaggle"
      ],
      "metadata": {
        "colab": {
          "base_uri": "https://localhost:8080/"
        },
        "id": "WXlx6R60JH-V",
        "outputId": "141125e6-54c2-48a0-c2fb-ea9a5e67533e"
      },
      "execution_count": 2,
      "outputs": [
        {
          "output_type": "stream",
          "name": "stdout",
          "text": [
            "Looking in indexes: https://pypi.org/simple, https://us-python.pkg.dev/colab-wheels/public/simple/\n",
            "Requirement already satisfied: kaggle in /usr/local/lib/python3.8/dist-packages (1.5.12)\n",
            "Requirement already satisfied: tqdm in /usr/local/lib/python3.8/dist-packages (from kaggle) (4.64.1)\n",
            "Requirement already satisfied: requests in /usr/local/lib/python3.8/dist-packages (from kaggle) (2.23.0)\n",
            "Requirement already satisfied: certifi in /usr/local/lib/python3.8/dist-packages (from kaggle) (2022.12.7)\n",
            "Requirement already satisfied: urllib3 in /usr/local/lib/python3.8/dist-packages (from kaggle) (1.24.3)\n",
            "Requirement already satisfied: python-slugify in /usr/local/lib/python3.8/dist-packages (from kaggle) (7.0.0)\n",
            "Requirement already satisfied: six>=1.10 in /usr/local/lib/python3.8/dist-packages (from kaggle) (1.15.0)\n",
            "Requirement already satisfied: python-dateutil in /usr/local/lib/python3.8/dist-packages (from kaggle) (2.8.2)\n",
            "Requirement already satisfied: text-unidecode>=1.3 in /usr/local/lib/python3.8/dist-packages (from python-slugify->kaggle) (1.3)\n",
            "Requirement already satisfied: idna<3,>=2.5 in /usr/local/lib/python3.8/dist-packages (from requests->kaggle) (2.10)\n",
            "Requirement already satisfied: chardet<4,>=3.0.2 in /usr/local/lib/python3.8/dist-packages (from requests->kaggle) (3.0.4)\n"
          ]
        }
      ]
    },
    {
      "cell_type": "code",
      "source": [
        "! mkdir ~/.kaggle"
      ],
      "metadata": {
        "id": "h3xLARQIJLSC",
        "colab": {
          "base_uri": "https://localhost:8080/"
        },
        "outputId": "a767f482-c6af-4342-c93f-8b55209a2c33"
      },
      "execution_count": 3,
      "outputs": [
        {
          "output_type": "stream",
          "name": "stdout",
          "text": [
            "mkdir: cannot create directory ‘/root/.kaggle’: File exists\n"
          ]
        }
      ]
    },
    {
      "cell_type": "code",
      "source": [
        "drive.mount('/content/drive')\n",
        "\n",
        "!cp /content/drive/MyDrive/kaggle.json ~/.kaggle/kaggle.json"
      ],
      "metadata": {
        "colab": {
          "base_uri": "https://localhost:8080/"
        },
        "id": "vrKr7iCBJRKu",
        "outputId": "4a369589-db52-4b81-d717-b2d26e2216f7"
      },
      "execution_count": 4,
      "outputs": [
        {
          "output_type": "stream",
          "name": "stdout",
          "text": [
            "Drive already mounted at /content/drive; to attempt to forcibly remount, call drive.mount(\"/content/drive\", force_remount=True).\n"
          ]
        }
      ]
    },
    {
      "cell_type": "code",
      "source": [
        "! chmod 600 ~/.kaggle/kaggle.json"
      ],
      "metadata": {
        "id": "b2jIla5iJXer"
      },
      "execution_count": 5,
      "outputs": []
    },
    {
      "cell_type": "code",
      "source": [
        "! kaggle datasets download -d mlg-ulb/creditcardfraud"
      ],
      "metadata": {
        "colab": {
          "base_uri": "https://localhost:8080/"
        },
        "id": "PNaxDptpJX-A",
        "outputId": "1183f511-a70c-4a89-fb86-f0b403be51e8"
      },
      "execution_count": 6,
      "outputs": [
        {
          "output_type": "stream",
          "name": "stdout",
          "text": [
            "creditcardfraud.zip: Skipping, found more recently modified local copy (use --force to force download)\n"
          ]
        }
      ]
    },
    {
      "cell_type": "code",
      "source": [
        "! unzip creditcardfraud.zip"
      ],
      "metadata": {
        "colab": {
          "base_uri": "https://localhost:8080/"
        },
        "id": "NhNTkn3OJaJ4",
        "outputId": "321e6404-8c0a-4ba1-db59-b5b6eb103996"
      },
      "execution_count": 7,
      "outputs": [
        {
          "output_type": "stream",
          "name": "stdout",
          "text": [
            "Archive:  creditcardfraud.zip\n",
            "replace creditcard.csv? [y]es, [n]o, [A]ll, [N]one, [r]ename: y\n",
            "  inflating: creditcard.csv          \n"
          ]
        }
      ]
    },
    {
      "cell_type": "code",
      "source": [
        "df = pd.read_csv('creditcard.csv')"
      ],
      "metadata": {
        "id": "uUBct8JAJcRp"
      },
      "execution_count": 8,
      "outputs": []
    },
    {
      "cell_type": "code",
      "execution_count": 9,
      "metadata": {
        "id": "n5pHXFe59gKN"
      },
      "outputs": [],
      "source": [
        "#@title\n",
        "# suprimir os warnings\n",
        "from warnings import simplefilter\n",
        "simplefilter(action='ignore', category=FutureWarning)\n",
        "\n",
        "!pip install -q scikit-plot"
      ]
    },
    {
      "cell_type": "markdown",
      "metadata": {
        "id": "DN6TYnhcAzYY"
      },
      "source": [
        "> # Preparando os dados"
      ]
    },
    {
      "cell_type": "code",
      "execution_count": 10,
      "metadata": {
        "colab": {
          "base_uri": "https://localhost:8080/",
          "height": 236
        },
        "id": "c84Kfi8VBAkY",
        "outputId": "c2e0b2f8-73ff-43b9-aab0-866982410351"
      },
      "outputs": [
        {
          "output_type": "execute_result",
          "data": {
            "text/plain": [
              "   Time        V1        V2        V3        V4        V5        V6        V7  \\\n",
              "0   0.0 -1.359807 -0.072781  2.536347  1.378155 -0.338321  0.462388  0.239599   \n",
              "1   0.0  1.191857  0.266151  0.166480  0.448154  0.060018 -0.082361 -0.078803   \n",
              "2   1.0 -1.358354 -1.340163  1.773209  0.379780 -0.503198  1.800499  0.791461   \n",
              "3   1.0 -0.966272 -0.185226  1.792993 -0.863291 -0.010309  1.247203  0.237609   \n",
              "4   2.0 -1.158233  0.877737  1.548718  0.403034 -0.407193  0.095921  0.592941   \n",
              "\n",
              "         V8        V9  ...       V21       V22       V23       V24       V25  \\\n",
              "0  0.098698  0.363787  ... -0.018307  0.277838 -0.110474  0.066928  0.128539   \n",
              "1  0.085102 -0.255425  ... -0.225775 -0.638672  0.101288 -0.339846  0.167170   \n",
              "2  0.247676 -1.514654  ...  0.247998  0.771679  0.909412 -0.689281 -0.327642   \n",
              "3  0.377436 -1.387024  ... -0.108300  0.005274 -0.190321 -1.175575  0.647376   \n",
              "4 -0.270533  0.817739  ... -0.009431  0.798278 -0.137458  0.141267 -0.206010   \n",
              "\n",
              "        V26       V27       V28  Amount  Class  \n",
              "0 -0.189115  0.133558 -0.021053  149.62      0  \n",
              "1  0.125895 -0.008983  0.014724    2.69      0  \n",
              "2 -0.139097 -0.055353 -0.059752  378.66      0  \n",
              "3 -0.221929  0.062723  0.061458  123.50      0  \n",
              "4  0.502292  0.219422  0.215153   69.99      0  \n",
              "\n",
              "[5 rows x 31 columns]"
            ],
            "text/html": [
              "\n",
              "  <div id=\"df-bfb4c5e7-e501-48a9-a6ea-ab4c8d68c7ad\">\n",
              "    <div class=\"colab-df-container\">\n",
              "      <div>\n",
              "<style scoped>\n",
              "    .dataframe tbody tr th:only-of-type {\n",
              "        vertical-align: middle;\n",
              "    }\n",
              "\n",
              "    .dataframe tbody tr th {\n",
              "        vertical-align: top;\n",
              "    }\n",
              "\n",
              "    .dataframe thead th {\n",
              "        text-align: right;\n",
              "    }\n",
              "</style>\n",
              "<table border=\"1\" class=\"dataframe\">\n",
              "  <thead>\n",
              "    <tr style=\"text-align: right;\">\n",
              "      <th></th>\n",
              "      <th>Time</th>\n",
              "      <th>V1</th>\n",
              "      <th>V2</th>\n",
              "      <th>V3</th>\n",
              "      <th>V4</th>\n",
              "      <th>V5</th>\n",
              "      <th>V6</th>\n",
              "      <th>V7</th>\n",
              "      <th>V8</th>\n",
              "      <th>V9</th>\n",
              "      <th>...</th>\n",
              "      <th>V21</th>\n",
              "      <th>V22</th>\n",
              "      <th>V23</th>\n",
              "      <th>V24</th>\n",
              "      <th>V25</th>\n",
              "      <th>V26</th>\n",
              "      <th>V27</th>\n",
              "      <th>V28</th>\n",
              "      <th>Amount</th>\n",
              "      <th>Class</th>\n",
              "    </tr>\n",
              "  </thead>\n",
              "  <tbody>\n",
              "    <tr>\n",
              "      <th>0</th>\n",
              "      <td>0.0</td>\n",
              "      <td>-1.359807</td>\n",
              "      <td>-0.072781</td>\n",
              "      <td>2.536347</td>\n",
              "      <td>1.378155</td>\n",
              "      <td>-0.338321</td>\n",
              "      <td>0.462388</td>\n",
              "      <td>0.239599</td>\n",
              "      <td>0.098698</td>\n",
              "      <td>0.363787</td>\n",
              "      <td>...</td>\n",
              "      <td>-0.018307</td>\n",
              "      <td>0.277838</td>\n",
              "      <td>-0.110474</td>\n",
              "      <td>0.066928</td>\n",
              "      <td>0.128539</td>\n",
              "      <td>-0.189115</td>\n",
              "      <td>0.133558</td>\n",
              "      <td>-0.021053</td>\n",
              "      <td>149.62</td>\n",
              "      <td>0</td>\n",
              "    </tr>\n",
              "    <tr>\n",
              "      <th>1</th>\n",
              "      <td>0.0</td>\n",
              "      <td>1.191857</td>\n",
              "      <td>0.266151</td>\n",
              "      <td>0.166480</td>\n",
              "      <td>0.448154</td>\n",
              "      <td>0.060018</td>\n",
              "      <td>-0.082361</td>\n",
              "      <td>-0.078803</td>\n",
              "      <td>0.085102</td>\n",
              "      <td>-0.255425</td>\n",
              "      <td>...</td>\n",
              "      <td>-0.225775</td>\n",
              "      <td>-0.638672</td>\n",
              "      <td>0.101288</td>\n",
              "      <td>-0.339846</td>\n",
              "      <td>0.167170</td>\n",
              "      <td>0.125895</td>\n",
              "      <td>-0.008983</td>\n",
              "      <td>0.014724</td>\n",
              "      <td>2.69</td>\n",
              "      <td>0</td>\n",
              "    </tr>\n",
              "    <tr>\n",
              "      <th>2</th>\n",
              "      <td>1.0</td>\n",
              "      <td>-1.358354</td>\n",
              "      <td>-1.340163</td>\n",
              "      <td>1.773209</td>\n",
              "      <td>0.379780</td>\n",
              "      <td>-0.503198</td>\n",
              "      <td>1.800499</td>\n",
              "      <td>0.791461</td>\n",
              "      <td>0.247676</td>\n",
              "      <td>-1.514654</td>\n",
              "      <td>...</td>\n",
              "      <td>0.247998</td>\n",
              "      <td>0.771679</td>\n",
              "      <td>0.909412</td>\n",
              "      <td>-0.689281</td>\n",
              "      <td>-0.327642</td>\n",
              "      <td>-0.139097</td>\n",
              "      <td>-0.055353</td>\n",
              "      <td>-0.059752</td>\n",
              "      <td>378.66</td>\n",
              "      <td>0</td>\n",
              "    </tr>\n",
              "    <tr>\n",
              "      <th>3</th>\n",
              "      <td>1.0</td>\n",
              "      <td>-0.966272</td>\n",
              "      <td>-0.185226</td>\n",
              "      <td>1.792993</td>\n",
              "      <td>-0.863291</td>\n",
              "      <td>-0.010309</td>\n",
              "      <td>1.247203</td>\n",
              "      <td>0.237609</td>\n",
              "      <td>0.377436</td>\n",
              "      <td>-1.387024</td>\n",
              "      <td>...</td>\n",
              "      <td>-0.108300</td>\n",
              "      <td>0.005274</td>\n",
              "      <td>-0.190321</td>\n",
              "      <td>-1.175575</td>\n",
              "      <td>0.647376</td>\n",
              "      <td>-0.221929</td>\n",
              "      <td>0.062723</td>\n",
              "      <td>0.061458</td>\n",
              "      <td>123.50</td>\n",
              "      <td>0</td>\n",
              "    </tr>\n",
              "    <tr>\n",
              "      <th>4</th>\n",
              "      <td>2.0</td>\n",
              "      <td>-1.158233</td>\n",
              "      <td>0.877737</td>\n",
              "      <td>1.548718</td>\n",
              "      <td>0.403034</td>\n",
              "      <td>-0.407193</td>\n",
              "      <td>0.095921</td>\n",
              "      <td>0.592941</td>\n",
              "      <td>-0.270533</td>\n",
              "      <td>0.817739</td>\n",
              "      <td>...</td>\n",
              "      <td>-0.009431</td>\n",
              "      <td>0.798278</td>\n",
              "      <td>-0.137458</td>\n",
              "      <td>0.141267</td>\n",
              "      <td>-0.206010</td>\n",
              "      <td>0.502292</td>\n",
              "      <td>0.219422</td>\n",
              "      <td>0.215153</td>\n",
              "      <td>69.99</td>\n",
              "      <td>0</td>\n",
              "    </tr>\n",
              "  </tbody>\n",
              "</table>\n",
              "<p>5 rows × 31 columns</p>\n",
              "</div>\n",
              "      <button class=\"colab-df-convert\" onclick=\"convertToInteractive('df-bfb4c5e7-e501-48a9-a6ea-ab4c8d68c7ad')\"\n",
              "              title=\"Convert this dataframe to an interactive table.\"\n",
              "              style=\"display:none;\">\n",
              "        \n",
              "  <svg xmlns=\"http://www.w3.org/2000/svg\" height=\"24px\"viewBox=\"0 0 24 24\"\n",
              "       width=\"24px\">\n",
              "    <path d=\"M0 0h24v24H0V0z\" fill=\"none\"/>\n",
              "    <path d=\"M18.56 5.44l.94 2.06.94-2.06 2.06-.94-2.06-.94-.94-2.06-.94 2.06-2.06.94zm-11 1L8.5 8.5l.94-2.06 2.06-.94-2.06-.94L8.5 2.5l-.94 2.06-2.06.94zm10 10l.94 2.06.94-2.06 2.06-.94-2.06-.94-.94-2.06-.94 2.06-2.06.94z\"/><path d=\"M17.41 7.96l-1.37-1.37c-.4-.4-.92-.59-1.43-.59-.52 0-1.04.2-1.43.59L10.3 9.45l-7.72 7.72c-.78.78-.78 2.05 0 2.83L4 21.41c.39.39.9.59 1.41.59.51 0 1.02-.2 1.41-.59l7.78-7.78 2.81-2.81c.8-.78.8-2.07 0-2.86zM5.41 20L4 18.59l7.72-7.72 1.47 1.35L5.41 20z\"/>\n",
              "  </svg>\n",
              "      </button>\n",
              "      \n",
              "  <style>\n",
              "    .colab-df-container {\n",
              "      display:flex;\n",
              "      flex-wrap:wrap;\n",
              "      gap: 12px;\n",
              "    }\n",
              "\n",
              "    .colab-df-convert {\n",
              "      background-color: #E8F0FE;\n",
              "      border: none;\n",
              "      border-radius: 50%;\n",
              "      cursor: pointer;\n",
              "      display: none;\n",
              "      fill: #1967D2;\n",
              "      height: 32px;\n",
              "      padding: 0 0 0 0;\n",
              "      width: 32px;\n",
              "    }\n",
              "\n",
              "    .colab-df-convert:hover {\n",
              "      background-color: #E2EBFA;\n",
              "      box-shadow: 0px 1px 2px rgba(60, 64, 67, 0.3), 0px 1px 3px 1px rgba(60, 64, 67, 0.15);\n",
              "      fill: #174EA6;\n",
              "    }\n",
              "\n",
              "    [theme=dark] .colab-df-convert {\n",
              "      background-color: #3B4455;\n",
              "      fill: #D2E3FC;\n",
              "    }\n",
              "\n",
              "    [theme=dark] .colab-df-convert:hover {\n",
              "      background-color: #434B5C;\n",
              "      box-shadow: 0px 1px 3px 1px rgba(0, 0, 0, 0.15);\n",
              "      filter: drop-shadow(0px 1px 2px rgba(0, 0, 0, 0.3));\n",
              "      fill: #FFFFFF;\n",
              "    }\n",
              "  </style>\n",
              "\n",
              "      <script>\n",
              "        const buttonEl =\n",
              "          document.querySelector('#df-bfb4c5e7-e501-48a9-a6ea-ab4c8d68c7ad button.colab-df-convert');\n",
              "        buttonEl.style.display =\n",
              "          google.colab.kernel.accessAllowed ? 'block' : 'none';\n",
              "\n",
              "        async function convertToInteractive(key) {\n",
              "          const element = document.querySelector('#df-bfb4c5e7-e501-48a9-a6ea-ab4c8d68c7ad');\n",
              "          const dataTable =\n",
              "            await google.colab.kernel.invokeFunction('convertToInteractive',\n",
              "                                                     [key], {});\n",
              "          if (!dataTable) return;\n",
              "\n",
              "          const docLinkHtml = 'Like what you see? Visit the ' +\n",
              "            '<a target=\"_blank\" href=https://colab.research.google.com/notebooks/data_table.ipynb>data table notebook</a>'\n",
              "            + ' to learn more about interactive tables.';\n",
              "          element.innerHTML = '';\n",
              "          dataTable['output_type'] = 'display_data';\n",
              "          await google.colab.output.renderOutput(dataTable, element);\n",
              "          const docLink = document.createElement('div');\n",
              "          docLink.innerHTML = docLinkHtml;\n",
              "          element.appendChild(docLink);\n",
              "        }\n",
              "      </script>\n",
              "    </div>\n",
              "  </div>\n",
              "  "
            ]
          },
          "metadata": {},
          "execution_count": 10
        }
      ],
      "source": [
        "# importar os dados para um dataframe\n",
        "df.head()"
      ]
    },
    {
      "cell_type": "code",
      "execution_count": 11,
      "metadata": {
        "colab": {
          "base_uri": "https://localhost:8080/"
        },
        "id": "fwP1jS_-QPV3",
        "outputId": "ccb4efe1-1026-4670-f609-2cd535bffe80"
      },
      "outputs": [
        {
          "output_type": "stream",
          "name": "stdout",
          "text": [
            "<class 'pandas.core.frame.DataFrame'>\n",
            "RangeIndex: 284807 entries, 0 to 284806\n",
            "Data columns (total 31 columns):\n",
            " #   Column  Non-Null Count   Dtype  \n",
            "---  ------  --------------   -----  \n",
            " 0   Time    284807 non-null  float64\n",
            " 1   V1      284807 non-null  float64\n",
            " 2   V2      284807 non-null  float64\n",
            " 3   V3      284807 non-null  float64\n",
            " 4   V4      284807 non-null  float64\n",
            " 5   V5      284807 non-null  float64\n",
            " 6   V6      284807 non-null  float64\n",
            " 7   V7      284807 non-null  float64\n",
            " 8   V8      284807 non-null  float64\n",
            " 9   V9      284807 non-null  float64\n",
            " 10  V10     284807 non-null  float64\n",
            " 11  V11     284807 non-null  float64\n",
            " 12  V12     284807 non-null  float64\n",
            " 13  V13     284807 non-null  float64\n",
            " 14  V14     284807 non-null  float64\n",
            " 15  V15     284807 non-null  float64\n",
            " 16  V16     284807 non-null  float64\n",
            " 17  V17     284807 non-null  float64\n",
            " 18  V18     284807 non-null  float64\n",
            " 19  V19     284807 non-null  float64\n",
            " 20  V20     284807 non-null  float64\n",
            " 21  V21     284807 non-null  float64\n",
            " 22  V22     284807 non-null  float64\n",
            " 23  V23     284807 non-null  float64\n",
            " 24  V24     284807 non-null  float64\n",
            " 25  V25     284807 non-null  float64\n",
            " 26  V26     284807 non-null  float64\n",
            " 27  V27     284807 non-null  float64\n",
            " 28  V28     284807 non-null  float64\n",
            " 29  Amount  284807 non-null  float64\n",
            " 30  Class   284807 non-null  int64  \n",
            "dtypes: float64(30), int64(1)\n",
            "memory usage: 67.4 MB\n"
          ]
        }
      ],
      "source": [
        "df.info()"
      ]
    },
    {
      "cell_type": "code",
      "execution_count": 12,
      "metadata": {
        "colab": {
          "base_uri": "https://localhost:8080/",
          "height": 560
        },
        "id": "hXISDCkABazw",
        "outputId": "5355d151-7b0c-494e-82eb-25489bac6241"
      },
      "outputs": [
        {
          "output_type": "stream",
          "name": "stdout",
          "text": [
            "0    284315\n",
            "1       492\n",
            "Name: Class, dtype: int64\n",
            "\n",
            "Fraudes representam 0.17% do dataset.\n",
            "\n",
            "\n",
            "Transações normais representam 99.83% do dataset.\n",
            "\n"
          ]
        },
        {
          "output_type": "display_data",
          "data": {
            "text/plain": [
              "<Figure size 1296x432 with 2 Axes>"
            ],
            "image/png": "[encoded data removed]"
          },
          "metadata": {}
        }
      ],
      "source": [
        "\n",
        "# ver o balanceamento das classes\n",
        "print(df.Class.value_counts())\n",
        "print(\"\\nFraudes representam {:.2f}% do dataset.\\n\".format((df[df.Class == 1].shape[0] / df.shape[0]) * 100))\n",
        "print(\"\\nTransações normais representam {:.2f}% do dataset.\\n\".format((df[df.Class == 0].shape[0] / df.shape[0]) * 100))\n",
        "# plotar gráfico de barras para as Classes.\n",
        "f,ax=plt.subplots(1,2,figsize=(18,6))\n",
        "df['Class'].value_counts().plot.pie(explode=[0,0.1],autopct='%1.2f%%',ax=ax[0],shadow=True)\n",
        "ax[0].set_title('distribution')\n",
        "ax[0].set_ylabel('')\n",
        "sns.countplot('Class',data=df,ax=ax[1])\n",
        "plt.xticks([0,1],['Não-Fraude','Fraude'])\n",
        "ax[1].set_title('Class')\n",
        "plt.show()\n",
        "\n"
      ]
    },
    {
      "cell_type": "markdown",
      "source": [
        "vamos treinar o modelo com os dados desbalanceados para ver oque isso pode causar."
      ],
      "metadata": {
        "id": "S7PbMJ4I8V7h"
      }
    },
    {
      "cell_type": "code",
      "execution_count": 13,
      "metadata": {
        "id": "5fgPUpbAQDrh"
      },
      "outputs": [],
      "source": [
        "# separar variáveis entre X e y\n",
        "X = df.drop('Class', axis=1)\n",
        "y = df['Class']\n",
        "# dividir o dataset entre treino e teste\n",
        "train_X, test_X, train_y, test_y = train_test_split(X, y, stratify=y, shuffle=True)"
      ]
    },
    {
      "cell_type": "code",
      "source": [
        "model = LogisticRegression()\n",
        "model.fit(train_X, train_y)\n",
        "# fazer as previsões em cima dos dados de teste\n",
        "pred_y = model.predict(test_X)\n",
        "proba_y = model.predict_proba(test_X)\n",
        "# plotar a matrix de confusão\n",
        "skplt.metrics.plot_confusion_matrix(test_y, pred_y, normalize=True)\n",
        "# imprimir relatório de classificação\n",
        "print(\"Relatório de Classificação:\\n\", classification_report(test_y, pred_y, digits=4))\n",
        "# imprimir a acurácia do modelo\n",
        "print(\"Acurácia: {:.4f}\\n\".format(accuracy_score(test_y, pred_y)))\n",
        "# imprimir a área sob a curva\n",
        "print(\"AUC: {:.4f}\\n\".format(roc_auc_score(test_y, pred_y)))"
      ],
      "metadata": {
        "colab": {
          "base_uri": "https://localhost:8080/",
          "height": 677
        },
        "id": "UV7s5ZNA8VhP",
        "outputId": "633d6548-d14a-4f47-db9c-f4cf62e12249"
      },
      "execution_count": 14,
      "outputs": [
        {
          "output_type": "stream",
          "name": "stderr",
          "text": [
            "/usr/local/lib/python3.8/dist-packages/sklearn/linear_model/_logistic.py:814: ConvergenceWarning: lbfgs failed to converge (status=1):\n",
            "STOP: TOTAL NO. of ITERATIONS REACHED LIMIT.\n",
            "\n",
            "Increase the number of iterations (max_iter) or scale the data as shown in:\n",
            "    https://scikit-learn.org/stable/modules/preprocessing.html\n",
            "Please also refer to the documentation for alternative solver options:\n",
            "    https://scikit-learn.org/stable/modules/linear_model.html#logistic-regression\n",
            "  n_iter_i = _check_optimize_result(\n"
          ]
        },
        {
          "output_type": "stream",
          "name": "stdout",
          "text": [
            "Relatório de Classificação:\n",
            "               precision    recall  f1-score   support\n",
            "\n",
            "           0     0.9994    0.9994    0.9994     71079\n",
            "           1     0.6694    0.6585    0.6639       123\n",
            "\n",
            "    accuracy                         0.9988     71202\n",
            "   macro avg     0.8344    0.8290    0.8317     71202\n",
            "weighted avg     0.9988    0.9988    0.9988     71202\n",
            "\n",
            "Acurácia: 0.9988\n",
            "\n",
            "AUC: 0.8290\n",
            "\n"
          ]
        },
        {
          "output_type": "display_data",
          "data": {
            "text/plain": [
              "<Figure size 432x288 with 2 Axes>"
            ],
            "image/png": "[encoded data removed]"
          },
          "metadata": {}
        }
      ]
    },
    {
      "cell_type": "markdown",
      "metadata": {
        "id": "M1dqXbpxP4-a"
      },
      "source": [
        "Nossos dados estão desbalanceados, para isso precisamos balancea-lo, Para balancear os dados, podemos utilizar duas tecnicas:\n",
        "\n",
        "*   **Over-sampling**: cria novas observações da classe minoritária a partir das informações contidas nos dados originais. Essa geração de novas entradas pode ser feita aleatoriamente com o auxílio de técnicas de clustering ou sinteticamente.\n",
        "\n",
        "* **Under-sampling**:  reduz o desbalanceamento do dataset focando na classe majoritária. Ou seja, elimina aleatoriamente entradas da classe com maior número de ocorrências.\n",
        "\n",
        "Neste *dataset* utilizaremos a tecnica **Under-sampling**."
      ]
    },
    {
      "cell_type": "code",
      "execution_count": 15,
      "metadata": {
        "id": "LBgBRwQLRkFL"
      },
      "outputs": [],
      "source": [
        "# create an under-sampled dataset\n",
        "df = df.sample(frac=1)\n",
        "\n",
        "df_fraude = df[df['Class'] == 1]\n",
        "df__no_fraude = df[df['Class'] == 0][:492]\n",
        "\n",
        "new_df = pd.concat([df_fraude, df__no_fraude])\n",
        "new_df = new_df.sample(frac=1)"
      ]
    },
    {
      "cell_type": "code",
      "execution_count": 16,
      "metadata": {
        "colab": {
          "base_uri": "https://localhost:8080/",
          "height": 286
        },
        "id": "PnZO-t46S6WI",
        "outputId": "3b0e3b8a-1525-4ad8-90ac-c4c72e4f2ca8"
      },
      "outputs": [
        {
          "output_type": "display_data",
          "data": {
            "text/plain": [
              "<Figure size 432x288 with 2 Axes>"
            ],
            "image/png": "[encoded data removed]"
          },
          "metadata": {}
        }
      ],
      "source": [
        "ax = sns.heatmap(new_df.corr(), cmap='OrRd')"
      ]
    },
    {
      "cell_type": "markdown",
      "metadata": {
        "id": "GPtKikpuR-jI"
      },
      "source": [
        "A partide de agora nossas variaveis x e y são X_us e y_us pois os dados estarão balanceados"
      ]
    },
    {
      "cell_type": "code",
      "execution_count": 17,
      "metadata": {
        "id": "y5r_fjLNRwM_"
      },
      "outputs": [],
      "source": [
        "X_us = new_df.drop('Class', axis=1)\n",
        "y_us = new_df['Class']"
      ]
    },
    {
      "cell_type": "code",
      "execution_count": 18,
      "metadata": {
        "colab": {
          "base_uri": "https://localhost:8080/",
          "height": 335
        },
        "id": "Dtz1NOmISNVh",
        "outputId": "288a0fe2-6da0-4e13-f9dc-9cc08b2102b0"
      },
      "outputs": [
        {
          "output_type": "stream",
          "name": "stdout",
          "text": [
            "Balanceamento da classe\n",
            "1    492\n",
            "0    492\n",
            "Name: Class, dtype: int64\n"
          ]
        },
        {
          "output_type": "execute_result",
          "data": {
            "text/plain": [
              "<matplotlib.axes._subplots.AxesSubplot at 0x7f3149d18370>"
            ]
          },
          "metadata": {},
          "execution_count": 18
        },
        {
          "output_type": "display_data",
          "data": {
            "text/plain": [
              "<Figure size 432x288 with 1 Axes>"
            ],
            "image/png": "[encoded data removed]"
          },
          "metadata": {}
        }
      ],
      "source": [
        "# ver o balanceamento das classes\n",
        "print('Balanceamento da classe')\n",
        "print(pd.Series(y_us).value_counts())\n",
        "\n",
        "# plotar a nova distribuição de classes\n",
        "y_us.value_counts().plot.pie(autopct='%.2f')"
      ]
    },
    {
      "cell_type": "markdown",
      "source": [
        "> # modelos preditivos\n",
        "\n",
        "Será utilizado 5 modelos preditivos:\n",
        "\n",
        "\n",
        "*   DecisioTreeClassifier\n",
        "*   random_forest\n",
        "*   RegressionLinear\n",
        "*   Supor Vector Machine\n",
        "*   XGBoost"
      ],
      "metadata": {
        "id": "EJUIqdzLNH6p"
      }
    },
    {
      "cell_type": "code",
      "source": [
        "(x_train,x_test,y_train,y_test) = train_test_split(X_us,y_us, test_size=0.2, random_state=42)\n",
        "print(\"x_train size: \", x_train.shape)\n",
        "print(\"x_ test size: \", x_test.shape)"
      ],
      "metadata": {
        "colab": {
          "base_uri": "https://localhost:8080/"
        },
        "id": "nNFoCnfEAAsT",
        "outputId": "e5c058ad-d670-49c7-de92-da7d915c3ab6"
      },
      "execution_count": 19,
      "outputs": [
        {
          "output_type": "stream",
          "name": "stdout",
          "text": [
            "x_train size:  (787, 30)\n",
            "x_ test size:  (197, 30)\n"
          ]
        }
      ]
    },
    {
      "cell_type": "markdown",
      "metadata": {
        "id": "rkgquTK3ZuzW"
      },
      "source": [
        "> ## RegressionLinear\n",
        "\n"
      ]
    },
    {
      "cell_type": "code",
      "execution_count": 20,
      "metadata": {
        "id": "rj3GEHAXafWb"
      },
      "outputs": [],
      "source": [
        "model = LogisticRegression()\n",
        "model.fit(x_train, y_train)\n",
        "y_pred = model.predict(x_test)"
      ]
    },
    {
      "cell_type": "code",
      "source": [
        "# plotar a matrix de confusão\n",
        "skplt.metrics.plot_confusion_matrix(y_test, y_pred, normalize=True)\n",
        "# imprimir relatório de classificação\n",
        "print(\"Relatório de Classificação:\\n\", classification_report(y_test, y_pred, digits=4))\n",
        "# imprimir a acurácia do modelo\n",
        "print(\"Acurácia: {:.4f}\\n\".format(accuracy_score(y_test, y_pred)))\n",
        "# imprimir a área sob a curva\n",
        "print(\"AUC: {:.4f}\\n\".format(roc_auc_score(y_test, y_pred)))"
      ],
      "metadata": {
        "colab": {
          "base_uri": "https://localhost:8080/",
          "height": 0
        },
        "id": "TIG1tkoEAIBF",
        "outputId": "edf58b53-0bc8-4705-b1c0-729171afa8c1"
      },
      "execution_count": 21,
      "outputs": [
        {
          "output_type": "stream",
          "name": "stdout",
          "text": [
            "Relatório de Classificação:\n",
            "               precision    recall  f1-score   support\n",
            "\n",
            "           0     0.9533    0.9623    0.9577       106\n",
            "           1     0.9556    0.9451    0.9503        91\n",
            "\n",
            "    accuracy                         0.9543       197\n",
            "   macro avg     0.9544    0.9537    0.9540       197\n",
            "weighted avg     0.9543    0.9543    0.9543       197\n",
            "\n",
            "Acurácia: 0.9543\n",
            "\n",
            "AUC: 0.9537\n",
            "\n"
          ]
        },
        {
          "output_type": "display_data",
          "data": {
            "text/plain": [
              "<Figure size 432x288 with 2 Axes>"
            ],
            "image/png": "[encoded data removed]"
          },
          "metadata": {}
        }
      ]
    },
    {
      "cell_type": "markdown",
      "source": [
        "A primeira coisa que podemos observar é que apesar da acuracia ter dados uma diminuida, as outras métricas como F1-score, Precision, recall e a areá sobre a curva(AUC) aumentaram."
      ],
      "metadata": {
        "id": "29L0pt2Z_3WT"
      }
    },
    {
      "cell_type": "markdown",
      "source": [
        "### Cross-validation"
      ],
      "metadata": {
        "id": "nkjn93YmNuzZ"
      }
    },
    {
      "cell_type": "code",
      "source": [
        "\n",
        "model = LogisticRegression()\n",
        "kfold_validation=KFold(10)\n",
        "results=cross_val_score(model,X_us,y_us,cv=kfold_validation)\n"
      ],
      "metadata": {
        "id": "it7tTwdkKH7S",
        "colab": {
          "base_uri": "https://localhost:8080/"
        },
        "outputId": "77fc05b6-b0b2-462e-b2f1-dde268d7eb93"
      },
      "execution_count": 22,
      "outputs": [
        {
          "output_type": "stream",
          "name": "stderr",
          "text": [
            "/usr/local/lib/python3.8/dist-packages/sklearn/linear_model/_logistic.py:814: ConvergenceWarning: lbfgs failed to converge (status=1):\n",
            "STOP: TOTAL NO. of ITERATIONS REACHED LIMIT.\n",
            "\n",
            "Increase the number of iterations (max_iter) or scale the data as shown in:\n",
            "    https://scikit-learn.org/stable/modules/preprocessing.html\n",
            "Please also refer to the documentation for alternative solver options:\n",
            "    https://scikit-learn.org/stable/modules/linear_model.html#logistic-regression\n",
            "  n_iter_i = _check_optimize_result(\n",
            "/usr/local/lib/python3.8/dist-packages/sklearn/linear_model/_logistic.py:814: ConvergenceWarning: lbfgs failed to converge (status=1):\n",
            "STOP: TOTAL NO. of ITERATIONS REACHED LIMIT.\n",
            "\n",
            "Increase the number of iterations (max_iter) or scale the data as shown in:\n",
            "    https://scikit-learn.org/stable/modules/preprocessing.html\n",
            "Please also refer to the documentation for alternative solver options:\n",
            "    https://scikit-learn.org/stable/modules/linear_model.html#logistic-regression\n",
            "  n_iter_i = _check_optimize_result(\n",
            "/usr/local/lib/python3.8/dist-packages/sklearn/linear_model/_logistic.py:814: ConvergenceWarning: lbfgs failed to converge (status=1):\n",
            "STOP: TOTAL NO. of ITERATIONS REACHED LIMIT.\n",
            "\n",
            "Increase the number of iterations (max_iter) or scale the data as shown in:\n",
            "    https://scikit-learn.org/stable/modules/preprocessing.html\n",
            "Please also refer to the documentation for alternative solver options:\n",
            "    https://scikit-learn.org/stable/modules/linear_model.html#logistic-regression\n",
            "  n_iter_i = _check_optimize_result(\n",
            "/usr/local/lib/python3.8/dist-packages/sklearn/linear_model/_logistic.py:814: ConvergenceWarning: lbfgs failed to converge (status=1):\n",
            "STOP: TOTAL NO. of ITERATIONS REACHED LIMIT.\n",
            "\n",
            "Increase the number of iterations (max_iter) or scale the data as shown in:\n",
            "    https://scikit-learn.org/stable/modules/preprocessing.html\n",
            "Please also refer to the documentation for alternative solver options:\n",
            "    https://scikit-learn.org/stable/modules/linear_model.html#logistic-regression\n",
            "  n_iter_i = _check_optimize_result(\n"
          ]
        }
      ]
    },
    {
      "cell_type": "code",
      "source": [
        "print(results)\n",
        "print(np.mean(results))"
      ],
      "metadata": {
        "colab": {
          "base_uri": "https://localhost:8080/"
        },
        "id": "lsTjPus0N_5p",
        "outputId": "00a2e55e-2f85-4ce2-80f6-f27041f76e76"
      },
      "execution_count": 23,
      "outputs": [
        {
          "output_type": "stream",
          "name": "stdout",
          "text": [
            "[0.90909091 0.92929293 0.95959596 0.97979798 0.92857143 0.93877551\n",
            " 0.95918367 0.90816327 0.93877551 0.92857143]\n",
            "0.9379818594104309\n"
          ]
        }
      ]
    },
    {
      "cell_type": "markdown",
      "metadata": {
        "id": "U0oF8-f9TKFT"
      },
      "source": [
        "\n",
        "\n",
        "> ## Modelo DecisionTreeClassifier\n",
        "\n",
        "\n",
        "\n",
        "\n"
      ]
    },
    {
      "cell_type": "code",
      "execution_count": 24,
      "metadata": {
        "colab": {
          "base_uri": "https://localhost:8080/"
        },
        "id": "EPkCpog5THkR",
        "outputId": "4f43c735-1b1d-469c-823f-36291d266451"
      },
      "outputs": [
        {
          "output_type": "stream",
          "name": "stdout",
          "text": [
            "              precision    recall  f1-score   support\n",
            "\n",
            "           0       0.92      0.89      0.90       106\n",
            "           1       0.87      0.91      0.89        91\n",
            "\n",
            "    accuracy                           0.90       197\n",
            "   macro avg       0.90      0.90      0.90       197\n",
            "weighted avg       0.90      0.90      0.90       197\n",
            "\n"
          ]
        }
      ],
      "source": [
        "\n",
        "model = DecisionTreeClassifier()\n",
        "model.fit(x_train,y_train)\n",
        "y_pred = model.predict(x_test)\n",
        "print(classification_report(y_test, y_pred))"
      ]
    },
    {
      "cell_type": "code",
      "execution_count": 25,
      "metadata": {
        "colab": {
          "base_uri": "https://localhost:8080/",
          "height": 0
        },
        "id": "Te0_gdThWd6d",
        "outputId": "54189df1-a8d0-4c52-cf47-74ecda73aba7"
      },
      "outputs": [
        {
          "output_type": "execute_result",
          "data": {
            "text/plain": [
              "<matplotlib.axes._subplots.AxesSubplot at 0x7f3149b956a0>"
            ]
          },
          "metadata": {},
          "execution_count": 25
        },
        {
          "output_type": "display_data",
          "data": {
            "text/plain": [
              "<Figure size 432x288 with 2 Axes>"
            ],
            "image/png": "[encoded data removed]"
          },
          "metadata": {}
        }
      ],
      "source": [
        "# plotar a matrix de confusão\n",
        "skplt.metrics.plot_confusion_matrix(y_test, y_pred, normalize=True)"
      ]
    },
    {
      "cell_type": "markdown",
      "source": [
        "### Cross validation"
      ],
      "metadata": {
        "id": "OX4mt5o-M_kY"
      }
    },
    {
      "cell_type": "code",
      "source": [
        "\n",
        "model =  DecisionTreeClassifier()\n",
        "kfold_validation=KFold(10)\n",
        "results=cross_val_score(model,X_us,y_us,cv=kfold_validation)\n",
        "print(results)\n",
        "print(np.mean(results))"
      ],
      "metadata": {
        "colab": {
          "base_uri": "https://localhost:8080/"
        },
        "id": "T42eKKAIM995",
        "outputId": "bbb63e94-a650-46ae-b4e4-7e96715a5ec9"
      },
      "execution_count": 26,
      "outputs": [
        {
          "output_type": "stream",
          "name": "stdout",
          "text": [
            "[0.87878788 0.90909091 0.96969697 0.93939394 0.8877551  0.86734694\n",
            " 0.8877551  0.90816327 0.90816327 0.86734694]\n",
            "0.9023500309214596\n"
          ]
        }
      ]
    },
    {
      "cell_type": "markdown",
      "metadata": {
        "id": "e-iEOoP4V8-l"
      },
      "source": [
        "----------"
      ]
    },
    {
      "cell_type": "markdown",
      "metadata": {
        "id": "EZC6m8RVXq9p"
      },
      "source": [
        "> ## Modelo random_forest"
      ]
    },
    {
      "cell_type": "code",
      "execution_count": 27,
      "metadata": {
        "id": "HYBn6P6DWYaE"
      },
      "outputs": [],
      "source": [
        "model = RandomForestClassifier(n_estimators=100)"
      ]
    },
    {
      "cell_type": "code",
      "execution_count": 28,
      "metadata": {
        "id": "IeYKxSOdXDd7"
      },
      "outputs": [],
      "source": [
        "model.fit(x_train,y_train)\n",
        "y_pred = model.predict(x_test)"
      ]
    },
    {
      "cell_type": "code",
      "execution_count": 29,
      "metadata": {
        "colab": {
          "base_uri": "https://localhost:8080/"
        },
        "id": "BPhQUVRTXIzs",
        "outputId": "1897d8cf-49f8-4744-931b-3c4f49989521"
      },
      "outputs": [
        {
          "output_type": "stream",
          "name": "stdout",
          "text": [
            "              precision    recall  f1-score   support\n",
            "\n",
            "           0       0.94      0.98      0.96       106\n",
            "           1       0.98      0.92      0.95        91\n",
            "\n",
            "    accuracy                           0.95       197\n",
            "   macro avg       0.96      0.95      0.95       197\n",
            "weighted avg       0.96      0.95      0.95       197\n",
            "\n"
          ]
        }
      ],
      "source": [
        "print(classification_report(y_test, y_pred))"
      ]
    },
    {
      "cell_type": "code",
      "execution_count": 30,
      "metadata": {
        "colab": {
          "base_uri": "https://localhost:8080/",
          "height": 0
        },
        "id": "-ax9-vmeZoaj",
        "outputId": "419fe8f0-ec57-41e1-99a3-b85affc10b57"
      },
      "outputs": [
        {
          "output_type": "execute_result",
          "data": {
            "text/plain": [
              "<matplotlib.axes._subplots.AxesSubplot at 0x7f3149aa67f0>"
            ]
          },
          "metadata": {},
          "execution_count": 30
        },
        {
          "output_type": "display_data",
          "data": {
            "text/plain": [
              "<Figure size 432x288 with 2 Axes>"
            ],
            "image/png": "[encoded data removed]"
          },
          "metadata": {}
        }
      ],
      "source": [
        "# plotar a matrix de confusão\n",
        "skplt.metrics.plot_confusion_matrix(y_test, y_pred, normalize=True)"
      ]
    },
    {
      "cell_type": "markdown",
      "source": [
        "### Cross_validation\n"
      ],
      "metadata": {
        "id": "biRF3mJhNWJy"
      }
    },
    {
      "cell_type": "code",
      "source": [
        "model =  RandomForestClassifier(n_estimators=100)\n",
        "kfold_validation=KFold(10)\n",
        "results=cross_val_score(model,X_us,y_us,cv=kfold_validation)\n",
        "print(results)\n",
        "print(np.mean(results))"
      ],
      "metadata": {
        "colab": {
          "base_uri": "https://localhost:8080/"
        },
        "id": "KcrZZQEpNYQ2",
        "outputId": "31bf3ee2-1766-4439-c2ed-1d60ca6c32aa"
      },
      "execution_count": 31,
      "outputs": [
        {
          "output_type": "stream",
          "name": "stdout",
          "text": [
            "[0.8989899  0.93939394 0.97979798 0.97979798 0.90816327 0.90816327\n",
            " 0.96938776 0.90816327 0.93877551 0.94897959]\n",
            "0.9379612451041023\n"
          ]
        }
      ]
    },
    {
      "cell_type": "markdown",
      "source": [
        "> ##  Support Vector Machines"
      ],
      "metadata": {
        "id": "IdkchD6DMtkR"
      }
    },
    {
      "cell_type": "code",
      "execution_count": 32,
      "metadata": {
        "id": "J93oOro31Bk1"
      },
      "outputs": [],
      "source": [
        "from sklearn.svm import SVC\n",
        "from sklearn import svm\n",
        "model = svm.SVC() #select the algorithm\n",
        "model.fit(x_train,y_train) # we train the algorithm with the training data and the training output\n",
        "y_pred=model.predict(x_test)"
      ]
    },
    {
      "cell_type": "code",
      "execution_count": 33,
      "metadata": {
        "colab": {
          "base_uri": "https://localhost:8080/"
        },
        "id": "chloSzIV6gcb",
        "outputId": "32980a5a-7134-4864-da20-ef74b5a1e425"
      },
      "outputs": [
        {
          "output_type": "stream",
          "name": "stdout",
          "text": [
            "              precision    recall  f1-score   support\n",
            "\n",
            "           0       0.60      0.47      0.53       106\n",
            "           1       0.51      0.64      0.57        91\n",
            "\n",
            "    accuracy                           0.55       197\n",
            "   macro avg       0.56      0.55      0.55       197\n",
            "weighted avg       0.56      0.55      0.55       197\n",
            "\n"
          ]
        }
      ],
      "source": [
        "print(classification_report(y_test, y_pred))\n"
      ]
    },
    {
      "cell_type": "markdown",
      "source": [
        "### cross validation\n"
      ],
      "metadata": {
        "id": "fWUnD24uPbAh"
      }
    },
    {
      "cell_type": "code",
      "source": [
        "\n",
        "model =  svm.SVC()\n",
        "kfold_validation=KFold(10)\n",
        "results=cross_val_score(model,X_us,y_us,cv=kfold_validation)"
      ],
      "metadata": {
        "id": "Br0C8GTTPaUf"
      },
      "execution_count": 34,
      "outputs": []
    },
    {
      "cell_type": "code",
      "source": [
        "print(results)\n",
        "print(np.mean(results))"
      ],
      "metadata": {
        "colab": {
          "base_uri": "https://localhost:8080/"
        },
        "id": "5ju5UL14PhDW",
        "outputId": "46cb5303-fd5a-4b04-8058-dc237b712225"
      },
      "execution_count": 35,
      "outputs": [
        {
          "output_type": "stream",
          "name": "stdout",
          "text": [
            "[0.43434343 0.52525253 0.57575758 0.45454545 0.55102041 0.60204082\n",
            " 0.47959184 0.55102041 0.6122449  0.59183673]\n",
            "0.5377654091939806\n"
          ]
        }
      ]
    },
    {
      "cell_type": "markdown",
      "metadata": {
        "id": "suUs26w9borA"
      },
      "source": [
        "> ## XGBoost"
      ]
    },
    {
      "cell_type": "code",
      "source": [
        "import pandas as pd\n",
        "model = XGBClassifier(n_jobs=-1)\n",
        "# training\n",
        "model.fit(x_train, y_train)\n",
        "y_pred=model.predict(x_test)"
      ],
      "metadata": {
        "id": "woRodo_HFwmZ"
      },
      "execution_count": 36,
      "outputs": []
    },
    {
      "cell_type": "code",
      "source": [
        "print(classification_report(y_test, y_pred))"
      ],
      "metadata": {
        "colab": {
          "base_uri": "https://localhost:8080/"
        },
        "id": "EUWPiSZoF0Cf",
        "outputId": "5dd70d9b-34f0-484b-fae6-1b03ded5ee83"
      },
      "execution_count": 37,
      "outputs": [
        {
          "output_type": "stream",
          "name": "stdout",
          "text": [
            "              precision    recall  f1-score   support\n",
            "\n",
            "           0       0.94      0.96      0.95       106\n",
            "           1       0.96      0.93      0.94        91\n",
            "\n",
            "    accuracy                           0.95       197\n",
            "   macro avg       0.95      0.95      0.95       197\n",
            "weighted avg       0.95      0.95      0.95       197\n",
            "\n"
          ]
        }
      ]
    },
    {
      "cell_type": "markdown",
      "source": [
        "-----"
      ],
      "metadata": {
        "id": "cDWPHE9xKLJz"
      }
    },
    {
      "cell_type": "markdown",
      "source": [
        "### Cross-validation\n"
      ],
      "metadata": {
        "id": "3jZKQ66VPFcQ"
      }
    },
    {
      "cell_type": "code",
      "source": [
        "model = XGBClassifier(n_jobs=-1)\n",
        "kfold_validation=KFold(10)\n",
        "results=cross_val_score(model,X_us,y_us,cv=kfold_validation)\n"
      ],
      "metadata": {
        "id": "HI5puRdbPHdn"
      },
      "execution_count": 38,
      "outputs": []
    },
    {
      "cell_type": "code",
      "source": [
        "print(results)\n",
        "print(np.mean(results))"
      ],
      "metadata": {
        "colab": {
          "base_uri": "https://localhost:8080/"
        },
        "id": "ty5hMTilPQwX",
        "outputId": "a7937cbb-db4e-4085-b368-dcf3b6d995fe"
      },
      "execution_count": 39,
      "outputs": [
        {
          "output_type": "stream",
          "name": "stdout",
          "text": [
            "[0.90909091 0.93939394 0.97979798 0.97979798 0.91836735 0.92857143\n",
            " 0.98979592 0.90816327 0.92857143 0.93877551]\n",
            "0.9420325706039991\n"
          ]
        }
      ]
    },
    {
      "cell_type": "markdown",
      "source": [
        "\n",
        "\n",
        "># Testanto com o dados de test original\n",
        "\n"
      ],
      "metadata": {
        "id": "ZyxDSGgqF_fH"
      }
    },
    {
      "cell_type": "code",
      "source": [
        "(x_train,x_test,y_train,y_test) = train_test_split(X_us,y_us, test_size=0.2, random_state=42)\n",
        "print(\"x_train size: \", x_train.shape)\n",
        "print(\"x_ test size: \", x_test.shape)\n"
      ],
      "metadata": {
        "colab": {
          "base_uri": "https://localhost:8080/"
        },
        "id": "nIKl0JlbGEBj",
        "outputId": "e59689ed-3eba-4f2c-b08f-009c5fde151f"
      },
      "execution_count": 40,
      "outputs": [
        {
          "output_type": "stream",
          "name": "stdout",
          "text": [
            "x_train size:  (787, 30)\n",
            "x_ test size:  (197, 30)\n"
          ]
        }
      ]
    },
    {
      "cell_type": "code",
      "source": [
        "import pandas as pd\n",
        "model = XGBClassifier(n_jobs=-1)\n",
        "# training\n",
        "model.fit(x_train, y_train)\n"
      ],
      "metadata": {
        "colab": {
          "base_uri": "https://localhost:8080/"
        },
        "id": "wSqb9YVcGSAG",
        "outputId": "576b4115-9880-4cfe-eab8-a38d14ad9c53"
      },
      "execution_count": 41,
      "outputs": [
        {
          "output_type": "execute_result",
          "data": {
            "text/plain": [
              "XGBClassifier(n_jobs=-1)"
            ]
          },
          "metadata": {},
          "execution_count": 41
        }
      ]
    },
    {
      "cell_type": "code",
      "source": [
        "#x_test y_test concantena\n",
        "df = df[df['Class'] == 0][492:]"
      ],
      "metadata": {
        "id": "soogXSVrGUXu"
      },
      "execution_count": 42,
      "outputs": []
    },
    {
      "cell_type": "code",
      "source": [
        "X_novo = df.drop('Class', axis=1)\n",
        "y_novo = df['Class']\n",
        "x_test = x_test.append(X_novo)\n",
        "y_test = y_test.append(y_novo)\n",
        "# testing\n",
        "y_pred = model.predict(x_test)\n"
      ],
      "metadata": {
        "id": "zs8VkYGHGXiK"
      },
      "execution_count": 43,
      "outputs": []
    },
    {
      "cell_type": "code",
      "source": [
        "print(\"x_train size: \", x_train.shape)\n",
        "print(\"x_ test size: \", x_test.shape)\n",
        "print(\"y_train size: \", y_train.shape)\n",
        "print(\"y_ test size: \", y_test.shape)\n"
      ],
      "metadata": {
        "colab": {
          "base_uri": "https://localhost:8080/"
        },
        "id": "mGriEAceGYjR",
        "outputId": "438787d9-ca52-4534-bbb6-cbdf7b6f04cd"
      },
      "execution_count": 44,
      "outputs": [
        {
          "output_type": "stream",
          "name": "stdout",
          "text": [
            "x_train size:  (787, 30)\n",
            "x_ test size:  (284020, 30)\n",
            "y_train size:  (787,)\n",
            "y_ test size:  (284020,)\n"
          ]
        }
      ]
    },
    {
      "cell_type": "code",
      "source": [
        "print(classification_report(y_test, y_pred))\n",
        "skplt.metrics.plot_confusion_matrix(y_test, y_pred, normalize=True)\n"
      ],
      "metadata": {
        "colab": {
          "base_uri": "https://localhost:8080/",
          "height": 469
        },
        "id": "2_e6vWYcGZiY",
        "outputId": "4bb7b4a3-ead0-4ad9-8c91-04cd57bf5d9a"
      },
      "execution_count": 45,
      "outputs": [
        {
          "output_type": "stream",
          "name": "stdout",
          "text": [
            "              precision    recall  f1-score   support\n",
            "\n",
            "           0       1.00      0.97      0.98    283929\n",
            "           1       0.01      0.93      0.02        91\n",
            "\n",
            "    accuracy                           0.97    284020\n",
            "   macro avg       0.50      0.95      0.50    284020\n",
            "weighted avg       1.00      0.97      0.98    284020\n",
            "\n"
          ]
        },
        {
          "output_type": "execute_result",
          "data": {
            "text/plain": [
              "<matplotlib.axes._subplots.AxesSubplot at 0x7f31499e0730>"
            ]
          },
          "metadata": {},
          "execution_count": 45
        },
        {
          "output_type": "display_data",
          "data": {
            "text/plain": [
              "<Figure size 432x288 with 2 Axes>"
            ],
            "image/png": "[encoded data removed]"
          },
          "metadata": {}
        }
      ]
    },
    {
      "cell_type": "markdown",
      "source": [
        "Podemos observar que a precisão só obteve 1% para os valores 1, e o macro avg do f1-score ficou em 51%, oque não é um bom resultado, isso nos mostra que não foi muito bem generalizado. a melhor forma é lidar com o desbalanceamento com o próprio modelo."
      ],
      "metadata": {
        "id": "hGeK0YI9LZG3"
      }
    },
    {
      "cell_type": "markdown",
      "source": [
        "> # Optuna\n",
        "\n",
        "O processo de hyperparametrização será utilizando o modelo xgboost que obteve a maior acurácia. O optuna é um software de otimização automatica de hiperparametros."
      ],
      "metadata": {
        "id": "tGEGI7a5ScjX"
      }
    },
    {
      "cell_type": "code",
      "source": [
        "\n",
        "\"\"\"\n",
        "Optuna example that demonstrates a pruner for XGBoost.cv.\n",
        "In this example, we optimize the validation auc of cancer detection using XGBoost.\n",
        "We optimize both the choice of booster model and their hyperparameters. Throughout\n",
        "training of models, a pruner observes intermediate results and stop unpromising trials.\n",
        "You can run this example as follows:\n",
        "    $ python xgboost_cv_integration.py\n",
        "\"\"\"\n",
        "\n",
        "\n",
        "\n",
        "def objective(trial):\n",
        "    train_x, train_y = sklearn.datasets.load_breast_cancer(return_X_y=True)\n",
        "    dtrain = xgb.DMatrix(train_x, label=train_y)\n",
        "\n",
        "    param = {\n",
        "        \"verbosity\": 0,\n",
        "        \"objective\": \"binary:logistic\",\n",
        "        \"eval_metric\": \"auc\",\n",
        "        \"booster\": trial.suggest_categorical(\"booster\", [\"gbtree\", \"gblinear\", \"dart\"]),\n",
        "        \"lambda\": trial.suggest_float(\"lambda\", 1e-8, 1.0, log=True),\n",
        "        \"alpha\": trial.suggest_float(\"alpha\", 1e-8, 1.0, log=True),\n",
        "         \"subsample\": trial.suggest_float(\"subsample\", 0.2, 1.0),\n",
        "        # sampling according to each tree.\n",
        "        \"colsample_bytree\": trial.suggest_float(\"colsample_bytree\", 0.2, 1.0),  \n",
        "        'learning_rate': trial.suggest_categorical('learning_rate', [0.008,0.01,0.012,0.014,0.016,0.018, 0.02]),\n",
        "        \n",
        "      \n",
        "\n",
        "        \n",
        "    }\n",
        "\n",
        "    if param[\"booster\"] == \"gbtree\" or param[\"booster\"] == \"dart\":\n",
        "        param[\"max_depth\"] = trial.suggest_int(\"max_depth\", 1, 9)\n",
        "        param[\"eta\"] = trial.suggest_float(\"eta\", 1e-8, 1.0, log=True)\n",
        "        param[\"gamma\"] = trial.suggest_float(\"gamma\", 1e-8, 1.0, log=True)\n",
        "        param[\"grow_policy\"] = trial.suggest_categorical(\"grow_policy\", [\"depthwise\", \"lossguide\"])\n",
        "    if param[\"booster\"] == \"dart\":\n",
        "        param[\"sample_type\"] = trial.suggest_categorical(\"sample_type\", [\"uniform\", \"weighted\"])\n",
        "        param[\"normalize_type\"] = trial.suggest_categorical(\"normalize_type\", [\"tree\", \"forest\"])\n",
        "        param[\"rate_drop\"] = trial.suggest_float(\"rate_drop\", 1e-8, 1.0, log=True)\n",
        "        param[\"skip_drop\"] = trial.suggest_float(\"skip_drop\", 1e-8, 1.0, log=True)\n",
        "\n",
        "    pruning_callback = optuna.integration.XGBoostPruningCallback(trial, \"test-auc\")\n",
        "    history = xgb.cv(param, dtrain, num_boost_round=100, callbacks=[pruning_callback])\n",
        "\n",
        "    mean_auc = history[\"test-auc-mean\"].values[-1]\n",
        "    return mean_auc\n"
      ],
      "metadata": {
        "id": "lITGpdIcWnRh"
      },
      "execution_count": 46,
      "outputs": []
    },
    {
      "cell_type": "code",
      "source": [
        " pruner = optuna.pruners.MedianPruner(n_warmup_steps=5)\n",
        " study = optuna.create_study(pruner=pruner, direction=\"maximize\")\n",
        " study.optimize(objective, n_trials=100)"
      ],
      "metadata": {
        "colab": {
          "base_uri": "https://localhost:8080/"
        },
        "id": "hIsrUB3fam3I",
        "outputId": "be96fd6e-2cf6-4ceb-8755-a624761b816d"
      },
      "execution_count": 47,
      "outputs": [
        {
          "output_type": "stream",
          "name": "stderr",
          "text": [
            "\u001b[32m[I 2022-12-19 16:26:45,332]\u001b[0m A new study created in memory with name: no-name-b7d17bf1-f0a9-40c0-9a6a-ba4b2ef2f891\u001b[0m\n",
            "\u001b[32m[I 2022-12-19 16:26:45,691]\u001b[0m Trial 0 finished with value: 0.9894046666666667 and parameters: {'booster': 'gbtree', 'lambda': 1.766955947726393e-08, 'alpha': 1.2881725465583985e-08, 'subsample': 0.7658755600590625, 'colsample_bytree': 0.9741817515341704, 'learning_rate': 0.02, 'max_depth': 3, 'eta': 0.021765381400256963, 'gamma': 0.002467859942101047, 'grow_policy': 'lossguide'}. Best is trial 0 with value: 0.9894046666666667.\u001b[0m\n",
            "\u001b[32m[I 2022-12-19 16:26:46,350]\u001b[0m Trial 1 finished with value: 0.9899686666666666 and parameters: {'booster': 'dart', 'lambda': 8.656486494062125e-08, 'alpha': 0.002273437730969947, 'subsample': 0.24537663574569202, 'colsample_bytree': 0.2752842876805242, 'learning_rate': 0.016, 'max_depth': 9, 'eta': 2.2742533168350475e-06, 'gamma': 1.2729487541378007e-07, 'grow_policy': 'depthwise', 'sample_type': 'weighted', 'normalize_type': 'forest', 'rate_drop': 4.4290285870438224e-07, 'skip_drop': 0.0003594777841931687}. Best is trial 1 with value: 0.9899686666666666.\u001b[0m\n",
            "\u001b[32m[I 2022-12-19 16:26:46,984]\u001b[0m Trial 2 finished with value: 0.990045 and parameters: {'booster': 'dart', 'lambda': 0.0459672878332583, 'alpha': 0.0013637234489749458, 'subsample': 0.8973399356361822, 'colsample_bytree': 0.6188516050342914, 'learning_rate': 0.02, 'max_depth': 5, 'eta': 1.0084438447345603e-05, 'gamma': 0.07076521863623085, 'grow_policy': 'lossguide', 'sample_type': 'uniform', 'normalize_type': 'forest', 'rate_drop': 4.9127467819881255e-05, 'skip_drop': 0.00032714990962705797}. Best is trial 2 with value: 0.990045.\u001b[0m\n",
            "\u001b[32m[I 2022-12-19 16:26:47,136]\u001b[0m Trial 3 finished with value: 0.9081193333333334 and parameters: {'booster': 'gblinear', 'lambda': 1.0557306011856762e-08, 'alpha': 0.13541094803906512, 'subsample': 0.48886350754852553, 'colsample_bytree': 0.5365347121587335, 'learning_rate': 0.008}. Best is trial 2 with value: 0.990045.\u001b[0m\n",
            "\u001b[32m[I 2022-12-19 16:26:47,312]\u001b[0m Trial 4 finished with value: 0.969458 and parameters: {'booster': 'gblinear', 'lambda': 0.0010662917704286632, 'alpha': 2.2818485440425034e-07, 'subsample': 0.3668526989830948, 'colsample_bytree': 0.2104210788342706, 'learning_rate': 0.008}. Best is trial 2 with value: 0.990045.\u001b[0m\n",
            "\u001b[32m[I 2022-12-19 16:26:47,357]\u001b[0m Trial 5 pruned. Trial was pruned at iteration 5.\u001b[0m\n",
            "\u001b[32m[I 2022-12-19 16:26:47,655]\u001b[0m Trial 6 pruned. Trial was pruned at iteration 75.\u001b[0m\n",
            "\u001b[32m[I 2022-12-19 16:26:47,704]\u001b[0m Trial 7 pruned. Trial was pruned at iteration 5.\u001b[0m\n",
            "\u001b[32m[I 2022-12-19 16:26:47,762]\u001b[0m Trial 8 pruned. Trial was pruned at iteration 5.\u001b[0m\n",
            "\u001b[32m[I 2022-12-19 16:26:47,806]\u001b[0m Trial 9 pruned. Trial was pruned at iteration 5.\u001b[0m\n",
            "\u001b[32m[I 2022-12-19 16:26:47,898]\u001b[0m Trial 10 pruned. Trial was pruned at iteration 5.\u001b[0m\n",
            "\u001b[32m[I 2022-12-19 16:26:48,673]\u001b[0m Trial 11 finished with value: 0.9912423333333334 and parameters: {'booster': 'dart', 'lambda': 5.060626085223083e-06, 'alpha': 0.004171092225606875, 'subsample': 0.48409499201828754, 'colsample_bytree': 0.395801827398622, 'learning_rate': 0.016, 'max_depth': 9, 'eta': 3.5878993682406335e-07, 'gamma': 1.3475768121228325e-08, 'grow_policy': 'lossguide', 'sample_type': 'weighted', 'normalize_type': 'forest', 'rate_drop': 9.506213597145593e-08, 'skip_drop': 0.000199519524826206}. Best is trial 11 with value: 0.9912423333333334.\u001b[0m\n",
            "\u001b[32m[I 2022-12-19 16:26:49,561]\u001b[0m Trial 12 finished with value: 0.9908863333333334 and parameters: {'booster': 'dart', 'lambda': 9.934822971998749e-06, 'alpha': 1.3316006624811686e-05, 'subsample': 0.5052209544309567, 'colsample_bytree': 0.391994688751397, 'learning_rate': 0.02, 'max_depth': 6, 'eta': 1.2928897366442831e-08, 'gamma': 1.5628200010847597e-08, 'grow_policy': 'lossguide', 'sample_type': 'weighted', 'normalize_type': 'forest', 'rate_drop': 1.8987578272459512e-08, 'skip_drop': 1.4066371860692089e-05}. Best is trial 11 with value: 0.9912423333333334.\u001b[0m\n",
            "\u001b[32m[I 2022-12-19 16:26:50,629]\u001b[0m Trial 13 finished with value: 0.9907663333333333 and parameters: {'booster': 'dart', 'lambda': 4.577897946514062e-06, 'alpha': 1.5438465742003883e-05, 'subsample': 0.497431066180338, 'colsample_bytree': 0.39637282803140844, 'learning_rate': 0.016, 'max_depth': 9, 'eta': 1.299226018698461e-08, 'gamma': 1.4493829149191237e-08, 'grow_policy': 'lossguide', 'sample_type': 'weighted', 'normalize_type': 'forest', 'rate_drop': 1.3219063347194756e-08, 'skip_drop': 8.050599943738399e-07}. Best is trial 11 with value: 0.9912423333333334.\u001b[0m\n",
            "\u001b[32m[I 2022-12-19 16:26:51,526]\u001b[0m Trial 14 finished with value: 0.991086 and parameters: {'booster': 'dart', 'lambda': 1.7368476032408223e-06, 'alpha': 2.4981842163960615e-05, 'subsample': 0.49171345767120683, 'colsample_bytree': 0.3807423614821603, 'learning_rate': 0.016, 'max_depth': 6, 'eta': 1.62121301663742e-08, 'gamma': 1.9320489754845844e-06, 'grow_policy': 'lossguide', 'sample_type': 'weighted', 'normalize_type': 'forest', 'rate_drop': 1.2725264837894181e-08, 'skip_drop': 2.782516502078925e-06}. Best is trial 11 with value: 0.9912423333333334.\u001b[0m\n",
            "\u001b[32m[I 2022-12-19 16:26:51,695]\u001b[0m Trial 15 pruned. Trial was pruned at iteration 30.\u001b[0m\n",
            "\u001b[32m[I 2022-12-19 16:26:52,398]\u001b[0m Trial 16 finished with value: 0.9911596666666666 and parameters: {'booster': 'dart', 'lambda': 3.451701299448245e-07, 'alpha': 9.612973920222633e-05, 'subsample': 0.5938151767486407, 'colsample_bytree': 0.3321288067859784, 'learning_rate': 0.016, 'max_depth': 4, 'eta': 0.0007160315247237686, 'gamma': 2.994026241046013e-06, 'grow_policy': 'lossguide', 'sample_type': 'weighted', 'normalize_type': 'forest', 'rate_drop': 3.925691456844048e-07, 'skip_drop': 1.2016992702438605e-06}. Best is trial 11 with value: 0.9912423333333334.\u001b[0m\n",
            "\u001b[32m[I 2022-12-19 16:26:52,474]\u001b[0m Trial 17 pruned. Trial was pruned at iteration 5.\u001b[0m\n",
            "\u001b[32m[I 2022-12-19 16:26:52,567]\u001b[0m Trial 18 pruned. Trial was pruned at iteration 5.\u001b[0m\n",
            "\u001b[32m[I 2022-12-19 16:26:52,717]\u001b[0m Trial 19 pruned. Trial was pruned at iteration 23.\u001b[0m\n",
            "\u001b[32m[I 2022-12-19 16:26:52,867]\u001b[0m Trial 20 pruned. Trial was pruned at iteration 39.\u001b[0m\n",
            "\u001b[32m[I 2022-12-19 16:26:53,783]\u001b[0m Trial 21 finished with value: 0.991399 and parameters: {'booster': 'dart', 'lambda': 1.907042060901986e-06, 'alpha': 6.529808799093666e-05, 'subsample': 0.5432152813634353, 'colsample_bytree': 0.41360963622762087, 'learning_rate': 0.016, 'max_depth': 6, 'eta': 1.3241768231373613e-07, 'gamma': 9.411595278063758e-07, 'grow_policy': 'lossguide', 'sample_type': 'weighted', 'normalize_type': 'forest', 'rate_drop': 1.2013545995880973e-07, 'skip_drop': 2.5550753364062334e-06}. Best is trial 21 with value: 0.991399.\u001b[0m\n",
            "\u001b[32m[I 2022-12-19 16:26:53,934]\u001b[0m Trial 22 pruned. Trial was pruned at iteration 21.\u001b[0m\n",
            "\u001b[32m[I 2022-12-19 16:26:54,917]\u001b[0m Trial 23 finished with value: 0.9919886666666665 and parameters: {'booster': 'dart', 'lambda': 9.837326109134751e-06, 'alpha': 9.868715858676873e-05, 'subsample': 0.676405087814757, 'colsample_bytree': 0.2042404844564248, 'learning_rate': 0.016, 'max_depth': 7, 'eta': 3.0037519274760924e-06, 'gamma': 7.37953123580513e-08, 'grow_policy': 'lossguide', 'sample_type': 'weighted', 'normalize_type': 'forest', 'rate_drop': 1.8095207929689231e-07, 'skip_drop': 1.711167893132782e-05}. Best is trial 23 with value: 0.9919886666666665.\u001b[0m\n",
            "\u001b[32m[I 2022-12-19 16:26:55,024]\u001b[0m Trial 24 pruned. Trial was pruned at iteration 5.\u001b[0m\n",
            "\u001b[32m[I 2022-12-19 16:26:55,111]\u001b[0m Trial 25 pruned. Trial was pruned at iteration 5.\u001b[0m\n",
            "\u001b[32m[I 2022-12-19 16:26:56,056]\u001b[0m Trial 26 finished with value: 0.991165 and parameters: {'booster': 'dart', 'lambda': 1.793389286066414e-05, 'alpha': 0.00017131735087331447, 'subsample': 0.6421268587634616, 'colsample_bytree': 0.291857971407452, 'learning_rate': 0.016, 'max_depth': 7, 'eta': 9.4356685206413e-07, 'gamma': 5.142255323698931e-07, 'grow_policy': 'lossguide', 'sample_type': 'weighted', 'normalize_type': 'forest', 'rate_drop': 0.005071811938850559, 'skip_drop': 0.0033941229287454727}. Best is trial 23 with value: 0.9919886666666665.\u001b[0m\n",
            "\u001b[32m[I 2022-12-19 16:26:56,223]\u001b[0m Trial 27 pruned. Trial was pruned at iteration 21.\u001b[0m\n",
            "\u001b[32m[I 2022-12-19 16:26:56,308]\u001b[0m Trial 28 pruned. Trial was pruned at iteration 5.\u001b[0m\n",
            "\u001b[32m[I 2022-12-19 16:26:56,411]\u001b[0m Trial 29 pruned. Trial was pruned at iteration 5.\u001b[0m\n",
            "\u001b[32m[I 2022-12-19 16:26:56,511]\u001b[0m Trial 30 pruned. Trial was pruned at iteration 5.\u001b[0m\n",
            "\u001b[32m[I 2022-12-19 16:26:57,413]\u001b[0m Trial 31 finished with value: 0.99037 and parameters: {'booster': 'dart', 'lambda': 2.5562002916223632e-05, 'alpha': 0.0002758843475959542, 'subsample': 0.6438316359970375, 'colsample_bytree': 0.2970702051200708, 'learning_rate': 0.016, 'max_depth': 7, 'eta': 5.355233196785352e-07, 'gamma': 3.7546596415237343e-07, 'grow_policy': 'lossguide', 'sample_type': 'weighted', 'normalize_type': 'forest', 'rate_drop': 0.005849442112200256, 'skip_drop': 0.0036819349605301276}. Best is trial 23 with value: 0.9919886666666665.\u001b[0m\n",
            "\u001b[32m[I 2022-12-19 16:26:58,313]\u001b[0m Trial 32 finished with value: 0.9914359999999999 and parameters: {'booster': 'dart', 'lambda': 1.4530849851807874e-05, 'alpha': 0.00026942736833500495, 'subsample': 0.6621711026484135, 'colsample_bytree': 0.2595093709407439, 'learning_rate': 0.016, 'max_depth': 6, 'eta': 7.025175718330561e-08, 'gamma': 3.873009192043248e-08, 'grow_policy': 'lossguide', 'sample_type': 'weighted', 'normalize_type': 'forest', 'rate_drop': 0.018432049778761266, 'skip_drop': 0.04046455188773656}. Best is trial 23 with value: 0.9919886666666665.\u001b[0m\n",
            "\u001b[32m[I 2022-12-19 16:26:58,405]\u001b[0m Trial 33 pruned. Trial was pruned at iteration 5.\u001b[0m\n",
            "\u001b[32m[I 2022-12-19 16:26:58,491]\u001b[0m Trial 34 pruned. Trial was pruned at iteration 5.\u001b[0m\n",
            "\u001b[32m[I 2022-12-19 16:26:58,601]\u001b[0m Trial 35 pruned. Trial was pruned at iteration 6.\u001b[0m\n",
            "\u001b[32m[I 2022-12-19 16:26:58,693]\u001b[0m Trial 36 pruned. Trial was pruned at iteration 5.\u001b[0m\n",
            "\u001b[32m[I 2022-12-19 16:26:58,752]\u001b[0m Trial 37 pruned. Trial was pruned at iteration 5.\u001b[0m\n",
            "\u001b[32m[I 2022-12-19 16:26:58,863]\u001b[0m Trial 38 pruned. Trial was pruned at iteration 5.\u001b[0m\n",
            "\u001b[32m[I 2022-12-19 16:26:58,924]\u001b[0m Trial 39 pruned. Trial was pruned at iteration 5.\u001b[0m\n",
            "\u001b[32m[I 2022-12-19 16:26:59,071]\u001b[0m Trial 40 pruned. Trial was pruned at iteration 21.\u001b[0m\n",
            "\u001b[32m[I 2022-12-19 16:26:59,170]\u001b[0m Trial 41 pruned. Trial was pruned at iteration 5.\u001b[0m\n",
            "\u001b[32m[I 2022-12-19 16:26:59,257]\u001b[0m Trial 42 pruned. Trial was pruned at iteration 5.\u001b[0m\n",
            "\u001b[32m[I 2022-12-19 16:26:59,346]\u001b[0m Trial 43 pruned. Trial was pruned at iteration 5.\u001b[0m\n",
            "\u001b[32m[I 2022-12-19 16:26:59,446]\u001b[0m Trial 44 pruned. Trial was pruned at iteration 5.\u001b[0m\n",
            "\u001b[32m[I 2022-12-19 16:26:59,536]\u001b[0m Trial 45 pruned. Trial was pruned at iteration 5.\u001b[0m\n",
            "\u001b[32m[I 2022-12-19 16:26:59,615]\u001b[0m Trial 46 pruned. Trial was pruned at iteration 5.\u001b[0m\n",
            "\u001b[32m[I 2022-12-19 16:26:59,706]\u001b[0m Trial 47 pruned. Trial was pruned at iteration 5.\u001b[0m\n",
            "\u001b[32m[I 2022-12-19 16:26:59,794]\u001b[0m Trial 48 pruned. Trial was pruned at iteration 5.\u001b[0m\n",
            "\u001b[32m[I 2022-12-19 16:26:59,920]\u001b[0m Trial 49 pruned. Trial was pruned at iteration 21.\u001b[0m\n",
            "\u001b[32m[I 2022-12-19 16:27:00,017]\u001b[0m Trial 50 pruned. Trial was pruned at iteration 5.\u001b[0m\n",
            "\u001b[32m[I 2022-12-19 16:27:00,119]\u001b[0m Trial 51 pruned. Trial was pruned at iteration 9.\u001b[0m\n",
            "\u001b[32m[I 2022-12-19 16:27:00,829]\u001b[0m Trial 52 finished with value: 0.9912386666666667 and parameters: {'booster': 'dart', 'lambda': 5.156555186201712e-07, 'alpha': 2.7836298799885322e-05, 'subsample': 0.5486563554440671, 'colsample_bytree': 0.31535935942856924, 'learning_rate': 0.016, 'max_depth': 4, 'eta': 0.008595934072267709, 'gamma': 7.027557844562328e-06, 'grow_policy': 'lossguide', 'sample_type': 'weighted', 'normalize_type': 'forest', 'rate_drop': 1.61397333993325e-07, 'skip_drop': 5.994595054983771e-06}. Best is trial 23 with value: 0.9919886666666665.\u001b[0m\n",
            "\u001b[32m[I 2022-12-19 16:27:00,921]\u001b[0m Trial 53 pruned. Trial was pruned at iteration 5.\u001b[0m\n",
            "\u001b[32m[I 2022-12-19 16:27:01,009]\u001b[0m Trial 54 pruned. Trial was pruned at iteration 5.\u001b[0m\n",
            "\u001b[32m[I 2022-12-19 16:27:01,104]\u001b[0m Trial 55 pruned. Trial was pruned at iteration 5.\u001b[0m\n",
            "\u001b[32m[I 2022-12-19 16:27:01,166]\u001b[0m Trial 56 pruned. Trial was pruned at iteration 5.\u001b[0m\n",
            "\u001b[32m[I 2022-12-19 16:27:01,416]\u001b[0m Trial 57 pruned. Trial was pruned at iteration 42.\u001b[0m\n",
            "\u001b[32m[I 2022-12-19 16:27:01,507]\u001b[0m Trial 58 pruned. Trial was pruned at iteration 5.\u001b[0m\n",
            "\u001b[32m[I 2022-12-19 16:27:01,592]\u001b[0m Trial 59 pruned. Trial was pruned at iteration 5.\u001b[0m\n",
            "\u001b[32m[I 2022-12-19 16:27:01,700]\u001b[0m Trial 60 pruned. Trial was pruned at iteration 7.\u001b[0m\n",
            "\u001b[32m[I 2022-12-19 16:27:02,259]\u001b[0m Trial 61 finished with value: 0.9912740000000001 and parameters: {'booster': 'dart', 'lambda': 2.861646910328583e-07, 'alpha': 0.4745484168226204, 'subsample': 0.5653935909032671, 'colsample_bytree': 0.3076444958503547, 'learning_rate': 0.016, 'max_depth': 4, 'eta': 0.0003809818249038835, 'gamma': 8.844992166131937e-06, 'grow_policy': 'lossguide', 'sample_type': 'weighted', 'normalize_type': 'forest', 'rate_drop': 3.9829505671328684e-07, 'skip_drop': 3.486872372394473e-08}. Best is trial 23 with value: 0.9919886666666665.\u001b[0m\n",
            "\u001b[32m[I 2022-12-19 16:27:02,348]\u001b[0m Trial 62 pruned. Trial was pruned at iteration 5.\u001b[0m\n",
            "\u001b[32m[I 2022-12-19 16:27:02,449]\u001b[0m Trial 63 pruned. Trial was pruned at iteration 7.\u001b[0m\n",
            "\u001b[32m[I 2022-12-19 16:27:02,564]\u001b[0m Trial 64 pruned. Trial was pruned at iteration 5.\u001b[0m\n",
            "\u001b[32m[I 2022-12-19 16:27:02,682]\u001b[0m Trial 65 pruned. Trial was pruned at iteration 5.\u001b[0m\n",
            "\u001b[32m[I 2022-12-19 16:27:02,774]\u001b[0m Trial 66 pruned. Trial was pruned at iteration 5.\u001b[0m\n",
            "\u001b[32m[I 2022-12-19 16:27:02,894]\u001b[0m Trial 67 pruned. Trial was pruned at iteration 15.\u001b[0m\n",
            "\u001b[32m[I 2022-12-19 16:27:02,988]\u001b[0m Trial 68 pruned. Trial was pruned at iteration 5.\u001b[0m\n",
            "\u001b[32m[I 2022-12-19 16:27:03,072]\u001b[0m Trial 69 pruned. Trial was pruned at iteration 5.\u001b[0m\n",
            "\u001b[32m[I 2022-12-19 16:27:03,178]\u001b[0m Trial 70 pruned. Trial was pruned at iteration 5.\u001b[0m\n",
            "\u001b[32m[I 2022-12-19 16:27:03,941]\u001b[0m Trial 71 finished with value: 0.9909613333333334 and parameters: {'booster': 'dart', 'lambda': 2.913547091678308e-07, 'alpha': 0.0003119558385247859, 'subsample': 0.5829882187274863, 'colsample_bytree': 0.34244702110263936, 'learning_rate': 0.016, 'max_depth': 4, 'eta': 0.0009821027364728492, 'gamma': 3.845196966768479e-06, 'grow_policy': 'lossguide', 'sample_type': 'weighted', 'normalize_type': 'forest', 'rate_drop': 3.091407265765764e-08, 'skip_drop': 1.942031776082058e-06}. Best is trial 23 with value: 0.9919886666666665.\u001b[0m\n",
            "\u001b[32m[I 2022-12-19 16:27:04,090]\u001b[0m Trial 72 pruned. Trial was pruned at iteration 21.\u001b[0m\n",
            "\u001b[32m[I 2022-12-19 16:27:04,184]\u001b[0m Trial 73 pruned. Trial was pruned at iteration 5.\u001b[0m\n",
            "\u001b[32m[I 2022-12-19 16:27:04,281]\u001b[0m Trial 74 pruned. Trial was pruned at iteration 5.\u001b[0m\n",
            "\u001b[32m[I 2022-12-19 16:27:04,344]\u001b[0m Trial 75 pruned. Trial was pruned at iteration 5.\u001b[0m\n",
            "\u001b[32m[I 2022-12-19 16:27:04,508]\u001b[0m Trial 76 pruned. Trial was pruned at iteration 16.\u001b[0m\n",
            "\u001b[32m[I 2022-12-19 16:27:04,658]\u001b[0m Trial 77 pruned. Trial was pruned at iteration 21.\u001b[0m\n",
            "\u001b[32m[I 2022-12-19 16:27:04,791]\u001b[0m Trial 78 pruned. Trial was pruned at iteration 5.\u001b[0m\n",
            "\u001b[32m[I 2022-12-19 16:27:04,884]\u001b[0m Trial 79 pruned. Trial was pruned at iteration 5.\u001b[0m\n",
            "\u001b[32m[I 2022-12-19 16:27:05,068]\u001b[0m Trial 80 pruned. Trial was pruned at iteration 21.\u001b[0m\n",
            "\u001b[32m[I 2022-12-19 16:27:05,163]\u001b[0m Trial 81 pruned. Trial was pruned at iteration 5.\u001b[0m\n",
            "\u001b[32m[I 2022-12-19 16:27:05,262]\u001b[0m Trial 82 pruned. Trial was pruned at iteration 5.\u001b[0m\n",
            "\u001b[32m[I 2022-12-19 16:27:05,435]\u001b[0m Trial 83 pruned. Trial was pruned at iteration 22.\u001b[0m\n",
            "\u001b[32m[I 2022-12-19 16:27:05,529]\u001b[0m Trial 84 pruned. Trial was pruned at iteration 5.\u001b[0m\n",
            "\u001b[32m[I 2022-12-19 16:27:05,638]\u001b[0m Trial 85 pruned. Trial was pruned at iteration 5.\u001b[0m\n",
            "\u001b[32m[I 2022-12-19 16:27:05,708]\u001b[0m Trial 86 pruned. Trial was pruned at iteration 5.\u001b[0m\n",
            "\u001b[32m[I 2022-12-19 16:27:05,808]\u001b[0m Trial 87 pruned. Trial was pruned at iteration 5.\u001b[0m\n",
            "\u001b[32m[I 2022-12-19 16:27:06,750]\u001b[0m Trial 88 finished with value: 0.9924276666666666 and parameters: {'booster': 'dart', 'lambda': 0.0002907693433688159, 'alpha': 1.6858786712689633e-05, 'subsample': 0.6530310086566788, 'colsample_bytree': 0.21662405994504164, 'learning_rate': 0.016, 'max_depth': 7, 'eta': 1.6225832241960707e-07, 'gamma': 6.42183529447977e-07, 'grow_policy': 'lossguide', 'sample_type': 'weighted', 'normalize_type': 'forest', 'rate_drop': 2.4006984171861265e-07, 'skip_drop': 4.0295343222648713e-05}. Best is trial 88 with value: 0.9924276666666666.\u001b[0m\n",
            "\u001b[32m[I 2022-12-19 16:27:07,670]\u001b[0m Trial 89 finished with value: 0.9921099999999999 and parameters: {'booster': 'dart', 'lambda': 0.0003304649904642068, 'alpha': 5.2797446082312944e-08, 'subsample': 0.6546010835589399, 'colsample_bytree': 0.21795731298513193, 'learning_rate': 0.016, 'max_depth': 7, 'eta': 2.5154815724510293e-06, 'gamma': 9.992985250580113e-08, 'grow_policy': 'lossguide', 'sample_type': 'weighted', 'normalize_type': 'forest', 'rate_drop': 2.5694163095246696e-07, 'skip_drop': 4.830562488682728e-05}. Best is trial 88 with value: 0.9924276666666666.\u001b[0m\n",
            "\u001b[32m[I 2022-12-19 16:27:07,773]\u001b[0m Trial 90 pruned. Trial was pruned at iteration 5.\u001b[0m\n",
            "\u001b[32m[I 2022-12-19 16:27:07,930]\u001b[0m Trial 91 pruned. Trial was pruned at iteration 17.\u001b[0m\n",
            "\u001b[32m[I 2022-12-19 16:27:08,065]\u001b[0m Trial 92 pruned. Trial was pruned at iteration 9.\u001b[0m\n",
            "\u001b[32m[I 2022-12-19 16:27:08,162]\u001b[0m Trial 93 pruned. Trial was pruned at iteration 5.\u001b[0m\n",
            "\u001b[32m[I 2022-12-19 16:27:08,265]\u001b[0m Trial 94 pruned. Trial was pruned at iteration 5.\u001b[0m\n",
            "\u001b[32m[I 2022-12-19 16:27:08,369]\u001b[0m Trial 95 pruned. Trial was pruned at iteration 5.\u001b[0m\n",
            "\u001b[32m[I 2022-12-19 16:27:08,523]\u001b[0m Trial 96 pruned. Trial was pruned at iteration 21.\u001b[0m\n",
            "\u001b[32m[I 2022-12-19 16:27:08,624]\u001b[0m Trial 97 pruned. Trial was pruned at iteration 5.\u001b[0m\n",
            "\u001b[32m[I 2022-12-19 16:27:09,297]\u001b[0m Trial 98 finished with value: 0.9907633333333333 and parameters: {'booster': 'dart', 'lambda': 0.0001314441556644755, 'alpha': 0.06934769270250025, 'subsample': 0.6465141092539441, 'colsample_bytree': 0.31204647950681863, 'learning_rate': 0.016, 'max_depth': 4, 'eta': 1.0669537600985835e-06, 'gamma': 4.67342579207909e-07, 'grow_policy': 'lossguide', 'sample_type': 'weighted', 'normalize_type': 'forest', 'rate_drop': 5.577190019681345e-07, 'skip_drop': 0.0008612097912399078}. Best is trial 88 with value: 0.9924276666666666.\u001b[0m\n",
            "\u001b[32m[I 2022-12-19 16:27:09,397]\u001b[0m Trial 99 pruned. Trial was pruned at iteration 5.\u001b[0m\n"
          ]
        }
      ]
    },
    {
      "cell_type": "code",
      "source": [
        "print(\"Number of finished trials: {}\".format(len(study.trials)))"
      ],
      "metadata": {
        "colab": {
          "base_uri": "https://localhost:8080/"
        },
        "id": "H-Y8AmiTa_fc",
        "outputId": "6fe2e8b8-3d5f-45c2-add5-5d091a6b6d38"
      },
      "execution_count": 48,
      "outputs": [
        {
          "output_type": "stream",
          "name": "stdout",
          "text": [
            "Number of finished trials: 100\n"
          ]
        }
      ]
    },
    {
      "cell_type": "code",
      "source": [
        "#Retornando o melhor teste do estudo\n",
        "trial = study.best_trial\n",
        "print(\"Best trial:\",trial)\n"
      ],
      "metadata": {
        "colab": {
          "base_uri": "https://localhost:8080/"
        },
        "id": "gEAeCjLhcLsq",
        "outputId": "1718e02f-dd9e-44b5-fdac-436c4cf6e148"
      },
      "execution_count": 49,
      "outputs": [
        {
          "output_type": "stream",
          "name": "stdout",
          "text": [
            "Best trial: FrozenTrial(number=88, values=[0.9924276666666666], datetime_start=datetime.datetime(2022, 12, 19, 16, 27, 5, 810802), datetime_complete=datetime.datetime(2022, 12, 19, 16, 27, 6, 748985), params={'booster': 'dart', 'lambda': 0.0002907693433688159, 'alpha': 1.6858786712689633e-05, 'subsample': 0.6530310086566788, 'colsample_bytree': 0.21662405994504164, 'learning_rate': 0.016, 'max_depth': 7, 'eta': 1.6225832241960707e-07, 'gamma': 6.42183529447977e-07, 'grow_policy': 'lossguide', 'sample_type': 'weighted', 'normalize_type': 'forest', 'rate_drop': 2.4006984171861265e-07, 'skip_drop': 4.0295343222648713e-05}, distributions={'booster': CategoricalDistribution(choices=('gbtree', 'gblinear', 'dart')), 'lambda': FloatDistribution(high=1.0, log=True, low=1e-08, step=None), 'alpha': FloatDistribution(high=1.0, log=True, low=1e-08, step=None), 'subsample': FloatDistribution(high=1.0, log=False, low=0.2, step=None), 'colsample_bytree': FloatDistribution(high=1.0, log=False, low=0.2, step=None), 'learning_rate': CategoricalDistribution(choices=(0.008, 0.01, 0.012, 0.014, 0.016, 0.018, 0.02)), 'max_depth': IntDistribution(high=9, log=False, low=1, step=1), 'eta': FloatDistribution(high=1.0, log=True, low=1e-08, step=None), 'gamma': FloatDistribution(high=1.0, log=True, low=1e-08, step=None), 'grow_policy': CategoricalDistribution(choices=('depthwise', 'lossguide')), 'sample_type': CategoricalDistribution(choices=('uniform', 'weighted')), 'normalize_type': CategoricalDistribution(choices=('tree', 'forest')), 'rate_drop': FloatDistribution(high=1.0, log=True, low=1e-08, step=None), 'skip_drop': FloatDistribution(high=1.0, log=True, low=1e-08, step=None)}, user_attrs={}, system_attrs={}, intermediate_values={0: 0.9533103333333334, 1: 0.9680633333333333, 2: 0.9771000000000001, 3: 0.984283, 4: 0.9859330000000001, 5: 0.9849433333333334, 6: 0.9847796666666667, 7: 0.9848463333333334, 8: 0.9855519999999999, 9: 0.9865953333333334, 10: 0.986218, 11: 0.9863010000000001, 12: 0.9861836666666667, 13: 0.9873223333333333, 14: 0.9873630000000001, 15: 0.9872860000000001, 16: 0.9902223333333334, 17: 0.9900690000000001, 18: 0.9896743333333333, 19: 0.9897113333333333, 20: 0.9892736666666666, 21: 0.9895909999999999, 22: 0.9898313333333334, 23: 0.9891186666666666, 24: 0.988922, 25: 0.9890023333333332, 26: 0.9887643333333335, 27: 0.9890423333333332, 28: 0.9891626666666666, 29: 0.9897556666666668, 30: 0.9894, 31: 0.9897076666666668, 32: 0.990099, 33: 0.9900193333333333, 34: 0.9899816666666666, 35: 0.990142, 36: 0.9898646666666666, 37: 0.989904, 38: 0.989863, 39: 0.989665, 40: 0.9897383333333334, 41: 0.990056, 42: 0.990371, 43: 0.9904903333333333, 44: 0.9906096666666667, 45: 0.9904893333333332, 46: 0.9905293333333334, 47: 0.9903306666666666, 48: 0.990173, 49: 0.9900933333333333, 50: 0.990133, 51: 0.990368, 52: 0.9910036666666667, 53: 0.9914793333333334, 54: 0.9917186666666667, 55: 0.9915176666666666, 56: 0.9915576666666667, 57: 0.9913596666666668, 58: 0.9913603333333333, 59: 0.9911623333333334, 60: 0.991243, 61: 0.9916743333333332, 62: 0.9917933333333333, 63: 0.991673, 64: 0.9917136666666666, 65: 0.9917533333333334, 66: 0.9916736666666667, 67: 0.991673, 68: 0.9919506666666665, 69: 0.9921886666666667, 70: 0.9923476666666667, 71: 0.992309, 72: 0.992269, 73: 0.9922276666666668, 74: 0.992269, 75: 0.9922296666666668, 76: 0.9923476666666667, 77: 0.9924663333333332, 78: 0.9923073333333333, 79: 0.9925459999999999, 80: 0.9925466666666667, 81: 0.9925069999999999, 82: 0.9925063333333334, 83: 0.9925873333333333, 84: 0.992665, 85: 0.9925856666666667, 86: 0.9925453333333333, 87: 0.9925863333333332, 88: 0.9925459999999999, 89: 0.9925069999999999, 90: 0.9923473333333334, 91: 0.9923473333333334, 92: 0.9925470000000001, 93: 0.9924266666666668, 94: 0.9922686666666666, 95: 0.9923483333333333, 96: 0.992309, 97: 0.9923086666666666, 98: 0.9923086666666666, 99: 0.9924276666666666}, trial_id=88, state=TrialState.COMPLETE, value=None)\n"
          ]
        }
      ]
    },
    {
      "cell_type": "code",
      "source": [
        "#Retorna o valor no estudo.\n",
        "print(\"  Value: {}\".format(trial.value))"
      ],
      "metadata": {
        "colab": {
          "base_uri": "https://localhost:8080/"
        },
        "id": "c0p77FdmcTAR",
        "outputId": "f5c25501-0cac-482e-99ad-038935db06f4"
      },
      "execution_count": 50,
      "outputs": [
        {
          "output_type": "stream",
          "name": "stdout",
          "text": [
            "  Value: 0.9924276666666666\n"
          ]
        }
      ]
    },
    {
      "cell_type": "code",
      "source": [
        "#Retorna os melhores parametros obtidos\n",
        "print(\"  Params: \")\n",
        "for key, value in trial.params.items():\n",
        "      print(\"    {}: {}\".format(key, value))"
      ],
      "metadata": {
        "colab": {
          "base_uri": "https://localhost:8080/"
        },
        "id": "aw63MzQ4ceG5",
        "outputId": "9838651b-659d-4fc7-fe03-603160ceae98"
      },
      "execution_count": 51,
      "outputs": [
        {
          "output_type": "stream",
          "name": "stdout",
          "text": [
            "  Params: \n",
            "    booster: dart\n",
            "    lambda: 0.0002907693433688159\n",
            "    alpha: 1.6858786712689633e-05\n",
            "    subsample: 0.6530310086566788\n",
            "    colsample_bytree: 0.21662405994504164\n",
            "    learning_rate: 0.016\n",
            "    max_depth: 7\n",
            "    eta: 1.6225832241960707e-07\n",
            "    gamma: 6.42183529447977e-07\n",
            "    grow_policy: lossguide\n",
            "    sample_type: weighted\n",
            "    normalize_type: forest\n",
            "    rate_drop: 2.4006984171861265e-07\n",
            "    skip_drop: 4.0295343222648713e-05\n"
          ]
        }
      ]
    },
    {
      "cell_type": "code",
      "source": [
        "#cria um dataset\n",
        "hist = study.trials_dataframe()\n",
        "hist.head()\n"
      ],
      "metadata": {
        "colab": {
          "base_uri": "https://localhost:8080/",
          "height": 357
        },
        "id": "Au4AXo3OeOPp",
        "outputId": "ba23d4a5-ac2f-4334-eb9e-ee1a314aeaa5"
      },
      "execution_count": 52,
      "outputs": [
        {
          "output_type": "execute_result",
          "data": {
            "text/plain": [
              "   number     value             datetime_start          datetime_complete  \\\n",
              "0       0  0.989405 2022-12-19 16:26:45.336544 2022-12-19 16:26:45.690563   \n",
              "1       1  0.989969 2022-12-19 16:26:45.694053 2022-12-19 16:26:46.349092   \n",
              "2       2  0.990045 2022-12-19 16:26:46.352588 2022-12-19 16:26:46.983461   \n",
              "3       3  0.908119 2022-12-19 16:26:46.987064 2022-12-19 16:26:47.135178   \n",
              "4       4  0.969458 2022-12-19 16:26:47.138637 2022-12-19 16:26:47.311741   \n",
              "\n",
              "                duration  params_alpha params_booster  \\\n",
              "0 0 days 00:00:00.354019  1.288173e-08         gbtree   \n",
              "1 0 days 00:00:00.655039  2.273438e-03           dart   \n",
              "2 0 days 00:00:00.630873  1.363723e-03           dart   \n",
              "3 0 days 00:00:00.148114  1.354109e-01       gblinear   \n",
              "4 0 days 00:00:00.173104  2.281849e-07       gblinear   \n",
              "\n",
              "   params_colsample_bytree  params_eta  params_gamma params_grow_policy  \\\n",
              "0                 0.974182    0.021765  2.467860e-03          lossguide   \n",
              "1                 0.275284    0.000002  1.272949e-07          depthwise   \n",
              "2                 0.618852    0.000010  7.076522e-02          lossguide   \n",
              "3                 0.536535         NaN           NaN                NaN   \n",
              "4                 0.210421         NaN           NaN                NaN   \n",
              "\n",
              "   params_lambda  params_learning_rate  params_max_depth  \\\n",
              "0   1.766956e-08                 0.020               3.0   \n",
              "1   8.656486e-08                 0.016               9.0   \n",
              "2   4.596729e-02                 0.020               5.0   \n",
              "3   1.055731e-08                 0.008               NaN   \n",
              "4   1.066292e-03                 0.008               NaN   \n",
              "\n",
              "  params_normalize_type  params_rate_drop params_sample_type  \\\n",
              "0                   NaN               NaN                NaN   \n",
              "1                forest      4.429029e-07           weighted   \n",
              "2                forest      4.912747e-05            uniform   \n",
              "3                   NaN               NaN                NaN   \n",
              "4                   NaN               NaN                NaN   \n",
              "\n",
              "   params_skip_drop  params_subsample     state  \n",
              "0               NaN          0.765876  COMPLETE  \n",
              "1          0.000359          0.245377  COMPLETE  \n",
              "2          0.000327          0.897340  COMPLETE  \n",
              "3               NaN          0.488864  COMPLETE  \n",
              "4               NaN          0.366853  COMPLETE  "
            ],
            "text/html": [
              "\n",
              "  <div id=\"df-9d1af4c1-5921-4ca7-8e2b-9b80745ed401\">\n",
              "    <div class=\"colab-df-container\">\n",
              "      <div>\n",
              "<style scoped>\n",
              "    .dataframe tbody tr th:only-of-type {\n",
              "        vertical-align: middle;\n",
              "    }\n",
              "\n",
              "    .dataframe tbody tr th {\n",
              "        vertical-align: top;\n",
              "    }\n",
              "\n",
              "    .dataframe thead th {\n",
              "        text-align: right;\n",
              "    }\n",
              "</style>\n",
              "<table border=\"1\" class=\"dataframe\">\n",
              "  <thead>\n",
              "    <tr style=\"text-align: right;\">\n",
              "      <th></th>\n",
              "      <th>number</th>\n",
              "      <th>value</th>\n",
              "      <th>datetime_start</th>\n",
              "      <th>datetime_complete</th>\n",
              "      <th>duration</th>\n",
              "      <th>params_alpha</th>\n",
              "      <th>params_booster</th>\n",
              "      <th>params_colsample_bytree</th>\n",
              "      <th>params_eta</th>\n",
              "      <th>params_gamma</th>\n",
              "      <th>params_grow_policy</th>\n",
              "      <th>params_lambda</th>\n",
              "      <th>params_learning_rate</th>\n",
              "      <th>params_max_depth</th>\n",
              "      <th>params_normalize_type</th>\n",
              "      <th>params_rate_drop</th>\n",
              "      <th>params_sample_type</th>\n",
              "      <th>params_skip_drop</th>\n",
              "      <th>params_subsample</th>\n",
              "      <th>state</th>\n",
              "    </tr>\n",
              "  </thead>\n",
              "  <tbody>\n",
              "    <tr>\n",
              "      <th>0</th>\n",
              "      <td>0</td>\n",
              "      <td>0.989405</td>\n",
              "      <td>2022-12-19 16:26:45.336544</td>\n",
              "      <td>2022-12-19 16:26:45.690563</td>\n",
              "      <td>0 days 00:00:00.354019</td>\n",
              "      <td>1.288173e-08</td>\n",
              "      <td>gbtree</td>\n",
              "      <td>0.974182</td>\n",
              "      <td>0.021765</td>\n",
              "      <td>2.467860e-03</td>\n",
              "      <td>lossguide</td>\n",
              "      <td>1.766956e-08</td>\n",
              "      <td>0.020</td>\n",
              "      <td>3.0</td>\n",
              "      <td>NaN</td>\n",
              "      <td>NaN</td>\n",
              "      <td>NaN</td>\n",
              "      <td>NaN</td>\n",
              "      <td>0.765876</td>\n",
              "      <td>COMPLETE</td>\n",
              "    </tr>\n",
              "    <tr>\n",
              "      <th>1</th>\n",
              "      <td>1</td>\n",
              "      <td>0.989969</td>\n",
              "      <td>2022-12-19 16:26:45.694053</td>\n",
              "      <td>2022-12-19 16:26:46.349092</td>\n",
              "      <td>0 days 00:00:00.655039</td>\n",
              "      <td>2.273438e-03</td>\n",
              "      <td>dart</td>\n",
              "      <td>0.275284</td>\n",
              "      <td>0.000002</td>\n",
              "      <td>1.272949e-07</td>\n",
              "      <td>depthwise</td>\n",
              "      <td>8.656486e-08</td>\n",
              "      <td>0.016</td>\n",
              "      <td>9.0</td>\n",
              "      <td>forest</td>\n",
              "      <td>4.429029e-07</td>\n",
              "      <td>weighted</td>\n",
              "      <td>0.000359</td>\n",
              "      <td>0.245377</td>\n",
              "      <td>COMPLETE</td>\n",
              "    </tr>\n",
              "    <tr>\n",
              "      <th>2</th>\n",
              "      <td>2</td>\n",
              "      <td>0.990045</td>\n",
              "      <td>2022-12-19 16:26:46.352588</td>\n",
              "      <td>2022-12-19 16:26:46.983461</td>\n",
              "      <td>0 days 00:00:00.630873</td>\n",
              "      <td>1.363723e-03</td>\n",
              "      <td>dart</td>\n",
              "      <td>0.618852</td>\n",
              "      <td>0.000010</td>\n",
              "      <td>7.076522e-02</td>\n",
              "      <td>lossguide</td>\n",
              "      <td>4.596729e-02</td>\n",
              "      <td>0.020</td>\n",
              "      <td>5.0</td>\n",
              "      <td>forest</td>\n",
              "      <td>4.912747e-05</td>\n",
              "      <td>uniform</td>\n",
              "      <td>0.000327</td>\n",
              "      <td>0.897340</td>\n",
              "      <td>COMPLETE</td>\n",
              "    </tr>\n",
              "    <tr>\n",
              "      <th>3</th>\n",
              "      <td>3</td>\n",
              "      <td>0.908119</td>\n",
              "      <td>2022-12-19 16:26:46.987064</td>\n",
              "      <td>2022-12-19 16:26:47.135178</td>\n",
              "      <td>0 days 00:00:00.148114</td>\n",
              "      <td>1.354109e-01</td>\n",
              "      <td>gblinear</td>\n",
              "      <td>0.536535</td>\n",
              "      <td>NaN</td>\n",
              "      <td>NaN</td>\n",
              "      <td>NaN</td>\n",
              "      <td>1.055731e-08</td>\n",
              "      <td>0.008</td>\n",
              "      <td>NaN</td>\n",
              "      <td>NaN</td>\n",
              "      <td>NaN</td>\n",
              "      <td>NaN</td>\n",
              "      <td>NaN</td>\n",
              "      <td>0.488864</td>\n",
              "      <td>COMPLETE</td>\n",
              "    </tr>\n",
              "    <tr>\n",
              "      <th>4</th>\n",
              "      <td>4</td>\n",
              "      <td>0.969458</td>\n",
              "      <td>2022-12-19 16:26:47.138637</td>\n",
              "      <td>2022-12-19 16:26:47.311741</td>\n",
              "      <td>0 days 00:00:00.173104</td>\n",
              "      <td>2.281849e-07</td>\n",
              "      <td>gblinear</td>\n",
              "      <td>0.210421</td>\n",
              "      <td>NaN</td>\n",
              "      <td>NaN</td>\n",
              "      <td>NaN</td>\n",
              "      <td>1.066292e-03</td>\n",
              "      <td>0.008</td>\n",
              "      <td>NaN</td>\n",
              "      <td>NaN</td>\n",
              "      <td>NaN</td>\n",
              "      <td>NaN</td>\n",
              "      <td>NaN</td>\n",
              "      <td>0.366853</td>\n",
              "      <td>COMPLETE</td>\n",
              "    </tr>\n",
              "  </tbody>\n",
              "</table>\n",
              "</div>\n",
              "      <button class=\"colab-df-convert\" onclick=\"convertToInteractive('df-9d1af4c1-5921-4ca7-8e2b-9b80745ed401')\"\n",
              "              title=\"Convert this dataframe to an interactive table.\"\n",
              "              style=\"display:none;\">\n",
              "        \n",
              "  <svg xmlns=\"http://www.w3.org/2000/svg\" height=\"24px\"viewBox=\"0 0 24 24\"\n",
              "       width=\"24px\">\n",
              "    <path d=\"M0 0h24v24H0V0z\" fill=\"none\"/>\n",
              "    <path d=\"M18.56 5.44l.94 2.06.94-2.06 2.06-.94-2.06-.94-.94-2.06-.94 2.06-2.06.94zm-11 1L8.5 8.5l.94-2.06 2.06-.94-2.06-.94L8.5 2.5l-.94 2.06-2.06.94zm10 10l.94 2.06.94-2.06 2.06-.94-2.06-.94-.94-2.06-.94 2.06-2.06.94z\"/><path d=\"M17.41 7.96l-1.37-1.37c-.4-.4-.92-.59-1.43-.59-.52 0-1.04.2-1.43.59L10.3 9.45l-7.72 7.72c-.78.78-.78 2.05 0 2.83L4 21.41c.39.39.9.59 1.41.59.51 0 1.02-.2 1.41-.59l7.78-7.78 2.81-2.81c.8-.78.8-2.07 0-2.86zM5.41 20L4 18.59l7.72-7.72 1.47 1.35L5.41 20z\"/>\n",
              "  </svg>\n",
              "      </button>\n",
              "      \n",
              "  <style>\n",
              "    .colab-df-container {\n",
              "      display:flex;\n",
              "      flex-wrap:wrap;\n",
              "      gap: 12px;\n",
              "    }\n",
              "\n",
              "    .colab-df-convert {\n",
              "      background-color: #E8F0FE;\n",
              "      border: none;\n",
              "      border-radius: 50%;\n",
              "      cursor: pointer;\n",
              "      display: none;\n",
              "      fill: #1967D2;\n",
              "      height: 32px;\n",
              "      padding: 0 0 0 0;\n",
              "      width: 32px;\n",
              "    }\n",
              "\n",
              "    .colab-df-convert:hover {\n",
              "      background-color: #E2EBFA;\n",
              "      box-shadow: 0px 1px 2px rgba(60, 64, 67, 0.3), 0px 1px 3px 1px rgba(60, 64, 67, 0.15);\n",
              "      fill: #174EA6;\n",
              "    }\n",
              "\n",
              "    [theme=dark] .colab-df-convert {\n",
              "      background-color: #3B4455;\n",
              "      fill: #D2E3FC;\n",
              "    }\n",
              "\n",
              "    [theme=dark] .colab-df-convert:hover {\n",
              "      background-color: #434B5C;\n",
              "      box-shadow: 0px 1px 3px 1px rgba(0, 0, 0, 0.15);\n",
              "      filter: drop-shadow(0px 1px 2px rgba(0, 0, 0, 0.3));\n",
              "      fill: #FFFFFF;\n",
              "    }\n",
              "  </style>\n",
              "\n",
              "      <script>\n",
              "        const buttonEl =\n",
              "          document.querySelector('#df-9d1af4c1-5921-4ca7-8e2b-9b80745ed401 button.colab-df-convert');\n",
              "        buttonEl.style.display =\n",
              "          google.colab.kernel.accessAllowed ? 'block' : 'none';\n",
              "\n",
              "        async function convertToInteractive(key) {\n",
              "          const element = document.querySelector('#df-9d1af4c1-5921-4ca7-8e2b-9b80745ed401');\n",
              "          const dataTable =\n",
              "            await google.colab.kernel.invokeFunction('convertToInteractive',\n",
              "                                                     [key], {});\n",
              "          if (!dataTable) return;\n",
              "\n",
              "          const docLinkHtml = 'Like what you see? Visit the ' +\n",
              "            '<a target=\"_blank\" href=https://colab.research.google.com/notebooks/data_table.ipynb>data table notebook</a>'\n",
              "            + ' to learn more about interactive tables.';\n",
              "          element.innerHTML = '';\n",
              "          dataTable['output_type'] = 'display_data';\n",
              "          await google.colab.output.renderOutput(dataTable, element);\n",
              "          const docLink = document.createElement('div');\n",
              "          docLink.innerHTML = docLinkHtml;\n",
              "          element.appendChild(docLink);\n",
              "        }\n",
              "      </script>\n",
              "    </div>\n",
              "  </div>\n",
              "  "
            ]
          },
          "metadata": {},
          "execution_count": 52
        }
      ]
    },
    {
      "cell_type": "code",
      "source": [
        "# histórico de otimização\n",
        "#É o histórico de uma melhor pontuação, o ponto azul é a pontuação desta tentativa e a linha vermelha mostra a melhor pontuação.\n",
        "fig = optuna.visualization.plot_optimization_history(study)\n",
        "fig.show();"
      ],
      "metadata": {
        "colab": {
          "base_uri": "https://localhost:8080/",
          "height": 542
        },
        "id": "h9LO9VfkeycD",
        "outputId": "20ede60a-fff6-4daa-a2ff-4c4388316dc9"
      },
      "execution_count": 53,
      "outputs": [
        {
          "output_type": "display_data",
          "data": {
            "text/html": [
              "<html>\n",
              "<head><meta charset=\"utf-8\" /></head>\n",
              "<body>\n",
              "    <div>            <script src=\"https://cdnjs.cloudflare.com/ajax/libs/mathjax/2.7.5/MathJax.js?config=TeX-AMS-MML_SVG\"></script><script type=\"text/javascript\">if (window.MathJax) {MathJax.Hub.Config({SVG: {font: \"STIX-Web\"}});}</script>                <script type=\"text/javascript\">window.PlotlyConfig = {MathJaxConfig: 'local'};</script>\n",
              "        <script src=\"https://cdn.plot.ly/plotly-2.8.3.min.js\"></script>                <div id=\"5840e3e3-efd5-4011-8647-b556387a2c51\" class=\"plotly-graph-div\" style=\"height:525px; width:100%;\"></div>            <script type=\"text/javascript\">                                    window.PLOTLYENV=window.PLOTLYENV || {};                                    if (document.getElementById(\"5840e3e3-efd5-4011-8647-b556387a2c51\")) {                    Plotly.newPlot(                        \"5840e3e3-efd5-4011-8647-b556387a2c51\",                        [{\"mode\":\"markers\",\"name\":\"Objective Value\",\"x\":[0,1,2,3,4,11,12,13,14,16,21,23,26,31,32,52,61,71,88,89,98],\"y\":[0.9894046666666667,0.9899686666666666,0.990045,0.9081193333333334,0.969458,0.9912423333333334,0.9908863333333334,0.9907663333333333,0.991086,0.9911596666666666,0.991399,0.9919886666666665,0.991165,0.99037,0.9914359999999999,0.9912386666666667,0.9912740000000001,0.9909613333333334,0.9924276666666666,0.9921099999999999,0.9907633333333333],\"type\":\"scatter\"},{\"name\":\"Best Value\",\"x\":[0,1,2,3,4,11,12,13,14,16,21,23,26,31,32,52,61,71,88,89,98],\"y\":[0.9894046666666667,0.9899686666666666,0.990045,0.990045,0.990045,0.9912423333333334,0.9912423333333334,0.9912423333333334,0.9912423333333334,0.9912423333333334,0.991399,0.9919886666666665,0.9919886666666665,0.9919886666666665,0.9919886666666665,0.9919886666666665,0.9919886666666665,0.9919886666666665,0.9924276666666666,0.9924276666666666,0.9924276666666666],\"type\":\"scatter\"}],                        {\"title\":{\"text\":\"Optimization History Plot\"},\"xaxis\":{\"title\":{\"text\":\"Trial\"}},\"yaxis\":{\"title\":{\"text\":\"Objective Value\"}},\"template\":{\"data\":{\"bar\":[{\"error_x\":{\"color\":\"#2a3f5f\"},\"error_y\":{\"color\":\"#2a3f5f\"},\"marker\":{\"line\":{\"color\":\"#E5ECF6\",\"width\":0.5},\"pattern\":{\"fillmode\":\"overlay\",\"size\":10,\"solidity\":0.2}},\"type\":\"bar\"}],\"barpolar\":[{\"marker\":{\"line\":{\"color\":\"#E5ECF6\",\"width\":0.5},\"pattern\":{\"fillmode\":\"overlay\",\"size\":10,\"solidity\":0.2}},\"type\":\"barpolar\"}],\"carpet\":[{\"aaxis\":{\"endlinecolor\":\"#2a3f5f\",\"gridcolor\":\"white\",\"linecolor\":\"white\",\"minorgridcolor\":\"white\",\"startlinecolor\":\"#2a3f5f\"},\"baxis\":{\"endlinecolor\":\"#2a3f5f\",\"gridcolor\":\"white\",\"linecolor\":\"white\",\"minorgridcolor\":\"white\",\"startlinecolor\":\"#2a3f5f\"},\"type\":\"carpet\"}],\"choropleth\":[{\"colorbar\":{\"outlinewidth\":0,\"ticks\":\"\"},\"type\":\"choropleth\"}],\"contour\":[{\"colorbar\":{\"outlinewidth\":0,\"ticks\":\"\"},\"colorscale\":[[0.0,\"#0d0887\"],[0.1111111111111111,\"#46039f\"],[0.2222222222222222,\"#7201a8\"],[0.3333333333333333,\"#9c179e\"],[0.4444444444444444,\"#bd3786\"],[0.5555555555555556,\"#d8576b\"],[0.6666666666666666,\"#ed7953\"],[0.7777777777777778,\"#fb9f3a\"],[0.8888888888888888,\"#fdca26\"],[1.0,\"#f0f921\"]],\"type\":\"contour\"}],\"contourcarpet\":[{\"colorbar\":{\"outlinewidth\":0,\"ticks\":\"\"},\"type\":\"contourcarpet\"}],\"heatmap\":[{\"colorbar\":{\"outlinewidth\":0,\"ticks\":\"\"},\"colorscale\":[[0.0,\"#0d0887\"],[0.1111111111111111,\"#46039f\"],[0.2222222222222222,\"#7201a8\"],[0.3333333333333333,\"#9c179e\"],[0.4444444444444444,\"#bd3786\"],[0.5555555555555556,\"#d8576b\"],[0.6666666666666666,\"#ed7953\"],[0.7777777777777778,\"#fb9f3a\"],[0.8888888888888888,\"#fdca26\"],[1.0,\"#f0f921\"]],\"type\":\"heatmap\"}],\"heatmapgl\":[{\"colorbar\":{\"outlinewidth\":0,\"ticks\":\"\"},\"colorscale\":[[0.0,\"#0d0887\"],[0.1111111111111111,\"#46039f\"],[0.2222222222222222,\"#7201a8\"],[0.3333333333333333,\"#9c179e\"],[0.4444444444444444,\"#bd3786\"],[0.5555555555555556,\"#d8576b\"],[0.6666666666666666,\"#ed7953\"],[0.7777777777777778,\"#fb9f3a\"],[0.8888888888888888,\"#fdca26\"],[1.0,\"#f0f921\"]],\"type\":\"heatmapgl\"}],\"histogram\":[{\"marker\":{\"pattern\":{\"fillmode\":\"overlay\",\"size\":10,\"solidity\":0.2}},\"type\":\"histogram\"}],\"histogram2d\":[{\"colorbar\":{\"outlinewidth\":0,\"ticks\":\"\"},\"colorscale\":[[0.0,\"#0d0887\"],[0.1111111111111111,\"#46039f\"],[0.2222222222222222,\"#7201a8\"],[0.3333333333333333,\"#9c179e\"],[0.4444444444444444,\"#bd3786\"],[0.5555555555555556,\"#d8576b\"],[0.6666666666666666,\"#ed7953\"],[0.7777777777777778,\"#fb9f3a\"],[0.8888888888888888,\"#fdca26\"],[1.0,\"#f0f921\"]],\"type\":\"histogram2d\"}],\"histogram2dcontour\":[{\"colorbar\":{\"outlinewidth\":0,\"ticks\":\"\"},\"colorscale\":[[0.0,\"#0d0887\"],[0.1111111111111111,\"#46039f\"],[0.2222222222222222,\"#7201a8\"],[0.3333333333333333,\"#9c179e\"],[0.4444444444444444,\"#bd3786\"],[0.5555555555555556,\"#d8576b\"],[0.6666666666666666,\"#ed7953\"],[0.7777777777777778,\"#fb9f3a\"],[0.8888888888888888,\"#fdca26\"],[1.0,\"#f0f921\"]],\"type\":\"histogram2dcontour\"}],\"mesh3d\":[{\"colorbar\":{\"outlinewidth\":0,\"ticks\":\"\"},\"type\":\"mesh3d\"}],\"parcoords\":[{\"line\":{\"colorbar\":{\"outlinewidth\":0,\"ticks\":\"\"}},\"type\":\"parcoords\"}],\"pie\":[{\"automargin\":true,\"type\":\"pie\"}],\"scatter\":[{\"marker\":{\"colorbar\":{\"outlinewidth\":0,\"ticks\":\"\"}},\"type\":\"scatter\"}],\"scatter3d\":[{\"line\":{\"colorbar\":{\"outlinewidth\":0,\"ticks\":\"\"}},\"marker\":{\"colorbar\":{\"outlinewidth\":0,\"ticks\":\"\"}},\"type\":\"scatter3d\"}],\"scattercarpet\":[{\"marker\":{\"colorbar\":{\"outlinewidth\":0,\"ticks\":\"\"}},\"type\":\"scattercarpet\"}],\"scattergeo\":[{\"marker\":{\"colorbar\":{\"outlinewidth\":0,\"ticks\":\"\"}},\"type\":\"scattergeo\"}],\"scattergl\":[{\"marker\":{\"colorbar\":{\"outlinewidth\":0,\"ticks\":\"\"}},\"type\":\"scattergl\"}],\"scattermapbox\":[{\"marker\":{\"colorbar\":{\"outlinewidth\":0,\"ticks\":\"\"}},\"type\":\"scattermapbox\"}],\"scatterpolar\":[{\"marker\":{\"colorbar\":{\"outlinewidth\":0,\"ticks\":\"\"}},\"type\":\"scatterpolar\"}],\"scatterpolargl\":[{\"marker\":{\"colorbar\":{\"outlinewidth\":0,\"ticks\":\"\"}},\"type\":\"scatterpolargl\"}],\"scatterternary\":[{\"marker\":{\"colorbar\":{\"outlinewidth\":0,\"ticks\":\"\"}},\"type\":\"scatterternary\"}],\"surface\":[{\"colorbar\":{\"outlinewidth\":0,\"ticks\":\"\"},\"colorscale\":[[0.0,\"#0d0887\"],[0.1111111111111111,\"#46039f\"],[0.2222222222222222,\"#7201a8\"],[0.3333333333333333,\"#9c179e\"],[0.4444444444444444,\"#bd3786\"],[0.5555555555555556,\"#d8576b\"],[0.6666666666666666,\"#ed7953\"],[0.7777777777777778,\"#fb9f3a\"],[0.8888888888888888,\"#fdca26\"],[1.0,\"#f0f921\"]],\"type\":\"surface\"}],\"table\":[{\"cells\":{\"fill\":{\"color\":\"#EBF0F8\"},\"line\":{\"color\":\"white\"}},\"header\":{\"fill\":{\"color\":\"#C8D4E3\"},\"line\":{\"color\":\"white\"}},\"type\":\"table\"}]},\"layout\":{\"annotationdefaults\":{\"arrowcolor\":\"#2a3f5f\",\"arrowhead\":0,\"arrowwidth\":1},\"autotypenumbers\":\"strict\",\"coloraxis\":{\"colorbar\":{\"outlinewidth\":0,\"ticks\":\"\"}},\"colorscale\":{\"diverging\":[[0,\"#8e0152\"],[0.1,\"#c51b7d\"],[0.2,\"#de77ae\"],[0.3,\"#f1b6da\"],[0.4,\"#fde0ef\"],[0.5,\"#f7f7f7\"],[0.6,\"#e6f5d0\"],[0.7,\"#b8e186\"],[0.8,\"#7fbc41\"],[0.9,\"#4d9221\"],[1,\"#276419\"]],\"sequential\":[[0.0,\"#0d0887\"],[0.1111111111111111,\"#46039f\"],[0.2222222222222222,\"#7201a8\"],[0.3333333333333333,\"#9c179e\"],[0.4444444444444444,\"#bd3786\"],[0.5555555555555556,\"#d8576b\"],[0.6666666666666666,\"#ed7953\"],[0.7777777777777778,\"#fb9f3a\"],[0.8888888888888888,\"#fdca26\"],[1.0,\"#f0f921\"]],\"sequentialminus\":[[0.0,\"#0d0887\"],[0.1111111111111111,\"#46039f\"],[0.2222222222222222,\"#7201a8\"],[0.3333333333333333,\"#9c179e\"],[0.4444444444444444,\"#bd3786\"],[0.5555555555555556,\"#d8576b\"],[0.6666666666666666,\"#ed7953\"],[0.7777777777777778,\"#fb9f3a\"],[0.8888888888888888,\"#fdca26\"],[1.0,\"#f0f921\"]]},\"colorway\":[\"#636efa\",\"#EF553B\",\"#00cc96\",\"#ab63fa\",\"#FFA15A\",\"#19d3f3\",\"#FF6692\",\"#B6E880\",\"#FF97FF\",\"#FECB52\"],\"font\":{\"color\":\"#2a3f5f\"},\"geo\":{\"bgcolor\":\"white\",\"lakecolor\":\"white\",\"landcolor\":\"#E5ECF6\",\"showlakes\":true,\"showland\":true,\"subunitcolor\":\"white\"},\"hoverlabel\":{\"align\":\"left\"},\"hovermode\":\"closest\",\"mapbox\":{\"style\":\"light\"},\"paper_bgcolor\":\"white\",\"plot_bgcolor\":\"#E5ECF6\",\"polar\":{\"angularaxis\":{\"gridcolor\":\"white\",\"linecolor\":\"white\",\"ticks\":\"\"},\"bgcolor\":\"#E5ECF6\",\"radialaxis\":{\"gridcolor\":\"white\",\"linecolor\":\"white\",\"ticks\":\"\"}},\"scene\":{\"xaxis\":{\"backgroundcolor\":\"#E5ECF6\",\"gridcolor\":\"white\",\"gridwidth\":2,\"linecolor\":\"white\",\"showbackground\":true,\"ticks\":\"\",\"zerolinecolor\":\"white\"},\"yaxis\":{\"backgroundcolor\":\"#E5ECF6\",\"gridcolor\":\"white\",\"gridwidth\":2,\"linecolor\":\"white\",\"showbackground\":true,\"ticks\":\"\",\"zerolinecolor\":\"white\"},\"zaxis\":{\"backgroundcolor\":\"#E5ECF6\",\"gridcolor\":\"white\",\"gridwidth\":2,\"linecolor\":\"white\",\"showbackground\":true,\"ticks\":\"\",\"zerolinecolor\":\"white\"}},\"shapedefaults\":{\"line\":{\"color\":\"#2a3f5f\"}},\"ternary\":{\"aaxis\":{\"gridcolor\":\"white\",\"linecolor\":\"white\",\"ticks\":\"\"},\"baxis\":{\"gridcolor\":\"white\",\"linecolor\":\"white\",\"ticks\":\"\"},\"bgcolor\":\"#E5ECF6\",\"caxis\":{\"gridcolor\":\"white\",\"linecolor\":\"white\",\"ticks\":\"\"}},\"title\":{\"x\":0.05},\"xaxis\":{\"automargin\":true,\"gridcolor\":\"white\",\"linecolor\":\"white\",\"ticks\":\"\",\"title\":{\"standoff\":15},\"zerolinecolor\":\"white\",\"zerolinewidth\":2},\"yaxis\":{\"automargin\":true,\"gridcolor\":\"white\",\"linecolor\":\"white\",\"ticks\":\"\",\"title\":{\"standoff\":15},\"zerolinecolor\":\"white\",\"zerolinewidth\":2}}}},                        {\"responsive\": true}                    ).then(function(){\n",
              "                            \n",
              "var gd = document.getElementById('5840e3e3-efd5-4011-8647-b556387a2c51');\n",
              "var x = new MutationObserver(function (mutations, observer) {{\n",
              "        var display = window.getComputedStyle(gd).display;\n",
              "        if (!display || display === 'none') {{\n",
              "            console.log([gd, 'removed!']);\n",
              "            Plotly.purge(gd);\n",
              "            observer.disconnect();\n",
              "        }}\n",
              "}});\n",
              "\n",
              "// Listen for the removal of the full notebook cells\n",
              "var notebookContainer = gd.closest('#notebook-container');\n",
              "if (notebookContainer) {{\n",
              "    x.observe(notebookContainer, {childList: true});\n",
              "}}\n",
              "\n",
              "// Listen for the clearing of the current output cell\n",
              "var outputEl = gd.closest('.output');\n",
              "if (outputEl) {{\n",
              "    x.observe(outputEl, {childList: true});\n",
              "}}\n",
              "\n",
              "                        })                };                            </script>        </div>\n",
              "</body>\n",
              "</html>"
            ]
          },
          "metadata": {}
        }
      ]
    },
    {
      "cell_type": "code",
      "source": [
        "#Cada cor mostra a curva de perda de cada tentativa.\n",
        "\n",
        "optuna.visualization.plot_intermediate_values(study)"
      ],
      "metadata": {
        "colab": {
          "base_uri": "https://localhost:8080/",
          "height": 542
        },
        "id": "MnlVyYA_gqPK",
        "outputId": "f0ee35c6-f670-48f1-8bef-152415ce8b1f"
      },
      "execution_count": 54,
      "outputs": [
        {
          "output_type": "display_data",
          "data": {
            "text/html": [
              "<html>\n",
              "<head><meta charset=\"utf-8\" /></head>\n",
              "<body>\n",
              "    <div>            <script src=\"https://cdnjs.cloudflare.com/ajax/libs/mathjax/2.7.5/MathJax.js?config=TeX-AMS-MML_SVG\"></script><script type=\"text/javascript\">if (window.MathJax) {MathJax.Hub.Config({SVG: {font: \"STIX-Web\"}});}</script>                <script type=\"text/javascript\">window.PlotlyConfig = {MathJaxConfig: 'local'};</script>\n",
              "        <script src=\"https://cdn.plot.ly/plotly-2.8.3.min.js\"></script>                <div id=\"cc72c9d7-436c-4a02-8a78-f1cc0e594abd\" class=\"plotly-graph-div\" style=\"height:525px; width:100%;\"></div>            <script type=\"text/javascript\">                                    window.PLOTLYENV=window.PLOTLYENV || {};                                    if (document.getElementById(\"cc72c9d7-436c-4a02-8a78-f1cc0e594abd\")) {                    Plotly.newPlot(                        \"cc72c9d7-436c-4a02-8a78-f1cc0e594abd\",                        [{\"marker\":{\"maxdisplayed\":10},\"mode\":\"lines+markers\",\"name\":\"Trial0\",\"x\":[0,1,2,3,4,5,6,7,8,9,10,11,12,13,14,15,16,17,18,19,20,21,22,23,24,25,26,27,28,29,30,31,32,33,34,35,36,37,38,39,40,41,42,43,44,45,46,47,48,49,50,51,52,53,54,55,56,57,58,59,60,61,62,63,64,65,66,67,68,69,70,71,72,73,74,75,76,77,78,79,80,81,82,83,84,85,86,87,88,89,90,91,92,93,94,95,96,97,98,99],\"y\":[0.9508209999999999,0.9632826666666667,0.9750353333333334,0.9789646666666667,0.9794743333333332,0.9794383333333334,0.979356,0.9803083333333333,0.980674,0.9807143333333332,0.9816723333333334,0.9818319999999999,0.9814916666666665,0.9810156666666666,0.9812526666666667,0.981254,0.9830993333333334,0.9846063333333334,0.9845676666666666,0.9842913333333335,0.9843123333333333,0.984269,0.9825623333333334,0.982704,0.9831013333333333,0.9827836666666666,0.9830200000000001,0.9828256666666667,0.9829456666666667,0.9832003333333333,0.9832010000000001,0.9833606666666667,0.9836383333333334,0.983515,0.9833176666666668,0.9869913333333334,0.9869916666666668,0.9869559999999998,0.9869546666666666,0.9871146666666667,0.9871963333333333,0.9874336666666667,0.9871173333333334,0.9870383333333335,0.9877116666666668,0.9878313333333333,0.9879530000000001,0.9879533333333334,0.9877943333333334,0.987834,0.9875566666666667,0.987755,0.9877946666666667,0.9880333333333334,0.988034,0.9882753333333333,0.9883753333333333,0.988414,0.9884526666666668,0.9883733333333334,0.9885320000000001,0.9886526666666667,0.9886113333333334,0.9886516666666667,0.9886516666666667,0.9887313333333334,0.9887306666666666,0.9886113333333334,0.98873,0.988769,0.988769,0.9888096666666667,0.9886889999999999,0.9887706666666668,0.9890506666666666,0.9891286666666667,0.9887736666666668,0.9889313333333334,0.98897,0.9888323333333333,0.988873,0.9888916666666666,0.9888526666666667,0.9889706666666668,0.9891273333333334,0.9891673333333334,0.9890873333333333,0.9891276666666666,0.9891673333333334,0.9892466666666667,0.989405,0.9893673333333334,0.9893686666666667,0.9892483333333333,0.9892873333333334,0.9894456666666667,0.9894850000000001,0.9894443333333333,0.9894053333333334,0.9894046666666667],\"type\":\"scatter\"},{\"marker\":{\"maxdisplayed\":10},\"mode\":\"lines+markers\",\"name\":\"Trial1\",\"x\":[0,1,2,3,4,5,6,7,8,9,10,11,12,13,14,15,16,17,18,19,20,21,22,23,24,25,26,27,28,29,30,31,32,33,34,35,36,37,38,39,40,41,42,43,44,45,46,47,48,49,50,51,52,53,54,55,56,57,58,59,60,61,62,63,64,65,66,67,68,69,70,71,72,73,74,75,76,77,78,79,80,81,82,83,84,85,86,87,88,89,90,91,92,93,94,95,96,97,98,99],\"y\":[0.9431556666666667,0.9657026666666666,0.9763496666666667,0.9787119999999999,0.9807980000000001,0.9799836666666667,0.9806483333333332,0.9809883333333334,0.9817013333333332,0.982921,0.982943,0.983426,0.9840836666666668,0.9844313333333332,0.984614,0.9842589999999999,0.984174,0.9843106666666667,0.9843890000000001,0.9846666666666667,0.984171,0.9843353333333335,0.9842953333333333,0.9841996666666667,0.9846396666666667,0.9844386666666667,0.9859796666666667,0.9860596666666667,0.9864953333333334,0.9865356666666667,0.986491,0.9866860000000001,0.9870019999999999,0.9870403333333333,0.9869629999999999,0.9873593333333334,0.9878306666666666,0.9880680000000001,0.9879896666666667,0.988185,0.9884643333333333,0.9888173333333333,0.9889396666666667,0.9888189999999999,0.989017,0.989135,0.9889359999999999,0.9889363333333333,0.9890156666666666,0.9892146666666667,0.989256,0.989811,0.989691,0.9898096666666666,0.9899293333333333,0.9902053333333334,0.990167,0.9899299999999999,0.9898876666666667,0.9897666666666667,0.9900053333333333,0.9900036666666666,0.9900423333333334,0.9896473333333332,0.9897676666666667,0.989966,0.9901266666666667,0.990128,0.9899293333333333,0.989847,0.989888,0.9898476666666666,0.989769,0.9899283333333333,0.9897286666666667,0.9898473333333334,0.9900833333333333,0.9899633333333334,0.9899249999999999,0.990043,0.989846,0.9900053333333334,0.9900453333333333,0.9902023333333333,0.9903213333333333,0.990282,0.9904816666666667,0.9904816666666667,0.990402,0.990402,0.990403,0.9903243333333333,0.9902829999999999,0.9902829999999999,0.9903230000000001,0.9901249999999999,0.9900876666666667,0.9900479999999999,0.990008,0.9899686666666666],\"type\":\"scatter\"},{\"marker\":{\"maxdisplayed\":10},\"mode\":\"lines+markers\",\"name\":\"Trial2\",\"x\":[0,1,2,3,4,5,6,7,8,9,10,11,12,13,14,15,16,17,18,19,20,21,22,23,24,25,26,27,28,29,30,31,32,33,34,35,36,37,38,39,40,41,42,43,44,45,46,47,48,49,50,51,52,53,54,55,56,57,58,59,60,61,62,63,64,65,66,67,68,69,70,71,72,73,74,75,76,77,78,79,80,81,82,83,84,85,86,87,88,89,90,91,92,93,94,95,96,97,98,99],\"y\":[0.9686876666666665,0.9718673333333333,0.9822273333333333,0.9854386666666666,0.9844576666666667,0.9839513333333333,0.9848150000000001,0.985032,0.9853103333333332,0.9844836666666668,0.9860976666666668,0.985938,0.9859800000000001,0.986065,0.985887,0.9859486666666667,0.9859893333333334,0.9868693333333334,0.9865906666666667,0.9864099999999999,0.9860510000000001,0.9863323333333334,0.9862540000000001,0.9870473333333334,0.9875243333333333,0.9878856666666667,0.9878853333333334,0.9880416666666667,0.9880006666666667,0.988001,0.9888336666666667,0.988751,0.9886750000000001,0.9885553333333333,0.9885146666666667,0.988594,0.988911,0.988909,0.9890693333333335,0.9891083333333333,0.9892673333333333,0.9893873333333333,0.9893476666666667,0.9893503333333333,0.9893106666666668,0.9889526666666667,0.9891093333333334,0.9888910000000001,0.9888516666666667,0.9889313333333334,0.9890913333333334,0.989169,0.9898816666666667,0.9899206666666668,0.9898426666666666,0.9897233333333334,0.989843,0.9898433333333333,0.9898043333333334,0.9897443333333333,0.9898243333333333,0.989626,0.9897450000000001,0.989626,0.9896653333333333,0.989705,0.989903,0.9898236666666667,0.989823,0.9900616666666666,0.9898623333333333,0.989903,0.9897839999999999,0.9897646666666667,0.989725,0.9896856666666666,0.989528,0.9896463333333333,0.989885,0.9898049999999999,0.9897256666666667,0.9898049999999999,0.9898046666666667,0.9898046666666667,0.9898053333333333,0.9897656666666667,0.9897276666666667,0.9896873333333334,0.989647,0.989646,0.989686,0.9896083333333333,0.9895666666666667,0.989528,0.9894883333333334,0.9895693333333334,0.9896883333333334,0.989649,0.9894896666666666,0.990045],\"type\":\"scatter\"},{\"marker\":{\"maxdisplayed\":10},\"mode\":\"lines+markers\",\"name\":\"Trial3\",\"x\":[0,1,2,3,4,5,6,7,8,9,10,11,12,13,14,15,16,17,18,19,20,21,22,23,24,25,26,27,28,29,30,31,32,33,34,35,36,37,38,39,40,41,42,43,44,45,46,47,48,49,50,51,52,53,54,55,56,57,58,59,60,61,62,63,64,65,66,67,68,69,70,71,72,73,74,75,76,77,78,79,80,81,82,83,84,85,86,87,88,89,90,91,92,93,94,95,96,97,98,99],\"y\":[0.863269,0.8656099999999999,0.867771,0.8701326666666667,0.8722973333333334,0.8743066666666666,0.875883,0.8775376666666667,0.8787949999999999,0.8796590000000001,0.880761,0.881745,0.882984,0.8839100000000001,0.8848746666666667,0.8855633333333333,0.8863119999999999,0.8870196666666667,0.8874943333333333,0.8880053333333334,0.8887543333333333,0.889544,0.889977,0.890723,0.8912766666666667,0.8919093333333333,0.8923416666666667,0.8930889999999999,0.893602,0.893996,0.8944306666666666,0.8947866666666666,0.89522,0.8956913333333333,0.8959273333333333,0.8962820000000001,0.8965173333333333,0.8968323333333333,0.8969913333333333,0.8975053333333333,0.8978626666666667,0.898022,0.8984563333333333,0.8986143333333333,0.8991256666666668,0.8994416666666667,0.8998386666666667,0.9000756666666666,0.9001543333333334,0.9003133333333334,0.9004309999999999,0.900826,0.901104,0.9013410000000001,0.90142,0.9015783333333333,0.9017373333333333,0.9020166666666666,0.9022946666666667,0.9024526666666667,0.9026109999999999,0.9026503333333333,0.9027293333333333,0.9031246666666667,0.9031246666666667,0.9033623333333334,0.9035196666666666,0.9036776666666667,0.904033,0.9043899999999999,0.9045883333333333,0.9048253333333335,0.9050239999999999,0.9052619999999999,0.9055416666666667,0.9056983333333334,0.9058573333333332,0.906095,0.9060963333333333,0.9062156666666666,0.9063746666666667,0.906415,0.9065333333333334,0.9066933333333335,0.9068123333333333,0.906891,0.9069303333333334,0.9070496666666665,0.9071283333333334,0.9072463333333333,0.907326,0.9074049999999999,0.907485,0.9076033333333333,0.907762,0.9078816666666668,0.9079609999999999,0.9080400000000001,0.9081193333333334,0.9081193333333334],\"type\":\"scatter\"},{\"marker\":{\"maxdisplayed\":10},\"mode\":\"lines+markers\",\"name\":\"Trial4\",\"x\":[0,1,2,3,4,5,6,7,8,9,10,11,12,13,14,15,16,17,18,19,20,21,22,23,24,25,26,27,28,29,30,31,32,33,34,35,36,37,38,39,40,41,42,43,44,45,46,47,48,49,50,51,52,53,54,55,56,57,58,59,60,61,62,63,64,65,66,67,68,69,70,71,72,73,74,75,76,77,78,79,80,81,82,83,84,85,86,87,88,89,90,91,92,93,94,95,96,97,98,99],\"y\":[0.9570443333333333,0.9580310000000001,0.959291,0.9601130000000001,0.9609183333333333,0.9615673333333333,0.9619993333333333,0.9625493333333334,0.9629443333333333,0.963298,0.9636533333333333,0.9639286666666665,0.9644803333333334,0.964678,0.9650319999999999,0.9653076666666668,0.9654666666666666,0.9657426666666667,0.9658993333333333,0.9661353333333333,0.9662543333333332,0.9662543333333332,0.9663720000000001,0.96653,0.966688,0.9667663333333333,0.9668446666666667,0.9668843333333333,0.9669236666666666,0.9670033333333333,0.96724,0.9672796666666666,0.9673579999999999,0.9674373333333334,0.9675553333333333,0.9675950000000001,0.967674,0.9677926666666666,0.9679106666666666,0.96795,0.96795,0.9679889999999999,0.968188,0.9682283333333334,0.9682283333333334,0.9682673333333334,0.9683066666666668,0.9683456666666667,0.9683456666666667,0.9683456666666667,0.9684633333333333,0.9684633333333333,0.9685423333333333,0.9685033333333334,0.9685423333333333,0.9685423333333333,0.9685826666666667,0.9685826666666667,0.968622,0.968622,0.968622,0.968622,0.968661,0.9687406666666667,0.9687406666666667,0.9687796666666667,0.968858,0.9688586666666668,0.9688586666666668,0.9688586666666668,0.9688586666666668,0.9688193333333333,0.9688593333333332,0.9688990000000001,0.9689393333333335,0.9689793333333334,0.969019,0.969019,0.969019,0.9690583333333334,0.9690980000000001,0.9691383333333334,0.9691383333333334,0.9691773333333332,0.9691773333333332,0.9692169999999999,0.9692169999999999,0.9691766666666667,0.9691766666666667,0.9692169999999999,0.9692973333333333,0.9693763333333333,0.9693763333333333,0.9693763333333333,0.9693763333333333,0.9694163333333333,0.969377,0.969338,0.9693783333333333,0.969458],\"type\":\"scatter\"},{\"marker\":{\"maxdisplayed\":10},\"mode\":\"lines+markers\",\"name\":\"Trial5\",\"x\":[0,1,2,3,4,5],\"y\":[0.9222403333333333,0.9252643333333334,0.9274726666666666,0.9297576666666666,0.931919,0.933294],\"type\":\"scatter\"},{\"marker\":{\"maxdisplayed\":10},\"mode\":\"lines+markers\",\"name\":\"Trial6\",\"x\":[0,1,2,3,4,5,6,7,8,9,10,11,12,13,14,15,16,17,18,19,20,21,22,23,24,25,26,27,28,29,30,31,32,33,34,35,36,37,38,39,40,41,42,43,44,45,46,47,48,49,50,51,52,53,54,55,56,57,58,59,60,61,62,63,64,65,66,67,68,69,70,71,72,73,74,75],\"y\":[0.9196269999999999,0.9608053333333334,0.9767073333333333,0.9795999999999999,0.9823806666666667,0.9838173333333332,0.9850266666666667,0.985186,0.9852626666666667,0.9862586666666666,0.9876063333333334,0.987372,0.9872690000000001,0.9871460000000001,0.9873106666666667,0.9875943333333334,0.9881666666666667,0.9880466666666666,0.9882026666666667,0.9883593333333334,0.9883236666666666,0.9887196666666668,0.9884796666666666,0.9880426666666667,0.987964,0.9884963333333334,0.988697,0.988339,0.988575,0.9886363333333333,0.9886736666666667,0.9887126666666667,0.9888093333333333,0.9886940000000001,0.9886536666666667,0.9883783333333334,0.9881776666666666,0.9882580000000001,0.988416,0.9884773333333333,0.9884366666666667,0.9883176666666666,0.9881586666666666,0.9880806666666667,0.9879199999999999,0.9880033333333333,0.9878836666666667,0.9877646666666666,0.9878439999999999,0.9878830000000001,0.9877243333333333,0.987724,0.988196,0.9881946666666667,0.9884933333333333,0.98849,0.9884113333333334,0.9881723333333333,0.9880950000000001,0.9882940000000001,0.988452,0.98849,0.98849,0.9884513333333333,0.9886876666666667,0.9888476666666666,0.9888066666666666,0.9886486666666666,0.9887686666666666,0.988727,0.988967,0.988928,0.9890876666666667,0.9889290000000001,0.989125,0.9890866666666667],\"type\":\"scatter\"},{\"marker\":{\"maxdisplayed\":10},\"mode\":\"lines+markers\",\"name\":\"Trial7\",\"x\":[0,1,2,3,4,5],\"y\":[0.8885156666666667,0.9136380000000001,0.9165906666666667,0.9274983333333333,0.938038,0.9352556666666668],\"type\":\"scatter\"},{\"marker\":{\"maxdisplayed\":10},\"mode\":\"lines+markers\",\"name\":\"Trial8\",\"x\":[0,1,2,3,4,5],\"y\":[0.8623063333333333,0.867537,0.8707263333333334,0.8735946666666666,0.8766276666666667,0.8790293333333333],\"type\":\"scatter\"},{\"marker\":{\"maxdisplayed\":10},\"mode\":\"lines+markers\",\"name\":\"Trial9\",\"x\":[0,1,2,3,4,5],\"y\":[0.9619763333333333,0.9640259999999999,0.9656016666666666,0.9666260000000001,0.9676480000000001,0.968282],\"type\":\"scatter\"},{\"marker\":{\"maxdisplayed\":10},\"mode\":\"lines+markers\",\"name\":\"Trial10\",\"x\":[0,1,2,3,4,5],\"y\":[0.650032,0.6513316666666666,0.650032,0.811493,0.6557936666666667,0.9683936666666666],\"type\":\"scatter\"},{\"marker\":{\"maxdisplayed\":10},\"mode\":\"lines+markers\",\"name\":\"Trial11\",\"x\":[0,1,2,3,4,5,6,7,8,9,10,11,12,13,14,15,16,17,18,19,20,21,22,23,24,25,26,27,28,29,30,31,32,33,34,35,36,37,38,39,40,41,42,43,44,45,46,47,48,49,50,51,52,53,54,55,56,57,58,59,60,61,62,63,64,65,66,67,68,69,70,71,72,73,74,75,76,77,78,79,80,81,82,83,84,85,86,87,88,89,90,91,92,93,94,95,96,97,98,99],\"y\":[0.9554686666666666,0.979421,0.9785659999999999,0.9826956666666667,0.9831893333333334,0.9832386666666667,0.9827159999999999,0.9838166666666667,0.9844546666666667,0.9843406666666666,0.9848976666666666,0.984697,0.9844153333333333,0.987117,0.9869016666666667,0.9873413333333333,0.9876353333333334,0.9879503333333334,0.9882683333333334,0.9884320000000001,0.9884326666666667,0.9891253333333333,0.9894063333333333,0.9893663333333332,0.9895046666666668,0.9893870000000001,0.989289,0.9892136666666667,0.9892903333333334,0.9892916666666668,0.9893693333333333,0.9889336666666667,0.9897223333333334,0.98984,0.9896436666666667,0.98988,0.9897636666666667,0.9894060000000001,0.9892063333333333,0.9896823333333334,0.9897213333333333,0.9899196666666666,0.989723,0.9896053333333334,0.9897223333333334,0.9894853333333334,0.990002,0.9898436666666667,0.9897646666666667,0.9898423333333334,0.9898433333333333,0.9896813333333334,0.9896039999999999,0.9896056666666667,0.9896063333333333,0.9899996666666667,0.9899593333333333,0.9898803333333334,0.9901933333333334,0.9900746666666667,0.9900356666666666,0.9901913333333333,0.9903126666666667,0.990312,0.9901926666666666,0.9902703333333333,0.9901916666666667,0.9903483333333334,0.9905863333333333,0.9904669999999999,0.9908203333333333,0.9907023333333332,0.9904643333333333,0.9905426666666667,0.9905433333333334,0.9905643333333334,0.9906453333333333,0.990724,0.9905273333333334,0.9905666666666667,0.9907263333333334,0.9906863333333332,0.9906463333333333,0.990685,0.9907263333333333,0.9907256666666666,0.9908830000000001,0.9908846666666666,0.9910426666666666,0.9914016666666666,0.9914003333333333,0.9913213333333334,0.9912040000000001,0.991203,0.9911629999999999,0.9911616666666667,0.9912013333333333,0.991241,0.9912813333333332,0.9912423333333334],\"type\":\"scatter\"},{\"marker\":{\"maxdisplayed\":10},\"mode\":\"lines+markers\",\"name\":\"Trial12\",\"x\":[0,1,2,3,4,5,6,7,8,9,10,11,12,13,14,15,16,17,18,19,20,21,22,23,24,25,26,27,28,29,30,31,32,33,34,35,36,37,38,39,40,41,42,43,44,45,46,47,48,49,50,51,52,53,54,55,56,57,58,59,60,61,62,63,64,65,66,67,68,69,70,71,72,73,74,75,76,77,78,79,80,81,82,83,84,85,86,87,88,89,90,91,92,93,94,95,96,97,98,99],\"y\":[0.9553603333333333,0.9721173333333333,0.9821606666666667,0.986392,0.986764,0.987562,0.986311,0.987162,0.9865723333333333,0.9876506666666667,0.9860853333333334,0.9860433333333333,0.98592,0.9862383333333332,0.9862436666666667,0.986765,0.9868423333333333,0.987396,0.987278,0.987159,0.9870783333333334,0.990055,0.9901776666666667,0.990256,0.9899413333333333,0.989823,0.989703,0.989982,0.9899433333333333,0.989866,0.9897843333333333,0.9895063333333334,0.9897826666666667,0.99002,0.9898210000000001,0.989742,0.9896236666666667,0.989386,0.9893856666666667,0.989941,0.9899816666666666,0.9900603333333334,0.9902213333333334,0.9901420000000001,0.9900226666666666,0.9899836666666667,0.9903403333333333,0.9905740000000001,0.9906926666666666,0.990809,0.9906929999999999,0.990652,0.9906513333333334,0.9904936666666666,0.9908086666666667,0.9908483333333334,0.990887,0.990887,0.9908856666666667,0.990806,0.9906483333333332,0.9907653333333334,0.9908056666666667,0.9908456666666666,0.9908853333333333,0.9908836666666666,0.9908453333333332,0.9906466666666667,0.9907663333333333,0.9906859999999998,0.9908830000000001,0.9908823333333333,0.9907243333333334,0.990646,0.9907256666666666,0.9908433333333333,0.9908046666666667,0.9908440000000001,0.9908440000000001,0.9907643333333334,0.9906860000000001,0.9906459999999999,0.9907246666666666,0.9907246666666666,0.9908446666666667,0.990726,0.9904083333333333,0.990368,0.990409,0.9904486666666666,0.9904890000000001,0.9905283333333333,0.9906086666666667,0.9906076666666667,0.9906479999999999,0.9905676666666666,0.990688,0.990727,0.9908073333333333,0.9908863333333334],\"type\":\"scatter\"},{\"marker\":{\"maxdisplayed\":10},\"mode\":\"lines+markers\",\"name\":\"Trial13\",\"x\":[0,1,2,3,4,5,6,7,8,9,10,11,12,13,14,15,16,17,18,19,20,21,22,23,24,25,26,27,28,29,30,31,32,33,34,35,36,37,38,39,40,41,42,43,44,45,46,47,48,49,50,51,52,53,54,55,56,57,58,59,60,61,62,63,64,65,66,67,68,69,70,71,72,73,74,75,76,77,78,79,80,81,82,83,84,85,86,87,88,89,90,91,92,93,94,95,96,97,98,99],\"y\":[0.9560833333333333,0.9721383333333332,0.9800789999999999,0.98537,0.9853999999999999,0.986854,0.9859773333333335,0.9858129999999999,0.986748,0.9866400000000001,0.9856103333333334,0.9856896666666666,0.9858073333333334,0.9860056666666667,0.9858916666666667,0.986133,0.9856570000000001,0.9859316666666667,0.9859746666666668,0.9861356666666667,0.985741,0.9888366666666667,0.9889979999999999,0.9887586666666666,0.9886426666666667,0.9885233333333333,0.988444,0.9888823333333333,0.9887626666666667,0.9887656666666667,0.9888036666666666,0.9886856666666666,0.9887269999999999,0.9888453333333334,0.9887269999999999,0.989075,0.9891549999999999,0.9890746666666667,0.988918,0.9895120000000001,0.9894326666666666,0.989392,0.989236,0.9891956666666667,0.9893136666666665,0.9893146666666667,0.9894729999999999,0.9895909999999999,0.989472,0.9896286666666666,0.989669,0.9895120000000001,0.9894323333333332,0.9893563333333334,0.9899833333333333,0.9901,0.9904163333333335,0.990417,0.9904163333333335,0.990139,0.9899816666666666,0.990099,0.9903353333333333,0.9902546666666666,0.9902153333333333,0.990374,0.9903346666666667,0.990297,0.9903746666666667,0.9904533333333333,0.9906503333333334,0.9906100000000001,0.9905713333333334,0.9905313333333333,0.990452,0.9904906666666666,0.9904923333333334,0.9905716666666667,0.9906093333333333,0.9905296666666666,0.9906496666666667,0.9904516666666666,0.9903713333333334,0.9905696666666666,0.9906093333333333,0.9905693333333333,0.9903313333333333,0.9904109999999999,0.9906486666666666,0.9907279999999999,0.9908466666666667,0.9909266666666667,0.9907699999999999,0.9907689999999999,0.9906886666666667,0.9906093333333333,0.9906893333333332,0.9907286666666666,0.9908473333333333,0.9907663333333333],\"type\":\"scatter\"},{\"marker\":{\"maxdisplayed\":10},\"mode\":\"lines+markers\",\"name\":\"Trial14\",\"x\":[0,1,2,3,4,5,6,7,8,9,10,11,12,13,14,15,16,17,18,19,20,21,22,23,24,25,26,27,28,29,30,31,32,33,34,35,36,37,38,39,40,41,42,43,44,45,46,47,48,49,50,51,52,53,54,55,56,57,58,59,60,61,62,63,64,65,66,67,68,69,70,71,72,73,74,75,76,77,78,79,80,81,82,83,84,85,86,87,88,89,90,91,92,93,94,95,96,97,98,99],\"y\":[0.9563609999999999,0.9719456666666667,0.9806863333333334,0.9833556666666666,0.9852916666666668,0.9846303333333334,0.9847570000000001,0.9868456666666666,0.987283,0.9878453333333334,0.9867949999999999,0.9867153333333333,0.9875876666666668,0.9863213333333333,0.9860466666666667,0.9867279999999999,0.9859716666666666,0.9864280000000001,0.9866493333333334,0.9869086666666668,0.9865746666666667,0.9895860000000001,0.9898663333333332,0.989627,0.9895876666666666,0.9895109999999999,0.9895896666666667,0.9897093333333332,0.9895506666666666,0.9895516666666667,0.98963,0.9894723333333332,0.9897896666666667,0.9897520000000001,0.9895943333333334,0.990182,0.989865,0.9898243333333333,0.989666,0.9901406666666667,0.9902986666666665,0.9904183333333334,0.9902606666666666,0.990223,0.9902993333333333,0.9901433333333333,0.990224,0.9902986666666665,0.990101,0.9900613333333333,0.9899833333333333,0.9897833333333333,0.9898226666666666,0.9897460000000001,0.9901773333333334,0.9902176666666667,0.9903763333333333,0.9904166666666666,0.9904543333333334,0.9900583333333334,0.9899826666666667,0.9900986666666668,0.9903763333333333,0.9903776666666667,0.990297,0.9904536666666667,0.990533,0.9903749999999999,0.9906526666666666,0.9905736666666667,0.9907303333333334,0.990533,0.9903743333333334,0.9905309999999999,0.9904526666666666,0.9906103333333333,0.9905719999999999,0.9906496666666667,0.99073,0.9908480000000001,0.990729,0.9906893333333332,0.990612,0.990611,0.9906116666666667,0.9905719999999999,0.9906906666666666,0.9907703333333333,0.9910486666666666,0.9909286666666667,0.9909683333333333,0.9910476666666667,0.9910086666666666,0.9909690000000001,0.9909690000000001,0.9909296666666667,0.9910093333333333,0.9909696666666666,0.9909293333333333,0.991086],\"type\":\"scatter\"},{\"marker\":{\"maxdisplayed\":10},\"mode\":\"lines+markers\",\"name\":\"Trial15\",\"x\":[0,1,2,3,4,5,6,7,8,9,10,11,12,13,14,15,16,17,18,19,20,21,22,23,24,25,26,27,28,29,30],\"y\":[0.9491226666666667,0.9752636666666666,0.9755989999999999,0.9809510000000001,0.9838316666666667,0.9833676666666666,0.9824976666666667,0.981862,0.9867696666666667,0.9870626666666666,0.987301,0.9876646666666667,0.9876296666666665,0.9882123333333332,0.987891,0.9879683333333333,0.9881296666666667,0.9882483333333333,0.9880963333333334,0.9882970000000001,0.9887770000000001,0.9883850000000001,0.988185,0.988105,0.98795,0.98787,0.987832,0.987869,0.9878673333333333,0.9875916666666668,0.987834],\"type\":\"scatter\"},{\"marker\":{\"maxdisplayed\":10},\"mode\":\"lines+markers\",\"name\":\"Trial16\",\"x\":[0,1,2,3,4,5,6,7,8,9,10,11,12,13,14,15,16,17,18,19,20,21,22,23,24,25,26,27,28,29,30,31,32,33,34,35,36,37,38,39,40,41,42,43,44,45,46,47,48,49,50,51,52,53,54,55,56,57,58,59,60,61,62,63,64,65,66,67,68,69,70,71,72,73,74,75,76,77,78,79,80,81,82,83,84,85,86,87,88,89,90,91,92,93,94,95,96,97,98,99],\"y\":[0.9483393333333333,0.9690503333333332,0.973278,0.9841530000000001,0.9856466666666667,0.9859243333333332,0.9868750000000001,0.987136,0.985941,0.9859223333333333,0.9867576666666666,0.986759,0.9870293333333334,0.9876406666666666,0.9871663333333333,0.9876276666666667,0.9874679999999999,0.9878619999999999,0.9877846666666666,0.9878593333333333,0.9877029999999999,0.9906016666666666,0.990679,0.990161,0.9900816666666666,0.9904036666666666,0.9901646666666667,0.9900876666666667,0.9902063333333334,0.9900876666666667,0.9899290000000001,0.9897710000000001,0.9903663333333332,0.9904853333333333,0.9904863333333332,0.9906823333333333,0.9905023333333333,0.9902646666666666,0.9903436666666666,0.9903016666666665,0.9905413333333333,0.9904206666666666,0.9903823333333333,0.9902646666666666,0.9902233333333332,0.9902643333333333,0.9908976666666667,0.9908966666666666,0.9909773333333334,0.9908199999999999,0.990622,0.9904216666666666,0.990582,0.9907400000000001,0.9907003333333333,0.9907013333333333,0.9908199999999999,0.9905409999999999,0.990582,0.9903826666666666,0.990463,0.990584,0.9906633333333333,0.9905823333333333,0.9906213333333334,0.990681,0.9906809999999999,0.9907206666666667,0.9907216666666666,0.990603,0.9906809999999999,0.9906433333333333,0.9908009999999999,0.9908786666666667,0.9908389999999999,0.9909986666666667,0.991,0.9909993333333333,0.9909993333333333,0.9908806666666666,0.9908813333333333,0.9909996666666666,0.9910390000000001,0.990841,0.9913966666666667,0.991278,0.9912793333333333,0.9913566666666668,0.9912783333333334,0.9912393333333333,0.9910423333333332,0.9910426666666666,0.9908436666666667,0.990923,0.9910019999999999,0.9910423333333332,0.991003,0.991043,0.9910416666666667,0.9911596666666666],\"type\":\"scatter\"},{\"marker\":{\"maxdisplayed\":10},\"mode\":\"lines+markers\",\"name\":\"Trial17\",\"x\":[0,1,2,3,4,5],\"y\":[0.9165853333333334,0.9709629999999999,0.9770323333333333,0.9778826666666666,0.9786250000000001,0.9808956666666667],\"type\":\"scatter\"},{\"marker\":{\"maxdisplayed\":10},\"mode\":\"lines+markers\",\"name\":\"Trial18\",\"x\":[0,1,2,3,4,5],\"y\":[0.9555183333333334,0.9732746666666667,0.9772066666666667,0.9772403333333332,0.9791616666666667,0.9792493333333333],\"type\":\"scatter\"},{\"marker\":{\"maxdisplayed\":10},\"mode\":\"lines+markers\",\"name\":\"Trial19\",\"x\":[0,1,2,3,4,5,6,7,8,9,10,11,12,13,14,15,16,17,18,19,20,21,22,23],\"y\":[0.9414683333333334,0.977313,0.9830166666666665,0.9830946666666667,0.9846539999999999,0.986123,0.9854479999999999,0.9851493333333332,0.9848733333333334,0.9846946666666666,0.9855893333333334,0.9852333333333334,0.985131,0.9849916666666667,0.9876336666666665,0.9875573333333333,0.9875970000000001,0.98787,0.9878713333333332,0.9876946666666667,0.9874956666666668,0.9864669999999999,0.9867056666666668,0.986565],\"type\":\"scatter\"},{\"marker\":{\"maxdisplayed\":10},\"mode\":\"lines+markers\",\"name\":\"Trial20\",\"x\":[0,1,2,3,4,5,6,7,8,9,10,11,12,13,14,15,16,17,18,19,20,21,22,23,24,25,26,27,28,29,30,31,32,33,34,35,36,37,38,39],\"y\":[0.9288753333333334,0.9730706666666666,0.9817273333333333,0.9812703333333334,0.982878,0.9859303333333335,0.9869009999999999,0.9865233333333334,0.986009,0.98669,0.9881396666666666,0.9868416666666667,0.9870749999999999,0.987593,0.98704,0.9870396666666666,0.9873226666666666,0.9877503333333332,0.9874333333333333,0.9878116666666666,0.9885953333333334,0.9882743333333334,0.988591,0.9883890000000001,0.9886689999999999,0.9891773333333332,0.9890173333333333,0.9889363333333333,0.9885803333333333,0.9886623333333334,0.9888210000000001,0.9887776666666667,0.9886963333333333,0.9889753333333333,0.9890119999999999,0.9890496666666667,0.9889703333333334,0.9890306666666667,0.9888333333333333,0.9887943333333333],\"type\":\"scatter\"},{\"marker\":{\"maxdisplayed\":10},\"mode\":\"lines+markers\",\"name\":\"Trial21\",\"x\":[0,1,2,3,4,5,6,7,8,9,10,11,12,13,14,15,16,17,18,19,20,21,22,23,24,25,26,27,28,29,30,31,32,33,34,35,36,37,38,39,40,41,42,43,44,45,46,47,48,49,50,51,52,53,54,55,56,57,58,59,60,61,62,63,64,65,66,67,68,69,70,71,72,73,74,75,76,77,78,79,80,81,82,83,84,85,86,87,88,89,90,91,92,93,94,95,96,97,98,99],\"y\":[0.9526256666666667,0.972052,0.9791356666666666,0.9842069999999999,0.9855663333333333,0.985083,0.9838653333333333,0.9841883333333333,0.984156,0.9844719999999999,0.9846113333333334,0.9839583333333334,0.9846473333333333,0.9867339999999999,0.9864376666666667,0.9873126666666666,0.9872740000000001,0.9870366666666667,0.9871133333333333,0.9871936666666666,0.9871556666666667,0.9900506666666667,0.9898939999999999,0.9897366666666666,0.9896973333333333,0.9895813333333333,0.989183,0.989343,0.9895016666666666,0.9893416666666667,0.9893013333333333,0.9892226666666667,0.9898586666666667,0.9902526666666667,0.9900946666666667,0.9901336666666666,0.9899733333333334,0.9899346666666666,0.9898539999999999,0.9898923333333333,0.9903283333333333,0.9901323333333334,0.9901316666666666,0.9901313333333333,0.9902903333333333,0.9902906666666667,0.990332,0.990371,0.9902126666666667,0.9901723333333333,0.9900543333333333,0.989856,0.9900929999999999,0.9900533333333333,0.989974,0.9904483333333333,0.990606,0.9904873333333333,0.990488,0.9904093333333334,0.990212,0.990212,0.9904109999999999,0.9905306666666666,0.9904106666666667,0.9905293333333334,0.9905293333333334,0.9905293333333334,0.9904893333333332,0.9904886666666667,0.9904483333333333,0.9903686666666666,0.9904480000000001,0.990567,0.9905273333333332,0.990528,0.9904093333333334,0.9906053333333333,0.9908043333333333,0.9907643333333334,0.9907653333333334,0.9907246666666666,0.9906056666666666,0.990647,0.9906863333333332,0.9906073333333333,0.9906063333333334,0.9904886666666667,0.9908046666666667,0.990765,0.9908826666666667,0.9909626666666665,0.9908453333333332,0.9908056666666667,0.990965,0.9910443333333333,0.9913996666666667,0.99132,0.9913603333333333,0.991399],\"type\":\"scatter\"},{\"marker\":{\"maxdisplayed\":10},\"mode\":\"lines+markers\",\"name\":\"Trial22\",\"x\":[0,1,2,3,4,5,6,7,8,9,10,11,12,13,14,15,16,17,18,19,20,21],\"y\":[0.936941,0.9731553333333333,0.9801886666666667,0.9832743333333333,0.9856913333333334,0.9855016666666666,0.9859383333333334,0.986956,0.986684,0.9868833333333334,0.9865623333333334,0.9862913333333334,0.9866063333333334,0.9859723333333333,0.986132,0.9866686666666666,0.9864726666666667,0.9869463333333334,0.9871446666666667,0.9869880000000001,0.9865903333333333,0.9866473333333333],\"type\":\"scatter\"},{\"marker\":{\"maxdisplayed\":10},\"mode\":\"lines+markers\",\"name\":\"Trial23\",\"x\":[0,1,2,3,4,5,6,7,8,9,10,11,12,13,14,15,16,17,18,19,20,21,22,23,24,25,26,27,28,29,30,31,32,33,34,35,36,37,38,39,40,41,42,43,44,45,46,47,48,49,50,51,52,53,54,55,56,57,58,59,60,61,62,63,64,65,66,67,68,69,70,71,72,73,74,75,76,77,78,79,80,81,82,83,84,85,86,87,88,89,90,91,92,93,94,95,96,97,98,99],\"y\":[0.9576456666666667,0.9656549999999999,0.9751436666666667,0.9832380000000001,0.9849093333333334,0.984871,0.9846606666666666,0.9850953333333333,0.9854086666666667,0.9873096666666666,0.9869476666666667,0.9871856666666666,0.9875746666666667,0.9877710000000001,0.9878526666666666,0.9879380000000001,0.9908790000000001,0.9906813333333333,0.9909196666666666,0.991234,0.9908736666666665,0.991389,0.9915096666666666,0.9911896666666666,0.991428,0.9913903333333334,0.9912706666666667,0.9915096666666666,0.9916303333333333,0.991669,0.9913906666666666,0.9910316666666666,0.9909129999999999,0.9910716666666666,0.9909533333333332,0.9910739999999999,0.9908753333333333,0.9908356666666666,0.9909146666666667,0.9907583333333333,0.9907556666666668,0.9907159999999999,0.9908359999999999,0.9907576666666666,0.9907973333333334,0.9906773333333333,0.9905573333333333,0.9906370000000001,0.990757,0.9907566666666666,0.9907179999999999,0.9909536666666666,0.9913123333333335,0.9917096666666666,0.9917486666666666,0.99171,0.991591,0.991511,0.9914313333333333,0.9913133333333333,0.9913143333333333,0.9914719999999999,0.9916329999999999,0.991632,0.9917123333333334,0.9917919999999999,0.9919883333333334,0.9918299999999999,0.9920283333333334,0.99215,0.9922696666666666,0.99235,0.9924303333333334,0.9923493333333333,0.9923889999999999,0.9923086666666666,0.9925466666666667,0.9924663333333333,0.9925456666666667,0.9923463333333333,0.9923076666666667,0.9923066666666666,0.992347,0.9922276666666666,0.9923473333333334,0.9923869999999999,0.9923869999999999,0.992467,0.992467,0.9923479999999999,0.9923076666666667,0.992268,0.9922683333333332,0.9921890000000001,0.9920703333333334,0.9921493333333333,0.9920293333333333,0.9919506666666665,0.9919496666666667,0.9919886666666665],\"type\":\"scatter\"},{\"marker\":{\"maxdisplayed\":10},\"mode\":\"lines+markers\",\"name\":\"Trial24\",\"x\":[0,1,2,3,4,5],\"y\":[0.9443849999999999,0.9634056666666666,0.9759153333333334,0.9777276666666667,0.9791396666666667,0.9782676666666666],\"type\":\"scatter\"},{\"marker\":{\"maxdisplayed\":10},\"mode\":\"lines+markers\",\"name\":\"Trial25\",\"x\":[0,1,2,3,4,5],\"y\":[0.9441086666666667,0.9623966666666667,0.9778206666666667,0.9797750000000001,0.9817486666666667,0.9829276666666668],\"type\":\"scatter\"},{\"marker\":{\"maxdisplayed\":10},\"mode\":\"lines+markers\",\"name\":\"Trial26\",\"x\":[0,1,2,3,4,5,6,7,8,9,10,11,12,13,14,15,16,17,18,19,20,21,22,23,24,25,26,27,28,29,30,31,32,33,34,35,36,37,38,39,40,41,42,43,44,45,46,47,48,49,50,51,52,53,54,55,56,57,58,59,60,61,62,63,64,65,66,67,68,69,70,71,72,73,74,75,76,77,78,79,80,81,82,83,84,85,86,87,88,89,90,91,92,93,94,95,96,97,98,99],\"y\":[0.9361193333333334,0.9513706666666666,0.9693520000000001,0.9835600000000001,0.9835863333333333,0.984511,0.98555,0.9861049999999999,0.986243,0.9869816666666668,0.9867416666666666,0.9868256666666667,0.9871163333333333,0.9872549999999999,0.9871726666666666,0.9867823333333333,0.9899196666666666,0.989919,0.9900403333333333,0.9901936666666667,0.9895543333333333,0.9906739999999999,0.990911,0.9908713333333333,0.990793,0.991072,0.9907176666666667,0.9910770000000001,0.991117,0.9912773333333332,0.9908793333333333,0.9907593333333334,0.9909593333333334,0.990443,0.990719,0.9907590000000001,0.9907199999999999,0.9908396666666667,0.9907996666666666,0.990879,0.9907203333333333,0.990841,0.990959,0.9910803333333332,0.991079,0.9914333333333333,0.9912739999999999,0.9915146666666667,0.9916736666666667,0.991354,0.9913553333333334,0.9915146666666667,0.9914366666666666,0.9913983333333333,0.9915173333333334,0.991317,0.9912386666666667,0.9912386666666667,0.9910793333333333,0.991082,0.9910413333333333,0.9910419999999999,0.9908449999999999,0.9909223333333332,0.9910033333333333,0.9910833333333334,0.9908846666666666,0.9908043333333333,0.9908853333333333,0.9909646666666667,0.9910036666666667,0.991084,0.9911233333333334,0.9911223333333333,0.991044,0.9911639999999999,0.9906896666666666,0.9911263333333333,0.9910453333333332,0.9913216666666665,0.9909246666666668,0.99144,0.9912416666666667,0.9912023333333333,0.9913203333333334,0.9911233333333334,0.9911623333333334,0.9912006666666667,0.9910013333333333,0.9910023333333333,0.9910023333333333,0.990924,0.990725,0.9904876666666667,0.9908039999999999,0.9909656666666667,0.9910446666666667,0.9910453333333332,0.991046,0.991165],\"type\":\"scatter\"},{\"marker\":{\"maxdisplayed\":10},\"mode\":\"lines+markers\",\"name\":\"Trial27\",\"x\":[0,1,2,3,4,5,6,7,8,9,10,11,12,13,14,15,16,17,18,19,20,21],\"y\":[0.9635656666666668,0.9633986666666666,0.9702443333333334,0.974471,0.979138,0.9879703333333335,0.987603,0.987691,0.987316,0.9871503333333332,0.9879043333333333,0.9871936666666666,0.987394,0.9871156666666666,0.9871366666666667,0.9878916666666666,0.988214,0.9884529999999999,0.9881743333333333,0.9881346666666667,0.987977,0.9873403333333334],\"type\":\"scatter\"},{\"marker\":{\"maxdisplayed\":10},\"mode\":\"lines+markers\",\"name\":\"Trial28\",\"x\":[0,1,2,3,4,5],\"y\":[0.935205,0.9688126666666667,0.9781780000000001,0.9781396666666667,0.9792973333333332,0.9792996666666666],\"type\":\"scatter\"},{\"marker\":{\"maxdisplayed\":10},\"mode\":\"lines+markers\",\"name\":\"Trial29\",\"x\":[0,1,2,3,4,5],\"y\":[0.9505880000000001,0.9549923333333332,0.963222,0.9808343333333333,0.9761673333333333,0.9780323333333333],\"type\":\"scatter\"},{\"marker\":{\"maxdisplayed\":10},\"mode\":\"lines+markers\",\"name\":\"Trial30\",\"x\":[0,1,2,3,4,5],\"y\":[0.9645306666666666,0.9761003333333332,0.979982,0.9788503333333334,0.9779983333333334,0.9827523333333333],\"type\":\"scatter\"},{\"marker\":{\"maxdisplayed\":10},\"mode\":\"lines+markers\",\"name\":\"Trial31\",\"x\":[0,1,2,3,4,5,6,7,8,9,10,11,12,13,14,15,16,17,18,19,20,21,22,23,24,25,26,27,28,29,30,31,32,33,34,35,36,37,38,39,40,41,42,43,44,45,46,47,48,49,50,51,52,53,54,55,56,57,58,59,60,61,62,63,64,65,66,67,68,69,70,71,72,73,74,75,76,77,78,79,80,81,82,83,84,85,86,87,88,89,90,91,92,93,94,95,96,97,98,99],\"y\":[0.9361193333333334,0.9535283333333333,0.9726843333333334,0.983488,0.9841483333333333,0.9850323333333333,0.9857506666666667,0.9864676666666666,0.9873393333333333,0.9883733333333332,0.9879726666666667,0.987822,0.9878733333333334,0.988012,0.9881093333333334,0.987618,0.9882563333333333,0.9882966666666667,0.9881376666666667,0.9887276666666667,0.9881303333333333,0.9896016666666666,0.9904746666666666,0.9903583333333333,0.9900426666666666,0.990319,0.9899633333333333,0.990285,0.9902036666666666,0.990247,0.990047,0.9901646666666667,0.989929,0.9898076666666666,0.9898063333333335,0.9900853333333334,0.9899263333333334,0.9899663333333333,0.9901270000000001,0.9900466666666666,0.990045,0.9902063333333334,0.9901650000000001,0.9905253333333333,0.9906426666666667,0.9909173333333333,0.9906803333333333,0.9908803333333333,0.9910393333333333,0.9906806666666667,0.9907203333333333,0.9907209999999999,0.9906826666666667,0.9908406666666667,0.9909616666666666,0.990761,0.9906813333333333,0.9903056666666666,0.9906433333333333,0.9907246666666666,0.9906446666666667,0.9902073333333333,0.9902083333333334,0.9904843333333334,0.9904853333333333,0.9906056666666667,0.9904463333333333,0.9904053333333334,0.990527,0.9902503333333333,0.9902099999999999,0.990249,0.99017,0.990249,0.9903283333333334,0.9904476666666667,0.989694,0.9903703333333334,0.9903293333333334,0.9906056666666666,0.9908049999999999,0.9906053333333333,0.9903276666666666,0.9903286666666666,0.990408,0.990408,0.990368,0.9902083333333334,0.990168,0.9901293333333333,0.9901683333333332,0.99005,0.990049,0.9900896666666666,0.9902086666666666,0.9902896666666666,0.9902500000000001,0.9904493333333333,0.9903703333333334,0.99037],\"type\":\"scatter\"},{\"marker\":{\"maxdisplayed\":10},\"mode\":\"lines+markers\",\"name\":\"Trial32\",\"x\":[0,1,2,3,4,5,6,7,8,9,10,11,12,13,14,15,16,17,18,19,20,21,22,23,24,25,26,27,28,29,30,31,32,33,34,35,36,37,38,39,40,41,42,43,44,45,46,47,48,49,50,51,52,53,54,55,56,57,58,59,60,61,62,63,64,65,66,67,68,69,70,71,72,73,74,75,76,77,78,79,80,81,82,83,84,85,86,87,88,89,90,91,92,93,94,95,96,97,98,99],\"y\":[0.9422983333333333,0.9556956666666667,0.9769990000000001,0.9797076666666666,0.9838096666666667,0.9848480000000001,0.9864156666666667,0.9857420000000001,0.9862216666666667,0.991712,0.9927623333333333,0.9925646666666667,0.9924623333333334,0.9925036666666666,0.9926593333333332,0.9925783333333333,0.992699,0.9925413333333334,0.9926593333333332,0.992702,0.9885766666666665,0.9923853333333333,0.9921863333333333,0.9923463333333333,0.9921883333333333,0.9919129999999999,0.991476,0.9915096666666666,0.9915503333333332,0.9913906666666666,0.991867,0.9916693333333333,0.9916283333333333,0.9916656666666667,0.9913926666666666,0.9916283333333333,0.9914266666666666,0.9923026666666667,0.991828,0.9917873333333334,0.991673,0.9915133333333334,0.9918706666666667,0.9915526666666666,0.9913949999999999,0.9918313333333333,0.99167,0.9915936666666667,0.9917523333333333,0.9915133333333334,0.9916726666666666,0.9911183333333332,0.9913166666666666,0.9913973333333334,0.9912389999999999,0.9908833333333332,0.9908426666666666,0.9909213333333334,0.9912826666666668,0.9911226666666666,0.990884,0.991161,0.9911616666666667,0.9911213333333334,0.9911216666666668,0.9909253333333333,0.990764,0.9911216666666668,0.9910399999999999,0.9908466666666667,0.990924,0.9908463333333334,0.9911593333333334,0.991122,0.991121,0.9911623333333334,0.9911206666666666,0.9910413333333333,0.9913183333333334,0.991122,0.9911596666666668,0.9908826666666667,0.9910793333333333,0.990922,0.9908026666666667,0.990404,0.9908433333333333,0.9904033333333334,0.9903646666666667,0.9907616666666667,0.9907216666666666,0.9908406666666667,0.9908416666666667,0.9907996666666667,0.991082,0.9911603333333333,0.9912390000000001,0.9913946666666668,0.990958,0.9914359999999999],\"type\":\"scatter\"},{\"marker\":{\"maxdisplayed\":10},\"mode\":\"lines+markers\",\"name\":\"Trial33\",\"x\":[0,1,2,3,4,5],\"y\":[0.9312296666666667,0.9651150000000001,0.9745520000000001,0.9773533333333333,0.9834146666666667,0.9841943333333334],\"type\":\"scatter\"},{\"marker\":{\"maxdisplayed\":10},\"mode\":\"lines+markers\",\"name\":\"Trial34\",\"x\":[0,1,2,3,4,5],\"y\":[0.9478439999999999,0.9628663333333334,0.9782706666666666,0.978828,0.9807423333333333,0.9830456666666666],\"type\":\"scatter\"},{\"marker\":{\"maxdisplayed\":10},\"mode\":\"lines+markers\",\"name\":\"Trial35\",\"x\":[0,1,2,3,4,5,6],\"y\":[0.9525856666666667,0.9686353333333333,0.978085,0.9813823333333334,0.9845,0.9847563333333333,0.9834776666666668],\"type\":\"scatter\"},{\"marker\":{\"maxdisplayed\":10},\"mode\":\"lines+markers\",\"name\":\"Trial36\",\"x\":[0,1,2,3,4,5],\"y\":[0.970576,0.956337,0.9678679999999998,0.9766403333333334,0.9783499999999999,0.977283],\"type\":\"scatter\"},{\"marker\":{\"maxdisplayed\":10},\"mode\":\"lines+markers\",\"name\":\"Trial37\",\"x\":[0,1,2,3,4,5],\"y\":[0.8523316666666667,0.8552430000000001,0.8577996666666666,0.8608906666666667,0.8635063333333334,0.865946],\"type\":\"scatter\"},{\"marker\":{\"maxdisplayed\":10},\"mode\":\"lines+markers\",\"name\":\"Trial38\",\"x\":[0,1,2,3,4,5],\"y\":[0.9477643333333333,0.9559923333333332,0.9444119999999999,0.969407,0.9699336666666666,0.9683489999999999],\"type\":\"scatter\"},{\"marker\":{\"maxdisplayed\":10},\"mode\":\"lines+markers\",\"name\":\"Trial39\",\"x\":[0,1,2,3,4,5],\"y\":[0.954975,0.960099,0.96401,0.9663026666666666,0.9677233333333333,0.9685903333333333],\"type\":\"scatter\"},{\"marker\":{\"maxdisplayed\":10},\"mode\":\"lines+markers\",\"name\":\"Trial40\",\"x\":[0,1,2,3,4,5,6,7,8,9,10,11,12,13,14,15,16,17,18,19,20,21],\"y\":[0.9548173333333333,0.9701306666666666,0.9802616666666667,0.9849943333333333,0.9854086666666667,0.985559,0.9858156666666668,0.9861973333333333,0.9864320000000001,0.9876516666666667,0.9867796666666667,0.9867003333333333,0.9864633333333334,0.9864656666666667,0.9858330000000001,0.9858383333333333,0.985341,0.9852643333333333,0.9855033333333333,0.9863246666666666,0.9860063333333334,0.988032],\"type\":\"scatter\"},{\"marker\":{\"maxdisplayed\":10},\"mode\":\"lines+markers\",\"name\":\"Trial41\",\"x\":[0,1,2,3,4,5],\"y\":[0.935726,0.9632816666666667,0.9614736666666667,0.9738603333333334,0.9797253333333332,0.983012],\"type\":\"scatter\"},{\"marker\":{\"maxdisplayed\":10},\"mode\":\"lines+markers\",\"name\":\"Trial42\",\"x\":[0,1,2,3,4,5],\"y\":[0.9369783333333334,0.9636206666666666,0.9710573333333334,0.9802116666666666,0.980756,0.9842526666666666],\"type\":\"scatter\"},{\"marker\":{\"maxdisplayed\":10},\"mode\":\"lines+markers\",\"name\":\"Trial43\",\"x\":[0,1,2,3,4,5],\"y\":[0.9492826666666666,0.9663559999999999,0.9741826666666666,0.977599,0.9805406666666666,0.982072],\"type\":\"scatter\"},{\"marker\":{\"maxdisplayed\":10},\"mode\":\"lines+markers\",\"name\":\"Trial44\",\"x\":[0,1,2,3,4,5],\"y\":[0.9577683333333334,0.9695266666666665,0.9725033333333334,0.9746630000000001,0.9761403333333333,0.9762603333333333],\"type\":\"scatter\"},{\"marker\":{\"maxdisplayed\":10},\"mode\":\"lines+markers\",\"name\":\"Trial45\",\"x\":[0,1,2,3,4,5],\"y\":[0.9348633333333333,0.9678686666666666,0.9798366666666666,0.9778419999999999,0.9787343333333333,0.9794849999999999],\"type\":\"scatter\"},{\"marker\":{\"maxdisplayed\":10},\"mode\":\"lines+markers\",\"name\":\"Trial46\",\"x\":[0,1,2,3,4,5],\"y\":[0.959066,0.962095,0.9637899999999999,0.9650093333333333,0.9659559999999999,0.9668260000000001],\"type\":\"scatter\"},{\"marker\":{\"maxdisplayed\":10},\"mode\":\"lines+markers\",\"name\":\"Trial47\",\"x\":[0,1,2,3,4,5],\"y\":[0.9564403333333334,0.9732226666666666,0.9764673333333334,0.9815066666666666,0.9815586666666668,0.9810533333333332],\"type\":\"scatter\"},{\"marker\":{\"maxdisplayed\":10},\"mode\":\"lines+markers\",\"name\":\"Trial48\",\"x\":[0,1,2,3,4,5],\"y\":[0.8860169999999999,0.952959,0.97024,0.9749636666666667,0.979942,0.9804163333333333],\"type\":\"scatter\"},{\"marker\":{\"maxdisplayed\":10},\"mode\":\"lines+markers\",\"name\":\"Trial49\",\"x\":[0,1,2,3,4,5,6,7,8,9,10,11,12,13,14,15,16,17,18,19,20,21],\"y\":[0.9271806666666667,0.9786306666666666,0.9830063333333333,0.9831333333333333,0.9830399999999999,0.9855076666666666,0.9873526666666667,0.9875563333333334,0.9876,0.9882073333333333,0.988985,0.9886626666666666,0.9885663333333333,0.9884853333333333,0.9885293333333333,0.988531,0.988533,0.9885336666666666,0.9884930000000001,0.9882546666666666,0.9885706666666666,0.9880523333333334],\"type\":\"scatter\"},{\"marker\":{\"maxdisplayed\":10},\"mode\":\"lines+markers\",\"name\":\"Trial50\",\"x\":[0,1,2,3,4,5],\"y\":[0.945393,0.957099,0.9673583333333333,0.9753273333333333,0.9784256666666667,0.9753073333333333],\"type\":\"scatter\"},{\"marker\":{\"maxdisplayed\":10},\"mode\":\"lines+markers\",\"name\":\"Trial51\",\"x\":[0,1,2,3,4,5,6,7,8,9],\"y\":[0.9215983333333334,0.9494813333333333,0.9646043333333334,0.979917,0.9840063333333333,0.9855233333333334,0.9854923333333333,0.9857319999999999,0.9857279999999999,0.9857543333333333],\"type\":\"scatter\"},{\"marker\":{\"maxdisplayed\":10},\"mode\":\"lines+markers\",\"name\":\"Trial52\",\"x\":[0,1,2,3,4,5,6,7,8,9,10,11,12,13,14,15,16,17,18,19,20,21,22,23,24,25,26,27,28,29,30,31,32,33,34,35,36,37,38,39,40,41,42,43,44,45,46,47,48,49,50,51,52,53,54,55,56,57,58,59,60,61,62,63,64,65,66,67,68,69,70,71,72,73,74,75,76,77,78,79,80,81,82,83,84,85,86,87,88,89,90,91,92,93,94,95,96,97,98,99],\"y\":[0.9443033333333334,0.9595643333333334,0.9691389999999999,0.9838713333333334,0.9869870000000001,0.9859583333333334,0.9869813333333334,0.988234,0.9856159999999999,0.9852996666666667,0.985976,0.9857976666666667,0.9857916666666666,0.9863676666666666,0.986336,0.9865183333333333,0.9888223333333332,0.988938,0.9889813333333333,0.9892146666666667,0.9892146666666667,0.9907603333333334,0.9907993333333334,0.9903243333333333,0.9899673333333333,0.9901273333333332,0.9897696666666667,0.9900096666666666,0.99025,0.990011,0.9904876666666667,0.9902510000000001,0.9909653333333334,0.9910823333333333,0.9911996666666666,0.9912000000000001,0.9910399999999999,0.9910386666666667,0.9910793333333333,0.9911576666666666,0.9911599999999999,0.9911583333333334,0.9909986666666667,0.9910393333333333,0.9910399999999999,0.9909226666666666,0.9911206666666666,0.9912396666666666,0.9911196666666666,0.991594,0.9915163333333333,0.991317,0.9911976666666668,0.9913183333333334,0.9910796666666667,0.9912386666666667,0.9914356666666667,0.9911599999999999,0.9910026666666667,0.9907653333333334,0.9908049999999999,0.9908456666666666,0.990924,0.9909233333333333,0.9908049999999999,0.9908833333333332,0.9907633333333333,0.990566,0.990567,0.9908450000000001,0.9908039999999999,0.9908830000000001,0.9908426666666666,0.9906833333333332,0.9908023333333333,0.9907626666666666,0.990765,0.9908039999999999,0.9908423333333333,0.990921,0.9907236666666667,0.9910406666666667,0.9908813333333333,0.9908406666666667,0.9910013333333333,0.9910403333333333,0.9910813333333333,0.9911203333333333,0.9909606666666666,0.9912,0.991041,0.9910806666666666,0.991041,0.9910813333333333,0.9910019999999999,0.9910006666666668,0.9913983333333333,0.9912396666666666,0.9912393333333333,0.9912386666666667],\"type\":\"scatter\"},{\"marker\":{\"maxdisplayed\":10},\"mode\":\"lines+markers\",\"name\":\"Trial53\",\"x\":[0,1,2,3,4,5],\"y\":[0.9368986666666667,0.9593376666666668,0.966631,0.9810949999999999,0.9813389999999999,0.9829840000000001],\"type\":\"scatter\"},{\"marker\":{\"maxdisplayed\":10},\"mode\":\"lines+markers\",\"name\":\"Trial54\",\"x\":[0,1,2,3,4,5],\"y\":[0.77928,0.6595376666666667,0.7879390000000001,0.8166506666666665,0.9497393333333334,0.950109],\"type\":\"scatter\"},{\"marker\":{\"maxdisplayed\":10},\"mode\":\"lines+markers\",\"name\":\"Trial55\",\"x\":[0,1,2,3,4,5],\"y\":[0.9486496666666667,0.9659223333333333,0.9741826666666666,0.9784413333333334,0.978581,0.981652],\"type\":\"scatter\"},{\"marker\":{\"maxdisplayed\":10},\"mode\":\"lines+markers\",\"name\":\"Trial56\",\"x\":[0,1,2,3,4,5],\"y\":[0.9552836666666668,0.961162,0.964713,0.9670873333333333,0.9683700000000001,0.9694203333333333],\"type\":\"scatter\"},{\"marker\":{\"maxdisplayed\":10},\"mode\":\"lines+markers\",\"name\":\"Trial57\",\"x\":[0,1,2,3,4,5,6,7,8,9,10,11,12,13,14,15,16,17,18,19,20,21,22,23,24,25,26,27,28,29,30,31,32,33,34,35,36,37,38,39,40,41,42],\"y\":[0.9313330000000001,0.957358,0.977846,0.9860576666666666,0.9867699999999999,0.9858213333333333,0.9856143333333334,0.985598,0.987199,0.9876373333333334,0.9847440000000001,0.984587,0.9857313333333333,0.9859723333333332,0.986488,0.9868263333333332,0.9889713333333333,0.9892506666666666,0.9887363333333333,0.989328,0.9892506666666666,0.9897046666666666,0.9901439999999999,0.9899636666666667,0.9898866666666667,0.9899279999999999,0.9898496666666666,0.9898093333333332,0.9899290000000001,0.9895713333333332,0.9895286666666667,0.9893709999999999,0.9895316666666667,0.9898886666666667,0.9896116666666667,0.9896126666666666,0.9897716666666666,0.9897313333333333,0.9898103333333333,0.9895723333333333,0.9896920000000001,0.9895719999999999,0.9899303333333332],\"type\":\"scatter\"},{\"marker\":{\"maxdisplayed\":10},\"mode\":\"lines+markers\",\"name\":\"Trial58\",\"x\":[0,1,2,3,4,5],\"y\":[0.9564013333333333,0.976465,0.9759676666666667,0.980505,0.9808153333333335,0.9821909999999999],\"type\":\"scatter\"},{\"marker\":{\"maxdisplayed\":10},\"mode\":\"lines+markers\",\"name\":\"Trial59\",\"x\":[0,1,2,3,4,5],\"y\":[0.9616160000000001,0.9782660000000001,0.980643,0.9778316666666668,0.978335,0.97772],\"type\":\"scatter\"},{\"marker\":{\"maxdisplayed\":10},\"mode\":\"lines+markers\",\"name\":\"Trial60\",\"x\":[0,1,2,3,4,5,6,7],\"y\":[0.9501636666666666,0.9688253333333332,0.980071,0.983621,0.984337,0.9849296666666666,0.9843193333333332,0.9847976666666666],\"type\":\"scatter\"},{\"marker\":{\"maxdisplayed\":10},\"mode\":\"lines+markers\",\"name\":\"Trial61\",\"x\":[0,1,2,3,4,5,6,7,8,9,10,11,12,13,14,15,16,17,18,19,20,21,22,23,24,25,26,27,28,29,30,31,32,33,34,35,36,37,38,39,40,41,42,43,44,45,46,47,48,49,50,51,52,53,54,55,56,57,58,59,60,61,62,63,64,65,66,67,68,69,70,71,72,73,74,75,76,77,78,79,80,81,82,83,84,85,86,87,88,89,90,91,92,93,94,95,96,97,98,99],\"y\":[0.943618,0.9733766666666668,0.9832879999999999,0.98795,0.9881100000000002,0.988053,0.9878116666666666,0.9875353333333333,0.9877319999999999,0.9874930000000001,0.9879736666666666,0.9878979999999999,0.9879693333333334,0.9884676666666667,0.988314,0.9882153333333333,0.988574,0.9892470000000001,0.989884,0.9896046666666667,0.989045,0.9900763333333332,0.9903566666666667,0.990122,0.9900033333333332,0.990126,0.990007,0.9903653333333332,0.9905236666666667,0.990603,0.990287,0.9900483333333333,0.990564,0.9906036666666665,0.9904456666666667,0.9906026666666666,0.990383,0.990065,0.990182,0.9902593333333334,0.9903810000000001,0.9905376666666666,0.9905773333333333,0.9905783333333332,0.990579,0.99042,0.9910533333333333,0.9910136666666666,0.9910330000000002,0.9907136666666667,0.9906756666666666,0.990675,0.9905970000000001,0.990719,0.9907586666666667,0.9906803333333333,0.9907183333333333,0.9906003333333332,0.990679,0.9906783333333333,0.9906799999999999,0.9907179999999999,0.9907586666666667,0.9907196666666667,0.9906413333333334,0.9907976666666666,0.9909946666666668,0.9907576666666668,0.990679,0.9908766666666667,0.9908766666666667,0.9907576666666666,0.9908769999999999,0.9908776666666667,0.9907983333333333,0.9907586666666667,0.9909180000000001,0.9909963333333334,0.9911133333333333,0.9909153333333333,0.9909556666666667,0.9909556666666667,0.9909953333333332,0.9911536666666666,0.9911933333333334,0.991273,0.9913136666666666,0.9912736666666667,0.9911946666666666,0.9913536666666666,0.9913136666666666,0.991394,0.991394,0.991276,0.9911563333333332,0.9911166666666666,0.991117,0.9911573333333333,0.991157,0.9912740000000001],\"type\":\"scatter\"},{\"marker\":{\"maxdisplayed\":10},\"mode\":\"lines+markers\",\"name\":\"Trial62\",\"x\":[0,1,2,3,4,5],\"y\":[0.9430246666666666,0.972264,0.9790930000000001,0.9809579999999999,0.9814756666666667,0.984254],\"type\":\"scatter\"},{\"marker\":{\"maxdisplayed\":10},\"mode\":\"lines+markers\",\"name\":\"Trial63\",\"x\":[0,1,2,3,4,5,6,7],\"y\":[0.9396796666666667,0.9682243333333332,0.9783203333333333,0.9830126666666666,0.9831516666666666,0.9855796666666666,0.98565,0.9848849999999999],\"type\":\"scatter\"},{\"marker\":{\"maxdisplayed\":10},\"mode\":\"lines+markers\",\"name\":\"Trial64\",\"x\":[0,1,2,3,4,5],\"y\":[0.9491606666666667,0.9627553333333333,0.9744820000000001,0.9781146666666668,0.9817716666666666,0.9843719999999999],\"type\":\"scatter\"},{\"marker\":{\"maxdisplayed\":10},\"mode\":\"lines+markers\",\"name\":\"Trial65\",\"x\":[0,1,2,3,4,5],\"y\":[0.92925,0.9635236666666667,0.9785446666666666,0.981637,0.9828143333333333,0.9834313333333333],\"type\":\"scatter\"},{\"marker\":{\"maxdisplayed\":10},\"mode\":\"lines+markers\",\"name\":\"Trial66\",\"x\":[0,1,2,3,4,5],\"y\":[0.9183150000000001,0.9501180000000001,0.9715833333333334,0.9765343333333334,0.9799196666666665,0.9794416666666667],\"type\":\"scatter\"},{\"marker\":{\"maxdisplayed\":10},\"mode\":\"lines+markers\",\"name\":\"Trial67\",\"x\":[0,1,2,3,4,5,6,7,8,9,10,11,12,13,14,15],\"y\":[0.9594276666666667,0.9784513333333335,0.9826830000000001,0.9865113333333334,0.9862916666666667,0.9861946666666667,0.9859036666666667,0.9859056666666667,0.9859399999999999,0.9863776666666667,0.9860613333333333,0.9863006666666667,0.9860003333333335,0.9862996666666666,0.98642,0.9867213333333332],\"type\":\"scatter\"},{\"marker\":{\"maxdisplayed\":10},\"mode\":\"lines+markers\",\"name\":\"Trial68\",\"x\":[0,1,2,3,4,5],\"y\":[0.939282,0.956184,0.973229,0.9762176666666665,0.9781693333333333,0.979886],\"type\":\"scatter\"},{\"marker\":{\"maxdisplayed\":10},\"mode\":\"lines+markers\",\"name\":\"Trial69\",\"x\":[0,1,2,3,4,5],\"y\":[0.9547056666666668,0.9787536666666666,0.9832423333333332,0.9821369999999999,0.9814616666666667,0.9844683333333334],\"type\":\"scatter\"},{\"marker\":{\"maxdisplayed\":10},\"mode\":\"lines+markers\",\"name\":\"Trial70\",\"x\":[0,1,2,3,4,5],\"y\":[0.965888,0.9707503333333333,0.9776096666666666,0.9792056666666668,0.981052,0.9817429999999999],\"type\":\"scatter\"},{\"marker\":{\"maxdisplayed\":10},\"mode\":\"lines+markers\",\"name\":\"Trial71\",\"x\":[0,1,2,3,4,5,6,7,8,9,10,11,12,13,14,15,16,17,18,19,20,21,22,23,24,25,26,27,28,29,30,31,32,33,34,35,36,37,38,39,40,41,42,43,44,45,46,47,48,49,50,51,52,53,54,55,56,57,58,59,60,61,62,63,64,65,66,67,68,69,70,71,72,73,74,75,76,77,78,79,80,81,82,83,84,85,86,87,88,89,90,91,92,93,94,95,96,97,98,99],\"y\":[0.9315716666666667,0.9579713333333334,0.9689930000000001,0.9802206666666667,0.984817,0.985378,0.9860196666666666,0.9868096666666667,0.9847916666666667,0.9851116666666667,0.9856296666666666,0.98595,0.986494,0.9871279999999999,0.9868093333333334,0.9874113333333333,0.9875116666666667,0.9877913333333334,0.987711,0.9877913333333334,0.987711,0.9908056666666667,0.990888,0.9902516666666666,0.9900956666666666,0.9902556666666666,0.9900570000000001,0.9903746666666665,0.9903766666666667,0.9901783333333333,0.990098,0.9897796666666667,0.9898996666666666,0.9900586666666666,0.9900216666666667,0.990609,0.9903689999999999,0.9903296666666667,0.9904063333333334,0.9904449999999999,0.9903256666666667,0.9904456666666667,0.990406,0.9905263333333333,0.9905646666666666,0.9904846666666667,0.990722,0.9907216666666666,0.9907213333333332,0.9907223333333333,0.990722,0.990563,0.9906416666666665,0.990485,0.9906806666666667,0.99072,0.9906803333333333,0.9905216666666666,0.9904423333333333,0.990441,0.9904416666666666,0.9904443333333334,0.9902873333333333,0.9903253333333333,0.9903663333333333,0.9906043333333333,0.9904850000000001,0.9906433333333333,0.9905236666666667,0.9904046666666666,0.9904443333333334,0.9906046666666667,0.9906830000000001,0.9907226666666666,0.9907616666666667,0.9906433333333333,0.9908023333333333,0.9908426666666666,0.9908433333333333,0.9908816666666667,0.9909613333333334,0.9913193333333333,0.991358,0.9913963333333333,0.9913166666666667,0.9913566666666668,0.9913973333333335,0.9915160000000002,0.9914373333333333,0.9914379999999999,0.991397,0.9913173333333334,0.9911986666666666,0.99112,0.991041,0.991081,0.991082,0.9909636666666666,0.9909626666666665,0.9909613333333334],\"type\":\"scatter\"},{\"marker\":{\"maxdisplayed\":10},\"mode\":\"lines+markers\",\"name\":\"Trial72\",\"x\":[0,1,2,3,4,5,6,7,8,9,10,11,12,13,14,15,16,17,18,19,20,21],\"y\":[0.9323013333333333,0.9535006666666668,0.9664959999999999,0.9811606666666667,0.9848523333333333,0.986247,0.9866606666666667,0.9868623333333334,0.986853,0.987373,0.9872203333333335,0.9872613333333332,0.9875970000000001,0.9880333333333334,0.9879950000000001,0.9876223333333334,0.987997,0.9877936666666667,0.9874740000000001,0.9877896666666667,0.9877876666666667,0.988502],\"type\":\"scatter\"},{\"marker\":{\"maxdisplayed\":10},\"mode\":\"lines+markers\",\"name\":\"Trial73\",\"x\":[0,1,2,3,4,5],\"y\":[0.9323936666666667,0.966488,0.9783780000000001,0.9807453333333332,0.9817903333333332,0.9812913333333334],\"type\":\"scatter\"},{\"marker\":{\"maxdisplayed\":10},\"mode\":\"lines+markers\",\"name\":\"Trial74\",\"x\":[0,1,2,3,4,5],\"y\":[0.9330753333333334,0.9571933333333332,0.9731679999999999,0.9799426666666667,0.9838823333333333,0.9843046666666666],\"type\":\"scatter\"},{\"marker\":{\"maxdisplayed\":10},\"mode\":\"lines+markers\",\"name\":\"Trial75\",\"x\":[0,1,2,3,4,5],\"y\":[0.9615806666666668,0.9635133333333333,0.9645760000000001,0.9660366666666667,0.9671006666666666,0.9677666666666668],\"type\":\"scatter\"},{\"marker\":{\"maxdisplayed\":10},\"mode\":\"lines+markers\",\"name\":\"Trial76\",\"x\":[0,1,2,3,4,5,6,7,8,9,10,11,12,13,14,15,16],\"y\":[0.951272,0.9564783333333332,0.9715343333333334,0.9846523333333334,0.98326,0.9862866666666665,0.9871193333333332,0.9873353333333333,0.9848186666666666,0.9846976666666666,0.9850789999999999,0.9851236666666666,0.9855573333333334,0.9859603333333333,0.9859203333333334,0.986319,0.9865163333333333],\"type\":\"scatter\"},{\"marker\":{\"maxdisplayed\":10},\"mode\":\"lines+markers\",\"name\":\"Trial77\",\"x\":[0,1,2,3,4,5,6,7,8,9,10,11,12,13,14,15,16,17,18,19,20,21],\"y\":[0.9561803333333333,0.95202,0.9691709999999999,0.9813976666666667,0.985487,0.98692,0.987081,0.9877236666666667,0.9877356666666667,0.988534,0.9877023333333333,0.9881383333333332,0.9879043333333334,0.9874666666666667,0.9872243333333334,0.9870260000000001,0.9870506666666667,0.9873280000000001,0.9871706666666666,0.9870916666666667,0.9869736666666666,0.9870143333333333],\"type\":\"scatter\"},{\"marker\":{\"maxdisplayed\":10},\"mode\":\"lines+markers\",\"name\":\"Trial78\",\"x\":[0,1,2,3,4,5],\"y\":[0.9417416666666667,0.9567813333333333,0.9731926666666667,0.97906,0.9824613333333333,0.983654],\"type\":\"scatter\"},{\"marker\":{\"maxdisplayed\":10},\"mode\":\"lines+markers\",\"name\":\"Trial79\",\"x\":[0,1,2,3,4,5],\"y\":[0.9424916666666667,0.9706413333333334,0.9769926666666665,0.9764543333333333,0.9792213333333333,0.9800313333333334],\"type\":\"scatter\"},{\"marker\":{\"maxdisplayed\":10},\"mode\":\"lines+markers\",\"name\":\"Trial80\",\"x\":[0,1,2,3,4,5,6,7,8,9,10,11,12,13,14,15,16,17,18,19,20,21],\"y\":[0.9479110000000001,0.9721630000000001,0.9713093333333332,0.9869973333333334,0.9868106666666666,0.9867393333333334,0.9877173333333333,0.9879186666666667,0.98792,0.9879993333333333,0.988438,0.9883196666666666,0.9884763333333333,0.9885963333333333,0.9884813333333334,0.9881690000000001,0.9883463333333333,0.9884046666666667,0.9882856666666666,0.988795,0.988498,0.9896456666666666],\"type\":\"scatter\"},{\"marker\":{\"maxdisplayed\":10},\"mode\":\"lines+markers\",\"name\":\"Trial81\",\"x\":[0,1,2,3,4,5],\"y\":[0.9396033333333333,0.9719669999999999,0.9816706666666667,0.9805056666666667,0.981372,0.9811],\"type\":\"scatter\"},{\"marker\":{\"maxdisplayed\":10},\"mode\":\"lines+markers\",\"name\":\"Trial82\",\"x\":[0,1,2,3,4,5],\"y\":[0.951317,0.9772396666666667,0.9802253333333333,0.9800136666666667,0.9809413333333333,0.9817516666666667],\"type\":\"scatter\"},{\"marker\":{\"maxdisplayed\":10},\"mode\":\"lines+markers\",\"name\":\"Trial83\",\"x\":[0,1,2,3,4,5,6,7,8,9,10,11,12,13,14,15,16,17,18,19,20,21,22],\"y\":[0.9481616666666666,0.9718119999999999,0.9820546666666666,0.9866593333333333,0.9887863333333332,0.9896976666666667,0.989178,0.9893423333333334,0.9895056666666667,0.9894933333333333,0.9898736666666667,0.9871903333333334,0.9868096666666667,0.987205,0.9867683333333334,0.9873206666666667,0.9870023333333333,0.9869623333333334,0.987192,0.9868793333333334,0.9870366666666667,0.987196,0.987475],\"type\":\"scatter\"},{\"marker\":{\"maxdisplayed\":10},\"mode\":\"lines+markers\",\"name\":\"Trial84\",\"x\":[0,1,2,3,4,5],\"y\":[0.9392046666666666,0.9690336666666667,0.9821853333333334,0.9794473333333334,0.979955,0.9823753333333333],\"type\":\"scatter\"},{\"marker\":{\"maxdisplayed\":10},\"mode\":\"lines+markers\",\"name\":\"Trial85\",\"x\":[0,1,2,3,4,5],\"y\":[0.9498289999999999,0.955794,0.969321,0.9686836666666667,0.982611,0.9826446666666667],\"type\":\"scatter\"},{\"marker\":{\"maxdisplayed\":10},\"mode\":\"lines+markers\",\"name\":\"Trial86\",\"x\":[0,1,2,3,4,5],\"y\":[0.9606366666666668,0.9630393333333332,0.9641443333333334,0.9654429999999999,0.9663893333333333,0.9670973333333333],\"type\":\"scatter\"},{\"marker\":{\"maxdisplayed\":10},\"mode\":\"lines+markers\",\"name\":\"Trial87\",\"x\":[0,1,2,3,4,5],\"y\":[0.9532769999999999,0.9747279999999999,0.9783096666666666,0.9778223333333335,0.9793649999999999,0.9826096666666667],\"type\":\"scatter\"},{\"marker\":{\"maxdisplayed\":10},\"mode\":\"lines+markers\",\"name\":\"Trial88\",\"x\":[0,1,2,3,4,5,6,7,8,9,10,11,12,13,14,15,16,17,18,19,20,21,22,23,24,25,26,27,28,29,30,31,32,33,34,35,36,37,38,39,40,41,42,43,44,45,46,47,48,49,50,51,52,53,54,55,56,57,58,59,60,61,62,63,64,65,66,67,68,69,70,71,72,73,74,75,76,77,78,79,80,81,82,83,84,85,86,87,88,89,90,91,92,93,94,95,96,97,98,99],\"y\":[0.9533103333333334,0.9680633333333333,0.9771000000000001,0.984283,0.9859330000000001,0.9849433333333334,0.9847796666666667,0.9848463333333334,0.9855519999999999,0.9865953333333334,0.986218,0.9863010000000001,0.9861836666666667,0.9873223333333333,0.9873630000000001,0.9872860000000001,0.9902223333333334,0.9900690000000001,0.9896743333333333,0.9897113333333333,0.9892736666666666,0.9895909999999999,0.9898313333333334,0.9891186666666666,0.988922,0.9890023333333332,0.9887643333333335,0.9890423333333332,0.9891626666666666,0.9897556666666668,0.9894,0.9897076666666668,0.990099,0.9900193333333333,0.9899816666666666,0.990142,0.9898646666666666,0.989904,0.989863,0.989665,0.9897383333333334,0.990056,0.990371,0.9904903333333333,0.9906096666666667,0.9904893333333332,0.9905293333333334,0.9903306666666666,0.990173,0.9900933333333333,0.990133,0.990368,0.9910036666666667,0.9914793333333334,0.9917186666666667,0.9915176666666666,0.9915576666666667,0.9913596666666668,0.9913603333333333,0.9911623333333334,0.991243,0.9916743333333332,0.9917933333333333,0.991673,0.9917136666666666,0.9917533333333334,0.9916736666666667,0.991673,0.9919506666666665,0.9921886666666667,0.9923476666666667,0.992309,0.992269,0.9922276666666668,0.992269,0.9922296666666668,0.9923476666666667,0.9924663333333332,0.9923073333333333,0.9925459999999999,0.9925466666666667,0.9925069999999999,0.9925063333333334,0.9925873333333333,0.992665,0.9925856666666667,0.9925453333333333,0.9925863333333332,0.9925459999999999,0.9925069999999999,0.9923473333333334,0.9923473333333334,0.9925470000000001,0.9924266666666668,0.9922686666666666,0.9923483333333333,0.992309,0.9923086666666666,0.9923086666666666,0.9924276666666666],\"type\":\"scatter\"},{\"marker\":{\"maxdisplayed\":10},\"mode\":\"lines+markers\",\"name\":\"Trial89\",\"x\":[0,1,2,3,4,5,6,7,8,9,10,11,12,13,14,15,16,17,18,19,20,21,22,23,24,25,26,27,28,29,30,31,32,33,34,35,36,37,38,39,40,41,42,43,44,45,46,47,48,49,50,51,52,53,54,55,56,57,58,59,60,61,62,63,64,65,66,67,68,69,70,71,72,73,74,75,76,77,78,79,80,81,82,83,84,85,86,87,88,89,90,91,92,93,94,95,96,97,98,99],\"y\":[0.9533103333333334,0.9680633333333333,0.9771000000000001,0.984283,0.9859330000000001,0.9849433333333334,0.9847796666666667,0.9848463333333334,0.9855519999999999,0.9865559999999999,0.9861783333333333,0.9863010000000001,0.9862226666666668,0.9872826666666666,0.9874026666666667,0.9872860000000001,0.9903016666666667,0.9899896666666667,0.9896346666666668,0.9896716666666667,0.9892736666666666,0.9895513333333333,0.9898316666666668,0.9891989999999998,0.9890016666666667,0.9889619999999999,0.9887633333333333,0.9890820000000001,0.9892026666666668,0.9896753333333334,0.989359,0.9896283333333334,0.9900596666666667,0.9899806666666667,0.9900220000000001,0.9899033333333334,0.989666,0.9896263333333333,0.9897443333333333,0.9895856666666667,0.9897386666666667,0.9898973333333333,0.9902923333333332,0.9903323333333333,0.9904906666666666,0.9905303333333334,0.9904896666666666,0.9902916666666667,0.990173,0.990173,0.9901726666666666,0.990368,0.991083,0.9917186666666667,0.991679,0.9916373333333333,0.9914396666666666,0.9913203333333334,0.9912416666666667,0.9910823333333334,0.9912823333333334,0.9915953333333333,0.9916343333333333,0.9917533333333334,0.9917533333333334,0.9917136666666666,0.9917533333333334,0.9916336666666666,0.9917913333333335,0.9918713333333332,0.9918703333333333,0.9918313333333333,0.9919503333333334,0.9918703333333333,0.9918713333333332,0.9918319999999999,0.992149,0.992267,0.9921483333333333,0.9922676666666667,0.9922673333333334,0.9922276666666666,0.9922273333333335,0.9922283333333333,0.9924256666666667,0.9923463333333333,0.9924263333333334,0.9923076666666666,0.9923076666666666,0.9923076666666666,0.9921886666666667,0.9921886666666667,0.9922283333333333,0.9921490000000001,0.9920703333333333,0.9920299999999999,0.9920706666666668,0.9921099999999999,0.9921099999999999,0.9921099999999999],\"type\":\"scatter\"},{\"marker\":{\"maxdisplayed\":10},\"mode\":\"lines+markers\",\"name\":\"Trial90\",\"x\":[0,1,2,3,4,5],\"y\":[0.9446926666666666,0.9649026666666667,0.9756266666666668,0.9808173333333334,0.9822726666666667,0.9819583333333334],\"type\":\"scatter\"},{\"marker\":{\"maxdisplayed\":10},\"mode\":\"lines+markers\",\"name\":\"Trial91\",\"x\":[0,1,2,3,4,5,6,7,8,9,10,11,12,13,14,15,16,17],\"y\":[0.9422983333333333,0.9580820000000001,0.9757709999999999,0.9856933333333333,0.985627,0.985485,0.9853493333333333,0.9857973333333333,0.9867686666666667,0.9877950000000001,0.9870579999999999,0.9866630000000001,0.9861886666666667,0.9863796666666667,0.9863803333333334,0.986463,0.9865596666666666,0.986402],\"type\":\"scatter\"},{\"marker\":{\"maxdisplayed\":10},\"mode\":\"lines+markers\",\"name\":\"Trial92\",\"x\":[0,1,2,3,4,5,6,7,8,9],\"y\":[0.9385586666666667,0.9615330000000001,0.9802433333333335,0.986161,0.9838443333333333,0.9836836666666665,0.9832036666666667,0.983943,0.9848956666666666,0.9856976666666667],\"type\":\"scatter\"},{\"marker\":{\"maxdisplayed\":10},\"mode\":\"lines+markers\",\"name\":\"Trial93\",\"x\":[0,1,2,3,4,5],\"y\":[0.944366,0.9686853333333333,0.976032,0.9777276666666667,0.9784693333333333,0.9776759999999999],\"type\":\"scatter\"},{\"marker\":{\"maxdisplayed\":10},\"mode\":\"lines+markers\",\"name\":\"Trial94\",\"x\":[0,1,2,3,4,5],\"y\":[0.9390696666666667,0.9507699999999999,0.9745729999999999,0.9793743333333333,0.9790536666666667,0.9816126666666666],\"type\":\"scatter\"},{\"marker\":{\"maxdisplayed\":10},\"mode\":\"lines+markers\",\"name\":\"Trial95\",\"x\":[0,1,2,3,4,5],\"y\":[0.9352839999999999,0.9608726666666666,0.9712276666666667,0.9821956666666667,0.9836329999999999,0.9844860000000001],\"type\":\"scatter\"},{\"marker\":{\"maxdisplayed\":10},\"mode\":\"lines+markers\",\"name\":\"Trial96\",\"x\":[0,1,2,3,4,5,6,7,8,9,10,11,12,13,14,15,16,17,18,19,20,21],\"y\":[0.9506466666666666,0.966282,0.9745050000000001,0.9821856666666666,0.9869720000000001,0.986853,0.9869263333333333,0.9868033333333334,0.9860829999999999,0.986281,0.986361,0.9870636666666667,0.9877313333333334,0.9879713333333333,0.9887079999999999,0.9887263333333333,0.9888123333333333,0.9886553333333333,0.9884946666666666,0.9886556666666667,0.9886566666666666,0.98802],\"type\":\"scatter\"},{\"marker\":{\"maxdisplayed\":10},\"mode\":\"lines+markers\",\"name\":\"Trial97\",\"x\":[0,1,2,3,4,5],\"y\":[0.9298630000000001,0.9675760000000001,0.9463773333333334,0.9780243333333333,0.9749423333333334,0.9783153333333333],\"type\":\"scatter\"},{\"marker\":{\"maxdisplayed\":10},\"mode\":\"lines+markers\",\"name\":\"Trial98\",\"x\":[0,1,2,3,4,5,6,7,8,9,10,11,12,13,14,15,16,17,18,19,20,21,22,23,24,25,26,27,28,29,30,31,32,33,34,35,36,37,38,39,40,41,42,43,44,45,46,47,48,49,50,51,52,53,54,55,56,57,58,59,60,61,62,63,64,65,66,67,68,69,70,71,72,73,74,75,76,77,78,79,80,81,82,83,84,85,86,87,88,89,90,91,92,93,94,95,96,97,98,99],\"y\":[0.949042,0.975091,0.984447,0.9864806666666667,0.9867463333333334,0.9871016666666667,0.9873639999999999,0.9875573333333333,0.9884970000000001,0.9886946666666666,0.9884553333333334,0.9887336666666666,0.988178,0.9885786666666667,0.9881206666666666,0.988264,0.9881896666666666,0.988467,0.9884686666666666,0.9888593333333334,0.9886223333333333,0.9896526666666667,0.990208,0.9896539999999999,0.9894943333333334,0.9896533333333334,0.9893366666666666,0.989579,0.9894976666666667,0.9898556666666667,0.989459,0.9892620000000001,0.9900143333333333,0.9901326666666667,0.9900153333333334,0.9905653333333334,0.9904463333333333,0.9903283333333334,0.9903266666666667,0.9904069999999999,0.9904456666666667,0.9906453333333333,0.9905276666666666,0.9904493333333333,0.990293,0.9900169999999999,0.9907236666666667,0.9908039999999999,0.9906459999999999,0.9908049999999999,0.9907266666666666,0.990726,0.9906883333333333,0.9906489999999999,0.9908846666666666,0.9908846666666666,0.9909233333333334,0.9909646666666667,0.9908856666666667,0.9908069999999999,0.9907676666666667,0.9908446666666667,0.991043,0.9910813333333333,0.991121,0.9912393333333333,0.991041,0.9908419999999999,0.9908416666666665,0.990763,0.990921,0.990961,0.9910009999999999,0.99096,0.9909606666666666,0.9910793333333333,0.9910796666666667,0.9910806666666666,0.9911193333333334,0.991079,0.9910013333333333,0.9910006666666668,0.9908813333333333,0.9908023333333333,0.9910796666666668,0.9910399999999999,0.9910006666666665,0.9909996666666666,0.990921,0.9908419999999999,0.9908813333333333,0.99096,0.9908423333333333,0.990922,0.9908823333333333,0.9908833333333332,0.990922,0.990923,0.9908830000000001,0.9907633333333333],\"type\":\"scatter\"},{\"marker\":{\"maxdisplayed\":10},\"mode\":\"lines+markers\",\"name\":\"Trial99\",\"x\":[0,1,2,3,4,5],\"y\":[0.9450213333333334,0.9620193333333334,0.9749186666666666,0.9777246666666667,0.9799646666666667,0.9842446666666667],\"type\":\"scatter\"}],                        {\"showlegend\":false,\"title\":{\"text\":\"Intermediate Values Plot\"},\"xaxis\":{\"title\":{\"text\":\"Step\"}},\"yaxis\":{\"title\":{\"text\":\"Intermediate Value\"}},\"template\":{\"data\":{\"bar\":[{\"error_x\":{\"color\":\"#2a3f5f\"},\"error_y\":{\"color\":\"#2a3f5f\"},\"marker\":{\"line\":{\"color\":\"#E5ECF6\",\"width\":0.5},\"pattern\":{\"fillmode\":\"overlay\",\"size\":10,\"solidity\":0.2}},\"type\":\"bar\"}],\"barpolar\":[{\"marker\":{\"line\":{\"color\":\"#E5ECF6\",\"width\":0.5},\"pattern\":{\"fillmode\":\"overlay\",\"size\":10,\"solidity\":0.2}},\"type\":\"barpolar\"}],\"carpet\":[{\"aaxis\":{\"endlinecolor\":\"#2a3f5f\",\"gridcolor\":\"white\",\"linecolor\":\"white\",\"minorgridcolor\":\"white\",\"startlinecolor\":\"#2a3f5f\"},\"baxis\":{\"endlinecolor\":\"#2a3f5f\",\"gridcolor\":\"white\",\"linecolor\":\"white\",\"minorgridcolor\":\"white\",\"startlinecolor\":\"#2a3f5f\"},\"type\":\"carpet\"}],\"choropleth\":[{\"colorbar\":{\"outlinewidth\":0,\"ticks\":\"\"},\"type\":\"choropleth\"}],\"contour\":[{\"colorbar\":{\"outlinewidth\":0,\"ticks\":\"\"},\"colorscale\":[[0.0,\"#0d0887\"],[0.1111111111111111,\"#46039f\"],[0.2222222222222222,\"#7201a8\"],[0.3333333333333333,\"#9c179e\"],[0.4444444444444444,\"#bd3786\"],[0.5555555555555556,\"#d8576b\"],[0.6666666666666666,\"#ed7953\"],[0.7777777777777778,\"#fb9f3a\"],[0.8888888888888888,\"#fdca26\"],[1.0,\"#f0f921\"]],\"type\":\"contour\"}],\"contourcarpet\":[{\"colorbar\":{\"outlinewidth\":0,\"ticks\":\"\"},\"type\":\"contourcarpet\"}],\"heatmap\":[{\"colorbar\":{\"outlinewidth\":0,\"ticks\":\"\"},\"colorscale\":[[0.0,\"#0d0887\"],[0.1111111111111111,\"#46039f\"],[0.2222222222222222,\"#7201a8\"],[0.3333333333333333,\"#9c179e\"],[0.4444444444444444,\"#bd3786\"],[0.5555555555555556,\"#d8576b\"],[0.6666666666666666,\"#ed7953\"],[0.7777777777777778,\"#fb9f3a\"],[0.8888888888888888,\"#fdca26\"],[1.0,\"#f0f921\"]],\"type\":\"heatmap\"}],\"heatmapgl\":[{\"colorbar\":{\"outlinewidth\":0,\"ticks\":\"\"},\"colorscale\":[[0.0,\"#0d0887\"],[0.1111111111111111,\"#46039f\"],[0.2222222222222222,\"#7201a8\"],[0.3333333333333333,\"#9c179e\"],[0.4444444444444444,\"#bd3786\"],[0.5555555555555556,\"#d8576b\"],[0.6666666666666666,\"#ed7953\"],[0.7777777777777778,\"#fb9f3a\"],[0.8888888888888888,\"#fdca26\"],[1.0,\"#f0f921\"]],\"type\":\"heatmapgl\"}],\"histogram\":[{\"marker\":{\"pattern\":{\"fillmode\":\"overlay\",\"size\":10,\"solidity\":0.2}},\"type\":\"histogram\"}],\"histogram2d\":[{\"colorbar\":{\"outlinewidth\":0,\"ticks\":\"\"},\"colorscale\":[[0.0,\"#0d0887\"],[0.1111111111111111,\"#46039f\"],[0.2222222222222222,\"#7201a8\"],[0.3333333333333333,\"#9c179e\"],[0.4444444444444444,\"#bd3786\"],[0.5555555555555556,\"#d8576b\"],[0.6666666666666666,\"#ed7953\"],[0.7777777777777778,\"#fb9f3a\"],[0.8888888888888888,\"#fdca26\"],[1.0,\"#f0f921\"]],\"type\":\"histogram2d\"}],\"histogram2dcontour\":[{\"colorbar\":{\"outlinewidth\":0,\"ticks\":\"\"},\"colorscale\":[[0.0,\"#0d0887\"],[0.1111111111111111,\"#46039f\"],[0.2222222222222222,\"#7201a8\"],[0.3333333333333333,\"#9c179e\"],[0.4444444444444444,\"#bd3786\"],[0.5555555555555556,\"#d8576b\"],[0.6666666666666666,\"#ed7953\"],[0.7777777777777778,\"#fb9f3a\"],[0.8888888888888888,\"#fdca26\"],[1.0,\"#f0f921\"]],\"type\":\"histogram2dcontour\"}],\"mesh3d\":[{\"colorbar\":{\"outlinewidth\":0,\"ticks\":\"\"},\"type\":\"mesh3d\"}],\"parcoords\":[{\"line\":{\"colorbar\":{\"outlinewidth\":0,\"ticks\":\"\"}},\"type\":\"parcoords\"}],\"pie\":[{\"automargin\":true,\"type\":\"pie\"}],\"scatter\":[{\"marker\":{\"colorbar\":{\"outlinewidth\":0,\"ticks\":\"\"}},\"type\":\"scatter\"}],\"scatter3d\":[{\"line\":{\"colorbar\":{\"outlinewidth\":0,\"ticks\":\"\"}},\"marker\":{\"colorbar\":{\"outlinewidth\":0,\"ticks\":\"\"}},\"type\":\"scatter3d\"}],\"scattercarpet\":[{\"marker\":{\"colorbar\":{\"outlinewidth\":0,\"ticks\":\"\"}},\"type\":\"scattercarpet\"}],\"scattergeo\":[{\"marker\":{\"colorbar\":{\"outlinewidth\":0,\"ticks\":\"\"}},\"type\":\"scattergeo\"}],\"scattergl\":[{\"marker\":{\"colorbar\":{\"outlinewidth\":0,\"ticks\":\"\"}},\"type\":\"scattergl\"}],\"scattermapbox\":[{\"marker\":{\"colorbar\":{\"outlinewidth\":0,\"ticks\":\"\"}},\"type\":\"scattermapbox\"}],\"scatterpolar\":[{\"marker\":{\"colorbar\":{\"outlinewidth\":0,\"ticks\":\"\"}},\"type\":\"scatterpolar\"}],\"scatterpolargl\":[{\"marker\":{\"colorbar\":{\"outlinewidth\":0,\"ticks\":\"\"}},\"type\":\"scatterpolargl\"}],\"scatterternary\":[{\"marker\":{\"colorbar\":{\"outlinewidth\":0,\"ticks\":\"\"}},\"type\":\"scatterternary\"}],\"surface\":[{\"colorbar\":{\"outlinewidth\":0,\"ticks\":\"\"},\"colorscale\":[[0.0,\"#0d0887\"],[0.1111111111111111,\"#46039f\"],[0.2222222222222222,\"#7201a8\"],[0.3333333333333333,\"#9c179e\"],[0.4444444444444444,\"#bd3786\"],[0.5555555555555556,\"#d8576b\"],[0.6666666666666666,\"#ed7953\"],[0.7777777777777778,\"#fb9f3a\"],[0.8888888888888888,\"#fdca26\"],[1.0,\"#f0f921\"]],\"type\":\"surface\"}],\"table\":[{\"cells\":{\"fill\":{\"color\":\"#EBF0F8\"},\"line\":{\"color\":\"white\"}},\"header\":{\"fill\":{\"color\":\"#C8D4E3\"},\"line\":{\"color\":\"white\"}},\"type\":\"table\"}]},\"layout\":{\"annotationdefaults\":{\"arrowcolor\":\"#2a3f5f\",\"arrowhead\":0,\"arrowwidth\":1},\"autotypenumbers\":\"strict\",\"coloraxis\":{\"colorbar\":{\"outlinewidth\":0,\"ticks\":\"\"}},\"colorscale\":{\"diverging\":[[0,\"#8e0152\"],[0.1,\"#c51b7d\"],[0.2,\"#de77ae\"],[0.3,\"#f1b6da\"],[0.4,\"#fde0ef\"],[0.5,\"#f7f7f7\"],[0.6,\"#e6f5d0\"],[0.7,\"#b8e186\"],[0.8,\"#7fbc41\"],[0.9,\"#4d9221\"],[1,\"#276419\"]],\"sequential\":[[0.0,\"#0d0887\"],[0.1111111111111111,\"#46039f\"],[0.2222222222222222,\"#7201a8\"],[0.3333333333333333,\"#9c179e\"],[0.4444444444444444,\"#bd3786\"],[0.5555555555555556,\"#d8576b\"],[0.6666666666666666,\"#ed7953\"],[0.7777777777777778,\"#fb9f3a\"],[0.8888888888888888,\"#fdca26\"],[1.0,\"#f0f921\"]],\"sequentialminus\":[[0.0,\"#0d0887\"],[0.1111111111111111,\"#46039f\"],[0.2222222222222222,\"#7201a8\"],[0.3333333333333333,\"#9c179e\"],[0.4444444444444444,\"#bd3786\"],[0.5555555555555556,\"#d8576b\"],[0.6666666666666666,\"#ed7953\"],[0.7777777777777778,\"#fb9f3a\"],[0.8888888888888888,\"#fdca26\"],[1.0,\"#f0f921\"]]},\"colorway\":[\"#636efa\",\"#EF553B\",\"#00cc96\",\"#ab63fa\",\"#FFA15A\",\"#19d3f3\",\"#FF6692\",\"#B6E880\",\"#FF97FF\",\"#FECB52\"],\"font\":{\"color\":\"#2a3f5f\"},\"geo\":{\"bgcolor\":\"white\",\"lakecolor\":\"white\",\"landcolor\":\"#E5ECF6\",\"showlakes\":true,\"showland\":true,\"subunitcolor\":\"white\"},\"hoverlabel\":{\"align\":\"left\"},\"hovermode\":\"closest\",\"mapbox\":{\"style\":\"light\"},\"paper_bgcolor\":\"white\",\"plot_bgcolor\":\"#E5ECF6\",\"polar\":{\"angularaxis\":{\"gridcolor\":\"white\",\"linecolor\":\"white\",\"ticks\":\"\"},\"bgcolor\":\"#E5ECF6\",\"radialaxis\":{\"gridcolor\":\"white\",\"linecolor\":\"white\",\"ticks\":\"\"}},\"scene\":{\"xaxis\":{\"backgroundcolor\":\"#E5ECF6\",\"gridcolor\":\"white\",\"gridwidth\":2,\"linecolor\":\"white\",\"showbackground\":true,\"ticks\":\"\",\"zerolinecolor\":\"white\"},\"yaxis\":{\"backgroundcolor\":\"#E5ECF6\",\"gridcolor\":\"white\",\"gridwidth\":2,\"linecolor\":\"white\",\"showbackground\":true,\"ticks\":\"\",\"zerolinecolor\":\"white\"},\"zaxis\":{\"backgroundcolor\":\"#E5ECF6\",\"gridcolor\":\"white\",\"gridwidth\":2,\"linecolor\":\"white\",\"showbackground\":true,\"ticks\":\"\",\"zerolinecolor\":\"white\"}},\"shapedefaults\":{\"line\":{\"color\":\"#2a3f5f\"}},\"ternary\":{\"aaxis\":{\"gridcolor\":\"white\",\"linecolor\":\"white\",\"ticks\":\"\"},\"baxis\":{\"gridcolor\":\"white\",\"linecolor\":\"white\",\"ticks\":\"\"},\"bgcolor\":\"#E5ECF6\",\"caxis\":{\"gridcolor\":\"white\",\"linecolor\":\"white\",\"ticks\":\"\"}},\"title\":{\"x\":0.05},\"xaxis\":{\"automargin\":true,\"gridcolor\":\"white\",\"linecolor\":\"white\",\"ticks\":\"\",\"title\":{\"standoff\":15},\"zerolinecolor\":\"white\",\"zerolinewidth\":2},\"yaxis\":{\"automargin\":true,\"gridcolor\":\"white\",\"linecolor\":\"white\",\"ticks\":\"\",\"title\":{\"standoff\":15},\"zerolinecolor\":\"white\",\"zerolinewidth\":2}}}},                        {\"responsive\": true}                    ).then(function(){\n",
              "                            \n",
              "var gd = document.getElementById('cc72c9d7-436c-4a02-8a78-f1cc0e594abd');\n",
              "var x = new MutationObserver(function (mutations, observer) {{\n",
              "        var display = window.getComputedStyle(gd).display;\n",
              "        if (!display || display === 'none') {{\n",
              "            console.log([gd, 'removed!']);\n",
              "            Plotly.purge(gd);\n",
              "            observer.disconnect();\n",
              "        }}\n",
              "}});\n",
              "\n",
              "// Listen for the removal of the full notebook cells\n",
              "var notebookContainer = gd.closest('#notebook-container');\n",
              "if (notebookContainer) {{\n",
              "    x.observe(notebookContainer, {childList: true});\n",
              "}}\n",
              "\n",
              "// Listen for the clearing of the current output cell\n",
              "var outputEl = gd.closest('.output');\n",
              "if (outputEl) {{\n",
              "    x.observe(outputEl, {childList: true});\n",
              "}}\n",
              "\n",
              "                        })                };                            </script>        </div>\n",
              "</body>\n",
              "</html>"
            ]
          },
          "metadata": {}
        }
      ]
    },
    {
      "cell_type": "code",
      "source": [
        "#mostra a importancia de cada parametro\n",
        "fig = optuna.visualization.plot_param_importances(study)\n",
        "fig.show();"
      ],
      "metadata": {
        "colab": {
          "base_uri": "https://localhost:8080/",
          "height": 542
        },
        "id": "lgF00_1ueYqX",
        "outputId": "990ff377-4c1f-4c1f-9f06-752b235f79c9"
      },
      "execution_count": 55,
      "outputs": [
        {
          "output_type": "display_data",
          "data": {
            "text/html": [
              "<html>\n",
              "<head><meta charset=\"utf-8\" /></head>\n",
              "<body>\n",
              "    <div>            <script src=\"https://cdnjs.cloudflare.com/ajax/libs/mathjax/2.7.5/MathJax.js?config=TeX-AMS-MML_SVG\"></script><script type=\"text/javascript\">if (window.MathJax) {MathJax.Hub.Config({SVG: {font: \"STIX-Web\"}});}</script>                <script type=\"text/javascript\">window.PlotlyConfig = {MathJaxConfig: 'local'};</script>\n",
              "        <script src=\"https://cdn.plot.ly/plotly-2.8.3.min.js\"></script>                <div id=\"f91fa808-3468-44b7-a15e-0bad18d6eac7\" class=\"plotly-graph-div\" style=\"height:525px; width:100%;\"></div>            <script type=\"text/javascript\">                                    window.PLOTLYENV=window.PLOTLYENV || {};                                    if (document.getElementById(\"f91fa808-3468-44b7-a15e-0bad18d6eac7\")) {                    Plotly.newPlot(                        \"f91fa808-3468-44b7-a15e-0bad18d6eac7\",                        [{\"cliponaxis\":false,\"hovertemplate\":[\"lambda (FloatDistribution): 0.032219878614584536<extra></extra>\",\"subsample (FloatDistribution): 0.13488922244522086<extra></extra>\",\"colsample_bytree (FloatDistribution): 0.16940154952455527<extra></extra>\",\"alpha (FloatDistribution): 0.17488914020215415<extra></extra>\",\"learning_rate (CategoricalDistribution): 0.18453238125980417<extra></extra>\",\"booster (CategoricalDistribution): 0.304067827953681<extra></extra>\"],\"marker\":{\"color\":\"rgb(66,146,198)\"},\"orientation\":\"h\",\"text\":[\"0.03\",\"0.13\",\"0.17\",\"0.17\",\"0.18\",\"0.30\"],\"textposition\":\"outside\",\"x\":[0.032219878614584536,0.13488922244522086,0.16940154952455527,0.17488914020215415,0.18453238125980417,0.304067827953681],\"y\":[\"lambda\",\"subsample\",\"colsample_bytree\",\"alpha\",\"learning_rate\",\"booster\"],\"type\":\"bar\"}],                        {\"showlegend\":false,\"title\":{\"text\":\"Hyperparameter Importances\"},\"xaxis\":{\"title\":{\"text\":\"Importance for Objective Value\"}},\"yaxis\":{\"title\":{\"text\":\"Hyperparameter\"}},\"template\":{\"data\":{\"bar\":[{\"error_x\":{\"color\":\"#2a3f5f\"},\"error_y\":{\"color\":\"#2a3f5f\"},\"marker\":{\"line\":{\"color\":\"#E5ECF6\",\"width\":0.5},\"pattern\":{\"fillmode\":\"overlay\",\"size\":10,\"solidity\":0.2}},\"type\":\"bar\"}],\"barpolar\":[{\"marker\":{\"line\":{\"color\":\"#E5ECF6\",\"width\":0.5},\"pattern\":{\"fillmode\":\"overlay\",\"size\":10,\"solidity\":0.2}},\"type\":\"barpolar\"}],\"carpet\":[{\"aaxis\":{\"endlinecolor\":\"#2a3f5f\",\"gridcolor\":\"white\",\"linecolor\":\"white\",\"minorgridcolor\":\"white\",\"startlinecolor\":\"#2a3f5f\"},\"baxis\":{\"endlinecolor\":\"#2a3f5f\",\"gridcolor\":\"white\",\"linecolor\":\"white\",\"minorgridcolor\":\"white\",\"startlinecolor\":\"#2a3f5f\"},\"type\":\"carpet\"}],\"choropleth\":[{\"colorbar\":{\"outlinewidth\":0,\"ticks\":\"\"},\"type\":\"choropleth\"}],\"contour\":[{\"colorbar\":{\"outlinewidth\":0,\"ticks\":\"\"},\"colorscale\":[[0.0,\"#0d0887\"],[0.1111111111111111,\"#46039f\"],[0.2222222222222222,\"#7201a8\"],[0.3333333333333333,\"#9c179e\"],[0.4444444444444444,\"#bd3786\"],[0.5555555555555556,\"#d8576b\"],[0.6666666666666666,\"#ed7953\"],[0.7777777777777778,\"#fb9f3a\"],[0.8888888888888888,\"#fdca26\"],[1.0,\"#f0f921\"]],\"type\":\"contour\"}],\"contourcarpet\":[{\"colorbar\":{\"outlinewidth\":0,\"ticks\":\"\"},\"type\":\"contourcarpet\"}],\"heatmap\":[{\"colorbar\":{\"outlinewidth\":0,\"ticks\":\"\"},\"colorscale\":[[0.0,\"#0d0887\"],[0.1111111111111111,\"#46039f\"],[0.2222222222222222,\"#7201a8\"],[0.3333333333333333,\"#9c179e\"],[0.4444444444444444,\"#bd3786\"],[0.5555555555555556,\"#d8576b\"],[0.6666666666666666,\"#ed7953\"],[0.7777777777777778,\"#fb9f3a\"],[0.8888888888888888,\"#fdca26\"],[1.0,\"#f0f921\"]],\"type\":\"heatmap\"}],\"heatmapgl\":[{\"colorbar\":{\"outlinewidth\":0,\"ticks\":\"\"},\"colorscale\":[[0.0,\"#0d0887\"],[0.1111111111111111,\"#46039f\"],[0.2222222222222222,\"#7201a8\"],[0.3333333333333333,\"#9c179e\"],[0.4444444444444444,\"#bd3786\"],[0.5555555555555556,\"#d8576b\"],[0.6666666666666666,\"#ed7953\"],[0.7777777777777778,\"#fb9f3a\"],[0.8888888888888888,\"#fdca26\"],[1.0,\"#f0f921\"]],\"type\":\"heatmapgl\"}],\"histogram\":[{\"marker\":{\"pattern\":{\"fillmode\":\"overlay\",\"size\":10,\"solidity\":0.2}},\"type\":\"histogram\"}],\"histogram2d\":[{\"colorbar\":{\"outlinewidth\":0,\"ticks\":\"\"},\"colorscale\":[[0.0,\"#0d0887\"],[0.1111111111111111,\"#46039f\"],[0.2222222222222222,\"#7201a8\"],[0.3333333333333333,\"#9c179e\"],[0.4444444444444444,\"#bd3786\"],[0.5555555555555556,\"#d8576b\"],[0.6666666666666666,\"#ed7953\"],[0.7777777777777778,\"#fb9f3a\"],[0.8888888888888888,\"#fdca26\"],[1.0,\"#f0f921\"]],\"type\":\"histogram2d\"}],\"histogram2dcontour\":[{\"colorbar\":{\"outlinewidth\":0,\"ticks\":\"\"},\"colorscale\":[[0.0,\"#0d0887\"],[0.1111111111111111,\"#46039f\"],[0.2222222222222222,\"#7201a8\"],[0.3333333333333333,\"#9c179e\"],[0.4444444444444444,\"#bd3786\"],[0.5555555555555556,\"#d8576b\"],[0.6666666666666666,\"#ed7953\"],[0.7777777777777778,\"#fb9f3a\"],[0.8888888888888888,\"#fdca26\"],[1.0,\"#f0f921\"]],\"type\":\"histogram2dcontour\"}],\"mesh3d\":[{\"colorbar\":{\"outlinewidth\":0,\"ticks\":\"\"},\"type\":\"mesh3d\"}],\"parcoords\":[{\"line\":{\"colorbar\":{\"outlinewidth\":0,\"ticks\":\"\"}},\"type\":\"parcoords\"}],\"pie\":[{\"automargin\":true,\"type\":\"pie\"}],\"scatter\":[{\"marker\":{\"colorbar\":{\"outlinewidth\":0,\"ticks\":\"\"}},\"type\":\"scatter\"}],\"scatter3d\":[{\"line\":{\"colorbar\":{\"outlinewidth\":0,\"ticks\":\"\"}},\"marker\":{\"colorbar\":{\"outlinewidth\":0,\"ticks\":\"\"}},\"type\":\"scatter3d\"}],\"scattercarpet\":[{\"marker\":{\"colorbar\":{\"outlinewidth\":0,\"ticks\":\"\"}},\"type\":\"scattercarpet\"}],\"scattergeo\":[{\"marker\":{\"colorbar\":{\"outlinewidth\":0,\"ticks\":\"\"}},\"type\":\"scattergeo\"}],\"scattergl\":[{\"marker\":{\"colorbar\":{\"outlinewidth\":0,\"ticks\":\"\"}},\"type\":\"scattergl\"}],\"scattermapbox\":[{\"marker\":{\"colorbar\":{\"outlinewidth\":0,\"ticks\":\"\"}},\"type\":\"scattermapbox\"}],\"scatterpolar\":[{\"marker\":{\"colorbar\":{\"outlinewidth\":0,\"ticks\":\"\"}},\"type\":\"scatterpolar\"}],\"scatterpolargl\":[{\"marker\":{\"colorbar\":{\"outlinewidth\":0,\"ticks\":\"\"}},\"type\":\"scatterpolargl\"}],\"scatterternary\":[{\"marker\":{\"colorbar\":{\"outlinewidth\":0,\"ticks\":\"\"}},\"type\":\"scatterternary\"}],\"surface\":[{\"colorbar\":{\"outlinewidth\":0,\"ticks\":\"\"},\"colorscale\":[[0.0,\"#0d0887\"],[0.1111111111111111,\"#46039f\"],[0.2222222222222222,\"#7201a8\"],[0.3333333333333333,\"#9c179e\"],[0.4444444444444444,\"#bd3786\"],[0.5555555555555556,\"#d8576b\"],[0.6666666666666666,\"#ed7953\"],[0.7777777777777778,\"#fb9f3a\"],[0.8888888888888888,\"#fdca26\"],[1.0,\"#f0f921\"]],\"type\":\"surface\"}],\"table\":[{\"cells\":{\"fill\":{\"color\":\"#EBF0F8\"},\"line\":{\"color\":\"white\"}},\"header\":{\"fill\":{\"color\":\"#C8D4E3\"},\"line\":{\"color\":\"white\"}},\"type\":\"table\"}]},\"layout\":{\"annotationdefaults\":{\"arrowcolor\":\"#2a3f5f\",\"arrowhead\":0,\"arrowwidth\":1},\"autotypenumbers\":\"strict\",\"coloraxis\":{\"colorbar\":{\"outlinewidth\":0,\"ticks\":\"\"}},\"colorscale\":{\"diverging\":[[0,\"#8e0152\"],[0.1,\"#c51b7d\"],[0.2,\"#de77ae\"],[0.3,\"#f1b6da\"],[0.4,\"#fde0ef\"],[0.5,\"#f7f7f7\"],[0.6,\"#e6f5d0\"],[0.7,\"#b8e186\"],[0.8,\"#7fbc41\"],[0.9,\"#4d9221\"],[1,\"#276419\"]],\"sequential\":[[0.0,\"#0d0887\"],[0.1111111111111111,\"#46039f\"],[0.2222222222222222,\"#7201a8\"],[0.3333333333333333,\"#9c179e\"],[0.4444444444444444,\"#bd3786\"],[0.5555555555555556,\"#d8576b\"],[0.6666666666666666,\"#ed7953\"],[0.7777777777777778,\"#fb9f3a\"],[0.8888888888888888,\"#fdca26\"],[1.0,\"#f0f921\"]],\"sequentialminus\":[[0.0,\"#0d0887\"],[0.1111111111111111,\"#46039f\"],[0.2222222222222222,\"#7201a8\"],[0.3333333333333333,\"#9c179e\"],[0.4444444444444444,\"#bd3786\"],[0.5555555555555556,\"#d8576b\"],[0.6666666666666666,\"#ed7953\"],[0.7777777777777778,\"#fb9f3a\"],[0.8888888888888888,\"#fdca26\"],[1.0,\"#f0f921\"]]},\"colorway\":[\"#636efa\",\"#EF553B\",\"#00cc96\",\"#ab63fa\",\"#FFA15A\",\"#19d3f3\",\"#FF6692\",\"#B6E880\",\"#FF97FF\",\"#FECB52\"],\"font\":{\"color\":\"#2a3f5f\"},\"geo\":{\"bgcolor\":\"white\",\"lakecolor\":\"white\",\"landcolor\":\"#E5ECF6\",\"showlakes\":true,\"showland\":true,\"subunitcolor\":\"white\"},\"hoverlabel\":{\"align\":\"left\"},\"hovermode\":\"closest\",\"mapbox\":{\"style\":\"light\"},\"paper_bgcolor\":\"white\",\"plot_bgcolor\":\"#E5ECF6\",\"polar\":{\"angularaxis\":{\"gridcolor\":\"white\",\"linecolor\":\"white\",\"ticks\":\"\"},\"bgcolor\":\"#E5ECF6\",\"radialaxis\":{\"gridcolor\":\"white\",\"linecolor\":\"white\",\"ticks\":\"\"}},\"scene\":{\"xaxis\":{\"backgroundcolor\":\"#E5ECF6\",\"gridcolor\":\"white\",\"gridwidth\":2,\"linecolor\":\"white\",\"showbackground\":true,\"ticks\":\"\",\"zerolinecolor\":\"white\"},\"yaxis\":{\"backgroundcolor\":\"#E5ECF6\",\"gridcolor\":\"white\",\"gridwidth\":2,\"linecolor\":\"white\",\"showbackground\":true,\"ticks\":\"\",\"zerolinecolor\":\"white\"},\"zaxis\":{\"backgroundcolor\":\"#E5ECF6\",\"gridcolor\":\"white\",\"gridwidth\":2,\"linecolor\":\"white\",\"showbackground\":true,\"ticks\":\"\",\"zerolinecolor\":\"white\"}},\"shapedefaults\":{\"line\":{\"color\":\"#2a3f5f\"}},\"ternary\":{\"aaxis\":{\"gridcolor\":\"white\",\"linecolor\":\"white\",\"ticks\":\"\"},\"baxis\":{\"gridcolor\":\"white\",\"linecolor\":\"white\",\"ticks\":\"\"},\"bgcolor\":\"#E5ECF6\",\"caxis\":{\"gridcolor\":\"white\",\"linecolor\":\"white\",\"ticks\":\"\"}},\"title\":{\"x\":0.05},\"xaxis\":{\"automargin\":true,\"gridcolor\":\"white\",\"linecolor\":\"white\",\"ticks\":\"\",\"title\":{\"standoff\":15},\"zerolinecolor\":\"white\",\"zerolinewidth\":2},\"yaxis\":{\"automargin\":true,\"gridcolor\":\"white\",\"linecolor\":\"white\",\"ticks\":\"\",\"title\":{\"standoff\":15},\"zerolinecolor\":\"white\",\"zerolinewidth\":2}}}},                        {\"responsive\": true}                    ).then(function(){\n",
              "                            \n",
              "var gd = document.getElementById('f91fa808-3468-44b7-a15e-0bad18d6eac7');\n",
              "var x = new MutationObserver(function (mutations, observer) {{\n",
              "        var display = window.getComputedStyle(gd).display;\n",
              "        if (!display || display === 'none') {{\n",
              "            console.log([gd, 'removed!']);\n",
              "            Plotly.purge(gd);\n",
              "            observer.disconnect();\n",
              "        }}\n",
              "}});\n",
              "\n",
              "// Listen for the removal of the full notebook cells\n",
              "var notebookContainer = gd.closest('#notebook-container');\n",
              "if (notebookContainer) {{\n",
              "    x.observe(notebookContainer, {childList: true});\n",
              "}}\n",
              "\n",
              "// Listen for the clearing of the current output cell\n",
              "var outputEl = gd.closest('.output');\n",
              "if (outputEl) {{\n",
              "    x.observe(outputEl, {childList: true});\n",
              "}}\n",
              "\n",
              "                        })                };                            </script>        </div>\n",
              "</body>\n",
              "</html>"
            ]
          },
          "metadata": {}
        }
      ]
    },
    {
      "cell_type": "code",
      "source": [
        "#visualizando os melhores valores dos parametros\n",
        "Best_trial = study.best_trial.params\n",
        "Best_trial[\"n_estimators\"], Best_trial[\"tree_method\"] = 10000, 'gpu_hist'\n",
        "Best_trial"
      ],
      "metadata": {
        "colab": {
          "base_uri": "https://localhost:8080/"
        },
        "id": "gETI5v8HhXCQ",
        "outputId": "9ed190bf-ddaf-4302-941e-34b5dcd5aa85"
      },
      "execution_count": 56,
      "outputs": [
        {
          "output_type": "execute_result",
          "data": {
            "text/plain": [
              "{'booster': 'dart',\n",
              " 'lambda': 0.0002907693433688159,\n",
              " 'alpha': 1.6858786712689633e-05,\n",
              " 'subsample': 0.6530310086566788,\n",
              " 'colsample_bytree': 0.21662405994504164,\n",
              " 'learning_rate': 0.016,\n",
              " 'max_depth': 7,\n",
              " 'eta': 1.6225832241960707e-07,\n",
              " 'gamma': 6.42183529447977e-07,\n",
              " 'grow_policy': 'lossguide',\n",
              " 'sample_type': 'weighted',\n",
              " 'normalize_type': 'forest',\n",
              " 'rate_drop': 2.4006984171861265e-07,\n",
              " 'skip_drop': 4.0295343222648713e-05,\n",
              " 'n_estimators': 10000,\n",
              " 'tree_method': 'gpu_hist'}"
            ]
          },
          "metadata": {},
          "execution_count": 56
        }
      ]
    },
    {
      "cell_type": "markdown",
      "source": [
        "------"
      ],
      "metadata": {
        "id": "ojFAwbgLX-Y7"
      }
    },
    {
      "cell_type": "code",
      "source": [
        "# utilizando no modelo"
      ],
      "metadata": {
        "id": "YEbGLoQYC0Bx"
      },
      "execution_count": 57,
      "outputs": []
    },
    {
      "cell_type": "code",
      "source": [
        "(x_train,x_test,y_train,y_test) = train_test_split(X_us,y_us, test_size=0.2, random_state=42)"
      ],
      "metadata": {
        "id": "aoi3u3bJKZ4E"
      },
      "execution_count": 58,
      "outputs": []
    },
    {
      "cell_type": "code",
      "source": [
        "\n",
        "print(\"x_train size: \", x_train.shape)\n",
        "print(\"x_ test size: \", x_test.shape)"
      ],
      "metadata": {
        "colab": {
          "base_uri": "https://localhost:8080/"
        },
        "id": "R98bdjFaKYQU",
        "outputId": "9edd4993-b6db-4d08-d918-9b8832d5f044"
      },
      "execution_count": 59,
      "outputs": [
        {
          "output_type": "stream",
          "name": "stdout",
          "text": [
            "x_train size:  (787, 30)\n",
            "x_ test size:  (197, 30)\n"
          ]
        }
      ]
    },
    {
      "cell_type": "code",
      "source": [
        "import pandas as pd\n",
        "model = XGBClassifier(booster = 'gbtree',colsample_bytree= 0.4933533504645762, eta = 0.0005013621400898083, gamma =  0.000026032460514886794 ,learning_rate =  0.018, max_depth= 4,\n",
        "                      n_estimators = 10000, subsample = 0.8285445812511041, alpha = 0.000002457826265173811)\n",
        "# training\n",
        "model.fit(x_train, y_train)\n",
        "y_pred=model.predict(x_test)\n",
        "print(classification_report(y_test, y_pred))\n",
        "\n"
      ],
      "metadata": {
        "colab": {
          "base_uri": "https://localhost:8080/"
        },
        "id": "3OX1zEBgC2DC",
        "outputId": "c4555bc4-a3e4-4fa1-9d0a-e1aecc1b24c1"
      },
      "execution_count": 60,
      "outputs": [
        {
          "output_type": "stream",
          "name": "stdout",
          "text": [
            "              precision    recall  f1-score   support\n",
            "\n",
            "           0       0.96      0.97      0.97       106\n",
            "           1       0.97      0.96      0.96        91\n",
            "\n",
            "    accuracy                           0.96       197\n",
            "   macro avg       0.96      0.96      0.96       197\n",
            "weighted avg       0.96      0.96      0.96       197\n",
            "\n"
          ]
        }
      ]
    }
  ],
  "metadata": {
    "colab": {
      "collapsed_sections": [
        "lqhXvs53dfAB",
        "EJUIqdzLNH6p",
        "U0oF8-f9TKFT",
        "EZC6m8RVXq9p",
        "rkgquTK3ZuzW",
        "IdkchD6DMtkR",
        "suUs26w9borA"
      ],
      "provenance": [],
      "authorship_tag": "ABX9TyMh14UFQ6icckRPXbzyE1OK",
      "include_colab_link": true
    },
    "kernelspec": {
      "display_name": "Python 3",
      "name": "python3"
    },
    "language_info": {
      "name": "python"
    }
  },
  "nbformat": 4,
  "nbformat_minor": 0
}